{
 "cells": [
  {
   "cell_type": "code",
   "execution_count": 1,
   "id": "88064f67-f8d2-46e2-90c3-6e2ce3e62dee",
   "metadata": {},
   "outputs": [],
   "source": [
    "import pandas as pd\n",
    "import numpy as np"
   ]
  },
  {
   "cell_type": "code",
   "execution_count": 8,
   "id": "cd207244-d6f4-4aec-9dd5-df57d2c48888",
   "metadata": {},
   "outputs": [],
   "source": [
    "data=pd.read_csv(\"./cardio_base.csv\")"
   ]
  },
  {
   "cell_type": "code",
   "execution_count": 9,
   "id": "8afe6cb2-55f5-4be7-a83b-e7aebbde8c7d",
   "metadata": {},
   "outputs": [
    {
     "data": {
      "text/html": [
       "<div>\n",
       "<style scoped>\n",
       "    .dataframe tbody tr th:only-of-type {\n",
       "        vertical-align: middle;\n",
       "    }\n",
       "\n",
       "    .dataframe tbody tr th {\n",
       "        vertical-align: top;\n",
       "    }\n",
       "\n",
       "    .dataframe thead th {\n",
       "        text-align: right;\n",
       "    }\n",
       "</style>\n",
       "<table border=\"1\" class=\"dataframe\">\n",
       "  <thead>\n",
       "    <tr style=\"text-align: right;\">\n",
       "      <th></th>\n",
       "      <th>id</th>\n",
       "      <th>age</th>\n",
       "      <th>gender</th>\n",
       "      <th>height</th>\n",
       "      <th>weight</th>\n",
       "      <th>ap_hi</th>\n",
       "      <th>ap_lo</th>\n",
       "      <th>cholesterol</th>\n",
       "      <th>smoke</th>\n",
       "    </tr>\n",
       "  </thead>\n",
       "  <tbody>\n",
       "    <tr>\n",
       "      <th>0</th>\n",
       "      <td>0</td>\n",
       "      <td>18393</td>\n",
       "      <td>2</td>\n",
       "      <td>168</td>\n",
       "      <td>62.0</td>\n",
       "      <td>110</td>\n",
       "      <td>80</td>\n",
       "      <td>1</td>\n",
       "      <td>0</td>\n",
       "    </tr>\n",
       "    <tr>\n",
       "      <th>1</th>\n",
       "      <td>1</td>\n",
       "      <td>20228</td>\n",
       "      <td>1</td>\n",
       "      <td>156</td>\n",
       "      <td>85.0</td>\n",
       "      <td>140</td>\n",
       "      <td>90</td>\n",
       "      <td>3</td>\n",
       "      <td>0</td>\n",
       "    </tr>\n",
       "    <tr>\n",
       "      <th>2</th>\n",
       "      <td>2</td>\n",
       "      <td>18857</td>\n",
       "      <td>1</td>\n",
       "      <td>165</td>\n",
       "      <td>64.0</td>\n",
       "      <td>130</td>\n",
       "      <td>70</td>\n",
       "      <td>3</td>\n",
       "      <td>0</td>\n",
       "    </tr>\n",
       "    <tr>\n",
       "      <th>3</th>\n",
       "      <td>3</td>\n",
       "      <td>17623</td>\n",
       "      <td>2</td>\n",
       "      <td>169</td>\n",
       "      <td>82.0</td>\n",
       "      <td>150</td>\n",
       "      <td>100</td>\n",
       "      <td>1</td>\n",
       "      <td>0</td>\n",
       "    </tr>\n",
       "    <tr>\n",
       "      <th>4</th>\n",
       "      <td>4</td>\n",
       "      <td>17474</td>\n",
       "      <td>1</td>\n",
       "      <td>156</td>\n",
       "      <td>56.0</td>\n",
       "      <td>100</td>\n",
       "      <td>60</td>\n",
       "      <td>1</td>\n",
       "      <td>0</td>\n",
       "    </tr>\n",
       "  </tbody>\n",
       "</table>\n",
       "</div>"
      ],
      "text/plain": [
       "   id    age  gender  height  weight  ap_hi  ap_lo  cholesterol  smoke\n",
       "0   0  18393       2     168    62.0    110     80            1      0\n",
       "1   1  20228       1     156    85.0    140     90            3      0\n",
       "2   2  18857       1     165    64.0    130     70            3      0\n",
       "3   3  17623       2     169    82.0    150    100            1      0\n",
       "4   4  17474       1     156    56.0    100     60            1      0"
      ]
     },
     "execution_count": 9,
     "metadata": {},
     "output_type": "execute_result"
    }
   ],
   "source": [
    "data.head()"
   ]
  },
  {
   "cell_type": "code",
   "execution_count": 15,
   "id": "f14f0d39-b36f-4278-9efd-78e95bdbee20",
   "metadata": {},
   "outputs": [
    {
     "data": {
      "text/plain": [
       "2.5604505530505812"
      ]
     },
     "execution_count": 15,
     "metadata": {},
     "output_type": "execute_result"
    }
   ],
   "source": [
    "(data[\"weight\"].max()-data[\"weight\"].min())/data[\"weight\"].mean()"
   ]
  },
  {
   "cell_type": "code",
   "execution_count": 16,
   "id": "e772dd93-75c2-4708-a8a6-27938da25317",
   "metadata": {},
   "outputs": [
    {
     "data": {
      "text/plain": [
       "0        True\n",
       "1        True\n",
       "2        True\n",
       "3        True\n",
       "4        True\n",
       "         ... \n",
       "69995    True\n",
       "69996    True\n",
       "69997    True\n",
       "69998    True\n",
       "69999    True\n",
       "Name: age, Length: 70000, dtype: bool"
      ]
     },
     "execution_count": 16,
     "metadata": {},
     "output_type": "execute_result"
    }
   ],
   "source": [
    "data[\"age\"]>50"
   ]
  },
  {
   "cell_type": "code",
   "execution_count": 17,
   "id": "51dec9e4-694c-4325-b1f8-77dae5bd964b",
   "metadata": {},
   "outputs": [
    {
     "data": {
      "text/plain": [
       "(70000, 9)"
      ]
     },
     "execution_count": 17,
     "metadata": {},
     "output_type": "execute_result"
    }
   ],
   "source": [
    "data.shape"
   ]
  },
  {
   "cell_type": "code",
   "execution_count": 21,
   "id": "6fd314e2-920b-4d80-bdfb-17b53d317de2",
   "metadata": {},
   "outputs": [
    {
     "data": {
      "text/plain": [
       "625      184\n",
       "26044    184\n",
       "65023    184\n",
       "18883    184\n",
       "13431    184\n",
       "        ... \n",
       "40090    198\n",
       "8897     198\n",
       "41901    200\n",
       "21628    207\n",
       "6486     250\n",
       "Name: height, Length: 700, dtype: int64"
      ]
     },
     "execution_count": 21,
     "metadata": {},
     "output_type": "execute_result"
    }
   ],
   "source": [
    "data[\"height\"].sort_values().tail(700)"
   ]
  },
  {
   "cell_type": "code",
   "execution_count": 23,
   "id": "cf359446-3d9f-4687-8458-247fed059a43",
   "metadata": {},
   "outputs": [
    {
     "data": {
      "text/html": [
       "<div>\n",
       "<style scoped>\n",
       "    .dataframe tbody tr th:only-of-type {\n",
       "        vertical-align: middle;\n",
       "    }\n",
       "\n",
       "    .dataframe tbody tr th {\n",
       "        vertical-align: top;\n",
       "    }\n",
       "\n",
       "    .dataframe thead th {\n",
       "        text-align: right;\n",
       "    }\n",
       "</style>\n",
       "<table border=\"1\" class=\"dataframe\">\n",
       "  <thead>\n",
       "    <tr style=\"text-align: right;\">\n",
       "      <th></th>\n",
       "      <th>id</th>\n",
       "      <th>age</th>\n",
       "      <th>gender</th>\n",
       "      <th>height</th>\n",
       "      <th>weight</th>\n",
       "      <th>ap_hi</th>\n",
       "      <th>ap_lo</th>\n",
       "      <th>cholesterol</th>\n",
       "      <th>smoke</th>\n",
       "    </tr>\n",
       "  </thead>\n",
       "  <tbody>\n",
       "    <tr>\n",
       "      <th>id</th>\n",
       "      <td>1.000000</td>\n",
       "      <td>0.003457</td>\n",
       "      <td>0.003502</td>\n",
       "      <td>-0.003038</td>\n",
       "      <td>-0.001830</td>\n",
       "      <td>0.003356</td>\n",
       "      <td>-0.002529</td>\n",
       "      <td>0.006106</td>\n",
       "      <td>-0.003699</td>\n",
       "    </tr>\n",
       "    <tr>\n",
       "      <th>age</th>\n",
       "      <td>0.003457</td>\n",
       "      <td>1.000000</td>\n",
       "      <td>-0.022811</td>\n",
       "      <td>-0.081515</td>\n",
       "      <td>0.053684</td>\n",
       "      <td>0.020764</td>\n",
       "      <td>0.017647</td>\n",
       "      <td>0.154424</td>\n",
       "      <td>-0.047633</td>\n",
       "    </tr>\n",
       "    <tr>\n",
       "      <th>gender</th>\n",
       "      <td>0.003502</td>\n",
       "      <td>-0.022811</td>\n",
       "      <td>1.000000</td>\n",
       "      <td>0.499033</td>\n",
       "      <td>0.155406</td>\n",
       "      <td>0.006005</td>\n",
       "      <td>0.015254</td>\n",
       "      <td>-0.035821</td>\n",
       "      <td>0.338135</td>\n",
       "    </tr>\n",
       "    <tr>\n",
       "      <th>height</th>\n",
       "      <td>-0.003038</td>\n",
       "      <td>-0.081515</td>\n",
       "      <td>0.499033</td>\n",
       "      <td>1.000000</td>\n",
       "      <td>0.290968</td>\n",
       "      <td>0.005488</td>\n",
       "      <td>0.006150</td>\n",
       "      <td>-0.050226</td>\n",
       "      <td>0.187989</td>\n",
       "    </tr>\n",
       "    <tr>\n",
       "      <th>weight</th>\n",
       "      <td>-0.001830</td>\n",
       "      <td>0.053684</td>\n",
       "      <td>0.155406</td>\n",
       "      <td>0.290968</td>\n",
       "      <td>1.000000</td>\n",
       "      <td>0.030702</td>\n",
       "      <td>0.043710</td>\n",
       "      <td>0.141768</td>\n",
       "      <td>0.067780</td>\n",
       "    </tr>\n",
       "    <tr>\n",
       "      <th>ap_hi</th>\n",
       "      <td>0.003356</td>\n",
       "      <td>0.020764</td>\n",
       "      <td>0.006005</td>\n",
       "      <td>0.005488</td>\n",
       "      <td>0.030702</td>\n",
       "      <td>1.000000</td>\n",
       "      <td>0.016086</td>\n",
       "      <td>0.023778</td>\n",
       "      <td>-0.000922</td>\n",
       "    </tr>\n",
       "    <tr>\n",
       "      <th>ap_lo</th>\n",
       "      <td>-0.002529</td>\n",
       "      <td>0.017647</td>\n",
       "      <td>0.015254</td>\n",
       "      <td>0.006150</td>\n",
       "      <td>0.043710</td>\n",
       "      <td>0.016086</td>\n",
       "      <td>1.000000</td>\n",
       "      <td>0.024019</td>\n",
       "      <td>0.005186</td>\n",
       "    </tr>\n",
       "    <tr>\n",
       "      <th>cholesterol</th>\n",
       "      <td>0.006106</td>\n",
       "      <td>0.154424</td>\n",
       "      <td>-0.035821</td>\n",
       "      <td>-0.050226</td>\n",
       "      <td>0.141768</td>\n",
       "      <td>0.023778</td>\n",
       "      <td>0.024019</td>\n",
       "      <td>1.000000</td>\n",
       "      <td>0.010354</td>\n",
       "    </tr>\n",
       "    <tr>\n",
       "      <th>smoke</th>\n",
       "      <td>-0.003699</td>\n",
       "      <td>-0.047633</td>\n",
       "      <td>0.338135</td>\n",
       "      <td>0.187989</td>\n",
       "      <td>0.067780</td>\n",
       "      <td>-0.000922</td>\n",
       "      <td>0.005186</td>\n",
       "      <td>0.010354</td>\n",
       "      <td>1.000000</td>\n",
       "    </tr>\n",
       "  </tbody>\n",
       "</table>\n",
       "</div>"
      ],
      "text/plain": [
       "                   id       age    gender    height    weight     ap_hi  \\\n",
       "id           1.000000  0.003457  0.003502 -0.003038 -0.001830  0.003356   \n",
       "age          0.003457  1.000000 -0.022811 -0.081515  0.053684  0.020764   \n",
       "gender       0.003502 -0.022811  1.000000  0.499033  0.155406  0.006005   \n",
       "height      -0.003038 -0.081515  0.499033  1.000000  0.290968  0.005488   \n",
       "weight      -0.001830  0.053684  0.155406  0.290968  1.000000  0.030702   \n",
       "ap_hi        0.003356  0.020764  0.006005  0.005488  0.030702  1.000000   \n",
       "ap_lo       -0.002529  0.017647  0.015254  0.006150  0.043710  0.016086   \n",
       "cholesterol  0.006106  0.154424 -0.035821 -0.050226  0.141768  0.023778   \n",
       "smoke       -0.003699 -0.047633  0.338135  0.187989  0.067780 -0.000922   \n",
       "\n",
       "                ap_lo  cholesterol     smoke  \n",
       "id          -0.002529     0.006106 -0.003699  \n",
       "age          0.017647     0.154424 -0.047633  \n",
       "gender       0.015254    -0.035821  0.338135  \n",
       "height       0.006150    -0.050226  0.187989  \n",
       "weight       0.043710     0.141768  0.067780  \n",
       "ap_hi        0.016086     0.023778 -0.000922  \n",
       "ap_lo        1.000000     0.024019  0.005186  \n",
       "cholesterol  0.024019     1.000000  0.010354  \n",
       "smoke        0.005186     0.010354  1.000000  "
      ]
     },
     "execution_count": 23,
     "metadata": {},
     "output_type": "execute_result"
    }
   ],
   "source": [
    "data.corr()"
   ]
  },
  {
   "cell_type": "code",
   "execution_count": 24,
   "id": "c71d2047-8ce6-4ff0-966c-8b487e535473",
   "metadata": {},
   "outputs": [],
   "source": [
    "import seaborn as sns"
   ]
  },
  {
   "cell_type": "code",
   "execution_count": 25,
   "id": "beb9f9e8-00c3-4b65-b411-3492eb5fdc0b",
   "metadata": {},
   "outputs": [],
   "source": [
    "import matplotlib.pyplot as plt"
   ]
  },
  {
   "cell_type": "code",
   "execution_count": 26,
   "id": "0c913ec2-0201-4dc4-afad-678f6cf5a807",
   "metadata": {},
   "outputs": [],
   "source": [
    "def display_correlation(df):\n",
    "    r = df.corr(method=\"spearman\")\n",
    "    plt.figure(figsize=(10,6))\n",
    "    heatmap = sns.heatmap(df.corr(), vmin=-1, \n",
    "                      vmax=1, annot=True)\n",
    "    plt.title(\"Spearman Correlation\")\n",
    "    return(r)"
   ]
  },
  {
   "cell_type": "code",
   "execution_count": 27,
   "id": "21e8e1d2-1f9a-4df8-b653-1196cf605388",
   "metadata": {},
   "outputs": [
    {
     "data": {
      "image/png": "[encoded data removed]",
      "text/plain": [
       "<Figure size 720x432 with 2 Axes>"
      ]
     },
     "metadata": {
      "needs_background": "light"
     },
     "output_type": "display_data"
    }
   ],
   "source": [
    "r_simple=display_correlation(data)"
   ]
  },
  {
   "cell_type": "code",
   "execution_count": 28,
   "id": "ab2f3918-ae1d-46b1-88e7-7da7522031ab",
   "metadata": {},
   "outputs": [
    {
     "data": {
      "text/plain": [
       "164.35922857142856"
      ]
     },
     "execution_count": 28,
     "metadata": {},
     "output_type": "execute_result"
    }
   ],
   "source": [
    "data[\"height\"].mean()"
   ]
  },
  {
   "cell_type": "code",
   "execution_count": 29,
   "id": "392cd2e5-f0cc-4201-9805-f4dc5fcf908e",
   "metadata": {},
   "outputs": [
    {
     "data": {
      "text/plain": [
       "8.210126364538038"
      ]
     },
     "execution_count": 29,
     "metadata": {},
     "output_type": "execute_result"
    }
   ],
   "source": [
    "data[\"height\"].std()"
   ]
  },
  {
   "cell_type": "code",
   "execution_count": 42,
   "id": "a7ffa4bf-cf12-4c8f-a532-dea1ac0a9351",
   "metadata": {},
   "outputs": [
    {
     "data": {
      "text/plain": [
       "0        0.443449\n",
       "1       -1.018161\n",
       "2        0.078046\n",
       "3        0.565250\n",
       "4       -1.018161\n",
       "           ...   \n",
       "69995    0.443449\n",
       "69996   -0.774559\n",
       "69997    2.270461\n",
       "69998   -0.165555\n",
       "69999    0.687051\n",
       "Name: height, Length: 70000, dtype: float64"
      ]
     },
     "execution_count": 42,
     "metadata": {},
     "output_type": "execute_result"
    }
   ],
   "source": [
    "((data[\"height\"]-data[\"height\"].mean())/data[\"height\"].std())"
   ]
  },
  {
   "cell_type": "code",
   "execution_count": 48,
   "id": "30fb73ff-72de-4999-8869-e3fb52d9d27f",
   "metadata": {},
   "outputs": [
    {
     "data": {
      "text/plain": [
       "0         True\n",
       "1         True\n",
       "2         True\n",
       "3        False\n",
       "4        False\n",
       "         ...  \n",
       "69995     True\n",
       "69996     True\n",
       "69997     True\n",
       "69998     True\n",
       "69999     True\n",
       "Name: age, Length: 70000, dtype: bool"
      ]
     },
     "execution_count": 48,
     "metadata": {},
     "output_type": "execute_result"
    }
   ],
   "source": [
    "(data[\"age\"]/365>50"
   ]
  },
  {
   "cell_type": "code",
   "execution_count": 53,
   "id": "3941e682-4c1b-4cd6-bcb7-9f8d2b72f05a",
   "metadata": {},
   "outputs": [],
   "source": [
    "data1=pd.read_csv(\"./cardio_alco.csv\", sep=\";\")"
   ]
  },
  {
   "cell_type": "code",
   "execution_count": 54,
   "id": "5c7933a1-3f19-4985-a76f-e782f3ad265f",
   "metadata": {},
   "outputs": [
    {
     "data": {
      "text/html": [
       "<div>\n",
       "<style scoped>\n",
       "    .dataframe tbody tr th:only-of-type {\n",
       "        vertical-align: middle;\n",
       "    }\n",
       "\n",
       "    .dataframe tbody tr th {\n",
       "        vertical-align: top;\n",
       "    }\n",
       "\n",
       "    .dataframe thead th {\n",
       "        text-align: right;\n",
       "    }\n",
       "</style>\n",
       "<table border=\"1\" class=\"dataframe\">\n",
       "  <thead>\n",
       "    <tr style=\"text-align: right;\">\n",
       "      <th></th>\n",
       "      <th>id</th>\n",
       "      <th>alco</th>\n",
       "    </tr>\n",
       "  </thead>\n",
       "  <tbody>\n",
       "    <tr>\n",
       "      <th>0</th>\n",
       "      <td>44</td>\n",
       "      <td>0</td>\n",
       "    </tr>\n",
       "    <tr>\n",
       "      <th>1</th>\n",
       "      <td>45</td>\n",
       "      <td>0</td>\n",
       "    </tr>\n",
       "    <tr>\n",
       "      <th>2</th>\n",
       "      <td>46</td>\n",
       "      <td>0</td>\n",
       "    </tr>\n",
       "    <tr>\n",
       "      <th>3</th>\n",
       "      <td>47</td>\n",
       "      <td>0</td>\n",
       "    </tr>\n",
       "    <tr>\n",
       "      <th>4</th>\n",
       "      <td>49</td>\n",
       "      <td>0</td>\n",
       "    </tr>\n",
       "  </tbody>\n",
       "</table>\n",
       "</div>"
      ],
      "text/plain": [
       "   id  alco\n",
       "0  44     0\n",
       "1  45     0\n",
       "2  46     0\n",
       "3  47     0\n",
       "4  49     0"
      ]
     },
     "execution_count": 54,
     "metadata": {},
     "output_type": "execute_result"
    }
   ],
   "source": [
    "data1.head()"
   ]
  },
  {
   "cell_type": "code",
   "execution_count": 55,
   "id": "a8bf8c12-d497-4820-a4ea-e6d338884ea4",
   "metadata": {},
   "outputs": [],
   "source": [
    "data2=pd.merge(data, data1, on='id')"
   ]
  },
  {
   "cell_type": "code",
   "execution_count": 56,
   "id": "d37bd8ce-b2c4-4d3b-8057-c606c1d031da",
   "metadata": {},
   "outputs": [
    {
     "data": {
      "text/html": [
       "<div>\n",
       "<style scoped>\n",
       "    .dataframe tbody tr th:only-of-type {\n",
       "        vertical-align: middle;\n",
       "    }\n",
       "\n",
       "    .dataframe tbody tr th {\n",
       "        vertical-align: top;\n",
       "    }\n",
       "\n",
       "    .dataframe thead th {\n",
       "        text-align: right;\n",
       "    }\n",
       "</style>\n",
       "<table border=\"1\" class=\"dataframe\">\n",
       "  <thead>\n",
       "    <tr style=\"text-align: right;\">\n",
       "      <th></th>\n",
       "      <th>id</th>\n",
       "      <th>age</th>\n",
       "      <th>gender</th>\n",
       "      <th>height</th>\n",
       "      <th>weight</th>\n",
       "      <th>ap_hi</th>\n",
       "      <th>ap_lo</th>\n",
       "      <th>cholesterol</th>\n",
       "      <th>smoke</th>\n",
       "      <th>alco</th>\n",
       "    </tr>\n",
       "  </thead>\n",
       "  <tbody>\n",
       "    <tr>\n",
       "      <th>0</th>\n",
       "      <td>44</td>\n",
       "      <td>14605</td>\n",
       "      <td>1</td>\n",
       "      <td>159</td>\n",
       "      <td>60.0</td>\n",
       "      <td>110</td>\n",
       "      <td>70</td>\n",
       "      <td>1</td>\n",
       "      <td>0</td>\n",
       "      <td>0</td>\n",
       "    </tr>\n",
       "    <tr>\n",
       "      <th>1</th>\n",
       "      <td>45</td>\n",
       "      <td>20652</td>\n",
       "      <td>1</td>\n",
       "      <td>160</td>\n",
       "      <td>73.0</td>\n",
       "      <td>130</td>\n",
       "      <td>85</td>\n",
       "      <td>1</td>\n",
       "      <td>0</td>\n",
       "      <td>0</td>\n",
       "    </tr>\n",
       "    <tr>\n",
       "      <th>2</th>\n",
       "      <td>46</td>\n",
       "      <td>21940</td>\n",
       "      <td>2</td>\n",
       "      <td>173</td>\n",
       "      <td>82.0</td>\n",
       "      <td>140</td>\n",
       "      <td>90</td>\n",
       "      <td>3</td>\n",
       "      <td>0</td>\n",
       "      <td>0</td>\n",
       "    </tr>\n",
       "    <tr>\n",
       "      <th>3</th>\n",
       "      <td>47</td>\n",
       "      <td>20404</td>\n",
       "      <td>1</td>\n",
       "      <td>163</td>\n",
       "      <td>55.0</td>\n",
       "      <td>120</td>\n",
       "      <td>80</td>\n",
       "      <td>1</td>\n",
       "      <td>0</td>\n",
       "      <td>0</td>\n",
       "    </tr>\n",
       "    <tr>\n",
       "      <th>4</th>\n",
       "      <td>49</td>\n",
       "      <td>18328</td>\n",
       "      <td>2</td>\n",
       "      <td>175</td>\n",
       "      <td>95.0</td>\n",
       "      <td>120</td>\n",
       "      <td>80</td>\n",
       "      <td>1</td>\n",
       "      <td>0</td>\n",
       "      <td>0</td>\n",
       "    </tr>\n",
       "  </tbody>\n",
       "</table>\n",
       "</div>"
      ],
      "text/plain": [
       "   id    age  gender  height  weight  ap_hi  ap_lo  cholesterol  smoke  alco\n",
       "0  44  14605       1     159    60.0    110     70            1      0     0\n",
       "1  45  20652       1     160    73.0    130     85            1      0     0\n",
       "2  46  21940       2     173    82.0    140     90            3      0     0\n",
       "3  47  20404       1     163    55.0    120     80            1      0     0\n",
       "4  49  18328       2     175    95.0    120     80            1      0     0"
      ]
     },
     "execution_count": 56,
     "metadata": {},
     "output_type": "execute_result"
    }
   ],
   "source": [
    "data2.head()"
   ]
  },
  {
   "cell_type": "code",
   "execution_count": 57,
   "id": "dcd94e0c-cc46-4ce9-8b9c-d3e133085ce0",
   "metadata": {},
   "outputs": [
    {
     "data": {
      "text/plain": [
       "(56903, 10)"
      ]
     },
     "execution_count": 57,
     "metadata": {},
     "output_type": "execute_result"
    }
   ],
   "source": [
    "data2.shape"
   ]
  },
  {
   "cell_type": "code",
   "execution_count": 114,
   "id": "3740018b-66b5-4d7e-b400-dcbf5fff417d",
   "metadata": {},
   "outputs": [],
   "source": [
    "count=0"
   ]
  },
  {
   "cell_type": "code",
   "execution_count": 71,
   "id": "ee17c35e-74d1-413a-90f1-c3678124b43f",
   "metadata": {},
   "outputs": [
    {
     "ename": "AttributeError",
     "evalue": "'list' object has no attribute 'enumerate'",
     "output_type": "error",
     "traceback": [
      "\u001b[1;31m---------------------------------------------------------------------------\u001b[0m",
      "\u001b[1;31mAttributeError\u001b[0m                            Traceback (most recent call last)",
      "\u001b[1;32m~\\AppData\\Local\\Temp/ipykernel_19696/3895095650.py\u001b[0m in \u001b[0;36m<module>\u001b[1;34m\u001b[0m\n\u001b[1;32m----> 1\u001b[1;33m \u001b[1;32mfor\u001b[0m \u001b[0mi\u001b[0m\u001b[1;33m,\u001b[0m\u001b[0ma\u001b[0m \u001b[1;32min\u001b[0m \u001b[0mlist\u001b[0m\u001b[1;33m(\u001b[0m\u001b[0mdata2\u001b[0m\u001b[1;33m[\u001b[0m\u001b[1;34m\"age\"\u001b[0m\u001b[1;33m]\u001b[0m\u001b[1;33m/\u001b[0m\u001b[1;36m365\u001b[0m\u001b[1;33m>\u001b[0m\u001b[1;36m50\u001b[0m\u001b[1;33m)\u001b[0m\u001b[1;33m.\u001b[0m\u001b[0menumerate\u001b[0m\u001b[1;33m(\u001b[0m\u001b[1;33m)\u001b[0m\u001b[1;33m:\u001b[0m\u001b[1;33m\u001b[0m\u001b[1;33m\u001b[0m\u001b[0m\n\u001b[0m\u001b[0;32m      2\u001b[0m     \u001b[1;32mif\u001b[0m \u001b[0ma\u001b[0m\u001b[1;33m==\u001b[0m\u001b[1;32mTrue\u001b[0m \u001b[1;32mand\u001b[0m \u001b[0mdata2\u001b[0m\u001b[1;33m.\u001b[0m\u001b[0mloc\u001b[0m\u001b[1;33m[\u001b[0m\u001b[0mdf\u001b[0m\u001b[1;33m[\u001b[0m\u001b[1;34m'id'\u001b[0m\u001b[1;33m]\u001b[0m \u001b[1;33m==\u001b[0m \u001b[0mi\u001b[0m\u001b[1;33m,\u001b[0m \u001b[1;34m'alco'\u001b[0m\u001b[1;33m]\u001b[0m\u001b[1;33m==\u001b[0m\u001b[1;36m1\u001b[0m\u001b[1;33m:\u001b[0m\u001b[1;33m\u001b[0m\u001b[1;33m\u001b[0m\u001b[0m\n\u001b[0;32m      3\u001b[0m         \u001b[0mcount\u001b[0m\u001b[1;33m+=\u001b[0m\u001b[1;36m1\u001b[0m\u001b[1;33m\u001b[0m\u001b[1;33m\u001b[0m\u001b[0m\n",
      "\u001b[1;31mAttributeError\u001b[0m: 'list' object has no attribute 'enumerate'"
     ]
    }
   ],
   "source": [
    "for i,a in (data2[\"age\"]/365>50).enumerate():\n",
    "    if a==True and data2.loc[df['id'] == i, 'alco']==1:\n",
    "        count+=1\n"
   ]
  },
  {
   "cell_type": "code",
   "execution_count": 116,
   "id": "d3637d57-a9ed-4874-b6b8-dfcbfab07fbd",
   "metadata": {},
   "outputs": [
    {
     "data": {
      "text/plain": [
       "41695"
      ]
     },
     "execution_count": 116,
     "metadata": {},
     "output_type": "execute_result"
    }
   ],
   "source": [
    "count"
   ]
  },
  {
   "cell_type": "code",
   "execution_count": 76,
   "id": "90cd7989-4c15-4043-b0bf-7919ef868b21",
   "metadata": {},
   "outputs": [
    {
     "ename": "ValueError",
     "evalue": "The truth value of a Series is ambiguous. Use a.empty, a.bool(), a.item(), a.any() or a.all().",
     "output_type": "error",
     "traceback": [
      "\u001b[1;31m---------------------------------------------------------------------------\u001b[0m",
      "\u001b[1;31mValueError\u001b[0m                                Traceback (most recent call last)",
      "\u001b[1;32m~\\AppData\\Local\\Temp/ipykernel_19696/2442530867.py\u001b[0m in \u001b[0;36m<module>\u001b[1;34m\u001b[0m\n\u001b[1;32m----> 1\u001b[1;33m \u001b[1;32mif\u001b[0m \u001b[0mdata2\u001b[0m\u001b[1;33m.\u001b[0m\u001b[0mloc\u001b[0m\u001b[1;33m[\u001b[0m\u001b[0mdata2\u001b[0m\u001b[1;33m[\u001b[0m\u001b[1;34m'age'\u001b[0m\u001b[1;33m]\u001b[0m\u001b[1;33m/\u001b[0m\u001b[1;36m365\u001b[0m\u001b[1;33m>\u001b[0m\u001b[1;36m50\u001b[0m\u001b[1;33m,\u001b[0m\u001b[1;34m'alco'\u001b[0m\u001b[1;33m]\u001b[0m\u001b[1;33m==\u001b[0m\u001b[1;36m1\u001b[0m\u001b[1;33m:\u001b[0m\u001b[1;33m\u001b[0m\u001b[1;33m\u001b[0m\u001b[0m\n\u001b[0m\u001b[0;32m      2\u001b[0m     \u001b[0mcount\u001b[0m\u001b[1;33m+=\u001b[0m\u001b[1;36m1\u001b[0m\u001b[1;33m\u001b[0m\u001b[1;33m\u001b[0m\u001b[0m\n",
      "\u001b[1;32m~\\AppData\\Roaming\\Python\\Python39\\site-packages\\pandas\\core\\generic.py\u001b[0m in \u001b[0;36m__nonzero__\u001b[1;34m(self)\u001b[0m\n\u001b[0;32m   1535\u001b[0m     \u001b[1;33m@\u001b[0m\u001b[0mfinal\u001b[0m\u001b[1;33m\u001b[0m\u001b[1;33m\u001b[0m\u001b[0m\n\u001b[0;32m   1536\u001b[0m     \u001b[1;32mdef\u001b[0m \u001b[0m__nonzero__\u001b[0m\u001b[1;33m(\u001b[0m\u001b[0mself\u001b[0m\u001b[1;33m)\u001b[0m\u001b[1;33m:\u001b[0m\u001b[1;33m\u001b[0m\u001b[1;33m\u001b[0m\u001b[0m\n\u001b[1;32m-> 1537\u001b[1;33m         raise ValueError(\n\u001b[0m\u001b[0;32m   1538\u001b[0m             \u001b[1;34mf\"The truth value of a {type(self).__name__} is ambiguous. \"\u001b[0m\u001b[1;33m\u001b[0m\u001b[1;33m\u001b[0m\u001b[0m\n\u001b[0;32m   1539\u001b[0m             \u001b[1;34m\"Use a.empty, a.bool(), a.item(), a.any() or a.all().\"\u001b[0m\u001b[1;33m\u001b[0m\u001b[1;33m\u001b[0m\u001b[0m\n",
      "\u001b[1;31mValueError\u001b[0m: The truth value of a Series is ambiguous. Use a.empty, a.bool(), a.item(), a.any() or a.all()."
     ]
    }
   ],
   "source": [
    "if data2.loc[data2['age']/365>50,'alco']==1:\n",
    "    count+=1"
   ]
  },
  {
   "cell_type": "code",
   "execution_count": 80,
   "id": "8b1fec87-0fcb-4152-8d1a-2b83456afd35",
   "metadata": {},
   "outputs": [
    {
     "ename": "ValueError",
     "evalue": "The truth value of an array with more than one element is ambiguous. Use a.any() or a.all()",
     "output_type": "error",
     "traceback": [
      "\u001b[1;31m---------------------------------------------------------------------------\u001b[0m",
      "\u001b[1;31mValueError\u001b[0m                                Traceback (most recent call last)",
      "\u001b[1;32m~\\AppData\\Local\\Temp/ipykernel_19696/2063441700.py\u001b[0m in \u001b[0;36m<module>\u001b[1;34m\u001b[0m\n\u001b[1;32m----> 1\u001b[1;33m \u001b[1;32mif\u001b[0m \u001b[0mdata2\u001b[0m\u001b[1;33m.\u001b[0m\u001b[0mquery\u001b[0m\u001b[1;33m(\u001b[0m\u001b[1;34m'age/365>50'\u001b[0m\u001b[1;33m)\u001b[0m\u001b[1;33m[\u001b[0m\u001b[1;34m'alco'\u001b[0m\u001b[1;33m]\u001b[0m\u001b[1;33m.\u001b[0m\u001b[0mvalues\u001b[0m\u001b[1;33m==\u001b[0m\u001b[1;36m1\u001b[0m\u001b[1;33m:\u001b[0m\u001b[1;33m\u001b[0m\u001b[1;33m\u001b[0m\u001b[0m\n\u001b[0m\u001b[0;32m      2\u001b[0m     \u001b[0mcount\u001b[0m\u001b[1;33m+=\u001b[0m\u001b[1;36m1\u001b[0m\u001b[1;33m\u001b[0m\u001b[1;33m\u001b[0m\u001b[0m\n",
      "\u001b[1;31mValueError\u001b[0m: The truth value of an array with more than one element is ambiguous. Use a.any() or a.all()"
     ]
    }
   ],
   "source": [
    "if data2.query('age/365>50')['alco'].values==1:\n",
    "    count+=1"
   ]
  },
  {
   "cell_type": "code",
   "execution_count": 108,
   "id": "62c38be5-fd47-4db4-9110-c91a1308c81f",
   "metadata": {},
   "outputs": [],
   "source": [
    "for i in data2[data2['age']/365>=49.5]['alco'].values:\n",
    "    if i==1:\n",
    "        count+=1"
   ]
  },
  {
   "cell_type": "code",
   "execution_count": 105,
   "id": "2d1a494f-4062-44d4-a359-13695911dc89",
   "metadata": {},
   "outputs": [
    {
     "data": {
      "text/plain": [
       "array([0, 0, 0, ..., 0, 0, 0], dtype=int64)"
      ]
     },
     "execution_count": 105,
     "metadata": {},
     "output_type": "execute_result"
    }
   ],
   "source": [
    "data2[data2['age']/365>=50]['alco'].values"
   ]
  },
  {
   "cell_type": "code",
   "execution_count": 110,
   "id": "78f4fecd-8787-4406-9c24-bb1783d51105",
   "metadata": {},
   "outputs": [
    {
     "data": {
      "text/plain": [
       "0.03665887563045885"
      ]
     },
     "execution_count": 110,
     "metadata": {},
     "output_type": "execute_result"
    }
   ],
   "source": [
    "2086/56903"
   ]
  },
  {
   "cell_type": "code",
   "execution_count": 115,
   "id": "457055ba-4798-4344-82c0-3057f8f87fe0",
   "metadata": {},
   "outputs": [],
   "source": [
    "for i in data2['age']/365>=49.5:\n",
    "    if i==True:\n",
    "        count+=1"
   ]
  },
  {
   "cell_type": "code",
   "execution_count": 117,
   "id": "ad47fb32-bb1f-408e-aa89-977493971501",
   "metadata": {},
   "outputs": [
    {
     "data": {
      "text/plain": [
       "0.050029979613862574"
      ]
     },
     "execution_count": 117,
     "metadata": {},
     "output_type": "execute_result"
    }
   ],
   "source": [
    "2086/41695"
   ]
  },
  {
   "cell_type": "code",
   "execution_count": 119,
   "id": "8aa515ff-a821-4d49-9fec-4943bc63fefb",
   "metadata": {},
   "outputs": [
    {
     "data": {
      "text/plain": [
       "<matplotlib.collections.PathCollection at 0x207d2230730>"
      ]
     },
     "execution_count": 119,
     "metadata": {},
     "output_type": "execute_result"
    },
    {
     "data": {
      "image/png": "[encoded data removed]",
      "text/plain": [
       "<Figure size 432x288 with 1 Axes>"
      ]
     },
     "metadata": {
      "needs_background": "light"
     },
     "output_type": "display_data"
    }
   ],
   "source": [
    "plt.scatter(data[\"smoke\"],data[\"ap_hi\"])"
   ]
  },
  {
   "cell_type": "code",
   "execution_count": null,
   "id": "c7f47ce6-d610-4208-9a65-afe14e825a25",
   "metadata": {},
   "outputs": [],
   "source": []
  },
  {
   "cell_type": "code",
   "execution_count": 121,
   "id": "06eac479-b559-4c9a-8ab5-7b4a0ec3be42",
   "metadata": {},
   "outputs": [],
   "source": [
    "data3=pd.read_csv(\"./covid_data.csv\")"
   ]
  },
  {
   "cell_type": "code",
   "execution_count": 122,
   "id": "0420ed40-927b-4a11-ae22-b0194a25588e",
   "metadata": {},
   "outputs": [
    {
     "data": {
      "text/html": [
       "<div>\n",
       "<style scoped>\n",
       "    .dataframe tbody tr th:only-of-type {\n",
       "        vertical-align: middle;\n",
       "    }\n",
       "\n",
       "    .dataframe tbody tr th {\n",
       "        vertical-align: top;\n",
       "    }\n",
       "\n",
       "    .dataframe thead th {\n",
       "        text-align: right;\n",
       "    }\n",
       "</style>\n",
       "<table border=\"1\" class=\"dataframe\">\n",
       "  <thead>\n",
       "    <tr style=\"text-align: right;\">\n",
       "      <th></th>\n",
       "      <th>location</th>\n",
       "      <th>date</th>\n",
       "      <th>new_cases</th>\n",
       "      <th>new_deaths</th>\n",
       "      <th>population</th>\n",
       "      <th>aged_65_older_percent</th>\n",
       "      <th>gdp_per_capita</th>\n",
       "      <th>hospital_beds_per_thousand</th>\n",
       "    </tr>\n",
       "  </thead>\n",
       "  <tbody>\n",
       "    <tr>\n",
       "      <th>0</th>\n",
       "      <td>Afghanistan</td>\n",
       "      <td>2019-12-31</td>\n",
       "      <td>0</td>\n",
       "      <td>0</td>\n",
       "      <td>38928341.0</td>\n",
       "      <td>2.581</td>\n",
       "      <td>1803.987</td>\n",
       "      <td>0.5</td>\n",
       "    </tr>\n",
       "    <tr>\n",
       "      <th>1</th>\n",
       "      <td>Afghanistan</td>\n",
       "      <td>2020-01-01</td>\n",
       "      <td>0</td>\n",
       "      <td>0</td>\n",
       "      <td>38928341.0</td>\n",
       "      <td>2.581</td>\n",
       "      <td>1803.987</td>\n",
       "      <td>0.5</td>\n",
       "    </tr>\n",
       "    <tr>\n",
       "      <th>2</th>\n",
       "      <td>Afghanistan</td>\n",
       "      <td>2020-01-02</td>\n",
       "      <td>0</td>\n",
       "      <td>0</td>\n",
       "      <td>38928341.0</td>\n",
       "      <td>2.581</td>\n",
       "      <td>1803.987</td>\n",
       "      <td>0.5</td>\n",
       "    </tr>\n",
       "    <tr>\n",
       "      <th>3</th>\n",
       "      <td>Afghanistan</td>\n",
       "      <td>2020-01-03</td>\n",
       "      <td>0</td>\n",
       "      <td>0</td>\n",
       "      <td>38928341.0</td>\n",
       "      <td>2.581</td>\n",
       "      <td>1803.987</td>\n",
       "      <td>0.5</td>\n",
       "    </tr>\n",
       "    <tr>\n",
       "      <th>4</th>\n",
       "      <td>Afghanistan</td>\n",
       "      <td>2020-01-04</td>\n",
       "      <td>0</td>\n",
       "      <td>0</td>\n",
       "      <td>38928341.0</td>\n",
       "      <td>2.581</td>\n",
       "      <td>1803.987</td>\n",
       "      <td>0.5</td>\n",
       "    </tr>\n",
       "  </tbody>\n",
       "</table>\n",
       "</div>"
      ],
      "text/plain": [
       "      location        date  new_cases  new_deaths  population  \\\n",
       "0  Afghanistan  2019-12-31          0           0  38928341.0   \n",
       "1  Afghanistan  2020-01-01          0           0  38928341.0   \n",
       "2  Afghanistan  2020-01-02          0           0  38928341.0   \n",
       "3  Afghanistan  2020-01-03          0           0  38928341.0   \n",
       "4  Afghanistan  2020-01-04          0           0  38928341.0   \n",
       "\n",
       "   aged_65_older_percent  gdp_per_capita  hospital_beds_per_thousand  \n",
       "0                  2.581        1803.987                         0.5  \n",
       "1                  2.581        1803.987                         0.5  \n",
       "2                  2.581        1803.987                         0.5  \n",
       "3                  2.581        1803.987                         0.5  \n",
       "4                  2.581        1803.987                         0.5  "
      ]
     },
     "execution_count": 122,
     "metadata": {},
     "output_type": "execute_result"
    }
   ],
   "source": [
    "data3.head()"
   ]
  },
  {
   "cell_type": "code",
   "execution_count": 151,
   "id": "f3a0ef7b-86c9-4cf4-9a85-c645bde912a9",
   "metadata": {},
   "outputs": [],
   "source": [
    "sum=0"
   ]
  },
  {
   "cell_type": "code",
   "execution_count": 152,
   "id": "d7304109-5aab-4fce-bc2a-5e52f48feeb0",
   "metadata": {},
   "outputs": [
    {
     "name": "stdout",
     "output_type": "stream",
     "text": [
      "(71,)\n"
     ]
    }
   ],
   "source": [
    "for j,i in np.ndenumerate(data3[data3['location']==\"Italy\"]['new_cases'].values):\n",
    "    sum+=i\n",
    "    if sum>10000:\n",
    "        print(j)\n",
    "        break"
   ]
  },
  {
   "cell_type": "code",
   "execution_count": 153,
   "id": "39dfc99f-67ea-421f-87a3-a4caa0ad7d9a",
   "metadata": {},
   "outputs": [
    {
     "name": "stdout",
     "output_type": "stream",
     "text": [
      "2020-03-11\n"
     ]
    }
   ],
   "source": [
    "for j,i in np.ndenumerate(data3[data3['location']==\"Italy\"]['date']):\n",
    "    if j==(71,):\n",
    "        print(i)\n"
   ]
  },
  {
   "cell_type": "code",
   "execution_count": null,
   "id": "6def2af9-0b1d-4de1-837b-73a982b4b0d0",
   "metadata": {},
   "outputs": [],
   "source": [
    "data3[\"o\"]"
   ]
  },
  {
   "cell_type": "code",
   "execution_count": null,
   "id": "1e0e041e-9a7e-4810-9126-c64f8c28e3bd",
   "metadata": {},
   "outputs": [],
   "source": []
  },
  {
   "cell_type": "code",
   "execution_count": 156,
   "id": "ec3831d9-2434-48d9-a2e2-4673145408f7",
   "metadata": {},
   "outputs": [
    {
     "data": {
      "text/plain": [
       "2313"
      ]
     },
     "execution_count": 156,
     "metadata": {},
     "output_type": "execute_result"
    }
   ],
   "source": [
    "data3[data3['location']==\"Italy\"]['new_cases'].values[72]"
   ]
  },
  {
   "cell_type": "code",
   "execution_count": 159,
   "id": "834e78b4-aec6-4288-9700-996af4cf1e2a",
   "metadata": {},
   "outputs": [],
   "source": [
    "a=data3.location.unique()"
   ]
  },
  {
   "cell_type": "code",
   "execution_count": 170,
   "id": "3367b560-d109-4213-9a6e-45175482428e",
   "metadata": {},
   "outputs": [],
   "source": [
    "l={}"
   ]
  },
  {
   "cell_type": "code",
   "execution_count": 171,
   "id": "d72f770d-d8f2-4ffb-9e97-c0cf73af54c9",
   "metadata": {},
   "outputs": [],
   "source": [
    "for i in a:\n",
    "    l[i]=data3[data3['location']==i]['new_deaths'].values.sum()"
   ]
  },
  {
   "cell_type": "code",
   "execution_count": 174,
   "id": "cec623f8-1741-4d50-83b6-33730f2da298",
   "metadata": {},
   "outputs": [
    {
     "ename": "AttributeError",
     "evalue": "'builtin_function_or_method' object has no attribute 'sort'",
     "output_type": "error",
     "traceback": [
      "\u001b[1;31m---------------------------------------------------------------------------\u001b[0m",
      "\u001b[1;31mAttributeError\u001b[0m                            Traceback (most recent call last)",
      "\u001b[1;32m~\\AppData\\Local\\Temp/ipykernel_19696/2031348960.py\u001b[0m in \u001b[0;36m<module>\u001b[1;34m\u001b[0m\n\u001b[1;32m----> 1\u001b[1;33m \u001b[0ml\u001b[0m\u001b[1;33m.\u001b[0m\u001b[0mvalues\u001b[0m\u001b[1;33m.\u001b[0m\u001b[0msort\u001b[0m\u001b[1;33m\u001b[0m\u001b[1;33m\u001b[0m\u001b[0m\n\u001b[0m",
      "\u001b[1;31mAttributeError\u001b[0m: 'builtin_function_or_method' object has no attribute 'sort'"
     ]
    }
   ],
   "source": [
    "l.values.sort"
   ]
  },
  {
   "cell_type": "code",
   "execution_count": 175,
   "id": "060ee520-27ac-46bb-b168-48e9e1aad76b",
   "metadata": {},
   "outputs": [
    {
     "data": {
      "text/plain": [
       "{'Anguilla': 0,\n",
       " 'Bhutan': 0,\n",
       " 'Bonaire Sint Eustatius and Saba': 0,\n",
       " 'Cambodia': 0,\n",
       " 'Dominica': 0,\n",
       " 'Eritrea': 0,\n",
       " 'Faeroe Islands': 0,\n",
       " 'Falkland Islands': 0,\n",
       " 'Fiji': 0,\n",
       " 'French Polynesia': 0,\n",
       " 'Gibraltar': 0,\n",
       " 'Greenland': 0,\n",
       " 'Grenada': 0,\n",
       " 'Hong Kong': 0,\n",
       " 'Laos': 0,\n",
       " 'Lesotho': 0,\n",
       " 'Mongolia': 0,\n",
       " 'Namibia': 0,\n",
       " 'New Caledonia': 0,\n",
       " 'Papua New Guinea': 0,\n",
       " 'Saint Kitts and Nevis': 0,\n",
       " 'Saint Lucia': 0,\n",
       " 'Saint Vincent and the Grenadines': 0,\n",
       " 'Seychelles': 0,\n",
       " 'Timor': 0,\n",
       " 'Uganda': 0,\n",
       " 'Vatican': 0,\n",
       " 'Vietnam': 0,\n",
       " 'Botswana': 1,\n",
       " 'British Virgin Islands': 1,\n",
       " 'Burundi': 1,\n",
       " 'Cayman Islands': 1,\n",
       " 'Curacao': 1,\n",
       " 'Gambia': 1,\n",
       " 'Liechtenstein': 1,\n",
       " 'Montserrat': 1,\n",
       " 'Turks and Caicos Islands': 1,\n",
       " 'Western Sahara': 1,\n",
       " 'Belize': 2,\n",
       " 'Brunei': 2,\n",
       " 'Comoros': 2,\n",
       " 'Mozambique': 2,\n",
       " 'Northern Mariana Islands': 2,\n",
       " 'Rwanda': 2,\n",
       " 'Suriname': 2,\n",
       " 'Antigua and Barbuda': 3,\n",
       " 'Aruba': 3,\n",
       " 'Swaziland': 3,\n",
       " 'Angola': 4,\n",
       " 'Benin': 4,\n",
       " 'Malawi': 4,\n",
       " 'Zimbabwe': 4,\n",
       " 'Cape Verde': 5,\n",
       " 'Central African Republic': 5,\n",
       " 'Guam': 5,\n",
       " 'Libya': 5,\n",
       " 'Monaco': 5,\n",
       " 'Palestine': 5,\n",
       " 'Myanmar': 6,\n",
       " 'Syria': 6,\n",
       " 'United States Virgin Islands': 6,\n",
       " 'Barbados': 7,\n",
       " 'Taiwan': 7,\n",
       " 'International': 7,\n",
       " 'Maldives': 8,\n",
       " 'Trinidad and Tobago': 8,\n",
       " 'Bermuda': 9,\n",
       " 'Jordan': 9,\n",
       " 'Madagascar': 9,\n",
       " 'Malta': 9,\n",
       " 'Montenegro': 9,\n",
       " 'Iceland': 10,\n",
       " 'Jamaica': 10,\n",
       " 'Mauritius': 10,\n",
       " 'Zambia': 10,\n",
       " 'Bahamas': 11,\n",
       " 'Costa Rica': 11,\n",
       " 'Paraguay': 11,\n",
       " 'Sri Lanka': 11,\n",
       " 'Equatorial Guinea': 12,\n",
       " 'Guinea-Bissau': 12,\n",
       " 'Guyana': 12,\n",
       " 'Sao Tome and Principe': 12,\n",
       " 'Georgia': 13,\n",
       " 'Guernsey': 13,\n",
       " 'Togo': 13,\n",
       " 'Nepal': 15,\n",
       " 'Sint Maarten (Dutch part)': 15,\n",
       " 'Cyprus': 18,\n",
       " 'Uzbekistan': 18,\n",
       " 'South Sudan': 19,\n",
       " 'Gabon': 21,\n",
       " 'Tanzania': 21,\n",
       " 'New Zealand': 22,\n",
       " 'Guinea': 23,\n",
       " 'Uruguay': 23,\n",
       " 'Venezuela': 23,\n",
       " 'Congo': 24,\n",
       " 'Isle of Man': 24,\n",
       " 'Singapore': 25,\n",
       " 'Kyrgyzstan': 26,\n",
       " 'Latvia': 26,\n",
       " 'Slovakia': 28,\n",
       " 'Bahrain': 29,\n",
       " 'Jersey': 30,\n",
       " 'Lebanon': 30,\n",
       " 'Kosovo': 31,\n",
       " 'Liberia': 31,\n",
       " 'Ethiopia': 32,\n",
       " 'Albania': 34,\n",
       " 'Djibouti': 34,\n",
       " \"Cote d'Ivoire\": 38,\n",
       " 'San Marino': 42,\n",
       " 'Nicaragua': 46,\n",
       " 'Ghana': 48,\n",
       " 'Tajikistan': 48,\n",
       " 'Tunisia': 49,\n",
       " 'Sierra Leone': 50,\n",
       " 'Andorra': 51,\n",
       " 'Senegal': 52,\n",
       " 'Burkina Faso': 53,\n",
       " 'Haiti': 56,\n",
       " 'Thailand': 58,\n",
       " 'El Salvador': 60,\n",
       " 'Kazakhstan': 61,\n",
       " 'Mauritania': 61,\n",
       " 'Qatar': 62,\n",
       " 'Niger': 65,\n",
       " 'Estonia': 69,\n",
       " 'Chad': 71,\n",
       " 'Lithuania': 72,\n",
       " 'Cuba': 83,\n",
       " 'Oman': 83,\n",
       " 'Somalia': 85,\n",
       " 'Kenya': 88,\n",
       " 'Democratic Republic of Congo': 89,\n",
       " 'Mali': 94,\n",
       " 'Azerbaijan': 98,\n",
       " 'Australia': 102,\n",
       " 'Croatia': 106,\n",
       " 'Slovenia': 108,\n",
       " 'Luxembourg': 110,\n",
       " 'Malaysia': 117,\n",
       " 'Yemen': 127,\n",
       " 'Puerto Rico': 142,\n",
       " 'Macedonia': 157,\n",
       " 'Bosnia and Herzegovina': 159,\n",
       " 'Bulgaria': 167,\n",
       " 'Greece': 183,\n",
       " 'Cameroon': 208,\n",
       " 'Morocco': 210,\n",
       " 'Armenia': 217,\n",
       " 'Norway': 239,\n",
       " 'Serbia': 250,\n",
       " 'Honduras': 271,\n",
       " 'Kuwait': 273,\n",
       " 'South Korea': 276,\n",
       " 'Belarus': 282,\n",
       " 'United Arab Emirates': 283,\n",
       " 'Guatemala': 289,\n",
       " 'Israel': 299,\n",
       " 'Finland': 324,\n",
       " 'Czech Republic': 328,\n",
       " 'Moldova': 365,\n",
       " 'Nigeria': 365,\n",
       " 'Sudan': 372,\n",
       " 'Afghanistan': 384,\n",
       " 'Iraq': 392,\n",
       " 'Panama': 403,\n",
       " 'Bolivia': 487,\n",
       " 'Dominican Republic': 544,\n",
       " 'Hungary': 550,\n",
       " 'Denmark': 593,\n",
       " 'Austria': 672,\n",
       " 'Argentina': 717,\n",
       " 'Algeria': 724,\n",
       " 'Saudi Arabia': 783,\n",
       " 'Ukraine': 810,\n",
       " 'Japan': 919,\n",
       " 'Bangladesh': 975,\n",
       " 'Philippines': 1017,\n",
       " 'South Africa': 1162,\n",
       " 'Poland': 1183,\n",
       " 'Egypt': 1306,\n",
       " 'Romania': 1345,\n",
       " 'Colombia': 1372,\n",
       " 'Portugal': 1492,\n",
       " 'Switzerland': 1662,\n",
       " 'Ireland': 1691,\n",
       " 'Indonesia': 1923,\n",
       " 'Pakistan': 2255,\n",
       " 'Chile': 2283,\n",
       " 'Ecuador': 3690,\n",
       " 'China': 4638,\n",
       " 'Sweden': 4717,\n",
       " 'Turkey': 4729,\n",
       " 'Peru': 5738,\n",
       " 'Netherlands': 6031,\n",
       " 'Russia': 6141,\n",
       " 'India': 7745,\n",
       " 'Canada': 7897,\n",
       " 'Iran': 8425,\n",
       " 'Germany': 8729,\n",
       " 'Belgium': 9619,\n",
       " 'Mexico': 14649,\n",
       " 'Spain': 27136,\n",
       " 'France': 29296,\n",
       " 'Italy': 34043,\n",
       " 'Brazil': 38406,\n",
       " 'United Kingdom': 40883,\n",
       " 'United States': 112006,\n",
       " 'World': 411195}"
      ]
     },
     "execution_count": 175,
     "metadata": {},
     "output_type": "execute_result"
    }
   ],
   "source": [
    "dict(sorted(l.items(), key=lambda item: item[1]))"
   ]
  },
  {
   "cell_type": "code",
   "execution_count": null,
   "id": "8bf37d1e-2fcb-4950-a70e-d46f50baf576",
   "metadata": {},
   "outputs": [],
   "source": []
  },
  {
   "cell_type": "code",
   "execution_count": null,
   "id": "4a019919-400d-43c3-aca1-21b6cbf50f30",
   "metadata": {},
   "outputs": [],
   "source": []
  },
  {
   "cell_type": "code",
   "execution_count": null,
   "id": "fec4f850-3f66-415c-b70b-5160a9c2f770",
   "metadata": {},
   "outputs": [],
   "source": []
  },
  {
   "cell_type": "code",
   "execution_count": null,
   "id": "999d2198-66e8-4e36-bee1-3f14a0f63a16",
   "metadata": {},
   "outputs": [],
   "source": []
  },
  {
   "cell_type": "code",
   "execution_count": null,
   "id": "82ced645-cb68-42b6-ab60-704cb7dab6e6",
   "metadata": {},
   "outputs": [],
   "source": []
  },
  {
   "cell_type": "code",
   "execution_count": null,
   "id": "e14541f7-9289-47e0-aef3-5471ce586217",
   "metadata": {},
   "outputs": [],
   "source": []
  },
  {
   "cell_type": "code",
   "execution_count": null,
   "id": "a8671906-6fe2-45e7-93c1-3d148edaf849",
   "metadata": {},
   "outputs": [],
   "source": []
  },
  {
   "cell_type": "code",
   "execution_count": null,
   "id": "f3c91d44-61b7-4cfc-bab2-e2eb33c79b23",
   "metadata": {},
   "outputs": [],
   "source": []
  },
  {
   "cell_type": "code",
   "execution_count": null,
   "id": "0fb9db67-d471-4de2-be91-748505e6e782",
   "metadata": {},
   "outputs": [],
   "source": [
    "\n"
   ]
  }
 ],
 "metadata": {
  "kernelspec": {
   "display_name": "Python 3 (ipykernel)",
   "language": "python",
   "name": "python3"
  },
  "language_info": {
   "codemirror_mode": {
    "name": "ipython",
    "version": 3
   },
   "file_extension": ".py",
   "mimetype": "text/x-python",
   "name": "python",
   "nbconvert_exporter": "python",
   "pygments_lexer": "ipython3",
   "version": "3.9.7"
  }
 },
 "nbformat": 4,
 "nbformat_minor": 5
}
