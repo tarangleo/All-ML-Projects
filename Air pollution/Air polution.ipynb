{
 "cells": [
  {
   "cell_type": "code",
   "execution_count": 1,
   "id": "17ab7c86-6466-43b7-a6b4-19fdfdc1ccfb",
   "metadata": {},
   "outputs": [],
   "source": [
    "import numpy as np\n",
    "import matplotlib.pyplot as plt\n",
    "import pandas as pd \n"
   ]
  },
  {
   "cell_type": "code",
   "execution_count": 2,
   "id": "f6989b4e-f397-489c-a979-1761f5f81852",
   "metadata": {},
   "outputs": [
    {
     "data": {
      "text/html": [
       "<div>\n",
       "<style scoped>\n",
       "    .dataframe tbody tr th:only-of-type {\n",
       "        vertical-align: middle;\n",
       "    }\n",
       "\n",
       "    .dataframe tbody tr th {\n",
       "        vertical-align: top;\n",
       "    }\n",
       "\n",
       "    .dataframe thead th {\n",
       "        text-align: right;\n",
       "    }\n",
       "</style>\n",
       "<table border=\"1\" class=\"dataframe\">\n",
       "  <thead>\n",
       "    <tr style=\"text-align: right;\">\n",
       "      <th></th>\n",
       "      <th>feature_1</th>\n",
       "      <th>feature_2</th>\n",
       "      <th>feature_3</th>\n",
       "      <th>feature_4</th>\n",
       "      <th>feature_5</th>\n",
       "      <th>target</th>\n",
       "    </tr>\n",
       "  </thead>\n",
       "  <tbody>\n",
       "    <tr>\n",
       "      <th>0</th>\n",
       "      <td>0.293416</td>\n",
       "      <td>-0.945599</td>\n",
       "      <td>-0.421105</td>\n",
       "      <td>0.406816</td>\n",
       "      <td>0.525662</td>\n",
       "      <td>-82.154667</td>\n",
       "    </tr>\n",
       "    <tr>\n",
       "      <th>1</th>\n",
       "      <td>-0.836084</td>\n",
       "      <td>-0.189228</td>\n",
       "      <td>-0.776403</td>\n",
       "      <td>-1.053831</td>\n",
       "      <td>0.597997</td>\n",
       "      <td>-48.897960</td>\n",
       "    </tr>\n",
       "    <tr>\n",
       "      <th>2</th>\n",
       "      <td>0.236425</td>\n",
       "      <td>0.132836</td>\n",
       "      <td>-0.147723</td>\n",
       "      <td>0.699854</td>\n",
       "      <td>-0.187364</td>\n",
       "      <td>77.270371</td>\n",
       "    </tr>\n",
       "    <tr>\n",
       "      <th>3</th>\n",
       "      <td>0.175312</td>\n",
       "      <td>0.143194</td>\n",
       "      <td>-0.581111</td>\n",
       "      <td>-0.122107</td>\n",
       "      <td>-1.292168</td>\n",
       "      <td>-2.988581</td>\n",
       "    </tr>\n",
       "    <tr>\n",
       "      <th>4</th>\n",
       "      <td>-1.693011</td>\n",
       "      <td>0.542712</td>\n",
       "      <td>-2.798729</td>\n",
       "      <td>-0.686723</td>\n",
       "      <td>1.244077</td>\n",
       "      <td>-37.596722</td>\n",
       "    </tr>\n",
       "  </tbody>\n",
       "</table>\n",
       "</div>"
      ],
      "text/plain": [
       "   feature_1  feature_2  feature_3  feature_4  feature_5     target\n",
       "0   0.293416  -0.945599  -0.421105   0.406816   0.525662 -82.154667\n",
       "1  -0.836084  -0.189228  -0.776403  -1.053831   0.597997 -48.897960\n",
       "2   0.236425   0.132836  -0.147723   0.699854  -0.187364  77.270371\n",
       "3   0.175312   0.143194  -0.581111  -0.122107  -1.292168  -2.988581\n",
       "4  -1.693011   0.542712  -2.798729  -0.686723   1.244077 -37.596722"
      ]
     },
     "execution_count": 2,
     "metadata": {},
     "output_type": "execute_result"
    }
   ],
   "source": [
    "data=pd.read_csv(\"Train.csv\")\n",
    "X_test=pd.read_csv(\"Test.csv\").values\n",
    "data.head()"
   ]
  },
  {
   "cell_type": "code",
   "execution_count": 3,
   "id": "058c34c5-60fc-4189-8295-27296a2a1353",
   "metadata": {},
   "outputs": [],
   "source": [
    "data=data.values"
   ]
  },
  {
   "cell_type": "code",
   "execution_count": 4,
   "id": "8bca9fa5-4a3f-43d2-b505-bf0a9503578c",
   "metadata": {},
   "outputs": [
    {
     "data": {
      "text/plain": [
       "(1600, 6)"
      ]
     },
     "execution_count": 4,
     "metadata": {},
     "output_type": "execute_result"
    }
   ],
   "source": [
    "data.shape"
   ]
  },
  {
   "cell_type": "code",
   "execution_count": 5,
   "id": "eb905156-7a6d-4d14-bf54-96165f77dcdd",
   "metadata": {},
   "outputs": [],
   "source": [
    "x=data[:,:5]\n",
    "y=data[:,5]"
   ]
  },
  {
   "cell_type": "code",
   "execution_count": 6,
   "id": "28b26377-cdbf-4711-9d47-b02baeefec0f",
   "metadata": {},
   "outputs": [
    {
     "data": {
      "text/plain": [
       "(1600, 5)"
      ]
     },
     "execution_count": 6,
     "metadata": {},
     "output_type": "execute_result"
    }
   ],
   "source": [
    "x.shape"
   ]
  },
  {
   "cell_type": "code",
   "execution_count": 7,
   "id": "86aa140c-1a2a-47f2-80e2-9ad79646fe67",
   "metadata": {},
   "outputs": [
    {
     "data": {
      "text/plain": [
       "(1600,)"
      ]
     },
     "execution_count": 7,
     "metadata": {},
     "output_type": "execute_result"
    }
   ],
   "source": [
    "y.shape"
   ]
  },
  {
   "cell_type": "code",
   "execution_count": 8,
   "id": "d5fda1e7-45db-4d21-acf7-8d86910cf6a2",
   "metadata": {},
   "outputs": [],
   "source": [
    "u=x.mean()"
   ]
  },
  {
   "cell_type": "code",
   "execution_count": 9,
   "id": "448ad2c3-d366-4f57-aab0-68231d470187",
   "metadata": {},
   "outputs": [],
   "source": [
    "std=x.std()\n",
    "x=(x-u)/std"
   ]
  },
  {
   "cell_type": "code",
   "execution_count": 10,
   "id": "6972147d-2205-4193-8731-099dffde606b",
   "metadata": {},
   "outputs": [
    {
     "data": {
      "text/plain": [
       "array([29.84297081, 93.16540718,  8.32556432, 45.01071403,  2.53283406])"
      ]
     },
     "execution_count": 10,
     "metadata": {},
     "output_type": "execute_result"
    }
   ],
   "source": [
    "from sklearn.linear_model import LinearRegression\n",
    "model=LinearRegression()\n",
    "model.fit(x,y)\n",
    "model.coef_"
   ]
  },
  {
   "cell_type": "code",
   "execution_count": 11,
   "id": "2a3e2041-1a46-4446-a154-93134bcc62df",
   "metadata": {},
   "outputs": [
    {
     "data": {
      "text/plain": [
       "1.4913869905090862"
      ]
     },
     "execution_count": 11,
     "metadata": {},
     "output_type": "execute_result"
    }
   ],
   "source": [
    "model.intercept_"
   ]
  },
  {
   "cell_type": "code",
   "execution_count": 12,
   "id": "93d2aeeb-0ef4-420d-8d75-5a7bca483ae3",
   "metadata": {},
   "outputs": [],
   "source": [
    "pred=model.predict(X_test)"
   ]
  },
  {
   "cell_type": "code",
   "execution_count": 13,
   "id": "ee6d0c97-9710-4aaf-baf1-31f7f913b8b1",
   "metadata": {},
   "outputs": [],
   "source": [
    "pred=pd.DataFrame(pred,columns=[\"target\"])"
   ]
  },
  {
   "cell_type": "code",
   "execution_count": 14,
   "id": "9942bd6d-3833-40c3-95d3-342beea29029",
   "metadata": {},
   "outputs": [
    {
     "data": {
      "text/html": [
       "<div>\n",
       "<style scoped>\n",
       "    .dataframe tbody tr th:only-of-type {\n",
       "        vertical-align: middle;\n",
       "    }\n",
       "\n",
       "    .dataframe tbody tr th {\n",
       "        vertical-align: top;\n",
       "    }\n",
       "\n",
       "    .dataframe thead th {\n",
       "        text-align: right;\n",
       "    }\n",
       "</style>\n",
       "<table border=\"1\" class=\"dataframe\">\n",
       "  <thead>\n",
       "    <tr style=\"text-align: right;\">\n",
       "      <th></th>\n",
       "      <th>target</th>\n",
       "    </tr>\n",
       "  </thead>\n",
       "  <tbody>\n",
       "    <tr>\n",
       "      <th>0</th>\n",
       "      <td>111.678929</td>\n",
       "    </tr>\n",
       "    <tr>\n",
       "      <th>1</th>\n",
       "      <td>115.126666</td>\n",
       "    </tr>\n",
       "    <tr>\n",
       "      <th>2</th>\n",
       "      <td>-25.384515</td>\n",
       "    </tr>\n",
       "    <tr>\n",
       "      <th>3</th>\n",
       "      <td>-47.702036</td>\n",
       "    </tr>\n",
       "    <tr>\n",
       "      <th>4</th>\n",
       "      <td>-99.962149</td>\n",
       "    </tr>\n",
       "  </tbody>\n",
       "</table>\n",
       "</div>"
      ],
      "text/plain": [
       "       target\n",
       "0  111.678929\n",
       "1  115.126666\n",
       "2  -25.384515\n",
       "3  -47.702036\n",
       "4  -99.962149"
      ]
     },
     "execution_count": 14,
     "metadata": {},
     "output_type": "execute_result"
    }
   ],
   "source": [
    "pred.head()"
   ]
  },
  {
   "cell_type": "code",
   "execution_count": null,
   "id": "5aab3965-5355-4760-a01c-70aff2e89d57",
   "metadata": {},
   "outputs": [],
   "source": []
  },
  {
   "cell_type": "code",
   "execution_count": 15,
   "id": "1343848e-23b4-4e1c-9ca5-a47f03dad0dd",
   "metadata": {},
   "outputs": [],
   "source": [
    "pred.to_csv(\"submit.csv\",index_label=\"Id\")\n"
   ]
  },
  {
   "cell_type": "code",
   "execution_count": null,
   "id": "b0a2bebc-7fdb-4357-9f5c-cdab7370f71b",
   "metadata": {},
   "outputs": [],
   "source": [
    " "
   ]
  },
  {
   "cell_type": "code",
   "execution_count": 50,
   "id": "7c5d705f-a4a5-4a7e-b968-7eaae9d807dd",
   "metadata": {},
   "outputs": [],
   "source": [
    "def hypothesis(X,theta):\n",
    "    return np.dot(X,theta)"
   ]
  },
  {
   "cell_type": "code",
   "execution_count": 65,
   "id": "c8681111-66d3-4935-a890-9d9721868c85",
   "metadata": {},
   "outputs": [],
   "source": [
    "def error(X,Y,theta):\n",
    "    e=0.0\n",
    "    e=(np.sum((Y-hypothesis(X,theta))**2))/X.shape[0]\n",
    "    return e"
   ]
  },
  {
   "cell_type": "code",
   "execution_count": 80,
   "id": "fd0b740b-6aeb-4eee-a93d-43975f3cf8bc",
   "metadata": {},
   "outputs": [],
   "source": [
    "def gradient(X,Y,theta):\n",
    "    y_=hypothesis(X,theta)\n",
    "    \n",
    "    return (np.dot(X.T,(y_-Y)))/X.shape[0]"
   ]
  },
  {
   "cell_type": "code",
   "execution_count": 81,
   "id": "f146c80c-c79c-43d4-a7b3-7d2d2136b04d",
   "metadata": {},
   "outputs": [],
   "source": [
    "def bgd(X,Y,lr=0.1,m_i=300):\n",
    "    error_list=[]\n",
    "    theta=np.zeros((X.shape[1],))\n",
    "    for i in range(m_i):\n",
    "        error_list.append(error(X,Y,theta))\n",
    "        grad=gradient(X,Y,theta)\n",
    "        theta=theta-lr*grad\n",
    "    return error_list,theta"
   ]
  },
  {
   "cell_type": "code",
   "execution_count": 93,
   "id": "b1b41650-3314-45c6-82d7-00cd3ee4f282",
   "metadata": {},
   "outputs": [],
   "source": [
    "def gd(X,Y,lr=0.01,m_i=100,bs=20):\n",
    "    error_list=[]\n",
    "    theta=np.zeros((X.shape[1],))\n",
    "    data=np.hstack((X,Y.reshape(-1,1)))\n",
    "    n_bs=data.shape[0]//bs\n",
    "    for i in range(m_i):\n",
    "        np.random.shuffle(data)\n",
    "        \n",
    "        for j in range(n_bs):\n",
    "            x_b=data[j:j+bs,:5]\n",
    "            y_b=data[j:j+bs,5]\n",
    "           \n",
    "            error_list.append(error(x_b,y_b,theta))\n",
    "            grad=gradient(x_b,y_b,theta)\n",
    "            theta=theta-lr*grad\n",
    "        \n",
    "        \n",
    "       \n",
    "    return error_list,theta"
   ]
  },
  {
   "cell_type": "code",
   "execution_count": 94,
   "id": "57f9ae75-b0d2-40da-aec4-0c34ece24592",
   "metadata": {},
   "outputs": [],
   "source": [
    "error_list,theta=gd(x,y)"
   ]
  },
  {
   "cell_type": "code",
   "execution_count": 101,
   "id": "5ecd1cac-4046-4504-96e6-71cf819bbcb8",
   "metadata": {},
   "outputs": [],
   "source": [
    "# print(error_list)"
   ]
  },
  {
   "cell_type": "code",
   "execution_count": 96,
   "id": "6d52c341-0bf9-4231-a220-46c4ed6cb5b1",
   "metadata": {},
   "outputs": [
    {
     "data": {
      "text/plain": [
       "[<matplotlib.lines.Line2D at 0x1c1ec1fec40>]"
      ]
     },
     "execution_count": 96,
     "metadata": {},
     "output_type": "execute_result"
    },
    {
     "data": {
      "image/png": "[encoded data removed]",
      "text/plain": [
       "<Figure size 432x288 with 1 Axes>"
      ]
     },
     "metadata": {
      "needs_background": "light"
     },
     "output_type": "display_data"
    }
   ],
   "source": [
    "plt.plot(np.arange(len(error_list)),error_list)"
   ]
  },
  {
   "cell_type": "code",
   "execution_count": 97,
   "id": "18bb17eb-a7bf-470d-bcae-c3ccd9456b0a",
   "metadata": {},
   "outputs": [
    {
     "name": "stdout",
     "output_type": "stream",
     "text": [
      "[30.07189507 91.55945457  8.70773566 47.09491519  3.39977661]\n"
     ]
    }
   ],
   "source": [
    "print(theta)"
   ]
  },
  {
   "cell_type": "code",
   "execution_count": 98,
   "id": "f27de2e7-9041-4a12-bbea-2f9e28b74672",
   "metadata": {},
   "outputs": [],
   "source": [
    "y_=hypothesis(x,theta)"
   ]
  },
  {
   "cell_type": "code",
   "execution_count": 99,
   "id": "e577f678-1938-49e7-81fa-5bf0bfd08e9f",
   "metadata": {},
   "outputs": [
    {
     "data": {
      "text/plain": [
       "(1600,)"
      ]
     },
     "execution_count": 99,
     "metadata": {},
     "output_type": "execute_result"
    }
   ],
   "source": [
    "y_.shape"
   ]
  },
  {
   "cell_type": "code",
   "execution_count": 100,
   "id": "2ea81e00-8055-470b-9cf5-3ac54a7e5492",
   "metadata": {},
   "outputs": [
    {
     "name": "stdout",
     "output_type": "stream",
     "text": [
      "[ -56.61137826  -92.76545184   53.57465449 ... -118.27640504  -66.90903107\n",
      " -114.92034367]\n"
     ]
    }
   ],
   "source": [
    "print(y_)"
   ]
  },
  {
   "cell_type": "code",
   "execution_count": 90,
   "id": "1e04a8a5-4963-4e48-8f60-bb6bf1eeebe3",
   "metadata": {},
   "outputs": [],
   "source": [
    "y_=pd.DataFrame(y_,columns=[\"target\"])"
   ]
  },
  {
   "cell_type": "code",
   "execution_count": 91,
   "id": "392f4867-481e-49a7-a3bc-7eab33cfe7bb",
   "metadata": {},
   "outputs": [
    {
     "data": {
      "text/html": [
       "<div>\n",
       "<style scoped>\n",
       "    .dataframe tbody tr th:only-of-type {\n",
       "        vertical-align: middle;\n",
       "    }\n",
       "\n",
       "    .dataframe tbody tr th {\n",
       "        vertical-align: top;\n",
       "    }\n",
       "\n",
       "    .dataframe thead th {\n",
       "        text-align: right;\n",
       "    }\n",
       "</style>\n",
       "<table border=\"1\" class=\"dataframe\">\n",
       "  <thead>\n",
       "    <tr style=\"text-align: right;\">\n",
       "      <th></th>\n",
       "      <th>target</th>\n",
       "    </tr>\n",
       "  </thead>\n",
       "  <tbody>\n",
       "    <tr>\n",
       "      <th>0</th>\n",
       "      <td>-52.288334</td>\n",
       "    </tr>\n",
       "    <tr>\n",
       "      <th>1</th>\n",
       "      <td>-101.002315</td>\n",
       "    </tr>\n",
       "    <tr>\n",
       "      <th>2</th>\n",
       "      <td>57.326506</td>\n",
       "    </tr>\n",
       "    <tr>\n",
       "      <th>3</th>\n",
       "      <td>8.743671</td>\n",
       "    </tr>\n",
       "    <tr>\n",
       "      <th>4</th>\n",
       "      <td>-64.221628</td>\n",
       "    </tr>\n",
       "  </tbody>\n",
       "</table>\n",
       "</div>"
      ],
      "text/plain": [
       "       target\n",
       "0  -52.288334\n",
       "1 -101.002315\n",
       "2   57.326506\n",
       "3    8.743671\n",
       "4  -64.221628"
      ]
     },
     "execution_count": 91,
     "metadata": {},
     "output_type": "execute_result"
    }
   ],
   "source": [
    "y_.head()"
   ]
  },
  {
   "cell_type": "code",
   "execution_count": 92,
   "id": "f41da7ce-43ec-4a34-b7a5-c02410077d97",
   "metadata": {},
   "outputs": [],
   "source": [
    "y_.to_csv(\"submit_1.csv\",index_label=\"Id\")"
   ]
  },
  {
   "cell_type": "code",
   "execution_count": null,
   "id": "37998347-6069-4605-aa2d-fd62202dfaaf",
   "metadata": {},
   "outputs": [],
   "source": []
  },
  {
   "cell_type": "code",
   "execution_count": null,
   "id": "e7ba47ac-9ac7-4089-8205-c103b6030e15",
   "metadata": {},
   "outputs": [],
   "source": []
  },
  {
   "cell_type": "code",
   "execution_count": 79,
   "id": "488df60c-0266-4034-bde6-17810c4b5469",
   "metadata": {},
   "outputs": [
    {
     "data": {
      "text/plain": [
       "\u001b[1;31mSignature:\u001b[0m \u001b[0mnp\u001b[0m\u001b[1;33m.\u001b[0m\u001b[0mhstack\u001b[0m\u001b[1;33m(\u001b[0m\u001b[0mtup\u001b[0m\u001b[1;33m)\u001b[0m\u001b[1;33m\u001b[0m\u001b[1;33m\u001b[0m\u001b[0m\n",
       "\u001b[1;31mDocstring:\u001b[0m\n",
       "Stack arrays in sequence horizontally (column wise).\n",
       "\n",
       "This is equivalent to concatenation along the second axis, except for 1-D\n",
       "arrays where it concatenates along the first axis. Rebuilds arrays divided\n",
       "by `hsplit`.\n",
       "\n",
       "This function makes most sense for arrays with up to 3 dimensions. For\n",
       "instance, for pixel-data with a height (first axis), width (second axis),\n",
       "and r/g/b channels (third axis). The functions `concatenate`, `stack` and\n",
       "`block` provide more general stacking and concatenation operations.\n",
       "\n",
       "Parameters\n",
       "----------\n",
       "tup : sequence of ndarrays\n",
       "    The arrays must have the same shape along all but the second axis,\n",
       "    except 1-D arrays which can be any length.\n",
       "\n",
       "Returns\n",
       "-------\n",
       "stacked : ndarray\n",
       "    The array formed by stacking the given arrays.\n",
       "\n",
       "See Also\n",
       "--------\n",
       "concatenate : Join a sequence of arrays along an existing axis.\n",
       "stack : Join a sequence of arrays along a new axis.\n",
       "block : Assemble an nd-array from nested lists of blocks.\n",
       "vstack : Stack arrays in sequence vertically (row wise).\n",
       "dstack : Stack arrays in sequence depth wise (along third axis).\n",
       "column_stack : Stack 1-D arrays as columns into a 2-D array.\n",
       "hsplit : Split an array into multiple sub-arrays horizontally (column-wise).\n",
       "\n",
       "Examples\n",
       "--------\n",
       ">>> a = np.array((1,2,3))\n",
       ">>> b = np.array((4,5,6))\n",
       ">>> np.hstack((a,b))\n",
       "array([1, 2, 3, 4, 5, 6])\n",
       ">>> a = np.array([[1],[2],[3]])\n",
       ">>> b = np.array([[4],[5],[6]])\n",
       ">>> np.hstack((a,b))\n",
       "array([[1, 4],\n",
       "       [2, 5],\n",
       "       [3, 6]])\n",
       "\u001b[1;31mFile:\u001b[0m      c:\\users\\taran\\appdata\\roaming\\python\\python39\\site-packages\\numpy\\core\\shape_base.py\n",
       "\u001b[1;31mType:\u001b[0m      function\n"
      ]
     },
     "metadata": {},
     "output_type": "display_data"
    }
   ],
   "source": [
    "np.hstack?"
   ]
  },
  {
   "cell_type": "code",
   "execution_count": null,
   "id": "b95ba231-eae8-47c7-b502-2387be59812a",
   "metadata": {},
   "outputs": [],
   "source": []
  },
  {
   "cell_type": "code",
   "execution_count": null,
   "id": "d774018d-5c25-47cd-aaf9-6022c006f351",
   "metadata": {},
   "outputs": [],
   "source": []
  },
  {
   "cell_type": "code",
   "execution_count": null,
   "id": "c4687e00-734a-46f2-8bb0-48361d4447f9",
   "metadata": {},
   "outputs": [],
   "source": []
  }
 ],
 "metadata": {
  "kernelspec": {
   "display_name": "Python 3 (ipykernel)",
   "language": "python",
   "name": "python3"
  },
  "language_info": {
   "codemirror_mode": {
    "name": "ipython",
    "version": 3
   },
   "file_extension": ".py",
   "mimetype": "text/x-python",
   "name": "python",
   "nbconvert_exporter": "python",
   "pygments_lexer": "ipython3",
   "version": "3.9.7"
  }
 },
 "nbformat": 4,
 "nbformat_minor": 5
}
