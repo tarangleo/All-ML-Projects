{
 "cells": [
  {
   "cell_type": "code",
   "execution_count": 1,
   "id": "343045c0-4391-4643-9ff0-79b6ae6b9788",
   "metadata": {},
   "outputs": [],
   "source": [
    "import numpy as np\n",
    "import matplotlib.pyplot as plt\n",
    "import pandas as pd"
   ]
  },
  {
   "cell_type": "code",
   "execution_count": 2,
   "id": "bba12803-158f-434d-ad30-633677206d09",
   "metadata": {},
   "outputs": [],
   "source": [
    "X=pd.read_csv(\"./Training/Logistic_X_Train.csv\")\n",
    "y=pd.read_csv(\"./Training/Logistic_Y_Train.csv\")"
   ]
  },
  {
   "cell_type": "code",
   "execution_count": 3,
   "id": "2a7e520c-1463-4ff5-990f-4c39521b91d5",
   "metadata": {},
   "outputs": [
    {
     "data": {
      "text/html": [
       "<div>\n",
       "<style scoped>\n",
       "    .dataframe tbody tr th:only-of-type {\n",
       "        vertical-align: middle;\n",
       "    }\n",
       "\n",
       "    .dataframe tbody tr th {\n",
       "        vertical-align: top;\n",
       "    }\n",
       "\n",
       "    .dataframe thead th {\n",
       "        text-align: right;\n",
       "    }\n",
       "</style>\n",
       "<table border=\"1\" class=\"dataframe\">\n",
       "  <thead>\n",
       "    <tr style=\"text-align: right;\">\n",
       "      <th></th>\n",
       "      <th>f1</th>\n",
       "      <th>f2</th>\n",
       "    </tr>\n",
       "  </thead>\n",
       "  <tbody>\n",
       "    <tr>\n",
       "      <th>0</th>\n",
       "      <td>0.574727</td>\n",
       "      <td>0.787277</td>\n",
       "    </tr>\n",
       "    <tr>\n",
       "      <th>1</th>\n",
       "      <td>0.251502</td>\n",
       "      <td>0.908940</td>\n",
       "    </tr>\n",
       "    <tr>\n",
       "      <th>2</th>\n",
       "      <td>1.860578</td>\n",
       "      <td>0.013763</td>\n",
       "    </tr>\n",
       "    <tr>\n",
       "      <th>3</th>\n",
       "      <td>0.019477</td>\n",
       "      <td>1.047210</td>\n",
       "    </tr>\n",
       "    <tr>\n",
       "      <th>4</th>\n",
       "      <td>0.029794</td>\n",
       "      <td>0.252236</td>\n",
       "    </tr>\n",
       "  </tbody>\n",
       "</table>\n",
       "</div>"
      ],
      "text/plain": [
       "         f1        f2\n",
       "0  0.574727  0.787277\n",
       "1  0.251502  0.908940\n",
       "2  1.860578  0.013763\n",
       "3  0.019477  1.047210\n",
       "4  0.029794  0.252236"
      ]
     },
     "execution_count": 3,
     "metadata": {},
     "output_type": "execute_result"
    }
   ],
   "source": [
    "X.head()"
   ]
  },
  {
   "cell_type": "code",
   "execution_count": 4,
   "id": "113aa16d-c095-44f8-8f1f-67b126a04752",
   "metadata": {},
   "outputs": [],
   "source": [
    "X_train,y_train=X.values,y.values"
   ]
  },
  {
   "cell_type": "code",
   "execution_count": 12,
   "id": "ee0a3712-6d0e-4328-869d-e031c1f713fa",
   "metadata": {},
   "outputs": [
    {
     "data": {
      "text/plain": [
       "(2250, 2)"
      ]
     },
     "execution_count": 12,
     "metadata": {},
     "output_type": "execute_result"
    }
   ],
   "source": [
    "X_train.shape"
   ]
  },
  {
   "cell_type": "code",
   "execution_count": null,
   "id": "d3f39e90-1b70-4c7e-8ff0-d3de578c1fa3",
   "metadata": {},
   "outputs": [],
   "source": []
  },
  {
   "cell_type": "code",
   "execution_count": 53,
   "id": "77d77729-e983-4332-9151-b06247b58493",
   "metadata": {},
   "outputs": [
    {
     "data": {
      "text/html": [
       "<div>\n",
       "<style scoped>\n",
       "    .dataframe tbody tr th:only-of-type {\n",
       "        vertical-align: middle;\n",
       "    }\n",
       "\n",
       "    .dataframe tbody tr th {\n",
       "        vertical-align: top;\n",
       "    }\n",
       "\n",
       "    .dataframe thead th {\n",
       "        text-align: right;\n",
       "    }\n",
       "</style>\n",
       "<table border=\"1\" class=\"dataframe\">\n",
       "  <thead>\n",
       "    <tr style=\"text-align: right;\">\n",
       "      <th></th>\n",
       "      <th>label</th>\n",
       "    </tr>\n",
       "  </thead>\n",
       "  <tbody>\n",
       "    <tr>\n",
       "      <th>0</th>\n",
       "      <td>0</td>\n",
       "    </tr>\n",
       "    <tr>\n",
       "      <th>1</th>\n",
       "      <td>0</td>\n",
       "    </tr>\n",
       "    <tr>\n",
       "      <th>2</th>\n",
       "      <td>1</td>\n",
       "    </tr>\n",
       "    <tr>\n",
       "      <th>3</th>\n",
       "      <td>0</td>\n",
       "    </tr>\n",
       "    <tr>\n",
       "      <th>4</th>\n",
       "      <td>1</td>\n",
       "    </tr>\n",
       "  </tbody>\n",
       "</table>\n",
       "</div>"
      ],
      "text/plain": [
       "   label\n",
       "0      0\n",
       "1      0\n",
       "2      1\n",
       "3      0\n",
       "4      1"
      ]
     },
     "execution_count": 53,
     "metadata": {},
     "output_type": "execute_result"
    }
   ],
   "source": [
    "y.head()"
   ]
  },
  {
   "cell_type": "code",
   "execution_count": null,
   "id": "9ad9154f-78c2-4875-a3fb-83530ba933f2",
   "metadata": {},
   "outputs": [],
   "source": []
  },
  {
   "cell_type": "code",
   "execution_count": 55,
   "id": "86df6fb0-c1c4-4c86-9029-9fe428a76de7",
   "metadata": {},
   "outputs": [],
   "source": [
    "X_t=pd.read_csv(\"./Test/Logistic_X_Test.csv\")\n"
   ]
  },
  {
   "cell_type": "code",
   "execution_count": 56,
   "id": "932bdef5-b26c-4793-95d9-b077f91e2dc7",
   "metadata": {},
   "outputs": [],
   "source": [
    "X_test=X_t.values"
   ]
  },
  {
   "cell_type": "code",
   "execution_count": null,
   "id": "1c126feb-4827-4e5c-881d-d4d3cfa78126",
   "metadata": {},
   "outputs": [],
   "source": []
  },
  {
   "cell_type": "code",
   "execution_count": null,
   "id": "29768ae2-bc8f-40e8-9fbc-5d03bbe8600d",
   "metadata": {},
   "outputs": [],
   "source": []
  },
  {
   "cell_type": "code",
   "execution_count": null,
   "id": "6095cc2c-d69a-4fa1-9f6a-358952ca046b",
   "metadata": {},
   "outputs": [],
   "source": []
  },
  {
   "cell_type": "code",
   "execution_count": null,
   "id": "4d85be0e-1af8-4f5c-b778-75af46d39150",
   "metadata": {},
   "outputs": [],
   "source": []
  },
  {
   "cell_type": "code",
   "execution_count": null,
   "id": "70f82099-7d03-4146-917d-7de809e8b8cf",
   "metadata": {},
   "outputs": [],
   "source": []
  },
  {
   "cell_type": "code",
   "execution_count": null,
   "id": "10cf7ddb-2e73-43f6-9f6a-9689354d2878",
   "metadata": {},
   "outputs": [],
   "source": []
  },
  {
   "cell_type": "markdown",
   "id": "b0ca96df-dbf9-463b-9de5-3c9f13f94ccf",
   "metadata": {
    "tags": []
   },
   "source": [
    "## Self Made Neural Networks"
   ]
  },
  {
   "cell_type": "code",
   "execution_count": null,
   "id": "6f96f432-7177-4839-aa03-ae681aa6c833",
   "metadata": {},
   "outputs": [],
   "source": []
  },
  {
   "cell_type": "code",
   "execution_count": 143,
   "id": "1609189f-5e35-406d-8741-f62d9c5072db",
   "metadata": {},
   "outputs": [],
   "source": [
    "class neural_Networks:\n",
    "    def __init__(self,input_size,layers,output_size):\n",
    "        \n",
    "        np.random.seed(0)\n",
    "        \n",
    "        model={}\n",
    "        model[\"W1\"]=np.random.randn(input_size,layers[0])\n",
    "        model[\"b1\"]=np.zeros((1,layers[0]))\n",
    "        \n",
    "        model[\"W2\"]=np.random.randn(layers[0],layers[1])\n",
    "        model[\"b2\"]=np.zeros((1,layers[1]))\n",
    " \n",
    "        model[\"W3\"]=np.random.randn(layers[1],output_size)\n",
    "        model[\"b3\"]=np.zeros((1,output_size))\n",
    "        \n",
    "        self.model=model\n",
    "        self.activation_outputs=None\n",
    "    \n",
    "    def forward(self,x):\n",
    "        \n",
    "        w1,w2,w3=self.model[\"W1\"],self.model[\"W2\"],self.model[\"W3\"]\n",
    "        b1,b2,b3=self.model[\"b1\"],self.model[\"b2\"],self.model[\"b3\"]\n",
    "        \n",
    "        z1=np.dot(x,w1)+b1\n",
    "        a1=np.tanh(z1)\n",
    "        \n",
    "        z2=np.dot(a1,w2)+b2\n",
    "        a2=np.tanh(z2)\n",
    "        \n",
    "        z3=np.dot(a2,w3)+b3\n",
    "        y_= sig(z3)\n",
    "        \n",
    "        \n",
    "        self.activation_outputs=(a1,a2,y_)\n",
    "        return y_\n",
    "        \n",
    "    def backward(self,x,y,lr=0.001):\n",
    "        \n",
    "        w1,w2,w3=self.model[\"W1\"],self.model[\"W2\"],self.model[\"W3\"]\n",
    "        b1,b2,b3=self.model[\"b1\"],self.model[\"b2\"],self.model[\"b3\"]\n",
    "        \n",
    "        m=x.shape[0]\n",
    "        a1,a2,y_=self.activation_outputs\n",
    "        \n",
    "        delta3=y_- y\n",
    "        dw3=np.dot(a2.T,delta3)\n",
    "        db3=np.sum(delta3,axis=0)\n",
    "        \n",
    "        delta2=(1-np.square(a2))*np.dot(delta3,w3.T)\n",
    "        dw2=np.dot(a1.T,delta2)\n",
    "        db2=np.sum(delta2,axis=0)\n",
    "        \n",
    "        delta1=(1-np.square(a1))*np.dot(delta2,w2.T)\n",
    "        dw1=np.dot(x.T,delta1)\n",
    "        db1=np.sum(delta1,axis=0)\n",
    "        \n",
    "        \n",
    "        self.model[\"W1\"]-=lr*dw1\n",
    "        self.model[\"b1\"]-=lr*db1\n",
    "        \n",
    "        self.model[\"W2\"]-=lr*dw2\n",
    "        self.model[\"b2\"]-=lr*db2\n",
    "        \n",
    "        self.model[\"W3\"]-=lr*dw3\n",
    "        self.model[\"b3\"]-=lr*db3\n",
    "        \n",
    "    def predict(self,x):\n",
    "        y_out=self.forward(x)\n",
    "        return np.argmax(y_out,axis=1)\n",
    "        \n",
    "        \n",
    "    def summary(self):\n",
    "        \n",
    "        w1,w2,w3=self.model[\"W1\"],self.model[\"W2\"],self.model[\"W3\"]\n",
    "        a1,a2,y_=self.activation_outputs\n",
    "        \n",
    "        print(\"W1 :\",w1.shape)\n",
    "        print(\"A1 :\",a1.shape)\n",
    "        \n",
    "        print(\"W2 :\",w2.shape)\n",
    "        print(\"A2 :\",a2.shape)\n",
    "        \n",
    "        print(\"W3 :\",w3.shape)\n",
    "        print(\"Y_ :\",y_.shape)"
   ]
  },
  {
   "cell_type": "code",
   "execution_count": null,
   "id": "855e6085-4be5-4524-a3d5-e3750b34e97e",
   "metadata": {},
   "outputs": [],
   "source": []
  },
  {
   "cell_type": "code",
   "execution_count": 144,
   "id": "9e545f25-7952-46b6-b5ca-408690c04d05",
   "metadata": {},
   "outputs": [],
   "source": [
    "def loss(y_oht,p):\n",
    "    l= -np.mean(y_oht*np.log(p))\n",
    "    \n",
    "    return l\n",
    "\n",
    "def one_hot(y,depth):\n",
    "    \n",
    "    m=y.shape[0]\n",
    "    y_oht=np.zeros((m,depth))\n",
    "    y_oht[np.arange(m),y]=1\n",
    "    \n",
    "    return y_oht"
   ]
  },
  {
   "cell_type": "code",
   "execution_count": null,
   "id": "2aa23e3b-25bb-42b0-82c9-b405a05e97c6",
   "metadata": {},
   "outputs": [],
   "source": []
  },
  {
   "cell_type": "code",
   "execution_count": 223,
   "id": "72fa6b73-c253-48c8-a2cd-fdd3bff7bcb5",
   "metadata": {},
   "outputs": [],
   "source": [
    "def train(x,y,model,epochs,lr,logs=True):\n",
    "    training_loss=[]\n",
    "    \n",
    "    classes = 2\n",
    "    Y_OHT=one_hot(y,classes)\n",
    "    \n",
    "    for ix in range(epochs):\n",
    "        Y_=model.forward(x)\n",
    "        l=loss(Y_OHT,Y_)\n",
    "        training_loss.append(l)\n",
    "        model.backward(x,Y_OHT,lr)\n",
    "        \n",
    "        if(logs):\n",
    "            print(\"Epochs %d Loss %.4f\"%(ix,l))\n",
    "            \n",
    "    return training_loss"
   ]
  },
  {
   "cell_type": "code",
   "execution_count": null,
   "id": "509a8b7f-c693-4c81-95aa-c921b672ecde",
   "metadata": {},
   "outputs": [],
   "source": []
  },
  {
   "cell_type": "code",
   "execution_count": 224,
   "id": "f2a0dc7d-80b1-43c7-8b29-fb2fb088507c",
   "metadata": {},
   "outputs": [],
   "source": [
    "def getAcc(x,y,model):\n",
    "    outputs=model.predict(x)\n",
    "    acc=np.sum(outputs==y)/y.shape[0]\n",
    "    return acc\n"
   ]
  },
  {
   "cell_type": "code",
   "execution_count": 275,
   "id": "b55b0f48-24bc-457d-831c-003e29b3215e",
   "metadata": {},
   "outputs": [],
   "source": [
    "def sig(x):\n",
    "    e_pa=1/(1 + np.exp(-x))\n",
    "    ans=e_pa/np.sum(e_pa,axis=1,keepdims=True)\n",
    "    return e_pa"
   ]
  },
  {
   "cell_type": "code",
   "execution_count": 276,
   "id": "f92c2860-21b2-4bcb-a0d4-ad13adeabf57",
   "metadata": {},
   "outputs": [],
   "source": [
    "def softmax(a):\n",
    "    e_pa=np.exp(a)\n",
    "    ans=e_pa/np.sum(e_pa,axis=1,keepdims=True)\n",
    "    return ans"
   ]
  },
  {
   "cell_type": "code",
   "execution_count": 268,
   "id": "07b1557e-13bb-4408-9d46-b703b913bb72",
   "metadata": {},
   "outputs": [],
   "source": [
    "def ReLU(x):\n",
    "    return x * (x > 0)"
   ]
  },
  {
   "cell_type": "code",
   "execution_count": 269,
   "id": "b7651049-5be0-4ef6-b4bb-c7141f6fbd21",
   "metadata": {},
   "outputs": [],
   "source": [
    "def relu(x):\n",
    "    if x>0:\n",
    "        return x\n",
    "    return 0"
   ]
  },
  {
   "cell_type": "code",
   "execution_count": null,
   "id": "f05d8bcc-369e-4db0-95ec-cdb4aac1db6e",
   "metadata": {},
   "outputs": [],
   "source": []
  },
  {
   "cell_type": "code",
   "execution_count": 320,
   "id": "a6008f00-0eaa-4d1f-aa9b-6d3134e0dd54",
   "metadata": {},
   "outputs": [],
   "source": [
    "model_1=neural_Networks(input_size=2,layers=[16,16],output_size=2)"
   ]
  },
  {
   "cell_type": "code",
   "execution_count": null,
   "id": "1f9fec06-4cd6-43d3-a93c-3794acbbb82a",
   "metadata": {},
   "outputs": [],
   "source": [
    "l=train(X_train[:2000],y_train.reshape(2250,)[:2000],model_1,200,0.0001)"
   ]
  },
  {
   "cell_type": "code",
   "execution_count": 322,
   "id": "1de7cfd3-bc92-4b79-a5f0-cc9238f45248",
   "metadata": {},
   "outputs": [
    {
     "data": {
      "text/plain": [
       "[<matplotlib.lines.Line2D at 0x2a30be1aee0>]"
      ]
     },
     "execution_count": 322,
     "metadata": {},
     "output_type": "execute_result"
    },
    {
     "data": {
      "image/png": "[encoded data removed]",
      "text/plain": [
       "<Figure size 432x288 with 1 Axes>"
      ]
     },
     "metadata": {
      "needs_background": "light"
     },
     "output_type": "display_data"
    }
   ],
   "source": [
    "plt.plot(l)"
   ]
  },
  {
   "cell_type": "code",
   "execution_count": 323,
   "id": "0d999c4e-fcfb-4da3-9a03-660e25173936",
   "metadata": {},
   "outputs": [
    {
     "name": "stdout",
     "output_type": "stream",
     "text": [
      "W1 : (2, 16)\n",
      "A1 : (2000, 16)\n",
      "W2 : (16, 16)\n",
      "A2 : (2000, 16)\n",
      "W3 : (16, 2)\n",
      "Y_ : (2000, 2)\n"
     ]
    }
   ],
   "source": [
    "model_1.summary()"
   ]
  },
  {
   "cell_type": "code",
   "execution_count": 324,
   "id": "8165cfd7-de8a-42b1-bf0b-860c5356827e",
   "metadata": {},
   "outputs": [],
   "source": [
    "y_test=model_1.predict(X_test)"
   ]
  },
  {
   "cell_type": "code",
   "execution_count": 328,
   "id": "d2761c31-6013-4c8b-b6cf-5f02977b81de",
   "metadata": {},
   "outputs": [
    {
     "data": {
      "text/plain": [
       "0.968"
      ]
     },
     "execution_count": 328,
     "metadata": {},
     "output_type": "execute_result"
    }
   ],
   "source": [
    "getAcc(X_train[2000:],y_train.reshape(2250,)[2000:],model_1)"
   ]
  },
  {
   "cell_type": "code",
   "execution_count": null,
   "id": "74be2fb3-8ccd-4968-be3c-2eeedfddc700",
   "metadata": {},
   "outputs": [],
   "source": []
  },
  {
   "cell_type": "code",
   "execution_count": 338,
   "id": "31d78157-902e-4ac9-a818-2965b1a76a0b",
   "metadata": {},
   "outputs": [],
   "source": [
    "d={\n",
    "    \"label\":y_test\n",
    "\n",
    "}"
   ]
  },
  {
   "cell_type": "code",
   "execution_count": 339,
   "id": "1cb2c5a2-10cf-4dd7-a885-128032514126",
   "metadata": {},
   "outputs": [],
   "source": [
    "data=pd.DataFrame(d,index=None)"
   ]
  },
  {
   "cell_type": "code",
   "execution_count": 340,
   "id": "ef25a722-49f5-4726-9a8d-d865df7b7dbe",
   "metadata": {},
   "outputs": [],
   "source": [
    "data.to_csv(\"Submit.csv\",index=False)"
   ]
  },
  {
   "cell_type": "code",
   "execution_count": null,
   "id": "9a1c5c59-3ec8-47ff-9a98-33cc97973da1",
   "metadata": {},
   "outputs": [],
   "source": []
  },
  {
   "cell_type": "code",
   "execution_count": 327,
   "id": "d05cda70-9beb-4c01-bc0d-a15275c915e4",
   "metadata": {},
   "outputs": [
    {
     "ename": "NameError",
     "evalue": "name 'yt' is not defined",
     "output_type": "error",
     "traceback": [
      "\u001b[1;31m---------------------------------------------------------------------------\u001b[0m",
      "\u001b[1;31mNameError\u001b[0m                                 Traceback (most recent call last)",
      "\u001b[1;32m~\\AppData\\Local\\Temp/ipykernel_21132/2696819314.py\u001b[0m in \u001b[0;36m<module>\u001b[1;34m\u001b[0m\n\u001b[1;32m----> 1\u001b[1;33m \u001b[0myt\u001b[0m\u001b[1;33m\u001b[0m\u001b[1;33m\u001b[0m\u001b[0m\n\u001b[0m",
      "\u001b[1;31mNameError\u001b[0m: name 'yt' is not defined"
     ]
    }
   ],
   "source": []
  },
  {
   "cell_type": "code",
   "execution_count": null,
   "id": "c0276361-3d7b-4569-9ac3-4e107dce12f3",
   "metadata": {},
   "outputs": [],
   "source": []
  },
  {
   "cell_type": "code",
   "execution_count": 311,
   "id": "c0a4c1fc-2a8d-45e4-9321-cf50e3ba2d7e",
   "metadata": {},
   "outputs": [
    {
     "data": {
      "text/plain": [
       "array([0, 0, 1, ..., 1, 1, 0], dtype=int64)"
      ]
     },
     "execution_count": 311,
     "metadata": {},
     "output_type": "execute_result"
    }
   ],
   "source": [
    "y_train.reshape(2250,)"
   ]
  },
  {
   "cell_type": "markdown",
   "id": "eff91af5-b8bb-4dab-9b42-3ac788d80492",
   "metadata": {},
   "source": [
    "## Ready made Neural Networks"
   ]
  },
  {
   "cell_type": "code",
   "execution_count": 312,
   "id": "ce3a80fd-721a-4030-b3a7-3a1de18b07f3",
   "metadata": {},
   "outputs": [],
   "source": [
    "from keras import models\n",
    "from keras.layers import Dense"
   ]
  },
  {
   "cell_type": "code",
   "execution_count": 342,
   "id": "bbe4e6ca-7632-4aa4-b679-0441c754fee4",
   "metadata": {},
   "outputs": [],
   "source": [
    "model=models.Sequential()"
   ]
  },
  {
   "cell_type": "code",
   "execution_count": 343,
   "id": "f2638f53-9f57-4e29-a2c6-83fc4c63a648",
   "metadata": {},
   "outputs": [],
   "source": [
    "model.add(Dense(16,activation=\"relu\",input_shape=(2,)))"
   ]
  },
  {
   "cell_type": "code",
   "execution_count": 344,
   "id": "a6bca523-0019-4b0c-bd1d-750c4da357c3",
   "metadata": {},
   "outputs": [],
   "source": [
    "model.add(Dense(16,activation=\"relu\"))\n",
    "model.add(Dense(1,activation=\"sigmoid\"))"
   ]
  },
  {
   "cell_type": "code",
   "execution_count": 345,
   "id": "f049d506-9ad2-4874-a6dc-a470393a89ae",
   "metadata": {},
   "outputs": [],
   "source": [
    "model.compile(optimizer='rmsprop',loss='binary_crossentropy',metrics=['accuracy'])"
   ]
  },
  {
   "cell_type": "code",
   "execution_count": 346,
   "id": "88a318f4-f067-4eeb-a097-0616485bbdc4",
   "metadata": {},
   "outputs": [
    {
     "name": "stdout",
     "output_type": "stream",
     "text": [
      "Model: \"sequential_2\"\n",
      "_________________________________________________________________\n",
      " Layer (type)                Output Shape              Param #   \n",
      "=================================================================\n",
      " dense_6 (Dense)             (None, 16)                48        \n",
      "                                                                 \n",
      " dense_7 (Dense)             (None, 16)                272       \n",
      "                                                                 \n",
      " dense_8 (Dense)             (None, 1)                 17        \n",
      "                                                                 \n",
      "=================================================================\n",
      "Total params: 337\n",
      "Trainable params: 337\n",
      "Non-trainable params: 0\n",
      "_________________________________________________________________\n"
     ]
    }
   ],
   "source": [
    "model.summary()"
   ]
  },
  {
   "cell_type": "code",
   "execution_count": null,
   "id": "4fd14eea-84e7-442a-abcc-63b8a9f1a7e1",
   "metadata": {},
   "outputs": [],
   "source": []
  },
  {
   "cell_type": "code",
   "execution_count": 347,
   "id": "1a046079-b72f-42e2-a0d0-cd661ad9b861",
   "metadata": {},
   "outputs": [
    {
     "name": "stdout",
     "output_type": "stream",
     "text": [
      "Epoch 1/200\n",
      "18/18 [==============================] - 0s 8ms/step - loss: 0.6461 - accuracy: 0.7339 - val_loss: 0.6055 - val_accuracy: 0.8778\n",
      "Epoch 2/200\n",
      "18/18 [==============================] - 0s 2ms/step - loss: 0.5845 - accuracy: 0.8606 - val_loss: 0.5510 - val_accuracy: 0.8800\n",
      "Epoch 3/200\n",
      "18/18 [==============================] - 0s 2ms/step - loss: 0.5347 - accuracy: 0.8644 - val_loss: 0.5012 - val_accuracy: 0.8822\n",
      "Epoch 4/200\n",
      "18/18 [==============================] - 0s 2ms/step - loss: 0.4891 - accuracy: 0.8606 - val_loss: 0.4556 - val_accuracy: 0.8756\n",
      "Epoch 5/200\n",
      "18/18 [==============================] - 0s 2ms/step - loss: 0.4476 - accuracy: 0.8600 - val_loss: 0.4141 - val_accuracy: 0.8778\n",
      "Epoch 6/200\n",
      "18/18 [==============================] - 0s 2ms/step - loss: 0.4114 - accuracy: 0.8611 - val_loss: 0.3790 - val_accuracy: 0.8756\n",
      "Epoch 7/200\n",
      "18/18 [==============================] - 0s 2ms/step - loss: 0.3810 - accuracy: 0.8617 - val_loss: 0.3488 - val_accuracy: 0.8778\n",
      "Epoch 8/200\n",
      "18/18 [==============================] - 0s 2ms/step - loss: 0.3561 - accuracy: 0.8617 - val_loss: 0.3245 - val_accuracy: 0.8756\n",
      "Epoch 9/200\n",
      "18/18 [==============================] - 0s 2ms/step - loss: 0.3371 - accuracy: 0.8611 - val_loss: 0.3064 - val_accuracy: 0.8756\n",
      "Epoch 10/200\n",
      "18/18 [==============================] - 0s 2ms/step - loss: 0.3229 - accuracy: 0.8633 - val_loss: 0.2928 - val_accuracy: 0.8778\n",
      "Epoch 11/200\n",
      "18/18 [==============================] - 0s 2ms/step - loss: 0.3123 - accuracy: 0.8650 - val_loss: 0.2824 - val_accuracy: 0.8844\n",
      "Epoch 12/200\n",
      "18/18 [==============================] - 0s 3ms/step - loss: 0.3045 - accuracy: 0.8650 - val_loss: 0.2747 - val_accuracy: 0.8867\n",
      "Epoch 13/200\n",
      "18/18 [==============================] - 0s 2ms/step - loss: 0.2988 - accuracy: 0.8672 - val_loss: 0.2686 - val_accuracy: 0.8889\n",
      "Epoch 14/200\n",
      "18/18 [==============================] - 0s 3ms/step - loss: 0.2943 - accuracy: 0.8661 - val_loss: 0.2633 - val_accuracy: 0.8911\n",
      "Epoch 15/200\n",
      "18/18 [==============================] - 0s 2ms/step - loss: 0.2905 - accuracy: 0.8694 - val_loss: 0.2598 - val_accuracy: 0.8956\n",
      "Epoch 16/200\n",
      "18/18 [==============================] - 0s 3ms/step - loss: 0.2872 - accuracy: 0.8706 - val_loss: 0.2555 - val_accuracy: 0.8889\n",
      "Epoch 17/200\n",
      "18/18 [==============================] - 0s 2ms/step - loss: 0.2845 - accuracy: 0.8733 - val_loss: 0.2518 - val_accuracy: 0.8889\n",
      "Epoch 18/200\n",
      "18/18 [==============================] - 0s 3ms/step - loss: 0.2817 - accuracy: 0.8772 - val_loss: 0.2497 - val_accuracy: 0.8933\n",
      "Epoch 19/200\n",
      "18/18 [==============================] - 0s 2ms/step - loss: 0.2792 - accuracy: 0.8783 - val_loss: 0.2485 - val_accuracy: 0.8978\n",
      "Epoch 20/200\n",
      "18/18 [==============================] - 0s 2ms/step - loss: 0.2771 - accuracy: 0.8806 - val_loss: 0.2428 - val_accuracy: 0.8978\n",
      "Epoch 21/200\n",
      "18/18 [==============================] - 0s 2ms/step - loss: 0.2750 - accuracy: 0.8789 - val_loss: 0.2407 - val_accuracy: 0.8978\n",
      "Epoch 22/200\n",
      "18/18 [==============================] - 0s 2ms/step - loss: 0.2731 - accuracy: 0.8828 - val_loss: 0.2382 - val_accuracy: 0.8978\n",
      "Epoch 23/200\n",
      "18/18 [==============================] - 0s 2ms/step - loss: 0.2714 - accuracy: 0.8822 - val_loss: 0.2366 - val_accuracy: 0.8978\n",
      "Epoch 24/200\n",
      "18/18 [==============================] - 0s 3ms/step - loss: 0.2693 - accuracy: 0.8822 - val_loss: 0.2356 - val_accuracy: 0.9000\n",
      "Epoch 25/200\n",
      "18/18 [==============================] - 0s 2ms/step - loss: 0.2670 - accuracy: 0.8817 - val_loss: 0.2385 - val_accuracy: 0.9022\n",
      "Epoch 26/200\n",
      "18/18 [==============================] - 0s 2ms/step - loss: 0.2661 - accuracy: 0.8833 - val_loss: 0.2329 - val_accuracy: 0.9022\n",
      "Epoch 27/200\n",
      "18/18 [==============================] - 0s 3ms/step - loss: 0.2640 - accuracy: 0.8861 - val_loss: 0.2307 - val_accuracy: 0.9022\n",
      "Epoch 28/200\n",
      "18/18 [==============================] - 0s 2ms/step - loss: 0.2630 - accuracy: 0.8828 - val_loss: 0.2304 - val_accuracy: 0.9022\n",
      "Epoch 29/200\n",
      "18/18 [==============================] - 0s 2ms/step - loss: 0.2615 - accuracy: 0.8861 - val_loss: 0.2281 - val_accuracy: 0.9044\n",
      "Epoch 30/200\n",
      "18/18 [==============================] - 0s 3ms/step - loss: 0.2600 - accuracy: 0.8839 - val_loss: 0.2269 - val_accuracy: 0.9044\n",
      "Epoch 31/200\n",
      "18/18 [==============================] - 0s 2ms/step - loss: 0.2584 - accuracy: 0.8856 - val_loss: 0.2251 - val_accuracy: 0.9089\n",
      "Epoch 32/200\n",
      "18/18 [==============================] - 0s 2ms/step - loss: 0.2573 - accuracy: 0.8883 - val_loss: 0.2240 - val_accuracy: 0.9089\n",
      "Epoch 33/200\n",
      "18/18 [==============================] - 0s 2ms/step - loss: 0.2554 - accuracy: 0.8872 - val_loss: 0.2238 - val_accuracy: 0.9089\n",
      "Epoch 34/200\n",
      "18/18 [==============================] - 0s 2ms/step - loss: 0.2539 - accuracy: 0.8878 - val_loss: 0.2201 - val_accuracy: 0.9089\n",
      "Epoch 35/200\n",
      "18/18 [==============================] - 0s 2ms/step - loss: 0.2528 - accuracy: 0.8933 - val_loss: 0.2188 - val_accuracy: 0.9089\n",
      "Epoch 36/200\n",
      "18/18 [==============================] - 0s 2ms/step - loss: 0.2511 - accuracy: 0.8928 - val_loss: 0.2179 - val_accuracy: 0.9089\n",
      "Epoch 37/200\n",
      "18/18 [==============================] - 0s 2ms/step - loss: 0.2497 - accuracy: 0.8933 - val_loss: 0.2166 - val_accuracy: 0.9111\n",
      "Epoch 38/200\n",
      "18/18 [==============================] - 0s 2ms/step - loss: 0.2477 - accuracy: 0.8922 - val_loss: 0.2155 - val_accuracy: 0.9111\n",
      "Epoch 39/200\n",
      "18/18 [==============================] - 0s 2ms/step - loss: 0.2461 - accuracy: 0.8939 - val_loss: 0.2122 - val_accuracy: 0.9111\n",
      "Epoch 40/200\n",
      "18/18 [==============================] - 0s 2ms/step - loss: 0.2445 - accuracy: 0.8944 - val_loss: 0.2123 - val_accuracy: 0.9133\n",
      "Epoch 41/200\n",
      "18/18 [==============================] - 0s 2ms/step - loss: 0.2431 - accuracy: 0.8950 - val_loss: 0.2117 - val_accuracy: 0.9133\n",
      "Epoch 42/200\n",
      "18/18 [==============================] - 0s 3ms/step - loss: 0.2413 - accuracy: 0.8961 - val_loss: 0.2091 - val_accuracy: 0.9133\n",
      "Epoch 43/200\n",
      "18/18 [==============================] - 0s 2ms/step - loss: 0.2395 - accuracy: 0.8972 - val_loss: 0.2071 - val_accuracy: 0.9111\n",
      "Epoch 44/200\n",
      "18/18 [==============================] - 0s 2ms/step - loss: 0.2385 - accuracy: 0.9000 - val_loss: 0.2064 - val_accuracy: 0.9111\n",
      "Epoch 45/200\n",
      "18/18 [==============================] - 0s 2ms/step - loss: 0.2358 - accuracy: 0.9017 - val_loss: 0.2062 - val_accuracy: 0.9133\n",
      "Epoch 46/200\n",
      "18/18 [==============================] - 0s 2ms/step - loss: 0.2344 - accuracy: 0.9006 - val_loss: 0.2029 - val_accuracy: 0.9133\n",
      "Epoch 47/200\n",
      "18/18 [==============================] - 0s 2ms/step - loss: 0.2324 - accuracy: 0.9028 - val_loss: 0.2002 - val_accuracy: 0.9133\n",
      "Epoch 48/200\n",
      "18/18 [==============================] - 0s 2ms/step - loss: 0.2304 - accuracy: 0.9050 - val_loss: 0.1992 - val_accuracy: 0.9133\n",
      "Epoch 49/200\n",
      "18/18 [==============================] - 0s 3ms/step - loss: 0.2280 - accuracy: 0.9039 - val_loss: 0.1981 - val_accuracy: 0.9178\n",
      "Epoch 50/200\n",
      "18/18 [==============================] - 0s 2ms/step - loss: 0.2260 - accuracy: 0.9067 - val_loss: 0.1962 - val_accuracy: 0.9178\n",
      "Epoch 51/200\n",
      "18/18 [==============================] - 0s 2ms/step - loss: 0.2235 - accuracy: 0.9067 - val_loss: 0.1954 - val_accuracy: 0.9178\n",
      "Epoch 52/200\n",
      "18/18 [==============================] - 0s 3ms/step - loss: 0.2216 - accuracy: 0.9083 - val_loss: 0.1904 - val_accuracy: 0.9156\n",
      "Epoch 53/200\n",
      "18/18 [==============================] - 0s 6ms/step - loss: 0.2194 - accuracy: 0.9100 - val_loss: 0.1894 - val_accuracy: 0.9200\n",
      "Epoch 54/200\n",
      "18/18 [==============================] - 0s 3ms/step - loss: 0.2169 - accuracy: 0.9111 - val_loss: 0.1867 - val_accuracy: 0.9200\n",
      "Epoch 55/200\n",
      "18/18 [==============================] - 0s 3ms/step - loss: 0.2148 - accuracy: 0.9128 - val_loss: 0.1873 - val_accuracy: 0.9222\n",
      "Epoch 56/200\n",
      "18/18 [==============================] - 0s 3ms/step - loss: 0.2124 - accuracy: 0.9172 - val_loss: 0.1826 - val_accuracy: 0.9222\n",
      "Epoch 57/200\n",
      "18/18 [==============================] - 0s 2ms/step - loss: 0.2105 - accuracy: 0.9167 - val_loss: 0.1813 - val_accuracy: 0.9244\n",
      "Epoch 58/200\n",
      "18/18 [==============================] - 0s 2ms/step - loss: 0.2084 - accuracy: 0.9206 - val_loss: 0.1795 - val_accuracy: 0.9244\n",
      "Epoch 59/200\n",
      "18/18 [==============================] - 0s 3ms/step - loss: 0.2060 - accuracy: 0.9183 - val_loss: 0.1790 - val_accuracy: 0.9267\n",
      "Epoch 60/200\n",
      "18/18 [==============================] - 0s 2ms/step - loss: 0.2035 - accuracy: 0.9217 - val_loss: 0.1748 - val_accuracy: 0.9333\n",
      "Epoch 61/200\n",
      "18/18 [==============================] - 0s 2ms/step - loss: 0.2007 - accuracy: 0.9239 - val_loss: 0.1771 - val_accuracy: 0.9289\n",
      "Epoch 62/200\n",
      "18/18 [==============================] - 0s 2ms/step - loss: 0.1990 - accuracy: 0.9233 - val_loss: 0.1710 - val_accuracy: 0.9356\n",
      "Epoch 63/200\n",
      "18/18 [==============================] - 0s 2ms/step - loss: 0.1962 - accuracy: 0.9256 - val_loss: 0.1690 - val_accuracy: 0.9356\n",
      "Epoch 64/200\n",
      "18/18 [==============================] - 0s 3ms/step - loss: 0.1936 - accuracy: 0.9272 - val_loss: 0.1675 - val_accuracy: 0.9356\n",
      "Epoch 65/200\n",
      "18/18 [==============================] - 0s 2ms/step - loss: 0.1910 - accuracy: 0.9283 - val_loss: 0.1660 - val_accuracy: 0.9378\n",
      "Epoch 66/200\n",
      "18/18 [==============================] - 0s 2ms/step - loss: 0.1886 - accuracy: 0.9283 - val_loss: 0.1652 - val_accuracy: 0.9378\n",
      "Epoch 67/200\n",
      "18/18 [==============================] - 0s 2ms/step - loss: 0.1864 - accuracy: 0.9306 - val_loss: 0.1623 - val_accuracy: 0.9378\n",
      "Epoch 68/200\n",
      "18/18 [==============================] - 0s 2ms/step - loss: 0.1835 - accuracy: 0.9300 - val_loss: 0.1587 - val_accuracy: 0.9378\n",
      "Epoch 69/200\n",
      "18/18 [==============================] - 0s 2ms/step - loss: 0.1808 - accuracy: 0.9317 - val_loss: 0.1591 - val_accuracy: 0.9400\n",
      "Epoch 70/200\n",
      "18/18 [==============================] - 0s 3ms/step - loss: 0.1780 - accuracy: 0.9350 - val_loss: 0.1548 - val_accuracy: 0.9400\n",
      "Epoch 71/200\n",
      "18/18 [==============================] - 0s 2ms/step - loss: 0.1755 - accuracy: 0.9350 - val_loss: 0.1531 - val_accuracy: 0.9422\n",
      "Epoch 72/200\n",
      "18/18 [==============================] - 0s 2ms/step - loss: 0.1734 - accuracy: 0.9333 - val_loss: 0.1511 - val_accuracy: 0.9422\n",
      "Epoch 73/200\n",
      "18/18 [==============================] - 0s 3ms/step - loss: 0.1706 - accuracy: 0.9350 - val_loss: 0.1483 - val_accuracy: 0.9422\n",
      "Epoch 74/200\n",
      "18/18 [==============================] - 0s 2ms/step - loss: 0.1677 - accuracy: 0.9367 - val_loss: 0.1475 - val_accuracy: 0.9422\n",
      "Epoch 75/200\n",
      "18/18 [==============================] - 0s 2ms/step - loss: 0.1653 - accuracy: 0.9394 - val_loss: 0.1431 - val_accuracy: 0.9467\n",
      "Epoch 76/200\n",
      "18/18 [==============================] - 0s 2ms/step - loss: 0.1623 - accuracy: 0.9400 - val_loss: 0.1418 - val_accuracy: 0.9467\n",
      "Epoch 77/200\n",
      "18/18 [==============================] - 0s 2ms/step - loss: 0.1601 - accuracy: 0.9428 - val_loss: 0.1401 - val_accuracy: 0.9467\n",
      "Epoch 78/200\n",
      "18/18 [==============================] - 0s 2ms/step - loss: 0.1575 - accuracy: 0.9444 - val_loss: 0.1394 - val_accuracy: 0.9444\n",
      "Epoch 79/200\n",
      "18/18 [==============================] - 0s 2ms/step - loss: 0.1559 - accuracy: 0.9444 - val_loss: 0.1390 - val_accuracy: 0.9467\n",
      "Epoch 80/200\n",
      "18/18 [==============================] - 0s 2ms/step - loss: 0.1532 - accuracy: 0.9439 - val_loss: 0.1342 - val_accuracy: 0.9489\n",
      "Epoch 81/200\n",
      "18/18 [==============================] - 0s 2ms/step - loss: 0.1513 - accuracy: 0.9456 - val_loss: 0.1331 - val_accuracy: 0.9511\n",
      "Epoch 82/200\n",
      "18/18 [==============================] - 0s 2ms/step - loss: 0.1492 - accuracy: 0.9461 - val_loss: 0.1313 - val_accuracy: 0.9511\n",
      "Epoch 83/200\n",
      "18/18 [==============================] - 0s 2ms/step - loss: 0.1469 - accuracy: 0.9472 - val_loss: 0.1285 - val_accuracy: 0.9489\n",
      "Epoch 84/200\n",
      "18/18 [==============================] - 0s 2ms/step - loss: 0.1449 - accuracy: 0.9472 - val_loss: 0.1294 - val_accuracy: 0.9556\n",
      "Epoch 85/200\n",
      "18/18 [==============================] - 0s 2ms/step - loss: 0.1429 - accuracy: 0.9494 - val_loss: 0.1260 - val_accuracy: 0.9511\n",
      "Epoch 86/200\n",
      "18/18 [==============================] - 0s 2ms/step - loss: 0.1410 - accuracy: 0.9517 - val_loss: 0.1255 - val_accuracy: 0.9556\n",
      "Epoch 87/200\n",
      "18/18 [==============================] - 0s 2ms/step - loss: 0.1386 - accuracy: 0.9511 - val_loss: 0.1231 - val_accuracy: 0.9556\n",
      "Epoch 88/200\n",
      "18/18 [==============================] - 0s 3ms/step - loss: 0.1369 - accuracy: 0.9500 - val_loss: 0.1223 - val_accuracy: 0.9578\n",
      "Epoch 89/200\n",
      "18/18 [==============================] - 0s 2ms/step - loss: 0.1356 - accuracy: 0.9511 - val_loss: 0.1201 - val_accuracy: 0.9556\n",
      "Epoch 90/200\n",
      "18/18 [==============================] - 0s 2ms/step - loss: 0.1330 - accuracy: 0.9511 - val_loss: 0.1181 - val_accuracy: 0.9578\n",
      "Epoch 91/200\n",
      "18/18 [==============================] - 0s 2ms/step - loss: 0.1319 - accuracy: 0.9522 - val_loss: 0.1190 - val_accuracy: 0.9578\n",
      "Epoch 92/200\n",
      "18/18 [==============================] - 0s 2ms/step - loss: 0.1301 - accuracy: 0.9533 - val_loss: 0.1173 - val_accuracy: 0.9578\n",
      "Epoch 93/200\n",
      "18/18 [==============================] - 0s 2ms/step - loss: 0.1289 - accuracy: 0.9550 - val_loss: 0.1153 - val_accuracy: 0.9600\n",
      "Epoch 94/200\n",
      "18/18 [==============================] - 0s 2ms/step - loss: 0.1268 - accuracy: 0.9550 - val_loss: 0.1140 - val_accuracy: 0.9578\n",
      "Epoch 95/200\n",
      "18/18 [==============================] - 0s 3ms/step - loss: 0.1262 - accuracy: 0.9528 - val_loss: 0.1152 - val_accuracy: 0.9578\n",
      "Epoch 96/200\n",
      "18/18 [==============================] - 0s 2ms/step - loss: 0.1248 - accuracy: 0.9528 - val_loss: 0.1136 - val_accuracy: 0.9578\n",
      "Epoch 97/200\n",
      "18/18 [==============================] - 0s 2ms/step - loss: 0.1234 - accuracy: 0.9550 - val_loss: 0.1140 - val_accuracy: 0.9578\n",
      "Epoch 98/200\n",
      "18/18 [==============================] - 0s 2ms/step - loss: 0.1224 - accuracy: 0.9583 - val_loss: 0.1126 - val_accuracy: 0.9600\n",
      "Epoch 99/200\n",
      "18/18 [==============================] - 0s 2ms/step - loss: 0.1208 - accuracy: 0.9567 - val_loss: 0.1125 - val_accuracy: 0.9578\n",
      "Epoch 100/200\n",
      "18/18 [==============================] - 0s 2ms/step - loss: 0.1198 - accuracy: 0.9572 - val_loss: 0.1097 - val_accuracy: 0.9622\n",
      "Epoch 101/200\n",
      "18/18 [==============================] - 0s 2ms/step - loss: 0.1184 - accuracy: 0.9578 - val_loss: 0.1149 - val_accuracy: 0.9622\n",
      "Epoch 102/200\n",
      "18/18 [==============================] - 0s 3ms/step - loss: 0.1181 - accuracy: 0.9583 - val_loss: 0.1078 - val_accuracy: 0.9622\n",
      "Epoch 103/200\n",
      "18/18 [==============================] - 0s 2ms/step - loss: 0.1170 - accuracy: 0.9561 - val_loss: 0.1086 - val_accuracy: 0.9600\n",
      "Epoch 104/200\n",
      "18/18 [==============================] - 0s 2ms/step - loss: 0.1162 - accuracy: 0.9589 - val_loss: 0.1083 - val_accuracy: 0.9622\n",
      "Epoch 105/200\n",
      "18/18 [==============================] - 0s 2ms/step - loss: 0.1154 - accuracy: 0.9611 - val_loss: 0.1085 - val_accuracy: 0.9600\n",
      "Epoch 106/200\n",
      "18/18 [==============================] - 0s 3ms/step - loss: 0.1148 - accuracy: 0.9611 - val_loss: 0.1068 - val_accuracy: 0.9600\n",
      "Epoch 107/200\n",
      "18/18 [==============================] - 0s 2ms/step - loss: 0.1136 - accuracy: 0.9611 - val_loss: 0.1082 - val_accuracy: 0.9600\n",
      "Epoch 108/200\n",
      "18/18 [==============================] - 0s 2ms/step - loss: 0.1129 - accuracy: 0.9606 - val_loss: 0.1046 - val_accuracy: 0.9600\n",
      "Epoch 109/200\n",
      "18/18 [==============================] - 0s 2ms/step - loss: 0.1128 - accuracy: 0.9617 - val_loss: 0.1071 - val_accuracy: 0.9600\n",
      "Epoch 110/200\n",
      "18/18 [==============================] - 0s 2ms/step - loss: 0.1110 - accuracy: 0.9628 - val_loss: 0.1121 - val_accuracy: 0.9622\n",
      "Epoch 111/200\n",
      "18/18 [==============================] - 0s 2ms/step - loss: 0.1116 - accuracy: 0.9611 - val_loss: 0.1027 - val_accuracy: 0.9644\n",
      "Epoch 112/200\n",
      "18/18 [==============================] - 0s 2ms/step - loss: 0.1107 - accuracy: 0.9622 - val_loss: 0.1018 - val_accuracy: 0.9600\n",
      "Epoch 113/200\n",
      "18/18 [==============================] - 0s 2ms/step - loss: 0.1095 - accuracy: 0.9611 - val_loss: 0.1025 - val_accuracy: 0.9644\n",
      "Epoch 114/200\n",
      "18/18 [==============================] - 0s 2ms/step - loss: 0.1093 - accuracy: 0.9622 - val_loss: 0.1008 - val_accuracy: 0.9622\n",
      "Epoch 115/200\n",
      "18/18 [==============================] - 0s 2ms/step - loss: 0.1089 - accuracy: 0.9622 - val_loss: 0.1011 - val_accuracy: 0.9667\n",
      "Epoch 116/200\n",
      "18/18 [==============================] - 0s 2ms/step - loss: 0.1081 - accuracy: 0.9611 - val_loss: 0.1041 - val_accuracy: 0.9644\n",
      "Epoch 117/200\n",
      "18/18 [==============================] - 0s 2ms/step - loss: 0.1077 - accuracy: 0.9633 - val_loss: 0.1004 - val_accuracy: 0.9644\n",
      "Epoch 118/200\n",
      "18/18 [==============================] - 0s 2ms/step - loss: 0.1067 - accuracy: 0.9633 - val_loss: 0.0998 - val_accuracy: 0.9644\n",
      "Epoch 119/200\n",
      "18/18 [==============================] - 0s 2ms/step - loss: 0.1067 - accuracy: 0.9628 - val_loss: 0.0995 - val_accuracy: 0.9644\n",
      "Epoch 120/200\n",
      "18/18 [==============================] - 0s 2ms/step - loss: 0.1061 - accuracy: 0.9617 - val_loss: 0.0999 - val_accuracy: 0.9667\n",
      "Epoch 121/200\n",
      "18/18 [==============================] - 0s 2ms/step - loss: 0.1056 - accuracy: 0.9606 - val_loss: 0.0990 - val_accuracy: 0.9667\n",
      "Epoch 122/200\n",
      "18/18 [==============================] - 0s 2ms/step - loss: 0.1048 - accuracy: 0.9650 - val_loss: 0.0968 - val_accuracy: 0.9667\n",
      "Epoch 123/200\n",
      "18/18 [==============================] - 0s 2ms/step - loss: 0.1045 - accuracy: 0.9639 - val_loss: 0.0975 - val_accuracy: 0.9689\n",
      "Epoch 124/200\n",
      "18/18 [==============================] - 0s 2ms/step - loss: 0.1043 - accuracy: 0.9622 - val_loss: 0.0973 - val_accuracy: 0.9667\n",
      "Epoch 125/200\n",
      "18/18 [==============================] - 0s 2ms/step - loss: 0.1040 - accuracy: 0.9622 - val_loss: 0.0954 - val_accuracy: 0.9689\n",
      "Epoch 126/200\n",
      "18/18 [==============================] - 0s 2ms/step - loss: 0.1041 - accuracy: 0.9633 - val_loss: 0.0963 - val_accuracy: 0.9667\n",
      "Epoch 127/200\n",
      "18/18 [==============================] - 0s 2ms/step - loss: 0.1032 - accuracy: 0.9644 - val_loss: 0.0948 - val_accuracy: 0.9689\n",
      "Epoch 128/200\n",
      "18/18 [==============================] - 0s 2ms/step - loss: 0.1028 - accuracy: 0.9650 - val_loss: 0.0974 - val_accuracy: 0.9667\n",
      "Epoch 129/200\n",
      "18/18 [==============================] - 0s 2ms/step - loss: 0.1021 - accuracy: 0.9639 - val_loss: 0.0991 - val_accuracy: 0.9622\n",
      "Epoch 130/200\n",
      "18/18 [==============================] - 0s 2ms/step - loss: 0.1018 - accuracy: 0.9622 - val_loss: 0.0944 - val_accuracy: 0.9689\n",
      "Epoch 131/200\n",
      "18/18 [==============================] - 0s 2ms/step - loss: 0.1023 - accuracy: 0.9622 - val_loss: 0.0950 - val_accuracy: 0.9689\n",
      "Epoch 132/200\n",
      "18/18 [==============================] - 0s 2ms/step - loss: 0.1016 - accuracy: 0.9661 - val_loss: 0.0948 - val_accuracy: 0.9689\n",
      "Epoch 133/200\n",
      "18/18 [==============================] - 0s 2ms/step - loss: 0.1008 - accuracy: 0.9628 - val_loss: 0.0983 - val_accuracy: 0.9644\n",
      "Epoch 134/200\n",
      "18/18 [==============================] - 0s 2ms/step - loss: 0.1017 - accuracy: 0.9633 - val_loss: 0.0958 - val_accuracy: 0.9667\n",
      "Epoch 135/200\n",
      "18/18 [==============================] - 0s 2ms/step - loss: 0.1005 - accuracy: 0.9656 - val_loss: 0.0933 - val_accuracy: 0.9711\n",
      "Epoch 136/200\n",
      "18/18 [==============================] - 0s 2ms/step - loss: 0.1010 - accuracy: 0.9650 - val_loss: 0.0947 - val_accuracy: 0.9667\n",
      "Epoch 137/200\n",
      "18/18 [==============================] - 0s 2ms/step - loss: 0.0998 - accuracy: 0.9628 - val_loss: 0.0928 - val_accuracy: 0.9689\n",
      "Epoch 138/200\n",
      "18/18 [==============================] - 0s 2ms/step - loss: 0.1002 - accuracy: 0.9650 - val_loss: 0.0953 - val_accuracy: 0.9667\n",
      "Epoch 139/200\n",
      "18/18 [==============================] - 0s 2ms/step - loss: 0.0998 - accuracy: 0.9639 - val_loss: 0.0926 - val_accuracy: 0.9689\n",
      "Epoch 140/200\n",
      "18/18 [==============================] - 0s 2ms/step - loss: 0.1000 - accuracy: 0.9639 - val_loss: 0.0912 - val_accuracy: 0.9711\n",
      "Epoch 141/200\n",
      "18/18 [==============================] - 0s 2ms/step - loss: 0.0998 - accuracy: 0.9656 - val_loss: 0.0921 - val_accuracy: 0.9711\n",
      "Epoch 142/200\n",
      "18/18 [==============================] - 0s 3ms/step - loss: 0.0992 - accuracy: 0.9639 - val_loss: 0.0908 - val_accuracy: 0.9689\n",
      "Epoch 143/200\n",
      "18/18 [==============================] - 0s 3ms/step - loss: 0.0997 - accuracy: 0.9644 - val_loss: 0.0953 - val_accuracy: 0.9644\n",
      "Epoch 144/200\n",
      "18/18 [==============================] - 0s 2ms/step - loss: 0.0993 - accuracy: 0.9656 - val_loss: 0.0933 - val_accuracy: 0.9689\n",
      "Epoch 145/200\n",
      "18/18 [==============================] - 0s 2ms/step - loss: 0.0989 - accuracy: 0.9644 - val_loss: 0.0912 - val_accuracy: 0.9711\n",
      "Epoch 146/200\n",
      "18/18 [==============================] - 0s 2ms/step - loss: 0.0989 - accuracy: 0.9639 - val_loss: 0.0913 - val_accuracy: 0.9689\n",
      "Epoch 147/200\n",
      "18/18 [==============================] - 0s 2ms/step - loss: 0.0991 - accuracy: 0.9628 - val_loss: 0.0909 - val_accuracy: 0.9689\n",
      "Epoch 148/200\n",
      "18/18 [==============================] - 0s 2ms/step - loss: 0.0981 - accuracy: 0.9644 - val_loss: 0.0935 - val_accuracy: 0.9644\n",
      "Epoch 149/200\n",
      "18/18 [==============================] - 0s 2ms/step - loss: 0.0980 - accuracy: 0.9617 - val_loss: 0.0901 - val_accuracy: 0.9689\n",
      "Epoch 150/200\n",
      "18/18 [==============================] - 0s 2ms/step - loss: 0.0983 - accuracy: 0.9650 - val_loss: 0.0896 - val_accuracy: 0.9711\n",
      "Epoch 151/200\n",
      "18/18 [==============================] - 0s 2ms/step - loss: 0.0979 - accuracy: 0.9644 - val_loss: 0.0925 - val_accuracy: 0.9689\n",
      "Epoch 152/200\n",
      "18/18 [==============================] - 0s 2ms/step - loss: 0.0978 - accuracy: 0.9639 - val_loss: 0.0908 - val_accuracy: 0.9711\n",
      "Epoch 153/200\n",
      "18/18 [==============================] - 0s 2ms/step - loss: 0.0981 - accuracy: 0.9639 - val_loss: 0.0933 - val_accuracy: 0.9667\n",
      "Epoch 154/200\n",
      "18/18 [==============================] - 0s 2ms/step - loss: 0.0979 - accuracy: 0.9644 - val_loss: 0.0904 - val_accuracy: 0.9689\n",
      "Epoch 155/200\n",
      "18/18 [==============================] - 0s 2ms/step - loss: 0.0972 - accuracy: 0.9633 - val_loss: 0.0896 - val_accuracy: 0.9711\n",
      "Epoch 156/200\n",
      "18/18 [==============================] - 0s 2ms/step - loss: 0.0978 - accuracy: 0.9639 - val_loss: 0.0894 - val_accuracy: 0.9689\n",
      "Epoch 157/200\n",
      "18/18 [==============================] - 0s 2ms/step - loss: 0.0972 - accuracy: 0.9644 - val_loss: 0.0887 - val_accuracy: 0.9689\n",
      "Epoch 158/200\n",
      "18/18 [==============================] - 0s 2ms/step - loss: 0.0974 - accuracy: 0.9628 - val_loss: 0.0893 - val_accuracy: 0.9689\n",
      "Epoch 159/200\n",
      "18/18 [==============================] - 0s 3ms/step - loss: 0.0972 - accuracy: 0.9628 - val_loss: 0.0890 - val_accuracy: 0.9689\n",
      "Epoch 160/200\n",
      "18/18 [==============================] - 0s 2ms/step - loss: 0.0963 - accuracy: 0.9628 - val_loss: 0.0937 - val_accuracy: 0.9644\n",
      "Epoch 161/200\n",
      "18/18 [==============================] - 0s 3ms/step - loss: 0.0973 - accuracy: 0.9650 - val_loss: 0.0889 - val_accuracy: 0.9689\n",
      "Epoch 162/200\n",
      "18/18 [==============================] - 0s 3ms/step - loss: 0.0969 - accuracy: 0.9650 - val_loss: 0.0882 - val_accuracy: 0.9689\n",
      "Epoch 163/200\n",
      "18/18 [==============================] - 0s 3ms/step - loss: 0.0972 - accuracy: 0.9650 - val_loss: 0.0903 - val_accuracy: 0.9667\n",
      "Epoch 164/200\n",
      "18/18 [==============================] - 0s 2ms/step - loss: 0.0970 - accuracy: 0.9644 - val_loss: 0.0904 - val_accuracy: 0.9667\n",
      "Epoch 165/200\n",
      "18/18 [==============================] - 0s 3ms/step - loss: 0.0963 - accuracy: 0.9639 - val_loss: 0.0906 - val_accuracy: 0.9689\n",
      "Epoch 166/200\n",
      "18/18 [==============================] - 0s 3ms/step - loss: 0.0968 - accuracy: 0.9633 - val_loss: 0.0901 - val_accuracy: 0.9689\n",
      "Epoch 167/200\n",
      "18/18 [==============================] - 0s 2ms/step - loss: 0.0964 - accuracy: 0.9661 - val_loss: 0.0894 - val_accuracy: 0.9689\n",
      "Epoch 168/200\n",
      "18/18 [==============================] - 0s 3ms/step - loss: 0.0964 - accuracy: 0.9667 - val_loss: 0.0911 - val_accuracy: 0.9667\n",
      "Epoch 169/200\n",
      "18/18 [==============================] - 0s 2ms/step - loss: 0.0967 - accuracy: 0.9650 - val_loss: 0.0888 - val_accuracy: 0.9711\n",
      "Epoch 170/200\n",
      "18/18 [==============================] - 0s 2ms/step - loss: 0.0963 - accuracy: 0.9650 - val_loss: 0.0874 - val_accuracy: 0.9689\n",
      "Epoch 171/200\n",
      "18/18 [==============================] - 0s 3ms/step - loss: 0.0961 - accuracy: 0.9622 - val_loss: 0.0910 - val_accuracy: 0.9667\n",
      "Epoch 172/200\n",
      "18/18 [==============================] - 0s 3ms/step - loss: 0.0961 - accuracy: 0.9656 - val_loss: 0.0884 - val_accuracy: 0.9711\n",
      "Epoch 173/200\n",
      "18/18 [==============================] - 0s 4ms/step - loss: 0.0960 - accuracy: 0.9644 - val_loss: 0.0888 - val_accuracy: 0.9689\n",
      "Epoch 174/200\n",
      "18/18 [==============================] - 0s 4ms/step - loss: 0.0965 - accuracy: 0.9650 - val_loss: 0.0907 - val_accuracy: 0.9667\n",
      "Epoch 175/200\n",
      "18/18 [==============================] - 0s 4ms/step - loss: 0.0959 - accuracy: 0.9667 - val_loss: 0.0876 - val_accuracy: 0.9689\n",
      "Epoch 176/200\n",
      "18/18 [==============================] - 0s 4ms/step - loss: 0.0959 - accuracy: 0.9667 - val_loss: 0.0888 - val_accuracy: 0.9689\n",
      "Epoch 177/200\n",
      "18/18 [==============================] - 0s 3ms/step - loss: 0.0963 - accuracy: 0.9644 - val_loss: 0.0884 - val_accuracy: 0.9689\n",
      "Epoch 178/200\n",
      "18/18 [==============================] - 0s 4ms/step - loss: 0.0959 - accuracy: 0.9633 - val_loss: 0.0895 - val_accuracy: 0.9667\n",
      "Epoch 179/200\n",
      "18/18 [==============================] - 0s 4ms/step - loss: 0.0954 - accuracy: 0.9678 - val_loss: 0.0899 - val_accuracy: 0.9667\n",
      "Epoch 180/200\n",
      "18/18 [==============================] - 0s 3ms/step - loss: 0.0955 - accuracy: 0.9678 - val_loss: 0.0905 - val_accuracy: 0.9667\n",
      "Epoch 181/200\n",
      "18/18 [==============================] - 0s 3ms/step - loss: 0.0957 - accuracy: 0.9656 - val_loss: 0.0880 - val_accuracy: 0.9711\n",
      "Epoch 182/200\n",
      "18/18 [==============================] - 0s 4ms/step - loss: 0.0957 - accuracy: 0.9639 - val_loss: 0.0868 - val_accuracy: 0.9711\n",
      "Epoch 183/200\n",
      "18/18 [==============================] - 0s 4ms/step - loss: 0.0956 - accuracy: 0.9656 - val_loss: 0.0870 - val_accuracy: 0.9711\n",
      "Epoch 184/200\n",
      "18/18 [==============================] - 0s 4ms/step - loss: 0.0953 - accuracy: 0.9667 - val_loss: 0.0874 - val_accuracy: 0.9689\n",
      "Epoch 185/200\n",
      "18/18 [==============================] - 0s 4ms/step - loss: 0.0957 - accuracy: 0.9650 - val_loss: 0.0877 - val_accuracy: 0.9689\n",
      "Epoch 186/200\n",
      "18/18 [==============================] - 0s 3ms/step - loss: 0.0951 - accuracy: 0.9650 - val_loss: 0.0887 - val_accuracy: 0.9667\n",
      "Epoch 187/200\n",
      "18/18 [==============================] - 0s 7ms/step - loss: 0.0953 - accuracy: 0.9656 - val_loss: 0.0872 - val_accuracy: 0.9711\n",
      "Epoch 188/200\n",
      "18/18 [==============================] - 0s 3ms/step - loss: 0.0955 - accuracy: 0.9650 - val_loss: 0.0863 - val_accuracy: 0.9689\n",
      "Epoch 189/200\n",
      "18/18 [==============================] - 0s 3ms/step - loss: 0.0953 - accuracy: 0.9656 - val_loss: 0.0863 - val_accuracy: 0.9711\n",
      "Epoch 190/200\n",
      "18/18 [==============================] - 0s 5ms/step - loss: 0.0944 - accuracy: 0.9683 - val_loss: 0.0862 - val_accuracy: 0.9711\n",
      "Epoch 191/200\n",
      "18/18 [==============================] - 0s 4ms/step - loss: 0.0957 - accuracy: 0.9661 - val_loss: 0.0882 - val_accuracy: 0.9689\n",
      "Epoch 192/200\n",
      "18/18 [==============================] - 0s 4ms/step - loss: 0.0949 - accuracy: 0.9644 - val_loss: 0.0868 - val_accuracy: 0.9711\n",
      "Epoch 193/200\n",
      "18/18 [==============================] - 0s 5ms/step - loss: 0.0953 - accuracy: 0.9650 - val_loss: 0.0895 - val_accuracy: 0.9689\n",
      "Epoch 194/200\n",
      "18/18 [==============================] - 0s 4ms/step - loss: 0.0939 - accuracy: 0.9672 - val_loss: 0.0852 - val_accuracy: 0.9689\n",
      "Epoch 195/200\n",
      "18/18 [==============================] - 0s 3ms/step - loss: 0.0949 - accuracy: 0.9672 - val_loss: 0.0870 - val_accuracy: 0.9667\n",
      "Epoch 196/200\n",
      "18/18 [==============================] - 0s 4ms/step - loss: 0.0951 - accuracy: 0.9661 - val_loss: 0.0854 - val_accuracy: 0.9711\n",
      "Epoch 197/200\n",
      "18/18 [==============================] - 0s 4ms/step - loss: 0.0952 - accuracy: 0.9667 - val_loss: 0.0868 - val_accuracy: 0.9667\n",
      "Epoch 198/200\n",
      "18/18 [==============================] - 0s 3ms/step - loss: 0.0954 - accuracy: 0.9656 - val_loss: 0.0867 - val_accuracy: 0.9667\n",
      "Epoch 199/200\n",
      "18/18 [==============================] - 0s 3ms/step - loss: 0.0947 - accuracy: 0.9672 - val_loss: 0.0888 - val_accuracy: 0.9689\n",
      "Epoch 200/200\n",
      "18/18 [==============================] - 0s 4ms/step - loss: 0.0946 - accuracy: 0.9678 - val_loss: 0.0858 - val_accuracy: 0.9689\n"
     ]
    },
    {
     "data": {
      "text/plain": [
       "<keras.callbacks.History at 0x2a30acec940>"
      ]
     },
     "execution_count": 347,
     "metadata": {},
     "output_type": "execute_result"
    }
   ],
   "source": [
    "model.fit(X_train,y_train,epochs=200,batch_size=100,validation_split=0.2)"
   ]
  },
  {
   "cell_type": "code",
   "execution_count": 142,
   "id": "ec0e59b9-9f3a-4d82-9557-880ef69b210c",
   "metadata": {},
   "outputs": [
    {
     "name": "stdout",
     "output_type": "stream",
     "text": [
      "Model: \"sequential\"\n",
      "_________________________________________________________________\n",
      " Layer (type)                Output Shape              Param #   \n",
      "=================================================================\n",
      " dense (Dense)               (None, 16)                48        \n",
      "                                                                 \n",
      " dense_1 (Dense)             (None, 16)                272       \n",
      "                                                                 \n",
      " dense_2 (Dense)             (None, 1)                 17        \n",
      "                                                                 \n",
      "=================================================================\n",
      "Total params: 337\n",
      "Trainable params: 337\n",
      "Non-trainable params: 0\n",
      "_________________________________________________________________\n"
     ]
    }
   ],
   "source": [
    "model.f"
   ]
  },
  {
   "cell_type": "code",
   "execution_count": null,
   "id": "e8d82786-fe1e-4fef-8a59-848a2d0e3ea6",
   "metadata": {},
   "outputs": [],
   "source": []
  }
 ],
 "metadata": {
  "kernelspec": {
   "display_name": "Python 3 (ipykernel)",
   "language": "python",
   "name": "python3"
  },
  "language_info": {
   "codemirror_mode": {
    "name": "ipython",
    "version": 3
   },
   "file_extension": ".py",
   "mimetype": "text/x-python",
   "name": "python",
   "nbconvert_exporter": "python",
   "pygments_lexer": "ipython3",
   "version": "3.9.7"
  }
 },
 "nbformat": 4,
 "nbformat_minor": 5
}
