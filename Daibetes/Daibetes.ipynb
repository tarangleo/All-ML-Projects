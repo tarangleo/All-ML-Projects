{
 "cells": [
  {
   "cell_type": "code",
   "execution_count": 81,
   "id": "66fdd272-9acc-4ea6-b158-90d98bb1b31f",
   "metadata": {},
   "outputs": [],
   "source": [
    "import numpy as np\n",
    "import matplotlib.pyplot as plt\n",
    "import pandas as pd"
   ]
  },
  {
   "cell_type": "code",
   "execution_count": 82,
   "id": "c2fc73bb-6efe-4b65-84ef-1f57be81fb8c",
   "metadata": {},
   "outputs": [],
   "source": [
    "X=pd.read_csv(\"./Diabetes_XTrain.csv\")"
   ]
  },
  {
   "cell_type": "code",
   "execution_count": 83,
   "id": "20f0da3f-f50b-4bb9-9dc6-50d8ea4b1b6c",
   "metadata": {},
   "outputs": [],
   "source": [
    "y=pd.read_csv(\"./Diabetes_YTrain.csv\")\n",
    "\n"
   ]
  },
  {
   "cell_type": "code",
   "execution_count": 84,
   "id": "81282b92-5ae3-459e-8cee-1a4a94ac69b5",
   "metadata": {},
   "outputs": [],
   "source": [
    "a=X.mean()"
   ]
  },
  {
   "cell_type": "code",
   "execution_count": 85,
   "id": "e4d29cdb-db4c-4762-899a-03ae403df61e",
   "metadata": {},
   "outputs": [
    {
     "data": {
      "text/plain": [
       "Pregnancies                   3.758681\n",
       "Glucose                     119.975694\n",
       "BloodPressure                68.826389\n",
       "SkinThickness                20.364583\n",
       "Insulin                      76.166667\n",
       "BMI                          31.857292\n",
       "DiabetesPedigreeFunction      0.481519\n",
       "Age                          32.954861\n",
       "dtype: float64"
      ]
     },
     "execution_count": 85,
     "metadata": {},
     "output_type": "execute_result"
    }
   ],
   "source": [
    "a"
   ]
  },
  {
   "cell_type": "code",
   "execution_count": 86,
   "id": "5aa45944-f5d2-4b56-9111-c80f95697945",
   "metadata": {},
   "outputs": [],
   "source": [
    "for name1, values in X.iteritems():\n",
    "    \n",
    "    for i,j in enumerate(values):\n",
    "        \n",
    "        if j==0:\n",
    "            X.at[i,name1]=a[name1]"
   ]
  },
  {
   "cell_type": "code",
   "execution_count": 87,
   "id": "bbffcd03-3621-45e6-8cfc-5f4967fe0588",
   "metadata": {},
   "outputs": [
    {
     "data": {
      "text/html": [
       "<div>\n",
       "<style scoped>\n",
       "    .dataframe tbody tr th:only-of-type {\n",
       "        vertical-align: middle;\n",
       "    }\n",
       "\n",
       "    .dataframe tbody tr th {\n",
       "        vertical-align: top;\n",
       "    }\n",
       "\n",
       "    .dataframe thead th {\n",
       "        text-align: right;\n",
       "    }\n",
       "</style>\n",
       "<table border=\"1\" class=\"dataframe\">\n",
       "  <thead>\n",
       "    <tr style=\"text-align: right;\">\n",
       "      <th></th>\n",
       "      <th>Pregnancies</th>\n",
       "      <th>Glucose</th>\n",
       "      <th>BloodPressure</th>\n",
       "      <th>SkinThickness</th>\n",
       "      <th>Insulin</th>\n",
       "      <th>BMI</th>\n",
       "      <th>DiabetesPedigreeFunction</th>\n",
       "      <th>Age</th>\n",
       "    </tr>\n",
       "  </thead>\n",
       "  <tbody>\n",
       "    <tr>\n",
       "      <th>0</th>\n",
       "      <td>7</td>\n",
       "      <td>168</td>\n",
       "      <td>88</td>\n",
       "      <td>42</td>\n",
       "      <td>321</td>\n",
       "      <td>38.2</td>\n",
       "      <td>0.787</td>\n",
       "      <td>40</td>\n",
       "    </tr>\n",
       "    <tr>\n",
       "      <th>1</th>\n",
       "      <td>8</td>\n",
       "      <td>110</td>\n",
       "      <td>76</td>\n",
       "      <td>20</td>\n",
       "      <td>76</td>\n",
       "      <td>27.8</td>\n",
       "      <td>0.237</td>\n",
       "      <td>58</td>\n",
       "    </tr>\n",
       "    <tr>\n",
       "      <th>2</th>\n",
       "      <td>7</td>\n",
       "      <td>147</td>\n",
       "      <td>76</td>\n",
       "      <td>20</td>\n",
       "      <td>76</td>\n",
       "      <td>39.4</td>\n",
       "      <td>0.257</td>\n",
       "      <td>43</td>\n",
       "    </tr>\n",
       "    <tr>\n",
       "      <th>3</th>\n",
       "      <td>2</td>\n",
       "      <td>100</td>\n",
       "      <td>66</td>\n",
       "      <td>20</td>\n",
       "      <td>90</td>\n",
       "      <td>32.9</td>\n",
       "      <td>0.867</td>\n",
       "      <td>28</td>\n",
       "    </tr>\n",
       "    <tr>\n",
       "      <th>4</th>\n",
       "      <td>4</td>\n",
       "      <td>129</td>\n",
       "      <td>86</td>\n",
       "      <td>20</td>\n",
       "      <td>270</td>\n",
       "      <td>35.1</td>\n",
       "      <td>0.231</td>\n",
       "      <td>23</td>\n",
       "    </tr>\n",
       "  </tbody>\n",
       "</table>\n",
       "</div>"
      ],
      "text/plain": [
       "   Pregnancies  Glucose  BloodPressure  SkinThickness  Insulin   BMI  \\\n",
       "0            7      168             88             42      321  38.2   \n",
       "1            8      110             76             20       76  27.8   \n",
       "2            7      147             76             20       76  39.4   \n",
       "3            2      100             66             20       90  32.9   \n",
       "4            4      129             86             20      270  35.1   \n",
       "\n",
       "   DiabetesPedigreeFunction  Age  \n",
       "0                     0.787   40  \n",
       "1                     0.237   58  \n",
       "2                     0.257   43  \n",
       "3                     0.867   28  \n",
       "4                     0.231   23  "
      ]
     },
     "execution_count": 87,
     "metadata": {},
     "output_type": "execute_result"
    }
   ],
   "source": [
    "X.head()"
   ]
  },
  {
   "cell_type": "code",
   "execution_count": 88,
   "id": "2361a6cd-08ed-4e45-b554-968b21e46d80",
   "metadata": {},
   "outputs": [],
   "source": [
    "X_train,y_train=X.values,y.values"
   ]
  },
  {
   "cell_type": "code",
   "execution_count": 89,
   "id": "54132cf5-5a68-4a91-bd08-f92cbcd154e0",
   "metadata": {},
   "outputs": [
    {
     "data": {
      "text/plain": [
       "array([[  7.   , 168.   ,  88.   , ...,  38.2  ,   0.787,  40.   ],\n",
       "       [  8.   , 110.   ,  76.   , ...,  27.8  ,   0.237,  58.   ],\n",
       "       [  7.   , 147.   ,  76.   , ...,  39.4  ,   0.257,  43.   ],\n",
       "       ...,\n",
       "       [  2.   , 122.   ,  60.   , ...,  29.8  ,   0.717,  22.   ],\n",
       "       [  4.   , 154.   ,  72.   , ...,  31.3  ,   0.338,  37.   ],\n",
       "       [  1.   ,  88.   ,  78.   , ...,  32.   ,   0.365,  29.   ]])"
      ]
     },
     "execution_count": 89,
     "metadata": {},
     "output_type": "execute_result"
    }
   ],
   "source": [
    "X_train"
   ]
  },
  {
   "cell_type": "code",
   "execution_count": null,
   "id": "4a3ac03f-9dd2-4720-bbf7-79e2a7ad8763",
   "metadata": {},
   "outputs": [],
   "source": []
  },
  {
   "cell_type": "code",
   "execution_count": null,
   "id": "565acb75-1ff3-465c-83f5-b9d5ebfb4749",
   "metadata": {},
   "outputs": [],
   "source": []
  },
  {
   "cell_type": "code",
   "execution_count": null,
   "id": "6f053074-7d96-4558-8ff2-c3ebf4128b57",
   "metadata": {},
   "outputs": [],
   "source": []
  },
  {
   "cell_type": "code",
   "execution_count": null,
   "id": "a74c8971-939a-48ad-bcf8-79f3dabd98bb",
   "metadata": {},
   "outputs": [],
   "source": []
  },
  {
   "cell_type": "code",
   "execution_count": null,
   "id": "320bc425-ed3b-40b1-bb8b-279856dba772",
   "metadata": {},
   "outputs": [],
   "source": []
  },
  {
   "cell_type": "code",
   "execution_count": null,
   "id": "eadb11d1-ab5c-4ce0-be9d-6be14cc21349",
   "metadata": {},
   "outputs": [],
   "source": []
  },
  {
   "cell_type": "code",
   "execution_count": 90,
   "id": "c596cb55-40b1-474b-bc9c-32cbddd64941",
   "metadata": {},
   "outputs": [
    {
     "data": {
      "text/plain": [
       "<matplotlib.collections.PathCollection at 0x1e70f52b160>"
      ]
     },
     "execution_count": 90,
     "metadata": {},
     "output_type": "execute_result"
    },
    {
     "data": {
      "image/png": "[encoded data removed]",
      "text/plain": [
       "<Figure size 432x288 with 1 Axes>"
      ]
     },
     "metadata": {
      "needs_background": "light"
     },
     "output_type": "display_data"
    }
   ],
   "source": [
    "plt.scatter(X_train[:,4],X_train[:,1],c=y_train,alpha=0.5)\n"
   ]
  },
  {
   "cell_type": "code",
   "execution_count": 91,
   "id": "c6d0e996-f610-4bda-81a7-7c2515ef0d6f",
   "metadata": {},
   "outputs": [],
   "source": [
    "def dist(p1,p2):\n",
    "    return (((p1[1]-p2[1])**2+(p1[6]-p2[6])**2)**0.5 +((p1[4]-p2[4])**2+(p1[6]-p2[6])**2)**0.5)/2"
   ]
  },
  {
   "cell_type": "code",
   "execution_count": 92,
   "id": "9dca73c5-7028-435b-92a5-6fa54c1d394d",
   "metadata": {},
   "outputs": [
    {
     "data": {
      "text/plain": [
       "73.50016763236633"
      ]
     },
     "execution_count": 92,
     "metadata": {},
     "output_type": "execute_result"
    }
   ],
   "source": [
    "dist(X_train[8],X_train[9])"
   ]
  },
  {
   "cell_type": "code",
   "execution_count": 119,
   "id": "d9c91bf3-f1dc-4e4e-ad45-8b4cf316d2ff",
   "metadata": {},
   "outputs": [],
   "source": [
    "class kn:\n",
    "    def __init__(self,k=5):\n",
    "        self.k=k\n",
    "    def fit(self,x,y):\n",
    "        self.x=x\n",
    "        self.y=y\n",
    "    def dist(self,p1,p2):\n",
    "        return np.linalg.norm(p1-p2)\n",
    "        #return ((p1[7]-p2[7])**2+(p1[2]-p2[2])**2+(p1[6]-p2[6])**2+(p1[5]-p2[5])**2+(p1[4]-p2[4])**2+(p1[1]-p2[1])**2)**0.5\n",
    "        #return ((p1[6]-p2[6])**2+(p1[1]-p2[1])**2)**0.5\n",
    "    def predict(self,p):\n",
    "        dists=[]\n",
    "        \n",
    "        for i in range(len(self.x)):\n",
    "            dists.append((self.dist(self.x[i],p),i))\n",
    "        dists=sorted(dists,key=lambda a:a[0])\n",
    "        points=dists[:self.k]\n",
    "        \n",
    "        classes=[]\n",
    "        \n",
    "        for dist,i in points:\n",
    "            classes.append(self.y[i])\n",
    "        dic,counts = np.unique(classes,return_counts=True)\n",
    "        fin = np.argmax(counts)\n",
    "        return dic[fin]"
   ]
  },
  {
   "cell_type": "code",
   "execution_count": 120,
   "id": "d206dabd-a751-46a8-9df1-d1c15f414090",
   "metadata": {},
   "outputs": [],
   "source": [
    "kn_model=kn(6)"
   ]
  },
  {
   "cell_type": "code",
   "execution_count": 121,
   "id": "2441ac47-3058-45ae-9eab-d8b46ab8bb09",
   "metadata": {},
   "outputs": [],
   "source": [
    "kn_model.fit(X_train,y_train)"
   ]
  },
  {
   "cell_type": "code",
   "execution_count": 122,
   "id": "ca840da1-930f-4b71-b980-63b73f54fb9f",
   "metadata": {},
   "outputs": [
    {
     "data": {
      "text/plain": [
       "1"
      ]
     },
     "execution_count": 122,
     "metadata": {},
     "output_type": "execute_result"
    }
   ],
   "source": [
    "kn_model.predict(X_train[8])"
   ]
  },
  {
   "cell_type": "code",
   "execution_count": 123,
   "id": "ddcd9a72-6a9d-465e-af93-1f2d6914744d",
   "metadata": {},
   "outputs": [],
   "source": [
    "X_test=pd.read_csv(\"./Diabetes_Xtest.csv\")"
   ]
  },
  {
   "cell_type": "code",
   "execution_count": 124,
   "id": "4ad45d10-55a6-430a-b929-2784695c52a9",
   "metadata": {},
   "outputs": [],
   "source": [
    "xtest=X_test.values"
   ]
  },
  {
   "cell_type": "code",
   "execution_count": 125,
   "id": "4f6a4130-ffd5-4db2-b222-564ac5a89936",
   "metadata": {},
   "outputs": [],
   "source": [
    "predictions=[]\n",
    "for i in range(len(xtest)):\n",
    "    predictions.append(kn_model.predict(xtest[i]))\n"
   ]
  },
  {
   "cell_type": "code",
   "execution_count": null,
   "id": "680fe1c4-25b7-4b92-8828-366faaca8d1c",
   "metadata": {},
   "outputs": [],
   "source": []
  },
  {
   "cell_type": "code",
   "execution_count": 126,
   "id": "ff075b22-ca43-4477-9731-f1deeaf56e15",
   "metadata": {},
   "outputs": [
    {
     "name": "stderr",
     "output_type": "stream",
     "text": [
      "C:\\Users\\taran\\AppData\\Local\\Temp/ipykernel_41536/2562894583.py:1: DeprecationWarning: elementwise comparison failed; this will raise an error in the future.\n",
      "  np.mean(np.array(predictions)==y_train.reshape(-1))\n"
     ]
    },
    {
     "data": {
      "text/plain": [
       "0.0"
      ]
     },
     "execution_count": 126,
     "metadata": {},
     "output_type": "execute_result"
    }
   ],
   "source": [
    "np.mean(np.array(predictions)==y_train.reshape(-1))"
   ]
  },
  {
   "cell_type": "code",
   "execution_count": null,
   "id": "3a445d39-ea23-4f37-a8e4-2f059d86db57",
   "metadata": {},
   "outputs": [],
   "source": []
  },
  {
   "cell_type": "markdown",
   "id": "14a0a25c-55ee-445a-befd-b92bd5232267",
   "metadata": {},
   "source": [
    "from sklearn.neighbors import KNeighborsRegressor\n",
    "knn_model = KNeighborsRegressor(n_neighbors=7)"
   ]
  },
  {
   "cell_type": "markdown",
   "id": "62544da1-b078-4fd3-a603-d4d8d6136819",
   "metadata": {},
   "source": [
    "knn_model.fit(X_train, y_train)"
   ]
  },
  {
   "cell_type": "markdown",
   "id": "023b707d-a9f1-4e3f-ade7-401c57cc98ca",
   "metadata": {},
   "source": [
    "predictions = knn_model.predict(xtest)"
   ]
  },
  {
   "cell_type": "markdown",
   "id": "28370a78-2cc1-43d7-afd8-39134163d5da",
   "metadata": {},
   "source": [
    "predictions.shape"
   ]
  },
  {
   "cell_type": "markdown",
   "id": "6b42de11-f951-4a92-8efb-77a76836b5f3",
   "metadata": {},
   "source": [
    "predictions=np.around(predictions)"
   ]
  },
  {
   "cell_type": "code",
   "execution_count": null,
   "id": "12a0177d-6e35-44f4-9f14-c9f98b45aaf4",
   "metadata": {},
   "outputs": [],
   "source": []
  },
  {
   "cell_type": "markdown",
   "id": "1696d679-0585-4a59-8240-ae3e0f67ad16",
   "metadata": {},
   "source": [
    "predictions=predictions.reshape(-1)"
   ]
  },
  {
   "cell_type": "markdown",
   "id": "b2dce9d6-4beb-4177-8311-0822a786b16d",
   "metadata": {},
   "source": [
    "predictions=predictions.astype(int)"
   ]
  },
  {
   "cell_type": "code",
   "execution_count": 127,
   "id": "39781698-6dd8-4100-b2bd-6163549ee363",
   "metadata": {},
   "outputs": [
    {
     "data": {
      "text/plain": [
       "[1,\n",
       " 0,\n",
       " 0,\n",
       " 0,\n",
       " 0,\n",
       " 0,\n",
       " 1,\n",
       " 0,\n",
       " 0,\n",
       " 0,\n",
       " 0,\n",
       " 0,\n",
       " 1,\n",
       " 0,\n",
       " 0,\n",
       " 0,\n",
       " 0,\n",
       " 0,\n",
       " 1,\n",
       " 1,\n",
       " 0,\n",
       " 0,\n",
       " 0,\n",
       " 0,\n",
       " 0,\n",
       " 0,\n",
       " 0,\n",
       " 0,\n",
       " 0,\n",
       " 0,\n",
       " 0,\n",
       " 0,\n",
       " 0,\n",
       " 0,\n",
       " 0,\n",
       " 0,\n",
       " 0,\n",
       " 1,\n",
       " 1,\n",
       " 0,\n",
       " 1,\n",
       " 0,\n",
       " 0,\n",
       " 0,\n",
       " 1,\n",
       " 0,\n",
       " 0,\n",
       " 1,\n",
       " 0,\n",
       " 1,\n",
       " 0,\n",
       " 1,\n",
       " 0,\n",
       " 0,\n",
       " 0,\n",
       " 0,\n",
       " 0,\n",
       " 0,\n",
       " 0,\n",
       " 0,\n",
       " 0,\n",
       " 0,\n",
       " 0,\n",
       " 0,\n",
       " 1,\n",
       " 0,\n",
       " 0,\n",
       " 0,\n",
       " 0,\n",
       " 0,\n",
       " 0,\n",
       " 0,\n",
       " 0,\n",
       " 0,\n",
       " 0,\n",
       " 0,\n",
       " 0,\n",
       " 0,\n",
       " 0,\n",
       " 0,\n",
       " 0,\n",
       " 0,\n",
       " 0,\n",
       " 0,\n",
       " 0,\n",
       " 0,\n",
       " 1,\n",
       " 0,\n",
       " 0,\n",
       " 0,\n",
       " 1,\n",
       " 1,\n",
       " 0,\n",
       " 0,\n",
       " 0,\n",
       " 1,\n",
       " 0,\n",
       " 0,\n",
       " 0,\n",
       " 0,\n",
       " 0,\n",
       " 0,\n",
       " 0,\n",
       " 0,\n",
       " 0,\n",
       " 0,\n",
       " 0,\n",
       " 0,\n",
       " 0,\n",
       " 0,\n",
       " 0,\n",
       " 0,\n",
       " 0,\n",
       " 0,\n",
       " 0,\n",
       " 0,\n",
       " 0,\n",
       " 0,\n",
       " 0,\n",
       " 0,\n",
       " 0,\n",
       " 0,\n",
       " 0,\n",
       " 0,\n",
       " 0,\n",
       " 1,\n",
       " 0,\n",
       " 0,\n",
       " 1,\n",
       " 0,\n",
       " 0,\n",
       " 0,\n",
       " 0,\n",
       " 1,\n",
       " 0,\n",
       " 0,\n",
       " 0,\n",
       " 1,\n",
       " 1,\n",
       " 0,\n",
       " 0,\n",
       " 0,\n",
       " 1,\n",
       " 1,\n",
       " 1,\n",
       " 0,\n",
       " 0,\n",
       " 0,\n",
       " 0,\n",
       " 0,\n",
       " 0,\n",
       " 0,\n",
       " 1,\n",
       " 0,\n",
       " 0,\n",
       " 0,\n",
       " 0,\n",
       " 0,\n",
       " 0,\n",
       " 0,\n",
       " 0,\n",
       " 0,\n",
       " 0,\n",
       " 0,\n",
       " 0,\n",
       " 0,\n",
       " 0,\n",
       " 0,\n",
       " 0,\n",
       " 0,\n",
       " 0,\n",
       " 0,\n",
       " 0,\n",
       " 0,\n",
       " 0,\n",
       " 0,\n",
       " 0,\n",
       " 0,\n",
       " 1,\n",
       " 1,\n",
       " 0,\n",
       " 0,\n",
       " 0,\n",
       " 1,\n",
       " 0,\n",
       " 0,\n",
       " 0,\n",
       " 0,\n",
       " 0,\n",
       " 0,\n",
       " 0,\n",
       " 0]"
      ]
     },
     "execution_count": 127,
     "metadata": {},
     "output_type": "execute_result"
    }
   ],
   "source": [
    "predictions"
   ]
  },
  {
   "cell_type": "code",
   "execution_count": null,
   "id": "7528c47e-4366-448c-8b88-fdd64c6c7f30",
   "metadata": {},
   "outputs": [],
   "source": []
  },
  {
   "cell_type": "code",
   "execution_count": 128,
   "id": "4cce1838-0138-4f33-b535-80ce02c25234",
   "metadata": {},
   "outputs": [],
   "source": [
    "d={\n",
    "    \"Outcome\":predictions\n",
    "\n",
    "}"
   ]
  },
  {
   "cell_type": "code",
   "execution_count": 129,
   "id": "9cdd232e-72d0-4a77-af8b-45bb6fa8d091",
   "metadata": {},
   "outputs": [],
   "source": [
    "data=pd.DataFrame(d)"
   ]
  },
  {
   "cell_type": "code",
   "execution_count": 130,
   "id": "815487a6-b5b7-4f02-8b9e-e6b1f7ae2b80",
   "metadata": {},
   "outputs": [
    {
     "data": {
      "text/html": [
       "<div>\n",
       "<style scoped>\n",
       "    .dataframe tbody tr th:only-of-type {\n",
       "        vertical-align: middle;\n",
       "    }\n",
       "\n",
       "    .dataframe tbody tr th {\n",
       "        vertical-align: top;\n",
       "    }\n",
       "\n",
       "    .dataframe thead th {\n",
       "        text-align: right;\n",
       "    }\n",
       "</style>\n",
       "<table border=\"1\" class=\"dataframe\">\n",
       "  <thead>\n",
       "    <tr style=\"text-align: right;\">\n",
       "      <th></th>\n",
       "      <th>Outcome</th>\n",
       "    </tr>\n",
       "  </thead>\n",
       "  <tbody>\n",
       "    <tr>\n",
       "      <th>0</th>\n",
       "      <td>1</td>\n",
       "    </tr>\n",
       "    <tr>\n",
       "      <th>1</th>\n",
       "      <td>0</td>\n",
       "    </tr>\n",
       "    <tr>\n",
       "      <th>2</th>\n",
       "      <td>0</td>\n",
       "    </tr>\n",
       "    <tr>\n",
       "      <th>3</th>\n",
       "      <td>0</td>\n",
       "    </tr>\n",
       "    <tr>\n",
       "      <th>4</th>\n",
       "      <td>0</td>\n",
       "    </tr>\n",
       "  </tbody>\n",
       "</table>\n",
       "</div>"
      ],
      "text/plain": [
       "   Outcome\n",
       "0        1\n",
       "1        0\n",
       "2        0\n",
       "3        0\n",
       "4        0"
      ]
     },
     "execution_count": 130,
     "metadata": {},
     "output_type": "execute_result"
    }
   ],
   "source": [
    "data.head()"
   ]
  },
  {
   "cell_type": "code",
   "execution_count": 131,
   "id": "d5e3e865-4814-4326-a478-0b950b94bbc5",
   "metadata": {},
   "outputs": [],
   "source": [
    "data.to_csv(\"daibetes.csv\",index=False)"
   ]
  },
  {
   "cell_type": "code",
   "execution_count": null,
   "id": "f0ddcca8-7355-4f8c-a948-24b216481a27",
   "metadata": {},
   "outputs": [],
   "source": []
  },
  {
   "cell_type": "code",
   "execution_count": null,
   "id": "0b2bd429-186c-4c4e-acaf-b1af9b59c769",
   "metadata": {},
   "outputs": [],
   "source": []
  },
  {
   "cell_type": "code",
   "execution_count": 146,
   "id": "b10c50a5-f319-42c8-8c2b-4451c7cb0d46",
   "metadata": {},
   "outputs": [],
   "source": []
  },
  {
   "cell_type": "code",
   "execution_count": null,
   "id": "76fdc2ec-d7ed-4740-bf9a-3abf5efb2743",
   "metadata": {},
   "outputs": [],
   "source": []
  }
 ],
 "metadata": {
  "kernelspec": {
   "display_name": "Python 3 (ipykernel)",
   "language": "python",
   "name": "python3"
  },
  "language_info": {
   "codemirror_mode": {
    "name": "ipython",
    "version": 3
   },
   "file_extension": ".py",
   "mimetype": "text/x-python",
   "name": "python",
   "nbconvert_exporter": "python",
   "pygments_lexer": "ipython3",
   "version": "3.9.7"
  }
 },
 "nbformat": 4,
 "nbformat_minor": 5
}
