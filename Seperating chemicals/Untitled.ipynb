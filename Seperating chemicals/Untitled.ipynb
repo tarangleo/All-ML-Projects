{
 "cells": [
  {
   "cell_type": "code",
   "execution_count": 28,
   "id": "61203365-821c-49c2-b2c9-66a4152fe2b3",
   "metadata": {},
   "outputs": [],
   "source": [
    "import numpy as np\n",
    "import pandas as pd\n",
    "import matplotlib.pyplot as plt"
   ]
  },
  {
   "cell_type": "markdown",
   "id": "c8bbd66f-1eb8-4f71-a921-a69a22616a05",
   "metadata": {},
   "source": [
    "## Data extraction"
   ]
  },
  {
   "cell_type": "code",
   "execution_count": 4,
   "id": "ca33887e-8b0b-4c74-8a68-7e07bf9690bc",
   "metadata": {},
   "outputs": [],
   "source": [
    "X_train=pd.read_csv(\"Training Data/Logistic_X_Train.csv\").values\n",
    "Y_train=pd.read_csv(\"Training Data/Logistic_Y_Train.csv\").values\n",
    "X_test=pd.read_csv(\"Test Cases/Logistic_X_Test.csv\").values\n"
   ]
  },
  {
   "cell_type": "markdown",
   "id": "2b817a6c-089a-4d4c-95a8-54b25dc85acb",
   "metadata": {},
   "source": [
    "## Normalization"
   ]
  },
  {
   "cell_type": "code",
   "execution_count": 5,
   "id": "9c8f7e92-6ac2-4c6d-9829-42d587b6e75a",
   "metadata": {},
   "outputs": [],
   "source": [
    "X_train=(X_train-X_train.mean())/X_train.std()"
   ]
  },
  {
   "cell_type": "code",
   "execution_count": 6,
   "id": "868956ec-22e5-4cbc-9eac-f5c59500c8c1",
   "metadata": {},
   "outputs": [],
   "source": [
    "X_test=(X_test-X_test.mean())/X_test.std()"
   ]
  },
  {
   "cell_type": "markdown",
   "id": "4613015e-c44a-4633-9050-4a786f2a2b70",
   "metadata": {},
   "source": [
    "## Adding one's vector as first feature "
   ]
  },
  {
   "cell_type": "code",
   "execution_count": 61,
   "id": "547005f8-9b54-4586-84a8-5011aa941c4d",
   "metadata": {},
   "outputs": [],
   "source": [
    "X_train=np.concatenate((np.ones((X_train.shape[0],1)),X_train),axis=1)"
   ]
  },
  {
   "cell_type": "code",
   "execution_count": 62,
   "id": "5c4ca820-3441-4302-abef-e1e10df7539d",
   "metadata": {},
   "outputs": [],
   "source": [
    "X_test=np.concatenate((np.ones((X_test.shape[0],1)),X_test),axis=1)"
   ]
  },
  {
   "cell_type": "markdown",
   "id": "a92e306e-d808-43a5-8db1-212dc9341c66",
   "metadata": {},
   "source": [
    "## Model Building"
   ]
  },
  {
   "cell_type": "code",
   "execution_count": 52,
   "id": "0c7ed1ca-8514-48f5-b6ba-7b0af241a2dc",
   "metadata": {},
   "outputs": [],
   "source": [
    "def sigmoid(X_theta):\n",
    "    return 1/(1+np.exp(-X_theta))\n",
    "def hypothesis(X,theta):\n",
    "    return sigmoid(np.dot(X,theta))\n",
    "def error(X,Y,theta):\n",
    "    return -1*(np.mean((Y)*(np.log(hypothesis(X,theta)))+(1-Y)*(np.log(1-hypothesis(X,theta)))))\n",
    "def gradient(X,Y,theta):\n",
    "    return -np.dot(X.T,(Y-hypothesis(X,theta)))/X.shape[0]\n",
    "def gradient_descent(X,Y,lr=0.2,max_iter=400):\n",
    "    theta=np.zeros((X.shape[1],1))\n",
    "    error_list=[]\n",
    "    for i in range(max_iter):\n",
    "        error_list.append(error(X,Y,theta))\n",
    "        grad=gradient(X,Y,theta)\n",
    "        theta-=lr*(grad)\n",
    "    return theta,error_list\n",
    "    "
   ]
  },
  {
   "cell_type": "markdown",
   "id": "f338d8df-0e3a-4aaf-9ce4-3e204143bd41",
   "metadata": {},
   "source": [
    "## Model IMplementation"
   ]
  },
  {
   "cell_type": "code",
   "execution_count": 53,
   "id": "49d56e17-b1bc-4870-b9de-fa6b3cc6ccea",
   "metadata": {},
   "outputs": [],
   "source": [
    "theta,error_list=gradient_descent(X_train,Y_train)"
   ]
  },
  {
   "cell_type": "code",
   "execution_count": 54,
   "id": "95e5af27-e400-462c-a33b-acc5fa1058c1",
   "metadata": {},
   "outputs": [
    {
     "name": "stdout",
     "output_type": "stream",
     "text": [
      "[[-2.21754255]\n",
      " [-2.41667391]\n",
      " [ 1.56490129]\n",
      " [-2.47521233]]\n"
     ]
    }
   ],
   "source": [
    "print(theta)"
   ]
  },
  {
   "cell_type": "code",
   "execution_count": 55,
   "id": "d5f01c2e-8a18-4530-92c2-630fcf8924d6",
   "metadata": {},
   "outputs": [],
   "source": [
    "##print(error_list)"
   ]
  },
  {
   "cell_type": "code",
   "execution_count": 56,
   "id": "baa19fe3-c047-4f6a-9bb0-77306b9d16f0",
   "metadata": {},
   "outputs": [
    {
     "data": {
      "text/plain": [
       "[<matplotlib.lines.Line2D at 0x223a41b0b20>]"
      ]
     },
     "execution_count": 56,
     "metadata": {},
     "output_type": "execute_result"
    },
    {
     "data": {
      "image/png": "[encoded data removed]",
      "text/plain": [
       "<Figure size 432x288 with 1 Axes>"
      ]
     },
     "metadata": {
      "needs_background": "light"
     },
     "output_type": "display_data"
    }
   ],
   "source": [
    "plt.plot(error_list)"
   ]
  },
  {
   "cell_type": "code",
   "execution_count": null,
   "id": "48716a05-d4ab-4fa6-b8f0-29f4b2ffddef",
   "metadata": {},
   "outputs": [],
   "source": []
  },
  {
   "cell_type": "markdown",
   "id": "129313ee-7fd2-4782-9abf-c164bd8ff7c0",
   "metadata": {},
   "source": [
    "## Predicting output"
   ]
  },
  {
   "cell_type": "code",
   "execution_count": 72,
   "id": "1497143a-0b4e-4f57-89cc-f67f84aa0837",
   "metadata": {},
   "outputs": [],
   "source": [
    "import time"
   ]
  },
  {
   "cell_type": "code",
   "execution_count": 85,
   "id": "49b74c08-8b06-4625-85e3-8815f79b2d52",
   "metadata": {},
   "outputs": [],
   "source": [
    "def predict(X):\n",
    "    y_=np.zeros((X.shape[0],1))\n",
    "    \n",
    "    begin = time.time()\n",
    "    # for i in range(X.shape[0]):\n",
    "    #     if (hypothesis(X[i],theta)>=0.5):\n",
    "    #         y_[i]=1\n",
    "   \n",
    "    \n",
    "    y_[hypothesis(X,theta)>=0.5]=1\n",
    "    \n",
    "    end = time.time()\n",
    "    print(f\"Total runtime of the program is {end - begin}\")\n",
    "    return y_"
   ]
  },
  {
   "cell_type": "code",
   "execution_count": 95,
   "id": "cf3851bc-ccc9-4a60-a87f-9b9fa09b0f97",
   "metadata": {},
   "outputs": [
    {
     "name": "stdout",
     "output_type": "stream",
     "text": [
      "Total runtime of the program is 0.0\n"
     ]
    }
   ],
   "source": [
    "y_=predict(X_test)"
   ]
  },
  {
   "cell_type": "code",
   "execution_count": 96,
   "id": "306581b7-8dc7-41d2-9f35-22e7e5a8a4e1",
   "metadata": {},
   "outputs": [],
   "source": [
    "y_=y_.astype('int')"
   ]
  },
  {
   "cell_type": "code",
   "execution_count": 97,
   "id": "31c8a429-c252-4f30-9564-56e36b4f95f5",
   "metadata": {},
   "outputs": [],
   "source": [
    "y_=pd.DataFrame(y_,columns=[\"label\"])"
   ]
  },
  {
   "cell_type": "code",
   "execution_count": 98,
   "id": "2b9998d2-66ae-456b-8f60-fd0a730e2411",
   "metadata": {},
   "outputs": [],
   "source": [
    "y_.to_csv(\"submit_1.csv\",index=False)"
   ]
  },
  {
   "cell_type": "code",
   "execution_count": null,
   "id": "0a0645b8-0f9c-4991-a00e-4246023f8634",
   "metadata": {},
   "outputs": [],
   "source": []
  },
  {
   "cell_type": "code",
   "execution_count": null,
   "id": "915e14ee-bd83-4c4a-b503-11cd81ca1c13",
   "metadata": {},
   "outputs": [],
   "source": []
  },
  {
   "cell_type": "code",
   "execution_count": null,
   "id": "04ffeeef-3ff3-4a71-9254-378fb940e088",
   "metadata": {},
   "outputs": [],
   "source": []
  },
  {
   "cell_type": "code",
   "execution_count": null,
   "id": "4af0baa1-fda9-43f6-a0b5-35fed33eaafa",
   "metadata": {},
   "outputs": [],
   "source": []
  },
  {
   "cell_type": "code",
   "execution_count": null,
   "id": "45fc382f-2265-4f11-8e85-dc9a84ee1dc9",
   "metadata": {},
   "outputs": [],
   "source": []
  },
  {
   "cell_type": "code",
   "execution_count": null,
   "id": "cf7fcca1-a13b-4702-9c79-1c7e96f05d08",
   "metadata": {},
   "outputs": [],
   "source": []
  },
  {
   "cell_type": "code",
   "execution_count": null,
   "id": "b751dbb5-f3fb-43bb-ba3f-abe571ca4daf",
   "metadata": {},
   "outputs": [],
   "source": []
  }
 ],
 "metadata": {
  "kernelspec": {
   "display_name": "Python 3 (ipykernel)",
   "language": "python",
   "name": "python3"
  },
  "language_info": {
   "codemirror_mode": {
    "name": "ipython",
    "version": 3
   },
   "file_extension": ".py",
   "mimetype": "text/x-python",
   "name": "python",
   "nbconvert_exporter": "python",
   "pygments_lexer": "ipython3",
   "version": "3.9.7"
  }
 },
 "nbformat": 4,
 "nbformat_minor": 5
}
