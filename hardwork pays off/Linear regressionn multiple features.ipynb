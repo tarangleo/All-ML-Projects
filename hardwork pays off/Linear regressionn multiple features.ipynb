{
 "cells": [
  {
   "cell_type": "code",
   "execution_count": 27,
   "id": "475a1a72-fad3-48d0-be82-2910c47f475b",
   "metadata": {},
   "outputs": [],
   "source": [
    "from sklearn.datasets import fetch_california_housing"
   ]
  },
  {
   "cell_type": "code",
   "execution_count": 28,
   "id": "d78528ab-ec9f-4936-81f8-6e41f7b1f62c",
   "metadata": {},
   "outputs": [],
   "source": [
    "import pandas as pd"
   ]
  },
  {
   "cell_type": "code",
   "execution_count": 29,
   "id": "b1c57feb-2e99-42ae-ad09-26b5dd69f221",
   "metadata": {},
   "outputs": [],
   "source": [
    "boston = fetch_california_housing()\n",
    "X =pd.DataFrame(boston.data)\n",
    "Y=pd.DataFrame(boston.target)"
   ]
  },
  {
   "cell_type": "code",
   "execution_count": 30,
   "id": "be04d958-76f2-4b5d-940a-8f76920e42d8",
   "metadata": {},
   "outputs": [],
   "source": [
    "X.columns=boston.feature_names"
   ]
  },
  {
   "cell_type": "code",
   "execution_count": 31,
   "id": "48e076de-992c-4402-a6c0-df898478e740",
   "metadata": {},
   "outputs": [
    {
     "data": {
      "text/html": [
       "<div>\n",
       "<style scoped>\n",
       "    .dataframe tbody tr th:only-of-type {\n",
       "        vertical-align: middle;\n",
       "    }\n",
       "\n",
       "    .dataframe tbody tr th {\n",
       "        vertical-align: top;\n",
       "    }\n",
       "\n",
       "    .dataframe thead th {\n",
       "        text-align: right;\n",
       "    }\n",
       "</style>\n",
       "<table border=\"1\" class=\"dataframe\">\n",
       "  <thead>\n",
       "    <tr style=\"text-align: right;\">\n",
       "      <th></th>\n",
       "      <th>MedInc</th>\n",
       "      <th>HouseAge</th>\n",
       "      <th>AveRooms</th>\n",
       "      <th>AveBedrms</th>\n",
       "      <th>Population</th>\n",
       "      <th>AveOccup</th>\n",
       "      <th>Latitude</th>\n",
       "      <th>Longitude</th>\n",
       "    </tr>\n",
       "  </thead>\n",
       "  <tbody>\n",
       "    <tr>\n",
       "      <th>0</th>\n",
       "      <td>8.3252</td>\n",
       "      <td>41.0</td>\n",
       "      <td>6.984127</td>\n",
       "      <td>1.023810</td>\n",
       "      <td>322.0</td>\n",
       "      <td>2.555556</td>\n",
       "      <td>37.88</td>\n",
       "      <td>-122.23</td>\n",
       "    </tr>\n",
       "    <tr>\n",
       "      <th>1</th>\n",
       "      <td>8.3014</td>\n",
       "      <td>21.0</td>\n",
       "      <td>6.238137</td>\n",
       "      <td>0.971880</td>\n",
       "      <td>2401.0</td>\n",
       "      <td>2.109842</td>\n",
       "      <td>37.86</td>\n",
       "      <td>-122.22</td>\n",
       "    </tr>\n",
       "    <tr>\n",
       "      <th>2</th>\n",
       "      <td>7.2574</td>\n",
       "      <td>52.0</td>\n",
       "      <td>8.288136</td>\n",
       "      <td>1.073446</td>\n",
       "      <td>496.0</td>\n",
       "      <td>2.802260</td>\n",
       "      <td>37.85</td>\n",
       "      <td>-122.24</td>\n",
       "    </tr>\n",
       "    <tr>\n",
       "      <th>3</th>\n",
       "      <td>5.6431</td>\n",
       "      <td>52.0</td>\n",
       "      <td>5.817352</td>\n",
       "      <td>1.073059</td>\n",
       "      <td>558.0</td>\n",
       "      <td>2.547945</td>\n",
       "      <td>37.85</td>\n",
       "      <td>-122.25</td>\n",
       "    </tr>\n",
       "    <tr>\n",
       "      <th>4</th>\n",
       "      <td>3.8462</td>\n",
       "      <td>52.0</td>\n",
       "      <td>6.281853</td>\n",
       "      <td>1.081081</td>\n",
       "      <td>565.0</td>\n",
       "      <td>2.181467</td>\n",
       "      <td>37.85</td>\n",
       "      <td>-122.25</td>\n",
       "    </tr>\n",
       "  </tbody>\n",
       "</table>\n",
       "</div>"
      ],
      "text/plain": [
       "   MedInc  HouseAge  AveRooms  AveBedrms  Population  AveOccup  Latitude  \\\n",
       "0  8.3252      41.0  6.984127   1.023810       322.0  2.555556     37.88   \n",
       "1  8.3014      21.0  6.238137   0.971880      2401.0  2.109842     37.86   \n",
       "2  7.2574      52.0  8.288136   1.073446       496.0  2.802260     37.85   \n",
       "3  5.6431      52.0  5.817352   1.073059       558.0  2.547945     37.85   \n",
       "4  3.8462      52.0  6.281853   1.081081       565.0  2.181467     37.85   \n",
       "\n",
       "   Longitude  \n",
       "0    -122.23  \n",
       "1    -122.22  \n",
       "2    -122.24  \n",
       "3    -122.25  \n",
       "4    -122.25  "
      ]
     },
     "execution_count": 31,
     "metadata": {},
     "output_type": "execute_result"
    }
   ],
   "source": [
    "X.head()"
   ]
  },
  {
   "cell_type": "code",
   "execution_count": 32,
   "id": "b2894979-edac-46a4-8760-f1bddb3cd8cf",
   "metadata": {},
   "outputs": [],
   "source": [
    "import numpy as np"
   ]
  },
  {
   "cell_type": "code",
   "execution_count": 33,
   "id": "bd436e19-69b6-4e82-9dbd-fcd8119b1da8",
   "metadata": {},
   "outputs": [],
   "source": [
    "u=X.mean()"
   ]
  },
  {
   "cell_type": "code",
   "execution_count": 34,
   "id": "e2df408a-4d8a-4c4a-9ddd-b1d3a24e097c",
   "metadata": {},
   "outputs": [
    {
     "name": "stdout",
     "output_type": "stream",
     "text": [
      "MedInc           3.870671\n",
      "HouseAge        28.639486\n",
      "AveRooms         5.429000\n",
      "AveBedrms        1.096675\n",
      "Population    1425.476744\n",
      "AveOccup         3.070655\n",
      "Latitude        35.631861\n",
      "Longitude     -119.569704\n",
      "dtype: float64\n"
     ]
    }
   ],
   "source": [
    "print(u)"
   ]
  },
  {
   "cell_type": "code",
   "execution_count": 35,
   "id": "b3f15efc-f111-44b9-acfc-5a78cdb4e90f",
   "metadata": {},
   "outputs": [],
   "source": [
    "std=X.std()"
   ]
  },
  {
   "cell_type": "code",
   "execution_count": 36,
   "id": "c47f7d44-f9aa-4b60-9bef-9b6bb0c5c212",
   "metadata": {},
   "outputs": [],
   "source": [
    "X=(X-u)/std"
   ]
  },
  {
   "cell_type": "code",
   "execution_count": 37,
   "id": "41633274-6592-40ee-b636-96f68a5bac7a",
   "metadata": {},
   "outputs": [
    {
     "data": {
      "text/html": [
       "<div>\n",
       "<style scoped>\n",
       "    .dataframe tbody tr th:only-of-type {\n",
       "        vertical-align: middle;\n",
       "    }\n",
       "\n",
       "    .dataframe tbody tr th {\n",
       "        vertical-align: top;\n",
       "    }\n",
       "\n",
       "    .dataframe thead th {\n",
       "        text-align: right;\n",
       "    }\n",
       "</style>\n",
       "<table border=\"1\" class=\"dataframe\">\n",
       "  <thead>\n",
       "    <tr style=\"text-align: right;\">\n",
       "      <th></th>\n",
       "      <th>MedInc</th>\n",
       "      <th>HouseAge</th>\n",
       "      <th>AveRooms</th>\n",
       "      <th>AveBedrms</th>\n",
       "      <th>Population</th>\n",
       "      <th>AveOccup</th>\n",
       "      <th>Latitude</th>\n",
       "      <th>Longitude</th>\n",
       "    </tr>\n",
       "  </thead>\n",
       "  <tbody>\n",
       "    <tr>\n",
       "      <th>0</th>\n",
       "      <td>2.344709</td>\n",
       "      <td>0.982119</td>\n",
       "      <td>0.628544</td>\n",
       "      <td>-0.153754</td>\n",
       "      <td>-0.974405</td>\n",
       "      <td>-0.049595</td>\n",
       "      <td>1.052523</td>\n",
       "      <td>-1.327803</td>\n",
       "    </tr>\n",
       "    <tr>\n",
       "      <th>1</th>\n",
       "      <td>2.332181</td>\n",
       "      <td>-0.607004</td>\n",
       "      <td>0.327033</td>\n",
       "      <td>-0.263329</td>\n",
       "      <td>0.861418</td>\n",
       "      <td>-0.092510</td>\n",
       "      <td>1.043159</td>\n",
       "      <td>-1.322812</td>\n",
       "    </tr>\n",
       "    <tr>\n",
       "      <th>2</th>\n",
       "      <td>1.782656</td>\n",
       "      <td>1.856137</td>\n",
       "      <td>1.155592</td>\n",
       "      <td>-0.049015</td>\n",
       "      <td>-0.820757</td>\n",
       "      <td>-0.025842</td>\n",
       "      <td>1.038478</td>\n",
       "      <td>-1.332794</td>\n",
       "    </tr>\n",
       "    <tr>\n",
       "      <th>3</th>\n",
       "      <td>0.932945</td>\n",
       "      <td>1.856137</td>\n",
       "      <td>0.156962</td>\n",
       "      <td>-0.049832</td>\n",
       "      <td>-0.766010</td>\n",
       "      <td>-0.050328</td>\n",
       "      <td>1.038478</td>\n",
       "      <td>-1.337785</td>\n",
       "    </tr>\n",
       "    <tr>\n",
       "      <th>4</th>\n",
       "      <td>-0.012881</td>\n",
       "      <td>1.856137</td>\n",
       "      <td>0.344702</td>\n",
       "      <td>-0.032905</td>\n",
       "      <td>-0.759828</td>\n",
       "      <td>-0.085614</td>\n",
       "      <td>1.038478</td>\n",
       "      <td>-1.337785</td>\n",
       "    </tr>\n",
       "  </tbody>\n",
       "</table>\n",
       "</div>"
      ],
      "text/plain": [
       "     MedInc  HouseAge  AveRooms  AveBedrms  Population  AveOccup  Latitude  \\\n",
       "0  2.344709  0.982119  0.628544  -0.153754   -0.974405 -0.049595  1.052523   \n",
       "1  2.332181 -0.607004  0.327033  -0.263329    0.861418 -0.092510  1.043159   \n",
       "2  1.782656  1.856137  1.155592  -0.049015   -0.820757 -0.025842  1.038478   \n",
       "3  0.932945  1.856137  0.156962  -0.049832   -0.766010 -0.050328  1.038478   \n",
       "4 -0.012881  1.856137  0.344702  -0.032905   -0.759828 -0.085614  1.038478   \n",
       "\n",
       "   Longitude  \n",
       "0  -1.327803  \n",
       "1  -1.322812  \n",
       "2  -1.332794  \n",
       "3  -1.337785  \n",
       "4  -1.337785  "
      ]
     },
     "execution_count": 37,
     "metadata": {},
     "output_type": "execute_result"
    }
   ],
   "source": [
    "X.head()"
   ]
  },
  {
   "cell_type": "code",
   "execution_count": 38,
   "id": "392372b4-18e0-4f61-ba1a-4acbe67bb0f7",
   "metadata": {},
   "outputs": [],
   "source": [
    "import matplotlib.pyplot as plt"
   ]
  },
  {
   "cell_type": "code",
   "execution_count": 40,
   "id": "a97f8b22-bfc8-4249-950a-8dada26d34ee",
   "metadata": {},
   "outputs": [
    {
     "data": {
      "text/plain": [
       "(20640, 8)"
      ]
     },
     "execution_count": 40,
     "metadata": {},
     "output_type": "execute_result"
    }
   ],
   "source": [
    "X.shape"
   ]
  },
  {
   "cell_type": "code",
   "execution_count": 42,
   "id": "980ee61e-2b8d-4e7f-86ba-b6c661341f46",
   "metadata": {},
   "outputs": [
    {
     "data": {
      "text/plain": [
       "(20640, 1)"
      ]
     },
     "execution_count": 42,
     "metadata": {},
     "output_type": "execute_result"
    }
   ],
   "source": [
    "Y.shape"
   ]
  },
  {
   "cell_type": "code",
   "execution_count": 135,
   "id": "69a70a7e-0483-4136-88c6-b01aa501cf1c",
   "metadata": {},
   "outputs": [],
   "source": [
    "X=boston.data\n",
    "Y=boston.target"
   ]
  },
  {
   "cell_type": "code",
   "execution_count": 136,
   "id": "cb4e89a5-a271-450c-b62e-8d70e09b0bbc",
   "metadata": {},
   "outputs": [
    {
     "data": {
      "text/plain": [
       "(20640,)"
      ]
     },
     "execution_count": 136,
     "metadata": {},
     "output_type": "execute_result"
    }
   ],
   "source": [
    "Y.shape"
   ]
  },
  {
   "cell_type": "code",
   "execution_count": 137,
   "id": "5de9164a-1ba9-4515-815a-96126a07e79a",
   "metadata": {},
   "outputs": [
    {
     "data": {
      "text/plain": [
       "<matplotlib.collections.PathCollection at 0x24348c5c400>"
      ]
     },
     "execution_count": 137,
     "metadata": {},
     "output_type": "execute_result"
    },
    {
     "data": {
      "image/png": "[encoded data removed]",
      "text/plain": [
       "<Figure size 432x288 with 1 Axes>"
      ]
     },
     "metadata": {
      "needs_background": "light"
     },
     "output_type": "display_data"
    }
   ],
   "source": [
    "plt.scatter(X[:,0],Y)"
   ]
  },
  {
   "cell_type": "code",
   "execution_count": null,
   "id": "5a3e39c2-0b26-4d2d-a9aa-1ba8d930acef",
   "metadata": {},
   "outputs": [],
   "source": []
  },
  {
   "cell_type": "code",
   "execution_count": 138,
   "id": "0480bb19-bd03-4af2-a85c-a4e3c0c1674b",
   "metadata": {},
   "outputs": [],
   "source": [
    "a=np.ones((X.shape[0],1))"
   ]
  },
  {
   "cell_type": "code",
   "execution_count": 139,
   "id": "d7b693c6-4439-4423-b95e-d86fcef335fb",
   "metadata": {},
   "outputs": [],
   "source": [
    "X=np.hstack((a,X))"
   ]
  },
  {
   "cell_type": "code",
   "execution_count": 140,
   "id": "93976dda-2a74-40b0-a2c5-1045de986064",
   "metadata": {},
   "outputs": [
    {
     "data": {
      "text/plain": [
       "(9, 20640)"
      ]
     },
     "execution_count": 140,
     "metadata": {},
     "output_type": "execute_result"
    }
   ],
   "source": [
    "X.T.shape"
   ]
  },
  {
   "cell_type": "code",
   "execution_count": 141,
   "id": "c9a33768-3e36-4ac2-b2e2-35b7f2a092fc",
   "metadata": {},
   "outputs": [],
   "source": [
    "def hypothesis(X,theta):\n",
    "    return np.dot(X,theta)"
   ]
  },
  {
   "cell_type": "code",
   "execution_count": 142,
   "id": "61b1bf1a-bbde-4295-9455-b14460f88863",
   "metadata": {},
   "outputs": [],
   "source": [
    "def error(y_,Y):\n",
    "    return sum((Y-y_)**2)"
   ]
  },
  {
   "cell_type": "code",
   "execution_count": 143,
   "id": "f7eda490-193b-49c5-89d9-19679db94c15",
   "metadata": {},
   "outputs": [],
   "source": [
    "def gradient(X,Y,theta):\n",
    "    y_=hypothesis(X,theta)\n",
    "    #return np.sum((y_-Y)*X,axis=1)\n",
    "    return np.dot(X.T,y_-Y)"
   ]
  },
  {
   "cell_type": "code",
   "execution_count": 153,
   "id": "5f97ad87-97e9-418c-b24d-5f3eb09f2998",
   "metadata": {},
   "outputs": [],
   "source": [
    "def gd(X,Y,lr=0.1,m_i=300):\n",
    "    error_list=[]\n",
    "    theta=np.zeros((X.shape[1],))\n",
    "    for i in range(m_i):\n",
    "        error_list.append(error(hypothesis(X,theta),Y))\n",
    "        grad=gradient(X,Y,theta)\n",
    "        theta=theta-lr*grad\n",
    "    return error_list,theta"
   ]
  },
  {
   "cell_type": "code",
   "execution_count": 154,
   "id": "fc2d6c9c-ecf4-416b-9dfb-c0c358256ff3",
   "metadata": {},
   "outputs": [
    {
     "name": "stderr",
     "output_type": "stream",
     "text": [
      "C:\\Users\\taran\\AppData\\Local\\Temp/ipykernel_13564/4154987876.py:2: RuntimeWarning: overflow encountered in square\n",
      "  return sum((Y-y_)**2)\n",
      "C:\\Users\\taran\\AppData\\Local\\Temp/ipykernel_13564/1459521218.py:7: RuntimeWarning: invalid value encountered in subtract\n",
      "  theta=theta-lr*grad\n"
     ]
    }
   ],
   "source": [
    "error_list,theta=gd(X,Y)"
   ]
  },
  {
   "cell_type": "code",
   "execution_count": 155,
   "id": "b2bcb85c-ec6a-4105-a66b-1e3bd7f7603e",
   "metadata": {},
   "outputs": [
    {
     "data": {
      "text/plain": [
       "(20640,)"
      ]
     },
     "execution_count": 155,
     "metadata": {},
     "output_type": "execute_result"
    }
   ],
   "source": [
    "theta=np.zeros((X.shape[1],))\n",
    "y_=hypothesis(X,theta)\n",
    "(y_-Y).shape\n",
    "#np.dot(X,y_-Y).shape"
   ]
  },
  {
   "cell_type": "code",
   "execution_count": 156,
   "id": "852ae1bf-7be0-44f6-96c9-cb164ed64222",
   "metadata": {},
   "outputs": [
    {
     "data": {
      "text/plain": [
       "115800.37322709909"
      ]
     },
     "execution_count": 156,
     "metadata": {},
     "output_type": "execute_result"
    }
   ],
   "source": [
    "error(hypothesis(X,theta),Y)"
   ]
  },
  {
   "cell_type": "code",
   "execution_count": 157,
   "id": "bfb5aab3-2c91-48ee-9184-f584baeeade4",
   "metadata": {},
   "outputs": [
    {
     "name": "stdout",
     "output_type": "stream",
     "text": [
      "[115800.37322709909, 2.503675963573457e+24, 1.178727858460123e+44, 5.549451756423065e+63, 2.612682357181144e+83, 1.2300510751579754e+103, 5.791081504181563e+122, 2.7264416629013744e+142, 1.283608965930976e+162, 6.043232099325419e+181, 2.845154184462204e+201, 1.339498831141433e+221, 6.306361632096969e+240, 2.969035590788496e+260, 1.3978222077374873e+280, 6.580948138534095e+299, inf, inf, inf, inf, inf, inf, inf, inf, inf, inf, inf, inf, inf, inf, inf, inf, inf, nan, nan, nan, nan, nan, nan, nan, nan, nan, nan, nan, nan, nan, nan, nan, nan, nan, nan, nan, nan, nan, nan, nan, nan, nan, nan, nan, nan, nan, nan, nan, nan, nan, nan, nan, nan, nan, nan, nan, nan, nan, nan, nan, nan, nan, nan, nan, nan, nan, nan, nan, nan, nan, nan, nan, nan, nan, nan, nan, nan, nan, nan, nan, nan, nan, nan, nan, nan, nan, nan, nan, nan, nan, nan, nan, nan, nan, nan, nan, nan, nan, nan, nan, nan, nan, nan, nan, nan, nan, nan, nan, nan, nan, nan, nan, nan, nan, nan, nan, nan, nan, nan, nan, nan, nan, nan, nan, nan, nan, nan, nan, nan, nan, nan, nan, nan, nan, nan, nan, nan, nan, nan, nan, nan, nan, nan, nan, nan, nan, nan, nan, nan, nan, nan, nan, nan, nan, nan, nan, nan, nan, nan, nan, nan, nan, nan, nan, nan, nan, nan, nan, nan, nan, nan, nan, nan, nan, nan, nan, nan, nan, nan, nan, nan, nan, nan, nan, nan, nan, nan, nan, nan, nan, nan, nan, nan, nan, nan, nan, nan, nan, nan, nan, nan, nan, nan, nan, nan, nan, nan, nan, nan, nan, nan, nan, nan, nan, nan, nan, nan, nan, nan, nan, nan, nan, nan, nan, nan, nan, nan, nan, nan, nan, nan, nan, nan, nan, nan, nan, nan, nan, nan, nan, nan, nan, nan, nan, nan, nan, nan, nan, nan, nan, nan, nan, nan, nan, nan, nan, nan, nan, nan, nan, nan, nan, nan, nan, nan, nan, nan, nan, nan, nan, nan, nan, nan, nan, nan, nan, nan, nan, nan, nan, nan, nan, nan, nan]\n"
     ]
    }
   ],
   "source": [
    "print(error_list)"
   ]
  },
  {
   "cell_type": "code",
   "execution_count": 149,
   "id": "90a2b333-2c0d-46d7-a8ce-a30931452205",
   "metadata": {},
   "outputs": [],
   "source": [
    "error_list=np.array(error_list)"
   ]
  },
  {
   "cell_type": "code",
   "execution_count": 150,
   "id": "2e028d05-260f-4e68-b22f-bf28a420b20c",
   "metadata": {},
   "outputs": [
    {
     "data": {
      "text/plain": [
       "(300,)"
      ]
     },
     "execution_count": 150,
     "metadata": {},
     "output_type": "execute_result"
    }
   ],
   "source": [
    "error_list.shape"
   ]
  },
  {
   "cell_type": "code",
   "execution_count": null,
   "id": "1b51cb3d-2da1-4340-b78c-4b4b5672c6d9",
   "metadata": {},
   "outputs": [],
   "source": []
  },
  {
   "cell_type": "code",
   "execution_count": 152,
   "id": "ab279e69-ab64-4818-87ff-35bf7183b3e7",
   "metadata": {},
   "outputs": [
    {
     "data": {
      "image/png": "[encoded data removed]",
      "text/plain": [
       "<Figure size 432x288 with 1 Axes>"
      ]
     },
     "metadata": {
      "needs_background": "light"
     },
     "output_type": "display_data"
    }
   ],
   "source": [
    "plt.plot(error_list)\n",
    "plt.show()"
   ]
  },
  {
   "cell_type": "code",
   "execution_count": null,
   "id": "c7eb6883-8eef-4d7c-9225-0293408acf6b",
   "metadata": {},
   "outputs": [],
   "source": []
  }
 ],
 "metadata": {
  "kernelspec": {
   "display_name": "Python 3 (ipykernel)",
   "language": "python",
   "name": "python3"
  },
  "language_info": {
   "codemirror_mode": {
    "name": "ipython",
    "version": 3
   },
   "file_extension": ".py",
   "mimetype": "text/x-python",
   "name": "python",
   "nbconvert_exporter": "python",
   "pygments_lexer": "ipython3",
   "version": "3.9.7"
  }
 },
 "nbformat": 4,
 "nbformat_minor": 5
}
