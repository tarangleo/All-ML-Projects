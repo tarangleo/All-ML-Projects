{
 "cells": [
  {
   "cell_type": "code",
   "execution_count": 107,
   "id": "4cd37164-70ce-4db9-9b8b-93238c3d16a2",
   "metadata": {},
   "outputs": [],
   "source": [
    "import numpy as np\n",
    "import matplotlib.pyplot as plt\n",
    "import pandas as pd \n",
    "\n"
   ]
  },
  {
   "cell_type": "code",
   "execution_count": 108,
   "id": "9b2a1d86-ae2c-4e4c-90c3-fbb5ceaa8e35",
   "metadata": {},
   "outputs": [],
   "source": [
    "X=pd.read_csv(\"Linear_X_Train.csv\").values\n",
    "Y=pd.read_csv(\"Linear_Y_Train.csv\").values"
   ]
  },
  {
   "cell_type": "code",
   "execution_count": 109,
   "id": "4ecc5b7b-6d5d-4327-8fde-4fad2a53082c",
   "metadata": {},
   "outputs": [],
   "source": [
    "u=X.mean()\n",
    "std=X.std()"
   ]
  },
  {
   "cell_type": "code",
   "execution_count": 110,
   "id": "bbe936cc-ebf7-4efa-b945-c4a8af0bbdbc",
   "metadata": {},
   "outputs": [],
   "source": [
    "X=(X-u)/std"
   ]
  },
  {
   "cell_type": "code",
   "execution_count": 111,
   "id": "396844a8-f5ed-4896-8214-98a3a79dc3d1",
   "metadata": {},
   "outputs": [
    {
     "data": {
      "text/plain": [
       "<matplotlib.collections.PathCollection at 0x1a4017d1f40>"
      ]
     },
     "execution_count": 111,
     "metadata": {},
     "output_type": "execute_result"
    },
    {
     "data": {
      "image/png": "[encoded data removed]",
      "text/plain": [
       "<Figure size 432x288 with 1 Axes>"
      ]
     },
     "metadata": {
      "needs_background": "light"
     },
     "output_type": "display_data"
    }
   ],
   "source": [
    "plt.scatter(X,Y)"
   ]
  },
  {
   "cell_type": "code",
   "execution_count": 112,
   "id": "abf1ba5e-4361-43ec-943e-e9b13b9cf7bb",
   "metadata": {},
   "outputs": [],
   "source": [
    "def hypothesis(X,theta):\n",
    "    \n",
    "    y_=theta[0]+theta[1]*X\n",
    "    return y_"
   ]
  },
  {
   "cell_type": "code",
   "execution_count": 113,
   "id": "9b627deb-6b59-446b-a010-34a0d1ff2b18",
   "metadata": {},
   "outputs": [],
   "source": [
    "def gradient(X,Y,theta):\n",
    "    grad=np.zeros((2,))\n",
    "    m=X.shape[0]\n",
    "    grad[0]+=sum(hypothesis(X,theta)-Y)\n",
    "    grad[1]+=sum((hypothesis(X,theta)-Y)*X)\n",
    "    return grad/m"
   ]
  },
  {
   "cell_type": "code",
   "execution_count": 122,
   "id": "4907c97b-121b-4c24-aaa1-34ecf633df57",
   "metadata": {},
   "outputs": [],
   "source": [
    "def grd_dec(X,Y,tries=100,lr=0.1):\n",
    "    theta=np.zeros((2,))\n",
    "    error_l=[]\n",
    "    for i in range(tries):\n",
    "        grad=gradient(X,Y,theta)\n",
    "        theta[0]-=lr*grad[0]\n",
    "        theta[1]-=lr*grad[1]\n",
    "        error_l.append(error(X,Y,theta))\n",
    "    return error_l,theta"
   ]
  },
  {
   "cell_type": "code",
   "execution_count": 123,
   "id": "e9b3fa32-982a-4b48-b084-44a00a8c15ec",
   "metadata": {},
   "outputs": [],
   "source": [
    "error_list,theta=grd_dec(X,Y)"
   ]
  },
  {
   "cell_type": "code",
   "execution_count": 124,
   "id": "fb712186-1fe1-43e0-ad53-fb5e2175c3ec",
   "metadata": {},
   "outputs": [
    {
     "name": "stdout",
     "output_type": "stream",
     "text": [
      "[array([5363.12510257]), array([4380.41289317]), array([3584.41600355]), array([2939.65852295]), array([2417.40496367]), array([1994.37958066]), array([1651.72902041]), array([1374.18206661]), array([1149.36903404]), array([967.27047765]), array([819.77064698]), array([700.29578413]), array([603.52114523]), array([525.13368772]), array([461.63984713]), array([410.20983626]), array([368.55152745]), array([334.80829731]), array([307.47628091]), array([285.33734761]), array([267.40481165]), array([252.87945752]), array([241.11392067]), array([231.58383582]), array([223.8644671]), array([217.61177843]), array([212.54710061]), array([208.44471157]), array([205.12177646]), array([202.43019901]), array([200.25002128]), array([198.48407732]), array([197.05366271]), array([195.89502687]), array([194.95653185]), array([194.19635088]), array([193.58060429]), array([193.08184956]), array([192.67785822]), array([192.35062524]), array([192.08556653]), array([191.87086897]), array([191.69696394]), array([191.55610088]), array([191.44200179]), array([191.34958153]), array([191.27472112]), array([191.21408419]), array([191.16496827]), array([191.12518438]), array([191.09295943]), array([191.06685722]), array([191.04571443]), array([191.02858877]), array([191.01471698]), array([191.00348084]), array([190.99437956]), array([190.98700752]), array([190.98103617]), array([190.97619938]), array([190.97228158]), array([190.96910816]), array([190.96653769]), array([190.96445561]), array([190.96276913]), array([190.96140307]), array([190.96029657]), array([190.9594003]), array([190.95867433]), array([190.95808628]), array([190.95760997]), array([190.95722416]), array([190.95691165]), array([190.95665852]), array([190.95645348]), array([190.9562874]), array([190.95615287]), array([190.95604391]), array([190.95595565]), array([190.95588415]), array([190.95582625]), array([190.95577934]), array([190.95574135]), array([190.95571057]), array([190.95568564]), array([190.95566545]), array([190.9556491]), array([190.95563585]), array([190.95562512]), array([190.95561643]), array([190.95560939]), array([190.95560368]), array([190.95559906]), array([190.95559532]), array([190.95559229]), array([190.95558984]), array([190.95558785]), array([190.95558624]), array([190.95558493]), array([190.95558388])]\n"
     ]
    }
   ],
   "source": [
    "print(error_list)"
   ]
  },
  {
   "cell_type": "code",
   "execution_count": 125,
   "id": "5523635e-6aa0-4ecf-88b4-05bf3cad595b",
   "metadata": {},
   "outputs": [
    {
     "name": "stdout",
     "output_type": "stream",
     "text": [
      "[ 0.6838508  79.90361453]\n"
     ]
    }
   ],
   "source": [
    "print(theta)"
   ]
  },
  {
   "cell_type": "code",
   "execution_count": 126,
   "id": "cb8b02c6-fb6d-4495-bf38-697c1e575342",
   "metadata": {},
   "outputs": [],
   "source": []
  },
  {
   "cell_type": "code",
   "execution_count": 127,
   "id": "19f7977b-7219-48e5-8e03-3d5584ac2a39",
   "metadata": {},
   "outputs": [],
   "source": [
    "def error(X,Y,theta):\n",
    "    return sum((hypothesis(X,theta)-Y)**2)/X.shape[0]\n",
    "    \n",
    "    "
   ]
  },
  {
   "cell_type": "code",
   "execution_count": 128,
   "id": "c0af7d17-e299-4e06-9ee2-d853b3f4e783",
   "metadata": {},
   "outputs": [
    {
     "data": {
      "text/plain": [
       "[<matplotlib.lines.Line2D at 0x1a400a82220>]"
      ]
     },
     "execution_count": 128,
     "metadata": {},
     "output_type": "execute_result"
    },
    {
     "data": {
      "image/png": "[encoded data removed]",
      "text/plain": [
       "<Figure size 432x288 with 1 Axes>"
      ]
     },
     "metadata": {
      "needs_background": "light"
     },
     "output_type": "display_data"
    }
   ],
   "source": [
    "plt.plot(error_list)"
   ]
  },
  {
   "cell_type": "code",
   "execution_count": 132,
   "id": "e3874f2d-7e47-44f3-b9bc-7ac8bb458d3e",
   "metadata": {},
   "outputs": [],
   "source": [
    "X_test=pd.read_csv(\"Linear_X_Test.csv\").values\n",
    "y_=hypothesis(X_test,theta)"
   ]
  },
  {
   "cell_type": "code",
   "execution_count": 133,
   "id": "5f430d96-bd30-4020-af0c-239935b4e9f9",
   "metadata": {},
   "outputs": [],
   "source": [
    "\n",
    "data=pd.DataFrame(y_,columns=[\"y\"])"
   ]
  },
  {
   "cell_type": "code",
   "execution_count": 134,
   "id": "d447fed3-c079-4019-91a6-3f9e70e455e1",
   "metadata": {},
   "outputs": [],
   "source": [
    "data.to_csv(\"Predictions.csv\",index=False)"
   ]
  },
  {
   "cell_type": "code",
   "execution_count": null,
   "id": "08c830cb-5d94-43da-ad41-0316acc90064",
   "metadata": {},
   "outputs": [],
   "source": []
  }
 ],
 "metadata": {
  "kernelspec": {
   "display_name": "Python 3 (ipykernel)",
   "language": "python",
   "name": "python3"
  },
  "language_info": {
   "codemirror_mode": {
    "name": "ipython",
    "version": 3
   },
   "file_extension": ".py",
   "mimetype": "text/x-python",
   "name": "python",
   "nbconvert_exporter": "python",
   "pygments_lexer": "ipython3",
   "version": "3.9.7"
  }
 },
 "nbformat": 4,
 "nbformat_minor": 5
}
