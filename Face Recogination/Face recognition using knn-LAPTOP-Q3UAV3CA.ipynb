{
 "cells": [
  {
   "cell_type": "code",
   "execution_count": 6,
   "id": "bf93698a-8a36-48da-8047-430f1ecdf8c7",
   "metadata": {},
   "outputs": [
    {
     "name": "stdout",
     "output_type": "stream",
     "text": [
      "Collecting scikit-learn\n",
      "  Obtaining dependency information for scikit-learn from https://files.pythonhosted.org/packages/4e/ba/ce9bd1cd4953336a0e213b29cb80bb11816f2a93de8c99f88ef0b446ad0c/scikit_learn-1.3.2-cp311-cp311-win_amd64.whl.metadata\n",
      "  Downloading scikit_learn-1.3.2-cp311-cp311-win_amd64.whl.metadata (11 kB)\n",
      "Requirement already satisfied: numpy<2.0,>=1.17.3 in c:\\users\\taran\\appdata\\local\\programs\\python\\python311\\lib\\site-packages (from scikit-learn) (1.26.2)\n",
      "Collecting scipy>=1.5.0 (from scikit-learn)\n",
      "  Obtaining dependency information for scipy>=1.5.0 from https://files.pythonhosted.org/packages/43/d0/f3cd75b62e1b90f48dbf091261b2fc7ceec14a700e308c50f6a69c83d337/scipy-1.11.4-cp311-cp311-win_amd64.whl.metadata\n",
      "  Downloading scipy-1.11.4-cp311-cp311-win_amd64.whl.metadata (60 kB)\n",
      "     ---------------------------------------- 0.0/60.4 kB ? eta -:--:--\n",
      "     ---------------------------------------- 0.0/60.4 kB ? eta -:--:--\n",
      "     ------ --------------------------------- 10.2/60.4 kB ? eta -:--:--\n",
      "     ------------------------- ------------ 41.0/60.4 kB 326.8 kB/s eta 0:00:01\n",
      "     -------------------------------------- 60.4/60.4 kB 533.6 kB/s eta 0:00:00\n",
      "Collecting joblib>=1.1.1 (from scikit-learn)\n",
      "  Obtaining dependency information for joblib>=1.1.1 from https://files.pythonhosted.org/packages/10/40/d551139c85db202f1f384ba8bcf96aca2f329440a844f924c8a0040b6d02/joblib-1.3.2-py3-none-any.whl.metadata\n",
      "  Downloading joblib-1.3.2-py3-none-any.whl.metadata (5.4 kB)\n",
      "Collecting threadpoolctl>=2.0.0 (from scikit-learn)\n",
      "  Obtaining dependency information for threadpoolctl>=2.0.0 from https://files.pythonhosted.org/packages/81/12/fd4dea011af9d69e1cad05c75f3f7202cdcbeac9b712eea58ca779a72865/threadpoolctl-3.2.0-py3-none-any.whl.metadata\n",
      "  Downloading threadpoolctl-3.2.0-py3-none-any.whl.metadata (10.0 kB)\n",
      "Downloading scikit_learn-1.3.2-cp311-cp311-win_amd64.whl (9.2 MB)\n",
      "   ---------------------------------------- 0.0/9.2 MB ? eta -:--:--\n",
      "   ---------------------------------------- 0.0/9.2 MB 1.9 MB/s eta 0:00:05\n",
      "    --------------------------------------- 0.2/9.2 MB 2.0 MB/s eta 0:00:05\n",
      "    --------------------------------------- 0.2/9.2 MB 2.1 MB/s eta 0:00:05\n",
      "   -- ------------------------------------- 0.5/9.2 MB 2.7 MB/s eta 0:00:04\n",
      "   -- ------------------------------------- 0.6/9.2 MB 3.0 MB/s eta 0:00:03\n",
      "   --- ------------------------------------ 0.9/9.2 MB 3.3 MB/s eta 0:00:03\n",
      "   ---- ----------------------------------- 1.0/9.2 MB 3.5 MB/s eta 0:00:03\n",
      "   ---- ----------------------------------- 1.0/9.2 MB 3.5 MB/s eta 0:00:03\n",
      "   ---- ----------------------------------- 1.1/9.2 MB 3.0 MB/s eta 0:00:03\n",
      "   ----- ---------------------------------- 1.3/9.2 MB 3.3 MB/s eta 0:00:03\n",
      "   ------ --------------------------------- 1.6/9.2 MB 3.4 MB/s eta 0:00:03\n",
      "   ------- -------------------------------- 1.8/9.2 MB 3.5 MB/s eta 0:00:03\n",
      "   ------- -------------------------------- 1.8/9.2 MB 3.5 MB/s eta 0:00:03\n",
      "   -------- ------------------------------- 2.0/9.2 MB 3.5 MB/s eta 0:00:03\n",
      "   ---------- ----------------------------- 2.3/9.2 MB 3.7 MB/s eta 0:00:02\n",
      "   ---------- ----------------------------- 2.5/9.2 MB 3.8 MB/s eta 0:00:02\n",
      "   ---------- ----------------------------- 2.5/9.2 MB 3.8 MB/s eta 0:00:02\n",
      "   ----------- ---------------------------- 2.7/9.2 MB 3.6 MB/s eta 0:00:02\n",
      "   ------------ --------------------------- 2.9/9.2 MB 3.7 MB/s eta 0:00:02\n",
      "   ------------- -------------------------- 3.1/9.2 MB 3.8 MB/s eta 0:00:02\n",
      "   ------------- -------------------------- 3.1/9.2 MB 3.8 MB/s eta 0:00:02\n",
      "   -------------- ------------------------- 3.3/9.2 MB 3.6 MB/s eta 0:00:02\n",
      "   --------------- ------------------------ 3.6/9.2 MB 3.7 MB/s eta 0:00:02\n",
      "   ---------------- ----------------------- 3.7/9.2 MB 3.7 MB/s eta 0:00:02\n",
      "   ---------------- ----------------------- 3.7/9.2 MB 3.6 MB/s eta 0:00:02\n",
      "   ----------------- ---------------------- 4.0/9.2 MB 3.7 MB/s eta 0:00:02\n",
      "   ----------------- ---------------------- 4.1/9.2 MB 3.7 MB/s eta 0:00:02\n",
      "   ------------------ --------------------- 4.4/9.2 MB 3.8 MB/s eta 0:00:02\n",
      "   ------------------ --------------------- 4.4/9.2 MB 3.8 MB/s eta 0:00:02\n",
      "   ------------------ --------------------- 4.4/9.2 MB 3.8 MB/s eta 0:00:02\n",
      "   -------------------- ------------------- 4.8/9.2 MB 3.7 MB/s eta 0:00:02\n",
      "   ---------------------- ----------------- 5.1/9.2 MB 3.8 MB/s eta 0:00:02\n",
      "   ---------------------- ----------------- 5.1/9.2 MB 3.7 MB/s eta 0:00:02\n",
      "   ----------------------- ---------------- 5.4/9.2 MB 3.8 MB/s eta 0:00:01\n",
      "   ------------------------- -------------- 5.8/9.2 MB 4.0 MB/s eta 0:00:01\n",
      "   -------------------------- ------------- 6.1/9.2 MB 4.1 MB/s eta 0:00:01\n",
      "   -------------------------- ------------- 6.2/9.2 MB 4.1 MB/s eta 0:00:01\n",
      "   --------------------------- ------------ 6.2/9.2 MB 3.9 MB/s eta 0:00:01\n",
      "   ---------------------------- ----------- 6.6/9.2 MB 4.1 MB/s eta 0:00:01\n",
      "   ------------------------------ --------- 6.9/9.2 MB 4.2 MB/s eta 0:00:01\n",
      "   ------------------------------ --------- 7.0/9.2 MB 4.1 MB/s eta 0:00:01\n",
      "   ------------------------------- -------- 7.3/9.2 MB 4.2 MB/s eta 0:00:01\n",
      "   --------------------------------- ------ 7.8/9.2 MB 4.4 MB/s eta 0:00:01\n",
      "   --------------------------------- ------ 7.8/9.2 MB 4.4 MB/s eta 0:00:01\n",
      "   ----------------------------------- ---- 8.1/9.2 MB 4.3 MB/s eta 0:00:01\n",
      "   ------------------------------------ --- 8.4/9.2 MB 4.4 MB/s eta 0:00:01\n",
      "   ------------------------------------- -- 8.6/9.2 MB 4.5 MB/s eta 0:00:01\n",
      "   -------------------------------------- - 8.8/9.2 MB 4.5 MB/s eta 0:00:01\n",
      "   ---------------------------------------  9.2/9.2 MB 4.6 MB/s eta 0:00:01\n",
      "   ---------------------------------------  9.2/9.2 MB 4.6 MB/s eta 0:00:01\n",
      "   ---------------------------------------  9.2/9.2 MB 4.6 MB/s eta 0:00:01\n",
      "   ---------------------------------------  9.2/9.2 MB 4.6 MB/s eta 0:00:01\n",
      "   ---------------------------------------  9.2/9.2 MB 4.6 MB/s eta 0:00:01\n",
      "   ---------------------------------------- 9.2/9.2 MB 4.2 MB/s eta 0:00:00\n",
      "Downloading joblib-1.3.2-py3-none-any.whl (302 kB)\n",
      "   ---------------------------------------- 0.0/302.2 kB ? eta -:--:--\n",
      "   ---------------------------------------- 302.2/302.2 kB 9.4 MB/s eta 0:00:00\n",
      "Downloading scipy-1.11.4-cp311-cp311-win_amd64.whl (44.1 MB)\n",
      "   ---------------------------------------- 0.0/44.1 MB ? eta -:--:--\n",
      "   ---------------------------------------- 0.4/44.1 MB 12.9 MB/s eta 0:00:04\n",
      "    --------------------------------------- 0.8/44.1 MB 13.2 MB/s eta 0:00:04\n",
      "    --------------------------------------- 0.9/44.1 MB 14.0 MB/s eta 0:00:04\n",
      "   - -------------------------------------- 1.2/44.1 MB 8.8 MB/s eta 0:00:05\n",
      "   - -------------------------------------- 1.7/44.1 MB 9.1 MB/s eta 0:00:05\n",
      "   - -------------------------------------- 1.8/44.1 MB 9.6 MB/s eta 0:00:05\n",
      "   - -------------------------------------- 2.1/44.1 MB 7.8 MB/s eta 0:00:06\n",
      "   -- ------------------------------------- 2.6/44.1 MB 8.6 MB/s eta 0:00:05\n",
      "   -- ------------------------------------- 2.8/44.1 MB 8.5 MB/s eta 0:00:05\n",
      "   -- ------------------------------------- 2.9/44.1 MB 7.8 MB/s eta 0:00:06\n",
      "   --- ------------------------------------ 3.4/44.1 MB 8.1 MB/s eta 0:00:06\n",
      "   --- ------------------------------------ 3.9/44.1 MB 8.5 MB/s eta 0:00:05\n",
      "   --- ------------------------------------ 3.9/44.1 MB 8.5 MB/s eta 0:00:05\n",
      "   --- ------------------------------------ 4.3/44.1 MB 8.0 MB/s eta 0:00:05\n",
      "   ---- ----------------------------------- 4.7/44.1 MB 8.1 MB/s eta 0:00:05\n",
      "   ---- ----------------------------------- 4.9/44.1 MB 8.0 MB/s eta 0:00:05\n",
      "   ---- ----------------------------------- 5.0/44.1 MB 7.6 MB/s eta 0:00:06\n",
      "   ---- ----------------------------------- 5.5/44.1 MB 7.8 MB/s eta 0:00:05\n",
      "   ----- ---------------------------------- 5.7/44.1 MB 7.8 MB/s eta 0:00:05\n",
      "   ----- ---------------------------------- 6.0/44.1 MB 8.0 MB/s eta 0:00:05\n",
      "   ----- ---------------------------------- 6.0/44.1 MB 8.0 MB/s eta 0:00:05\n",
      "   ----- ---------------------------------- 6.4/44.1 MB 7.4 MB/s eta 0:00:06\n",
      "   ------ --------------------------------- 6.7/44.1 MB 7.5 MB/s eta 0:00:06\n",
      "   ------ --------------------------------- 7.1/44.1 MB 7.6 MB/s eta 0:00:05\n",
      "   ------ --------------------------------- 7.3/44.1 MB 7.6 MB/s eta 0:00:05\n",
      "   ------ --------------------------------- 7.6/44.1 MB 7.3 MB/s eta 0:00:05\n",
      "   ------- -------------------------------- 8.0/44.1 MB 7.4 MB/s eta 0:00:05\n",
      "   ------- -------------------------------- 8.4/44.1 MB 7.6 MB/s eta 0:00:05\n",
      "   ------- -------------------------------- 8.4/44.1 MB 7.6 MB/s eta 0:00:05\n",
      "   -------- ------------------------------- 9.0/44.1 MB 7.4 MB/s eta 0:00:05\n",
      "   -------- ------------------------------- 9.5/44.1 MB 7.5 MB/s eta 0:00:05\n",
      "   --------- ------------------------------ 10.1/44.1 MB 7.7 MB/s eta 0:00:05\n",
      "   --------- ------------------------------ 10.6/44.1 MB 7.7 MB/s eta 0:00:05\n",
      "   --------- ------------------------------ 10.7/44.1 MB 7.4 MB/s eta 0:00:05\n",
      "   ---------- ----------------------------- 11.3/44.1 MB 7.7 MB/s eta 0:00:05\n",
      "   ---------- ----------------------------- 11.8/44.1 MB 7.7 MB/s eta 0:00:05\n",
      "   ----------- ---------------------------- 12.3/44.1 MB 8.1 MB/s eta 0:00:04\n",
      "   ----------- ---------------------------- 12.3/44.1 MB 8.1 MB/s eta 0:00:04\n",
      "   ----------- ---------------------------- 12.9/44.1 MB 7.8 MB/s eta 0:00:05\n",
      "   ------------ --------------------------- 13.5/44.1 MB 8.0 MB/s eta 0:00:04\n",
      "   ------------ --------------------------- 13.9/44.1 MB 8.0 MB/s eta 0:00:04\n",
      "   ------------ --------------------------- 14.2/44.1 MB 8.0 MB/s eta 0:00:04\n",
      "   ------------- -------------------------- 14.7/44.1 MB 8.1 MB/s eta 0:00:04\n",
      "   ------------- -------------------------- 15.2/44.1 MB 8.4 MB/s eta 0:00:04\n",
      "   ------------- -------------------------- 15.3/44.1 MB 8.3 MB/s eta 0:00:04\n",
      "   -------------- ------------------------- 15.8/44.1 MB 8.1 MB/s eta 0:00:04\n",
      "   -------------- ------------------------- 16.2/44.1 MB 8.6 MB/s eta 0:00:04\n",
      "   -------------- ------------------------- 16.2/44.1 MB 8.6 MB/s eta 0:00:04\n",
      "   -------------- ------------------------- 16.2/44.1 MB 8.6 MB/s eta 0:00:04\n",
      "   -------------- ------------------------- 16.3/44.1 MB 7.6 MB/s eta 0:00:04\n",
      "   --------------- ------------------------ 16.6/44.1 MB 7.5 MB/s eta 0:00:04\n",
      "   --------------- ------------------------ 16.7/44.1 MB 7.4 MB/s eta 0:00:04\n",
      "   --------------- ------------------------ 17.0/44.1 MB 7.4 MB/s eta 0:00:04\n",
      "   --------------- ------------------------ 17.4/44.1 MB 7.3 MB/s eta 0:00:04\n",
      "   --------------- ------------------------ 17.4/44.1 MB 7.2 MB/s eta 0:00:04\n",
      "   --------------- ------------------------ 17.5/44.1 MB 6.9 MB/s eta 0:00:04\n",
      "   ---------------- ----------------------- 18.1/44.1 MB 7.2 MB/s eta 0:00:04\n",
      "   ---------------- ----------------------- 18.6/44.1 MB 7.1 MB/s eta 0:00:04\n",
      "   ----------------- ---------------------- 19.0/44.1 MB 7.4 MB/s eta 0:00:04\n",
      "   ----------------- ---------------------- 19.0/44.1 MB 7.4 MB/s eta 0:00:04\n",
      "   ----------------- ---------------------- 19.0/44.1 MB 7.0 MB/s eta 0:00:04\n",
      "   ----------------- ---------------------- 19.6/44.1 MB 7.0 MB/s eta 0:00:04\n",
      "   ------------------ --------------------- 20.0/44.1 MB 6.8 MB/s eta 0:00:04\n",
      "   ------------------ --------------------- 20.3/44.1 MB 6.7 MB/s eta 0:00:04\n",
      "   ------------------ --------------------- 20.7/44.1 MB 6.7 MB/s eta 0:00:04\n",
      "   ------------------ --------------------- 20.9/44.1 MB 6.7 MB/s eta 0:00:04\n",
      "   ------------------- -------------------- 21.1/44.1 MB 6.5 MB/s eta 0:00:04\n",
      "   ------------------- -------------------- 21.5/44.1 MB 6.5 MB/s eta 0:00:04\n",
      "   ------------------- -------------------- 22.0/44.1 MB 6.5 MB/s eta 0:00:04\n",
      "   -------------------- ------------------- 22.4/44.1 MB 6.5 MB/s eta 0:00:04\n",
      "   -------------------- ------------------- 22.7/44.1 MB 6.6 MB/s eta 0:00:04\n",
      "   --------------------- ------------------ 23.2/44.1 MB 6.5 MB/s eta 0:00:04\n",
      "   --------------------- ------------------ 23.7/44.1 MB 6.5 MB/s eta 0:00:04\n",
      "   --------------------- ------------------ 23.7/44.1 MB 6.4 MB/s eta 0:00:04\n",
      "   ---------------------- ----------------- 24.3/44.1 MB 6.5 MB/s eta 0:00:04\n",
      "   ---------------------- ----------------- 24.7/44.1 MB 6.5 MB/s eta 0:00:03\n",
      "   ----------------------- ---------------- 25.4/44.1 MB 6.5 MB/s eta 0:00:03\n",
      "   ----------------------- ---------------- 25.9/44.1 MB 6.8 MB/s eta 0:00:03\n",
      "   ----------------------- ---------------- 26.0/44.1 MB 6.8 MB/s eta 0:00:03\n",
      "   ----------------------- ---------------- 26.4/44.1 MB 6.5 MB/s eta 0:00:03\n",
      "   ------------------------ --------------- 27.0/44.1 MB 7.5 MB/s eta 0:00:03\n",
      "   ------------------------ --------------- 27.3/44.1 MB 7.6 MB/s eta 0:00:03\n",
      "   ------------------------ --------------- 27.4/44.1 MB 7.3 MB/s eta 0:00:03\n",
      "   ------------------------- -------------- 27.9/44.1 MB 7.9 MB/s eta 0:00:03\n",
      "   ------------------------- -------------- 28.4/44.1 MB 7.8 MB/s eta 0:00:03\n",
      "   -------------------------- ------------- 29.0/44.1 MB 7.8 MB/s eta 0:00:02\n",
      "   -------------------------- ------------- 29.2/44.1 MB 7.8 MB/s eta 0:00:02\n",
      "   -------------------------- ------------- 29.4/44.1 MB 8.2 MB/s eta 0:00:02\n",
      "   --------------------------- ------------ 29.9/44.1 MB 8.1 MB/s eta 0:00:02\n",
      "   --------------------------- ------------ 30.5/44.1 MB 8.4 MB/s eta 0:00:02\n",
      "   --------------------------- ------------ 30.6/44.1 MB 8.5 MB/s eta 0:00:02\n",
      "   --------------------------- ------------ 30.6/44.1 MB 8.5 MB/s eta 0:00:02\n",
      "   ---------------------------- ----------- 31.0/44.1 MB 8.0 MB/s eta 0:00:02\n",
      "   ---------------------------- ----------- 31.0/44.1 MB 8.0 MB/s eta 0:00:02\n",
      "   ---------------------------- ----------- 31.0/44.1 MB 8.0 MB/s eta 0:00:02\n",
      "   ----------------------------- ---------- 32.0/44.1 MB 8.2 MB/s eta 0:00:02\n",
      "   ----------------------------- ---------- 32.5/44.1 MB 7.9 MB/s eta 0:00:02\n",
      "   ----------------------------- ---------- 33.0/44.1 MB 8.3 MB/s eta 0:00:02\n",
      "   ----------------------------- ---------- 33.0/44.1 MB 8.3 MB/s eta 0:00:02\n",
      "   ------------------------------ --------- 33.5/44.1 MB 8.0 MB/s eta 0:00:02\n",
      "   ------------------------------ --------- 33.9/44.1 MB 7.9 MB/s eta 0:00:02\n",
      "   ------------------------------- -------- 34.5/44.1 MB 8.3 MB/s eta 0:00:02\n",
      "   ------------------------------- -------- 34.5/44.1 MB 8.3 MB/s eta 0:00:02\n",
      "   ------------------------------- -------- 34.5/44.1 MB 8.3 MB/s eta 0:00:02\n",
      "   -------------------------------- ------- 35.9/44.1 MB 8.1 MB/s eta 0:00:02\n",
      "   --------------------------------- ------ 36.5/44.1 MB 8.5 MB/s eta 0:00:01\n",
      "   --------------------------------- ------ 36.9/44.1 MB 8.5 MB/s eta 0:00:01\n",
      "   --------------------------------- ------ 37.1/44.1 MB 8.5 MB/s eta 0:00:01\n",
      "   --------------------------------- ------ 37.4/44.1 MB 8.1 MB/s eta 0:00:01\n",
      "   --------------------------------- ------ 37.4/44.1 MB 8.1 MB/s eta 0:00:01\n",
      "   --------------------------------- ------ 37.4/44.1 MB 8.1 MB/s eta 0:00:01\n",
      "   ---------------------------------- ----- 38.6/44.1 MB 8.4 MB/s eta 0:00:01\n",
      "   ----------------------------------- ---- 39.0/44.1 MB 8.2 MB/s eta 0:00:01\n",
      "   ----------------------------------- ---- 39.4/44.1 MB 8.2 MB/s eta 0:00:01\n",
      "   ----------------------------------- ---- 39.7/44.1 MB 8.3 MB/s eta 0:00:01\n",
      "   ----------------------------------- ---- 39.7/44.1 MB 8.3 MB/s eta 0:00:01\n",
      "   ------------------------------------ --- 40.0/44.1 MB 7.9 MB/s eta 0:00:01\n",
      "   ------------------------------------ --- 40.2/44.1 MB 7.8 MB/s eta 0:00:01\n",
      "   ------------------------------------ --- 40.5/44.1 MB 7.7 MB/s eta 0:00:01\n",
      "   ------------------------------------ --- 40.7/44.1 MB 7.6 MB/s eta 0:00:01\n",
      "   ------------------------------------- -- 41.0/44.1 MB 7.8 MB/s eta 0:00:01\n",
      "   ------------------------------------- -- 41.2/44.1 MB 7.6 MB/s eta 0:00:01\n",
      "   ------------------------------------- -- 41.5/44.1 MB 8.1 MB/s eta 0:00:01\n",
      "   ------------------------------------- -- 41.7/44.1 MB 7.8 MB/s eta 0:00:01\n",
      "   -------------------------------------- - 42.3/44.1 MB 7.8 MB/s eta 0:00:01\n",
      "   -------------------------------------- - 42.6/44.1 MB 7.8 MB/s eta 0:00:01\n",
      "   -------------------------------------- - 42.6/44.1 MB 7.8 MB/s eta 0:00:01\n",
      "   -------------------------------------- - 42.8/44.1 MB 7.4 MB/s eta 0:00:01\n",
      "   ---------------------------------------  43.3/44.1 MB 7.3 MB/s eta 0:00:01\n",
      "   ---------------------------------------  43.7/44.1 MB 7.5 MB/s eta 0:00:01\n",
      "   ---------------------------------------  43.8/44.1 MB 7.4 MB/s eta 0:00:01\n",
      "   ---------------------------------------  43.9/44.1 MB 7.3 MB/s eta 0:00:01\n",
      "   ---------------------------------------  44.1/44.1 MB 7.2 MB/s eta 0:00:01\n",
      "   ---------------------------------------  44.1/44.1 MB 7.2 MB/s eta 0:00:01\n",
      "   ---------------------------------------  44.1/44.1 MB 7.2 MB/s eta 0:00:01\n",
      "   ---------------------------------------  44.1/44.1 MB 7.2 MB/s eta 0:00:01\n",
      "   ---------------------------------------  44.1/44.1 MB 7.2 MB/s eta 0:00:01\n",
      "   ---------------------------------------  44.1/44.1 MB 7.2 MB/s eta 0:00:01\n",
      "   ---------------------------------------  44.1/44.1 MB 7.2 MB/s eta 0:00:01\n",
      "   ---------------------------------------  44.1/44.1 MB 7.2 MB/s eta 0:00:01\n",
      "   ---------------------------------------  44.1/44.1 MB 7.2 MB/s eta 0:00:01\n",
      "   ---------------------------------------  44.1/44.1 MB 7.2 MB/s eta 0:00:01\n",
      "   ---------------------------------------  44.1/44.1 MB 7.2 MB/s eta 0:00:01\n",
      "   ---------------------------------------  44.1/44.1 MB 7.2 MB/s eta 0:00:01\n",
      "   ---------------------------------------  44.1/44.1 MB 7.2 MB/s eta 0:00:01\n",
      "   ---------------------------------------  44.1/44.1 MB 7.2 MB/s eta 0:00:01\n",
      "   ---------------------------------------  44.1/44.1 MB 7.2 MB/s eta 0:00:01\n",
      "   ---------------------------------------  44.1/44.1 MB 7.2 MB/s eta 0:00:01\n",
      "   ---------------------------------------  44.1/44.1 MB 7.2 MB/s eta 0:00:01\n",
      "   ---------------------------------------  44.1/44.1 MB 7.2 MB/s eta 0:00:01\n",
      "   ---------------------------------------  44.1/44.1 MB 7.2 MB/s eta 0:00:01\n",
      "   ---------------------------------------  44.1/44.1 MB 7.2 MB/s eta 0:00:01\n",
      "   ---------------------------------------- 44.1/44.1 MB 4.3 MB/s eta 0:00:00\n",
      "Downloading threadpoolctl-3.2.0-py3-none-any.whl (15 kB)\n",
      "Installing collected packages: threadpoolctl, scipy, joblib, scikit-learn\n",
      "Successfully installed joblib-1.3.2 scikit-learn-1.3.2 scipy-1.11.4 threadpoolctl-3.2.0\n",
      "Note: you may need to restart the kernel to use updated packages.\n"
     ]
    },
    {
     "name": "stderr",
     "output_type": "stream",
     "text": [
      "\n",
      "[notice] A new release of pip is available: 23.2.1 -> 23.3.2\n",
      "[notice] To update, run: python.exe -m pip install --upgrade pip\n"
     ]
    }
   ],
   "source": [
    "pip install -U scikit-learn"
   ]
  },
  {
   "cell_type": "code",
   "execution_count": 4,
   "id": "442e7df6-1121-49dc-8727-db0fea236953",
   "metadata": {},
   "outputs": [
    {
     "name": "stdin",
     "output_type": "stream",
     "text": [
      "Enter the name of person Tarang\n"
     ]
    },
    {
     "name": "stdout",
     "output_type": "stream",
     "text": [
      "1\n",
      "2\n",
      "3\n",
      "4\n",
      "5\n",
      "6\n",
      "7\n",
      "8\n",
      "9\n",
      "10\n",
      "11\n",
      "12\n",
      "13\n",
      "14\n",
      "15\n",
      "16\n",
      "17\n",
      "18\n",
      "19\n",
      "20\n",
      "21\n",
      "22\n",
      "23\n",
      "24\n",
      "25\n",
      "26\n",
      "27\n",
      "28\n",
      "29\n",
      "30\n",
      "31\n",
      "32\n",
      "33\n",
      "34\n",
      "35\n",
      "36\n",
      "37\n",
      "38\n",
      "39\n",
      "40\n",
      "41\n",
      "42\n"
     ]
    }
   ],
   "source": [
    "import cv2\n",
    "import numpy as np\n",
    "cap=cv2.VideoCapture(0)\n",
    "faces_cascade=cv2.CascadeClassifier(\".\\haarcascade_frontalface_alt.xml\")\n",
    "face_data=[]\n",
    "datapath=\"C:\\\\Users\\\\taran\\\\OneDrive\\\\Desktop\\\\ML COdes\\\\Face Recogination\\\\.ipynb_checkpoints\\\\data\";\n",
    "skip=0\n",
    "face_section=0\n",
    "\n",
    "file_name=input(\"Enter the name of person\")\n",
    "while True:\n",
    "    ret,frame=cap.read()\n",
    "    faces=faces_cascade.detectMultiScale(frame,1.3,4)\n",
    "    faces=sorted(faces,key=lambda f: f[2]*f[3]);\n",
    "    if ret==False:\n",
    "        continue\n",
    "\n",
    "    for (x,y,w,h) in faces[-1:]:\n",
    "        cv2.rectangle(frame,(x,y),(x+w,y+h),(255,0,0),(2))\n",
    "        offset=10;\n",
    "        face_section = frame[y-offset:y+offset+h,x-offset:x+w+offset]\n",
    "        face_section=cv2.resize(face_section,(100,100))\n",
    "\n",
    "        skip+=1;\n",
    "        if skip%10==0:\n",
    "            face_data.append(face_section)\n",
    "            print(len(face_data))\n",
    "\n",
    "\n",
    "    cv2.imshow(\"VIdeo\",frame)\n",
    "    cv2.imshow(\"VIdeo11\",face_section)\n",
    "\n",
    "    s=cv2.waitKey(1) & 0xFF\n",
    "    if (s==ord(\"q\")):\n",
    "        break\n",
    "\n",
    "\n",
    "face_data=np.asarray(face_data)\n",
    "face_data=face_data.reshape(face_data.shape[0],-1)\n",
    "np.save(datapath+\"\\\\\"+file_name+\".npy\",face_data)\n",
    "\n",
    "\n",
    "cap.release()\n",
    "cv2.destroyAllWindows()"
   ]
  },
  {
   "cell_type": "code",
   "execution_count": 7,
   "id": "8e2433f0",
   "metadata": {},
   "outputs": [],
   "source": [
    "from sklearn.neighbors import KNeighborsClassifier\n",
    "import os\n",
    "import cv2\n",
    "import numpy as np\n",
    "datapath=\"C:\\\\Users\\\\taran\\\\OneDrive\\\\Desktop\\\\ML COdes\\\\Face Recogination\\\\.ipynb_checkpoints\\\\data\";\n",
    "neigh = KNeighborsClassifier(n_neighbors=3)\n",
    "name={}\n",
    "label=[]\n",
    "class_id=0\n",
    "face_data=[]\n",
    "for f in os.listdir(datapath):\n",
    "    if f.endswith(\".npy\"):\n",
    "        name[class_id]=f[:-4]\n",
    "        dta_item=np.load(datapath+\"\\\\\"+f)\n",
    "        face_data.append(dta_item)\n",
    "\n",
    "        target=class_id*np.ones(dta_item.shape[0],)\n",
    "        class_id+=1\n",
    "        label.append(target)\n",
    "\n",
    "face_dataset=np.concatenate(face_data,axis=0)\n",
    "face_labels=np.concatenate(label,axis=0)\n",
    "        \n"
   ]
  },
  {
   "cell_type": "code",
   "execution_count": 8,
   "id": "73739f0b",
   "metadata": {},
   "outputs": [],
   "source": [
    "face_labels= face_labels.reshape((-1,1))\n",
    "trainset=np.concatenate((face_dataset,face_labels),axis=1)\n"
   ]
  },
  {
   "cell_type": "code",
   "execution_count": 9,
   "id": "ab06830c-8c20-4a28-9d02-eadc4885b2f4",
   "metadata": {},
   "outputs": [
    {
     "name": "stderr",
     "output_type": "stream",
     "text": [
      "C:\\Users\\taran\\AppData\\Local\\Programs\\Python\\Python311\\Lib\\site-packages\\sklearn\\neighbors\\_classification.py:233: DataConversionWarning: A column-vector y was passed when a 1d array was expected. Please change the shape of y to (n_samples,), for example using ravel().\n",
      "  return self._fit(X, y)\n"
     ]
    },
    {
     "name": "stdout",
     "output_type": "stream",
     "text": [
      "(30000,) (267, 30000) (267, 1) (267, 30001) (1, 30000)\n",
      "tarang\n",
      "(30000,) (267, 30000) (267, 1) (267, 30001) (1, 30000)\n",
      "tarang\n",
      "(30000,) (267, 30000) (267, 1) (267, 30001) (1, 30000)\n",
      "tarang\n"
     ]
    },
    {
     "name": "stderr",
     "output_type": "stream",
     "text": [
      "C:\\Users\\taran\\AppData\\Local\\Temp\\ipykernel_19952\\3070206848.py:23: DeprecationWarning: Conversion of an array with ndim > 0 to a scalar is deprecated, and will error in future. Ensure you extract a single element from your array before performing this operation. (Deprecated NumPy 1.25.)\n",
      "  pred_name=name[int(pred)]\n",
      "C:\\Users\\taran\\AppData\\Local\\Temp\\ipykernel_19952\\3070206848.py:23: DeprecationWarning: Conversion of an array with ndim > 0 to a scalar is deprecated, and will error in future. Ensure you extract a single element from your array before performing this operation. (Deprecated NumPy 1.25.)\n",
      "  pred_name=name[int(pred)]\n",
      "C:\\Users\\taran\\AppData\\Local\\Temp\\ipykernel_19952\\3070206848.py:23: DeprecationWarning: Conversion of an array with ndim > 0 to a scalar is deprecated, and will error in future. Ensure you extract a single element from your array before performing this operation. (Deprecated NumPy 1.25.)\n",
      "  pred_name=name[int(pred)]\n"
     ]
    },
    {
     "name": "stdout",
     "output_type": "stream",
     "text": [
      "(30000,) (267, 30000) (267, 1) (267, 30001) (1, 30000)\n",
      "tarang\n",
      "(30000,) (267, 30000) (267, 1) (267, 30001) (1, 30000)\n",
      "tarang\n",
      "(30000,) (267, 30000) (267, 1) (267, 30001) (1, 30000)\n"
     ]
    },
    {
     "name": "stderr",
     "output_type": "stream",
     "text": [
      "C:\\Users\\taran\\AppData\\Local\\Temp\\ipykernel_19952\\3070206848.py:23: DeprecationWarning: Conversion of an array with ndim > 0 to a scalar is deprecated, and will error in future. Ensure you extract a single element from your array before performing this operation. (Deprecated NumPy 1.25.)\n",
      "  pred_name=name[int(pred)]\n",
      "C:\\Users\\taran\\AppData\\Local\\Temp\\ipykernel_19952\\3070206848.py:23: DeprecationWarning: Conversion of an array with ndim > 0 to a scalar is deprecated, and will error in future. Ensure you extract a single element from your array before performing this operation. (Deprecated NumPy 1.25.)\n",
      "  pred_name=name[int(pred)]\n",
      "C:\\Users\\taran\\AppData\\Local\\Temp\\ipykernel_19952\\3070206848.py:23: DeprecationWarning: Conversion of an array with ndim > 0 to a scalar is deprecated, and will error in future. Ensure you extract a single element from your array before performing this operation. (Deprecated NumPy 1.25.)\n",
      "  pred_name=name[int(pred)]\n"
     ]
    },
    {
     "name": "stdout",
     "output_type": "stream",
     "text": [
      "tarang\n",
      "(30000,) (267, 30000) (267, 1) (267, 30001) (1, 30000)\n",
      "tarang\n"
     ]
    },
    {
     "name": "stderr",
     "output_type": "stream",
     "text": [
      "C:\\Users\\taran\\AppData\\Local\\Temp\\ipykernel_19952\\3070206848.py:23: DeprecationWarning: Conversion of an array with ndim > 0 to a scalar is deprecated, and will error in future. Ensure you extract a single element from your array before performing this operation. (Deprecated NumPy 1.25.)\n",
      "  pred_name=name[int(pred)]\n",
      "C:\\Users\\taran\\AppData\\Local\\Temp\\ipykernel_19952\\3070206848.py:23: DeprecationWarning: Conversion of an array with ndim > 0 to a scalar is deprecated, and will error in future. Ensure you extract a single element from your array before performing this operation. (Deprecated NumPy 1.25.)\n",
      "  pred_name=name[int(pred)]\n"
     ]
    },
    {
     "name": "stdout",
     "output_type": "stream",
     "text": [
      "(30000,) (267, 30000) (267, 1) (267, 30001) (1, 30000)\n",
      "tarang\n",
      "(30000,) (267, 30000) (267, 1) (267, 30001) (1, 30000)\n",
      "tarang\n"
     ]
    },
    {
     "name": "stderr",
     "output_type": "stream",
     "text": [
      "C:\\Users\\taran\\AppData\\Local\\Temp\\ipykernel_19952\\3070206848.py:23: DeprecationWarning: Conversion of an array with ndim > 0 to a scalar is deprecated, and will error in future. Ensure you extract a single element from your array before performing this operation. (Deprecated NumPy 1.25.)\n",
      "  pred_name=name[int(pred)]\n",
      "C:\\Users\\taran\\AppData\\Local\\Temp\\ipykernel_19952\\3070206848.py:23: DeprecationWarning: Conversion of an array with ndim > 0 to a scalar is deprecated, and will error in future. Ensure you extract a single element from your array before performing this operation. (Deprecated NumPy 1.25.)\n",
      "  pred_name=name[int(pred)]\n"
     ]
    },
    {
     "name": "stdout",
     "output_type": "stream",
     "text": [
      "(30000,) (267, 30000) (267, 1) (267, 30001) (1, 30000)\n",
      "tarang\n",
      "(30000,) (267, 30000) (267, 1) (267, 30001) (1, 30000)\n",
      "tarang\n"
     ]
    },
    {
     "name": "stderr",
     "output_type": "stream",
     "text": [
      "C:\\Users\\taran\\AppData\\Local\\Temp\\ipykernel_19952\\3070206848.py:23: DeprecationWarning: Conversion of an array with ndim > 0 to a scalar is deprecated, and will error in future. Ensure you extract a single element from your array before performing this operation. (Deprecated NumPy 1.25.)\n",
      "  pred_name=name[int(pred)]\n"
     ]
    },
    {
     "name": "stdout",
     "output_type": "stream",
     "text": [
      "(30000,) (267, 30000) (267, 1) (267, 30001) (1, 30000)\n",
      "tarang\n"
     ]
    },
    {
     "name": "stderr",
     "output_type": "stream",
     "text": [
      "C:\\Users\\taran\\AppData\\Local\\Temp\\ipykernel_19952\\3070206848.py:23: DeprecationWarning: Conversion of an array with ndim > 0 to a scalar is deprecated, and will error in future. Ensure you extract a single element from your array before performing this operation. (Deprecated NumPy 1.25.)\n",
      "  pred_name=name[int(pred)]\n"
     ]
    },
    {
     "name": "stdout",
     "output_type": "stream",
     "text": [
      "(30000,) (267, 30000) (267, 1) (267, 30001) (1, 30000)\n",
      "tarang\n"
     ]
    },
    {
     "name": "stderr",
     "output_type": "stream",
     "text": [
      "C:\\Users\\taran\\AppData\\Local\\Temp\\ipykernel_19952\\3070206848.py:23: DeprecationWarning: Conversion of an array with ndim > 0 to a scalar is deprecated, and will error in future. Ensure you extract a single element from your array before performing this operation. (Deprecated NumPy 1.25.)\n",
      "  pred_name=name[int(pred)]\n"
     ]
    },
    {
     "name": "stdout",
     "output_type": "stream",
     "text": [
      "(30000,) (267, 30000) (267, 1) (267, 30001) (1, 30000)\n",
      "tarang\n"
     ]
    },
    {
     "name": "stderr",
     "output_type": "stream",
     "text": [
      "C:\\Users\\taran\\AppData\\Local\\Temp\\ipykernel_19952\\3070206848.py:23: DeprecationWarning: Conversion of an array with ndim > 0 to a scalar is deprecated, and will error in future. Ensure you extract a single element from your array before performing this operation. (Deprecated NumPy 1.25.)\n",
      "  pred_name=name[int(pred)]\n"
     ]
    },
    {
     "name": "stdout",
     "output_type": "stream",
     "text": [
      "(30000,) (267, 30000) (267, 1) (267, 30001) (1, 30000)\n",
      "tarang\n"
     ]
    },
    {
     "name": "stderr",
     "output_type": "stream",
     "text": [
      "C:\\Users\\taran\\AppData\\Local\\Temp\\ipykernel_19952\\3070206848.py:23: DeprecationWarning: Conversion of an array with ndim > 0 to a scalar is deprecated, and will error in future. Ensure you extract a single element from your array before performing this operation. (Deprecated NumPy 1.25.)\n",
      "  pred_name=name[int(pred)]\n"
     ]
    },
    {
     "name": "stdout",
     "output_type": "stream",
     "text": [
      "(30000,) (267, 30000) (267, 1) (267, 30001) (1, 30000)\n",
      "tarang\n"
     ]
    },
    {
     "name": "stderr",
     "output_type": "stream",
     "text": [
      "C:\\Users\\taran\\AppData\\Local\\Temp\\ipykernel_19952\\3070206848.py:23: DeprecationWarning: Conversion of an array with ndim > 0 to a scalar is deprecated, and will error in future. Ensure you extract a single element from your array before performing this operation. (Deprecated NumPy 1.25.)\n",
      "  pred_name=name[int(pred)]\n"
     ]
    },
    {
     "name": "stdout",
     "output_type": "stream",
     "text": [
      "(30000,) (267, 30000) (267, 1) (267, 30001) (1, 30000)\n",
      "tarang\n",
      "(30000,) (267, 30000) (267, 1) (267, 30001) (1, 30000)\n",
      "tarang\n"
     ]
    },
    {
     "name": "stderr",
     "output_type": "stream",
     "text": [
      "C:\\Users\\taran\\AppData\\Local\\Temp\\ipykernel_19952\\3070206848.py:23: DeprecationWarning: Conversion of an array with ndim > 0 to a scalar is deprecated, and will error in future. Ensure you extract a single element from your array before performing this operation. (Deprecated NumPy 1.25.)\n",
      "  pred_name=name[int(pred)]\n",
      "C:\\Users\\taran\\AppData\\Local\\Temp\\ipykernel_19952\\3070206848.py:23: DeprecationWarning: Conversion of an array with ndim > 0 to a scalar is deprecated, and will error in future. Ensure you extract a single element from your array before performing this operation. (Deprecated NumPy 1.25.)\n",
      "  pred_name=name[int(pred)]\n"
     ]
    },
    {
     "name": "stdout",
     "output_type": "stream",
     "text": [
      "(30000,) (267, 30000) (267, 1) (267, 30001) (1, 30000)\n",
      "tarang\n",
      "(30000,) (267, 30000) (267, 1) (267, 30001) (1, 30000)\n",
      "tarang\n"
     ]
    },
    {
     "name": "stderr",
     "output_type": "stream",
     "text": [
      "C:\\Users\\taran\\AppData\\Local\\Temp\\ipykernel_19952\\3070206848.py:23: DeprecationWarning: Conversion of an array with ndim > 0 to a scalar is deprecated, and will error in future. Ensure you extract a single element from your array before performing this operation. (Deprecated NumPy 1.25.)\n",
      "  pred_name=name[int(pred)]\n",
      "C:\\Users\\taran\\AppData\\Local\\Temp\\ipykernel_19952\\3070206848.py:23: DeprecationWarning: Conversion of an array with ndim > 0 to a scalar is deprecated, and will error in future. Ensure you extract a single element from your array before performing this operation. (Deprecated NumPy 1.25.)\n",
      "  pred_name=name[int(pred)]\n"
     ]
    },
    {
     "name": "stdout",
     "output_type": "stream",
     "text": [
      "(30000,) (267, 30000) (267, 1) (267, 30001) (1, 30000)\n",
      "tarang\n",
      "(30000,) (267, 30000) (267, 1) (267, 30001) (1, 30000)\n",
      "tarang\n"
     ]
    },
    {
     "name": "stderr",
     "output_type": "stream",
     "text": [
      "C:\\Users\\taran\\AppData\\Local\\Temp\\ipykernel_19952\\3070206848.py:23: DeprecationWarning: Conversion of an array with ndim > 0 to a scalar is deprecated, and will error in future. Ensure you extract a single element from your array before performing this operation. (Deprecated NumPy 1.25.)\n",
      "  pred_name=name[int(pred)]\n",
      "C:\\Users\\taran\\AppData\\Local\\Temp\\ipykernel_19952\\3070206848.py:23: DeprecationWarning: Conversion of an array with ndim > 0 to a scalar is deprecated, and will error in future. Ensure you extract a single element from your array before performing this operation. (Deprecated NumPy 1.25.)\n",
      "  pred_name=name[int(pred)]\n"
     ]
    },
    {
     "name": "stdout",
     "output_type": "stream",
     "text": [
      "(30000,) (267, 30000) (267, 1) (267, 30001) (1, 30000)\n",
      "tarang\n",
      "(30000,) (267, 30000) (267, 1) (267, 30001) (1, 30000)\n",
      "tarang\n"
     ]
    },
    {
     "name": "stderr",
     "output_type": "stream",
     "text": [
      "C:\\Users\\taran\\AppData\\Local\\Temp\\ipykernel_19952\\3070206848.py:23: DeprecationWarning: Conversion of an array with ndim > 0 to a scalar is deprecated, and will error in future. Ensure you extract a single element from your array before performing this operation. (Deprecated NumPy 1.25.)\n",
      "  pred_name=name[int(pred)]\n",
      "C:\\Users\\taran\\AppData\\Local\\Temp\\ipykernel_19952\\3070206848.py:23: DeprecationWarning: Conversion of an array with ndim > 0 to a scalar is deprecated, and will error in future. Ensure you extract a single element from your array before performing this operation. (Deprecated NumPy 1.25.)\n",
      "  pred_name=name[int(pred)]\n",
      "C:\\Users\\taran\\AppData\\Local\\Temp\\ipykernel_19952\\3070206848.py:23: DeprecationWarning: Conversion of an array with ndim > 0 to a scalar is deprecated, and will error in future. Ensure you extract a single element from your array before performing this operation. (Deprecated NumPy 1.25.)\n",
      "  pred_name=name[int(pred)]\n"
     ]
    },
    {
     "name": "stdout",
     "output_type": "stream",
     "text": [
      "(30000,) (267, 30000) (267, 1) (267, 30001) (1, 30000)\n",
      "tarang\n",
      "(30000,) (267, 30000) (267, 1) (267, 30001) (1, 30000)\n"
     ]
    },
    {
     "name": "stderr",
     "output_type": "stream",
     "text": [
      "C:\\Users\\taran\\AppData\\Local\\Temp\\ipykernel_19952\\3070206848.py:23: DeprecationWarning: Conversion of an array with ndim > 0 to a scalar is deprecated, and will error in future. Ensure you extract a single element from your array before performing this operation. (Deprecated NumPy 1.25.)\n",
      "  pred_name=name[int(pred)]\n",
      "C:\\Users\\taran\\AppData\\Local\\Temp\\ipykernel_19952\\3070206848.py:23: DeprecationWarning: Conversion of an array with ndim > 0 to a scalar is deprecated, and will error in future. Ensure you extract a single element from your array before performing this operation. (Deprecated NumPy 1.25.)\n",
      "  pred_name=name[int(pred)]\n",
      "C:\\Users\\taran\\AppData\\Local\\Temp\\ipykernel_19952\\3070206848.py:23: DeprecationWarning: Conversion of an array with ndim > 0 to a scalar is deprecated, and will error in future. Ensure you extract a single element from your array before performing this operation. (Deprecated NumPy 1.25.)\n",
      "  pred_name=name[int(pred)]\n"
     ]
    },
    {
     "name": "stdout",
     "output_type": "stream",
     "text": [
      "tarang\n",
      "(30000,) (267, 30000) (267, 1) (267, 30001) (1, 30000)\n",
      "tarang\n",
      "(30000,) (267, 30000) (267, 1) (267, 30001) (1, 30000)\n",
      "tarang\n",
      "(30000,) (267, 30000) (267, 1) (267, 30001) (1, 30000)\n",
      "tarang\n",
      "(30000,) (267, 30000) (267, 1) (267, 30001) (1, 30000)\n",
      "tarang\n",
      "(30000,) (267, 30000) (267, 1) (267, 30001) (1, 30000)\n"
     ]
    },
    {
     "name": "stderr",
     "output_type": "stream",
     "text": [
      "C:\\Users\\taran\\AppData\\Local\\Temp\\ipykernel_19952\\3070206848.py:23: DeprecationWarning: Conversion of an array with ndim > 0 to a scalar is deprecated, and will error in future. Ensure you extract a single element from your array before performing this operation. (Deprecated NumPy 1.25.)\n",
      "  pred_name=name[int(pred)]\n",
      "C:\\Users\\taran\\AppData\\Local\\Temp\\ipykernel_19952\\3070206848.py:23: DeprecationWarning: Conversion of an array with ndim > 0 to a scalar is deprecated, and will error in future. Ensure you extract a single element from your array before performing this operation. (Deprecated NumPy 1.25.)\n",
      "  pred_name=name[int(pred)]\n",
      "C:\\Users\\taran\\AppData\\Local\\Temp\\ipykernel_19952\\3070206848.py:23: DeprecationWarning: Conversion of an array with ndim > 0 to a scalar is deprecated, and will error in future. Ensure you extract a single element from your array before performing this operation. (Deprecated NumPy 1.25.)\n",
      "  pred_name=name[int(pred)]\n"
     ]
    },
    {
     "name": "stdout",
     "output_type": "stream",
     "text": [
      "tarang\n",
      "(30000,) (267, 30000) (267, 1) (267, 30001) (1, 30000)\n",
      "tarang\n"
     ]
    },
    {
     "name": "stderr",
     "output_type": "stream",
     "text": [
      "C:\\Users\\taran\\AppData\\Local\\Temp\\ipykernel_19952\\3070206848.py:23: DeprecationWarning: Conversion of an array with ndim > 0 to a scalar is deprecated, and will error in future. Ensure you extract a single element from your array before performing this operation. (Deprecated NumPy 1.25.)\n",
      "  pred_name=name[int(pred)]\n"
     ]
    },
    {
     "name": "stdout",
     "output_type": "stream",
     "text": [
      "(30000,) (267, 30000) (267, 1) (267, 30001) (1, 30000)\n",
      "tarang\n",
      "(30000,) (267, 30000) (267, 1) (267, 30001) (1, 30000)\n",
      "tarang\n",
      "(30000,) (267, 30000) (267, 1) (267, 30001) (1, 30000)\n"
     ]
    },
    {
     "name": "stderr",
     "output_type": "stream",
     "text": [
      "C:\\Users\\taran\\AppData\\Local\\Temp\\ipykernel_19952\\3070206848.py:23: DeprecationWarning: Conversion of an array with ndim > 0 to a scalar is deprecated, and will error in future. Ensure you extract a single element from your array before performing this operation. (Deprecated NumPy 1.25.)\n",
      "  pred_name=name[int(pred)]\n",
      "C:\\Users\\taran\\AppData\\Local\\Temp\\ipykernel_19952\\3070206848.py:23: DeprecationWarning: Conversion of an array with ndim > 0 to a scalar is deprecated, and will error in future. Ensure you extract a single element from your array before performing this operation. (Deprecated NumPy 1.25.)\n",
      "  pred_name=name[int(pred)]\n",
      "C:\\Users\\taran\\AppData\\Local\\Temp\\ipykernel_19952\\3070206848.py:23: DeprecationWarning: Conversion of an array with ndim > 0 to a scalar is deprecated, and will error in future. Ensure you extract a single element from your array before performing this operation. (Deprecated NumPy 1.25.)\n",
      "  pred_name=name[int(pred)]\n"
     ]
    },
    {
     "name": "stdout",
     "output_type": "stream",
     "text": [
      "tarang\n",
      "(30000,) (267, 30000) (267, 1) (267, 30001) (1, 30000)\n",
      "tarang\n",
      "(30000,) (267, 30000) (267, 1) (267, 30001) (1, 30000)\n",
      "tarang\n"
     ]
    },
    {
     "name": "stderr",
     "output_type": "stream",
     "text": [
      "C:\\Users\\taran\\AppData\\Local\\Temp\\ipykernel_19952\\3070206848.py:23: DeprecationWarning: Conversion of an array with ndim > 0 to a scalar is deprecated, and will error in future. Ensure you extract a single element from your array before performing this operation. (Deprecated NumPy 1.25.)\n",
      "  pred_name=name[int(pred)]\n",
      "C:\\Users\\taran\\AppData\\Local\\Temp\\ipykernel_19952\\3070206848.py:23: DeprecationWarning: Conversion of an array with ndim > 0 to a scalar is deprecated, and will error in future. Ensure you extract a single element from your array before performing this operation. (Deprecated NumPy 1.25.)\n",
      "  pred_name=name[int(pred)]\n"
     ]
    },
    {
     "name": "stdout",
     "output_type": "stream",
     "text": [
      "(30000,) (267, 30000) (267, 1) (267, 30001) (1, 30000)\n",
      "tarang\n",
      "(30000,) (267, 30000) (267, 1) (267, 30001) (1, 30000)\n",
      "tarang\n",
      "(30000,) (267, 30000) (267, 1) (267, 30001) (1, 30000)\n",
      "tarang\n"
     ]
    },
    {
     "name": "stderr",
     "output_type": "stream",
     "text": [
      "C:\\Users\\taran\\AppData\\Local\\Temp\\ipykernel_19952\\3070206848.py:23: DeprecationWarning: Conversion of an array with ndim > 0 to a scalar is deprecated, and will error in future. Ensure you extract a single element from your array before performing this operation. (Deprecated NumPy 1.25.)\n",
      "  pred_name=name[int(pred)]\n",
      "C:\\Users\\taran\\AppData\\Local\\Temp\\ipykernel_19952\\3070206848.py:23: DeprecationWarning: Conversion of an array with ndim > 0 to a scalar is deprecated, and will error in future. Ensure you extract a single element from your array before performing this operation. (Deprecated NumPy 1.25.)\n",
      "  pred_name=name[int(pred)]\n",
      "C:\\Users\\taran\\AppData\\Local\\Temp\\ipykernel_19952\\3070206848.py:23: DeprecationWarning: Conversion of an array with ndim > 0 to a scalar is deprecated, and will error in future. Ensure you extract a single element from your array before performing this operation. (Deprecated NumPy 1.25.)\n",
      "  pred_name=name[int(pred)]\n"
     ]
    },
    {
     "name": "stdout",
     "output_type": "stream",
     "text": [
      "(30000,) (267, 30000) (267, 1) (267, 30001) (1, 30000)\n",
      "tarang\n",
      "(30000,) (267, 30000) (267, 1) (267, 30001) (1, 30000)\n",
      "tarang\n",
      "(30000,) (267, 30000) (267, 1) (267, 30001) (1, 30000)\n",
      "tarang\n"
     ]
    },
    {
     "name": "stderr",
     "output_type": "stream",
     "text": [
      "C:\\Users\\taran\\AppData\\Local\\Temp\\ipykernel_19952\\3070206848.py:23: DeprecationWarning: Conversion of an array with ndim > 0 to a scalar is deprecated, and will error in future. Ensure you extract a single element from your array before performing this operation. (Deprecated NumPy 1.25.)\n",
      "  pred_name=name[int(pred)]\n",
      "C:\\Users\\taran\\AppData\\Local\\Temp\\ipykernel_19952\\3070206848.py:23: DeprecationWarning: Conversion of an array with ndim > 0 to a scalar is deprecated, and will error in future. Ensure you extract a single element from your array before performing this operation. (Deprecated NumPy 1.25.)\n",
      "  pred_name=name[int(pred)]\n",
      "C:\\Users\\taran\\AppData\\Local\\Temp\\ipykernel_19952\\3070206848.py:23: DeprecationWarning: Conversion of an array with ndim > 0 to a scalar is deprecated, and will error in future. Ensure you extract a single element from your array before performing this operation. (Deprecated NumPy 1.25.)\n",
      "  pred_name=name[int(pred)]\n"
     ]
    },
    {
     "name": "stdout",
     "output_type": "stream",
     "text": [
      "(30000,) (267, 30000) (267, 1) (267, 30001) (1, 30000)\n",
      "tarang\n",
      "(30000,) (267, 30000) (267, 1) (267, 30001) (1, 30000)\n",
      "tarang\n",
      "(30000,) (267, 30000) (267, 1) (267, 30001) (1, 30000)\n"
     ]
    },
    {
     "name": "stderr",
     "output_type": "stream",
     "text": [
      "C:\\Users\\taran\\AppData\\Local\\Temp\\ipykernel_19952\\3070206848.py:23: DeprecationWarning: Conversion of an array with ndim > 0 to a scalar is deprecated, and will error in future. Ensure you extract a single element from your array before performing this operation. (Deprecated NumPy 1.25.)\n",
      "  pred_name=name[int(pred)]\n",
      "C:\\Users\\taran\\AppData\\Local\\Temp\\ipykernel_19952\\3070206848.py:23: DeprecationWarning: Conversion of an array with ndim > 0 to a scalar is deprecated, and will error in future. Ensure you extract a single element from your array before performing this operation. (Deprecated NumPy 1.25.)\n",
      "  pred_name=name[int(pred)]\n",
      "C:\\Users\\taran\\AppData\\Local\\Temp\\ipykernel_19952\\3070206848.py:23: DeprecationWarning: Conversion of an array with ndim > 0 to a scalar is deprecated, and will error in future. Ensure you extract a single element from your array before performing this operation. (Deprecated NumPy 1.25.)\n",
      "  pred_name=name[int(pred)]\n"
     ]
    },
    {
     "name": "stdout",
     "output_type": "stream",
     "text": [
      "tarang\n",
      "(30000,) (267, 30000) (267, 1) (267, 30001) (1, 30000)\n",
      "tarang\n",
      "(30000,) (267, 30000) (267, 1) (267, 30001) (1, 30000)\n",
      "tarang\n"
     ]
    },
    {
     "name": "stderr",
     "output_type": "stream",
     "text": [
      "C:\\Users\\taran\\AppData\\Local\\Temp\\ipykernel_19952\\3070206848.py:23: DeprecationWarning: Conversion of an array with ndim > 0 to a scalar is deprecated, and will error in future. Ensure you extract a single element from your array before performing this operation. (Deprecated NumPy 1.25.)\n",
      "  pred_name=name[int(pred)]\n",
      "C:\\Users\\taran\\AppData\\Local\\Temp\\ipykernel_19952\\3070206848.py:23: DeprecationWarning: Conversion of an array with ndim > 0 to a scalar is deprecated, and will error in future. Ensure you extract a single element from your array before performing this operation. (Deprecated NumPy 1.25.)\n",
      "  pred_name=name[int(pred)]\n"
     ]
    },
    {
     "name": "stdout",
     "output_type": "stream",
     "text": [
      "(30000,) (267, 30000) (267, 1) (267, 30001) (1, 30000)\n",
      "tarang\n",
      "(30000,) (267, 30000) (267, 1) (267, 30001) (1, 30000)\n",
      "tarang\n",
      "(30000,) (267, 30000) (267, 1) (267, 30001) (1, 30000)\n"
     ]
    },
    {
     "name": "stderr",
     "output_type": "stream",
     "text": [
      "C:\\Users\\taran\\AppData\\Local\\Temp\\ipykernel_19952\\3070206848.py:23: DeprecationWarning: Conversion of an array with ndim > 0 to a scalar is deprecated, and will error in future. Ensure you extract a single element from your array before performing this operation. (Deprecated NumPy 1.25.)\n",
      "  pred_name=name[int(pred)]\n",
      "C:\\Users\\taran\\AppData\\Local\\Temp\\ipykernel_19952\\3070206848.py:23: DeprecationWarning: Conversion of an array with ndim > 0 to a scalar is deprecated, and will error in future. Ensure you extract a single element from your array before performing this operation. (Deprecated NumPy 1.25.)\n",
      "  pred_name=name[int(pred)]\n",
      "C:\\Users\\taran\\AppData\\Local\\Temp\\ipykernel_19952\\3070206848.py:23: DeprecationWarning: Conversion of an array with ndim > 0 to a scalar is deprecated, and will error in future. Ensure you extract a single element from your array before performing this operation. (Deprecated NumPy 1.25.)\n",
      "  pred_name=name[int(pred)]\n"
     ]
    },
    {
     "name": "stdout",
     "output_type": "stream",
     "text": [
      "tarang\n",
      "(30000,) (267, 30000) (267, 1) (267, 30001) (1, 30000)\n",
      "tarang\n",
      "(30000,) (267, 30000) (267, 1) (267, 30001) (1, 30000)\n",
      "tarang\n",
      "(30000,) (267, 30000) (267, 1) (267, 30001) (1, 30000)\n"
     ]
    },
    {
     "name": "stderr",
     "output_type": "stream",
     "text": [
      "C:\\Users\\taran\\AppData\\Local\\Temp\\ipykernel_19952\\3070206848.py:23: DeprecationWarning: Conversion of an array with ndim > 0 to a scalar is deprecated, and will error in future. Ensure you extract a single element from your array before performing this operation. (Deprecated NumPy 1.25.)\n",
      "  pred_name=name[int(pred)]\n",
      "C:\\Users\\taran\\AppData\\Local\\Temp\\ipykernel_19952\\3070206848.py:23: DeprecationWarning: Conversion of an array with ndim > 0 to a scalar is deprecated, and will error in future. Ensure you extract a single element from your array before performing this operation. (Deprecated NumPy 1.25.)\n",
      "  pred_name=name[int(pred)]\n",
      "C:\\Users\\taran\\AppData\\Local\\Temp\\ipykernel_19952\\3070206848.py:23: DeprecationWarning: Conversion of an array with ndim > 0 to a scalar is deprecated, and will error in future. Ensure you extract a single element from your array before performing this operation. (Deprecated NumPy 1.25.)\n",
      "  pred_name=name[int(pred)]\n"
     ]
    },
    {
     "name": "stdout",
     "output_type": "stream",
     "text": [
      "tarang\n",
      "(30000,) (267, 30000) (267, 1) (267, 30001) (1, 30000)\n",
      "tarang\n",
      "(30000,) (267, 30000) (267, 1) (267, 30001) (1, 30000)\n",
      "tarang\n"
     ]
    },
    {
     "name": "stderr",
     "output_type": "stream",
     "text": [
      "C:\\Users\\taran\\AppData\\Local\\Temp\\ipykernel_19952\\3070206848.py:23: DeprecationWarning: Conversion of an array with ndim > 0 to a scalar is deprecated, and will error in future. Ensure you extract a single element from your array before performing this operation. (Deprecated NumPy 1.25.)\n",
      "  pred_name=name[int(pred)]\n",
      "C:\\Users\\taran\\AppData\\Local\\Temp\\ipykernel_19952\\3070206848.py:23: DeprecationWarning: Conversion of an array with ndim > 0 to a scalar is deprecated, and will error in future. Ensure you extract a single element from your array before performing this operation. (Deprecated NumPy 1.25.)\n",
      "  pred_name=name[int(pred)]\n",
      "C:\\Users\\taran\\AppData\\Local\\Temp\\ipykernel_19952\\3070206848.py:23: DeprecationWarning: Conversion of an array with ndim > 0 to a scalar is deprecated, and will error in future. Ensure you extract a single element from your array before performing this operation. (Deprecated NumPy 1.25.)\n",
      "  pred_name=name[int(pred)]\n"
     ]
    },
    {
     "name": "stdout",
     "output_type": "stream",
     "text": [
      "(30000,) (267, 30000) (267, 1) (267, 30001) (1, 30000)\n",
      "tarang\n",
      "(30000,) (267, 30000) (267, 1) (267, 30001) (1, 30000)\n",
      "tarang\n",
      "(30000,) (267, 30000) (267, 1) (267, 30001) (1, 30000)\n",
      "tarang\n"
     ]
    },
    {
     "name": "stderr",
     "output_type": "stream",
     "text": [
      "C:\\Users\\taran\\AppData\\Local\\Temp\\ipykernel_19952\\3070206848.py:23: DeprecationWarning: Conversion of an array with ndim > 0 to a scalar is deprecated, and will error in future. Ensure you extract a single element from your array before performing this operation. (Deprecated NumPy 1.25.)\n",
      "  pred_name=name[int(pred)]\n",
      "C:\\Users\\taran\\AppData\\Local\\Temp\\ipykernel_19952\\3070206848.py:23: DeprecationWarning: Conversion of an array with ndim > 0 to a scalar is deprecated, and will error in future. Ensure you extract a single element from your array before performing this operation. (Deprecated NumPy 1.25.)\n",
      "  pred_name=name[int(pred)]\n",
      "C:\\Users\\taran\\AppData\\Local\\Temp\\ipykernel_19952\\3070206848.py:23: DeprecationWarning: Conversion of an array with ndim > 0 to a scalar is deprecated, and will error in future. Ensure you extract a single element from your array before performing this operation. (Deprecated NumPy 1.25.)\n",
      "  pred_name=name[int(pred)]\n"
     ]
    },
    {
     "name": "stdout",
     "output_type": "stream",
     "text": [
      "(30000,) (267, 30000) (267, 1) (267, 30001) (1, 30000)\n",
      "tarang\n",
      "(30000,) (267, 30000) (267, 1) (267, 30001) (1, 30000)\n",
      "tarang\n"
     ]
    },
    {
     "name": "stderr",
     "output_type": "stream",
     "text": [
      "C:\\Users\\taran\\AppData\\Local\\Temp\\ipykernel_19952\\3070206848.py:23: DeprecationWarning: Conversion of an array with ndim > 0 to a scalar is deprecated, and will error in future. Ensure you extract a single element from your array before performing this operation. (Deprecated NumPy 1.25.)\n",
      "  pred_name=name[int(pred)]\n"
     ]
    },
    {
     "name": "stdout",
     "output_type": "stream",
     "text": [
      "(30000,) (267, 30000) (267, 1) (267, 30001) (1, 30000)\n",
      "tarang\n"
     ]
    },
    {
     "name": "stderr",
     "output_type": "stream",
     "text": [
      "C:\\Users\\taran\\AppData\\Local\\Temp\\ipykernel_19952\\3070206848.py:23: DeprecationWarning: Conversion of an array with ndim > 0 to a scalar is deprecated, and will error in future. Ensure you extract a single element from your array before performing this operation. (Deprecated NumPy 1.25.)\n",
      "  pred_name=name[int(pred)]\n"
     ]
    },
    {
     "name": "stdout",
     "output_type": "stream",
     "text": [
      "(30000,) (267, 30000) (267, 1) (267, 30001) (1, 30000)\n",
      "tarang\n"
     ]
    },
    {
     "name": "stderr",
     "output_type": "stream",
     "text": [
      "C:\\Users\\taran\\AppData\\Local\\Temp\\ipykernel_19952\\3070206848.py:23: DeprecationWarning: Conversion of an array with ndim > 0 to a scalar is deprecated, and will error in future. Ensure you extract a single element from your array before performing this operation. (Deprecated NumPy 1.25.)\n",
      "  pred_name=name[int(pred)]\n"
     ]
    }
   ],
   "source": [
    "cap1=cv2.VideoCapture(0)\n",
    "\n",
    "faces_cascade=cv2.CascadeClassifier(\".\\haarcascade_frontalface_alt.xml\")\n",
    "neigh.fit(face_dataset,face_labels)\n",
    "face_section1=0\n",
    "\n",
    "while True:\n",
    "    ret,frame=cap1.read()\n",
    "    faces1=faces_cascade.detectMultiScale(frame,1.3,4)\n",
    "    \n",
    "    if ret==False:\n",
    "        continue\n",
    "\n",
    "    for (x,y,w,h) in faces1:\n",
    "        \n",
    "        offset=10;\n",
    "        face_section1 = frame[y-offset:y+offset+h,x-offset:x+w+offset]\n",
    "        face_section1=cv2.resize(face_section1,(100,100))\n",
    "        print(face_section1.flatten().shape,face_dataset.shape,face_labels.shape,trainset.shape,face_section1.reshape(1,-1).shape)\n",
    "        \n",
    "        pred=neigh.predict(face_section1.reshape(1,-1))\n",
    "        \n",
    "        pred_name=name[int(pred)]\n",
    "        print(pred_name)\n",
    "        cv2.putText(frame, pred_name, (x,y-10), cv2.FONT_HERSHEY_SIMPLEX, 1,[255,0,0],2, cv2.LINE_AA, False)\n",
    "        cv2.rectangle(frame,(x,y),(x+w,y+h),[255,255,0],2)\n",
    "        \n",
    "\n",
    "\n",
    "    cv2.imshow(\"VIdeo\",frame)\n",
    "   \n",
    "\n",
    "    s=cv2.waitKey(1) & 0xFF\n",
    "    if (s==ord(\"q\")):\n",
    "        break\n",
    "\n",
    "\n",
    "\n",
    "\n",
    "\n",
    "cap1.release()\n",
    "cv2.destroyAllWindows()"
   ]
  },
  {
   "cell_type": "code",
   "execution_count": null,
   "id": "f99fcfed-e1a5-4ca6-89ae-75e51ad777e0",
   "metadata": {},
   "outputs": [],
   "source": []
  },
  {
   "cell_type": "code",
   "execution_count": null,
   "id": "1a40cf18-cee3-4ef2-a0be-57646701b73f",
   "metadata": {},
   "outputs": [],
   "source": []
  }
 ],
 "metadata": {
  "kernelspec": {
   "display_name": "Python 3 (ipykernel)",
   "language": "python",
   "name": "python3"
  },
  "language_info": {
   "codemirror_mode": {
    "name": "ipython",
    "version": 3
   },
   "file_extension": ".py",
   "mimetype": "text/x-python",
   "name": "python",
   "nbconvert_exporter": "python",
   "pygments_lexer": "ipython3",
   "version": "3.11.5"
  }
 },
 "nbformat": 4,
 "nbformat_minor": 5
}
