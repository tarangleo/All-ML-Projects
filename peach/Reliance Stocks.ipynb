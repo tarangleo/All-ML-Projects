{
 "cells": [
  {
   "cell_type": "code",
   "execution_count": 22,
   "id": "4a86cc90-72de-430f-8fe5-fd5de65b1691",
   "metadata": {},
   "outputs": [],
   "source": [
    "import pandas as pd\n",
    "import numpy as np\n",
    "import matplotlib.pyplot as plt\n",
    "%matplotlib inline"
   ]
  },
  {
   "cell_type": "code",
   "execution_count": 23,
   "id": "ba898a85-3436-4e07-a270-cd5f1d674abf",
   "metadata": {},
   "outputs": [],
   "source": [
    "time_series=pd.read_csv(\"RELIANCE.NS.csv\",index_col=0)"
   ]
  },
  {
   "cell_type": "code",
   "execution_count": 24,
   "id": "67f3b764-4331-44f5-8187-08d6a207effd",
   "metadata": {},
   "outputs": [],
   "source": [
    "# for i in range(time_series[\"Date\"].shape[0]):\n",
    "#     time_series[\"Date\"][i]=float(time_series[\"Date\"][i].replace('-', ''))"
   ]
  },
  {
   "cell_type": "code",
   "execution_count": 25,
   "id": "e833bb80-ae4a-47d8-9bd5-b9c1d83cd7ec",
   "metadata": {},
   "outputs": [
    {
     "data": {
      "text/plain": [
       "Index(['Open', 'High', 'Low', 'Close', 'Adj Close', 'Volume'], dtype='object')"
      ]
     },
     "execution_count": 25,
     "metadata": {},
     "output_type": "execute_result"
    }
   ],
   "source": [
    "time_series.columns"
   ]
  },
  {
   "cell_type": "code",
   "execution_count": null,
   "id": "ea61153f-df92-498a-b57a-d32a583dec80",
   "metadata": {},
   "outputs": [],
   "source": []
  },
  {
   "cell_type": "code",
   "execution_count": 26,
   "id": "329044fe-3a3c-4140-a439-1906f32658f8",
   "metadata": {},
   "outputs": [],
   "source": [
    "# fig, axes = plt.subplots(nrows=3, ncols=2, dpi=120, figsize=(10,6))\n",
    "# for i, ax in enumerate(axes.flatten()):\n",
    "#     data = time_series[time_series.columns[i]]\n",
    "#     ax.plot(data, color='red', linewidth=1)\n",
    "#     # Decorations\n",
    "#     ax.set_title(time_series.columns[i])\n",
    "#     ax.xaxis.set_ticks_position('none')\n",
    "#     ax.yaxis.set_ticks_position('none')\n",
    "#     ax.spines[\"top\"].set_alpha(0)\n",
    "#     ax.tick_params(labelsize=6)\n",
    "\n",
    "# plt.tight_layout();"
   ]
  },
  {
   "cell_type": "code",
   "execution_count": 27,
   "id": "25c3a626-c235-4ca5-ac4e-b4f48b4651bb",
   "metadata": {},
   "outputs": [
    {
     "data": {
      "text/html": [
       "<div>\n",
       "<style scoped>\n",
       "    .dataframe tbody tr th:only-of-type {\n",
       "        vertical-align: middle;\n",
       "    }\n",
       "\n",
       "    .dataframe tbody tr th {\n",
       "        vertical-align: top;\n",
       "    }\n",
       "\n",
       "    .dataframe thead th {\n",
       "        text-align: right;\n",
       "    }\n",
       "</style>\n",
       "<table border=\"1\" class=\"dataframe\">\n",
       "  <thead>\n",
       "    <tr style=\"text-align: right;\">\n",
       "      <th></th>\n",
       "      <th>Open_x</th>\n",
       "      <th>High_x</th>\n",
       "      <th>Low_x</th>\n",
       "      <th>Close_x</th>\n",
       "      <th>Adj Close_x</th>\n",
       "      <th>Volume_x</th>\n",
       "    </tr>\n",
       "  </thead>\n",
       "  <tbody>\n",
       "    <tr>\n",
       "      <th>Open_y</th>\n",
       "      <td>1.0000</td>\n",
       "      <td>0.0000</td>\n",
       "      <td>0.0000</td>\n",
       "      <td>0.0000</td>\n",
       "      <td>0.0000</td>\n",
       "      <td>0.0360</td>\n",
       "    </tr>\n",
       "    <tr>\n",
       "      <th>High_y</th>\n",
       "      <td>0.0000</td>\n",
       "      <td>1.0000</td>\n",
       "      <td>0.0000</td>\n",
       "      <td>0.0000</td>\n",
       "      <td>0.0000</td>\n",
       "      <td>0.0000</td>\n",
       "    </tr>\n",
       "    <tr>\n",
       "      <th>Low_y</th>\n",
       "      <td>0.0011</td>\n",
       "      <td>0.0000</td>\n",
       "      <td>1.0000</td>\n",
       "      <td>0.0000</td>\n",
       "      <td>0.0000</td>\n",
       "      <td>0.0163</td>\n",
       "    </tr>\n",
       "    <tr>\n",
       "      <th>Close_y</th>\n",
       "      <td>0.5233</td>\n",
       "      <td>0.1434</td>\n",
       "      <td>0.3311</td>\n",
       "      <td>1.0000</td>\n",
       "      <td>0.5623</td>\n",
       "      <td>0.1840</td>\n",
       "    </tr>\n",
       "    <tr>\n",
       "      <th>Adj Close_y</th>\n",
       "      <td>0.5197</td>\n",
       "      <td>0.1432</td>\n",
       "      <td>0.3240</td>\n",
       "      <td>0.5511</td>\n",
       "      <td>1.0000</td>\n",
       "      <td>0.1862</td>\n",
       "    </tr>\n",
       "    <tr>\n",
       "      <th>Volume_y</th>\n",
       "      <td>0.0116</td>\n",
       "      <td>0.0595</td>\n",
       "      <td>0.1227</td>\n",
       "      <td>0.4017</td>\n",
       "      <td>0.4012</td>\n",
       "      <td>1.0000</td>\n",
       "    </tr>\n",
       "  </tbody>\n",
       "</table>\n",
       "</div>"
      ],
      "text/plain": [
       "             Open_x  High_x   Low_x  Close_x  Adj Close_x  Volume_x\n",
       "Open_y       1.0000  0.0000  0.0000   0.0000       0.0000    0.0360\n",
       "High_y       0.0000  1.0000  0.0000   0.0000       0.0000    0.0000\n",
       "Low_y        0.0011  0.0000  1.0000   0.0000       0.0000    0.0163\n",
       "Close_y      0.5233  0.1434  0.3311   1.0000       0.5623    0.1840\n",
       "Adj Close_y  0.5197  0.1432  0.3240   0.5511       1.0000    0.1862\n",
       "Volume_y     0.0116  0.0595  0.1227   0.4017       0.4012    1.0000"
      ]
     },
     "execution_count": 27,
     "metadata": {},
     "output_type": "execute_result"
    }
   ],
   "source": [
    "from statsmodels.tsa.stattools import grangercausalitytests\n",
    "maxlag=12\n",
    "test = 'ssr_chi2test'\n",
    "def grangers_causation_matrix(data, variables, test='ssr_chi2test', verbose=False):    \n",
    "    \"\"\"Check Granger Causality of all possible combinations of the Time series.\n",
    "    The rows are the response variable, columns are predictors. The values in the table \n",
    "    are the P-Values. P-Values lesser than the significance level (0.05), implies \n",
    "    the Null Hypothesis that the coefficients of the corresponding past values is \n",
    "    zero, that is, the X does not cause Y can be rejected.\n",
    "\n",
    "    data      : pandas dataframe containing the time series variables\n",
    "    variables : list containing names of the time series variables.\n",
    "    \"\"\"\n",
    "    df = pd.DataFrame(np.zeros((len(variables), len(variables))), columns=variables, index=variables)\n",
    "    for c in df.columns:\n",
    "        for r in df.index:\n",
    "            test_result = grangercausalitytests(data[[r, c]], maxlag=maxlag, verbose=False)\n",
    "            p_values = [round(test_result[i+1][0][test][1],4) for i in range(maxlag)]\n",
    "            if verbose: print(f'Y = {r}, X = {c}, P Values = {p_values}')\n",
    "            min_p_value = np.min(p_values)\n",
    "            df.loc[r, c] = min_p_value\n",
    "    df.columns = [var + '_x' for var in variables]\n",
    "    df.index = [var + '_y' for var in variables]\n",
    "    return df\n",
    "\n",
    "grangers_causation_matrix(time_series, variables = time_series.columns)   "
   ]
  },
  {
   "cell_type": "code",
   "execution_count": null,
   "id": "ff636f98-2e33-4d7b-aafb-4db8394fcc6e",
   "metadata": {},
   "outputs": [],
   "source": []
  },
  {
   "cell_type": "code",
   "execution_count": null,
   "id": "9a98d42b-a403-4294-9425-8f9594e1a1da",
   "metadata": {},
   "outputs": [],
   "source": []
  },
  {
   "cell_type": "code",
   "execution_count": 28,
   "id": "93c19fbd-874d-43f6-9bd0-4d6742f47535",
   "metadata": {},
   "outputs": [
    {
     "data": {
      "text/html": [
       "<div>\n",
       "<style scoped>\n",
       "    .dataframe tbody tr th:only-of-type {\n",
       "        vertical-align: middle;\n",
       "    }\n",
       "\n",
       "    .dataframe tbody tr th {\n",
       "        vertical-align: top;\n",
       "    }\n",
       "\n",
       "    .dataframe thead th {\n",
       "        text-align: right;\n",
       "    }\n",
       "</style>\n",
       "<table border=\"1\" class=\"dataframe\">\n",
       "  <thead>\n",
       "    <tr style=\"text-align: right;\">\n",
       "      <th></th>\n",
       "      <th>Open</th>\n",
       "      <th>High</th>\n",
       "      <th>Low</th>\n",
       "      <th>Close</th>\n",
       "      <th>Adj Close</th>\n",
       "      <th>Volume</th>\n",
       "    </tr>\n",
       "    <tr>\n",
       "      <th>Date</th>\n",
       "      <th></th>\n",
       "      <th></th>\n",
       "      <th></th>\n",
       "      <th></th>\n",
       "      <th></th>\n",
       "      <th></th>\n",
       "    </tr>\n",
       "  </thead>\n",
       "  <tbody>\n",
       "    <tr>\n",
       "      <th>2022-08-22</th>\n",
       "      <td>2617.000000</td>\n",
       "      <td>2631.300049</td>\n",
       "      <td>2586.000000</td>\n",
       "      <td>2606.600098</td>\n",
       "      <td>2606.600098</td>\n",
       "      <td>4371179</td>\n",
       "    </tr>\n",
       "    <tr>\n",
       "      <th>2022-08-23</th>\n",
       "      <td>2594.000000</td>\n",
       "      <td>2653.199951</td>\n",
       "      <td>2591.350098</td>\n",
       "      <td>2646.800049</td>\n",
       "      <td>2646.800049</td>\n",
       "      <td>4466619</td>\n",
       "    </tr>\n",
       "    <tr>\n",
       "      <th>2022-08-24</th>\n",
       "      <td>2640.100098</td>\n",
       "      <td>2670.000000</td>\n",
       "      <td>2635.350098</td>\n",
       "      <td>2639.750000</td>\n",
       "      <td>2639.750000</td>\n",
       "      <td>4785579</td>\n",
       "    </tr>\n",
       "    <tr>\n",
       "      <th>2022-08-25</th>\n",
       "      <td>2648.949951</td>\n",
       "      <td>2662.899902</td>\n",
       "      <td>2622.600098</td>\n",
       "      <td>2632.050049</td>\n",
       "      <td>2632.050049</td>\n",
       "      <td>3632902</td>\n",
       "    </tr>\n",
       "    <tr>\n",
       "      <th>2022-08-26</th>\n",
       "      <td>2633.000000</td>\n",
       "      <td>2650.000000</td>\n",
       "      <td>2607.000000</td>\n",
       "      <td>2618.000000</td>\n",
       "      <td>2618.000000</td>\n",
       "      <td>4957449</td>\n",
       "    </tr>\n",
       "    <tr>\n",
       "      <th>2022-08-29</th>\n",
       "      <td>2585.000000</td>\n",
       "      <td>2655.000000</td>\n",
       "      <td>2578.050049</td>\n",
       "      <td>2597.649902</td>\n",
       "      <td>2597.649902</td>\n",
       "      <td>9155684</td>\n",
       "    </tr>\n",
       "    <tr>\n",
       "      <th>2022-08-30</th>\n",
       "      <td>2614.000000</td>\n",
       "      <td>2645.250000</td>\n",
       "      <td>2576.600098</td>\n",
       "      <td>2637.949951</td>\n",
       "      <td>2637.949951</td>\n",
       "      <td>10678670</td>\n",
       "    </tr>\n",
       "  </tbody>\n",
       "</table>\n",
       "</div>"
      ],
      "text/plain": [
       "                   Open         High          Low        Close    Adj Close  \\\n",
       "Date                                                                          \n",
       "2022-08-22  2617.000000  2631.300049  2586.000000  2606.600098  2606.600098   \n",
       "2022-08-23  2594.000000  2653.199951  2591.350098  2646.800049  2646.800049   \n",
       "2022-08-24  2640.100098  2670.000000  2635.350098  2639.750000  2639.750000   \n",
       "2022-08-25  2648.949951  2662.899902  2622.600098  2632.050049  2632.050049   \n",
       "2022-08-26  2633.000000  2650.000000  2607.000000  2618.000000  2618.000000   \n",
       "2022-08-29  2585.000000  2655.000000  2578.050049  2597.649902  2597.649902   \n",
       "2022-08-30  2614.000000  2645.250000  2576.600098  2637.949951  2637.949951   \n",
       "\n",
       "              Volume  \n",
       "Date                  \n",
       "2022-08-22   4371179  \n",
       "2022-08-23   4466619  \n",
       "2022-08-24   4785579  \n",
       "2022-08-25   3632902  \n",
       "2022-08-26   4957449  \n",
       "2022-08-29   9155684  \n",
       "2022-08-30  10678670  "
      ]
     },
     "execution_count": 28,
     "metadata": {},
     "output_type": "execute_result"
    }
   ],
   "source": [
    "time_series.tail(7)"
   ]
  },
  {
   "cell_type": "code",
   "execution_count": 29,
   "id": "5c12c996-ebca-47c5-821b-691877ac978f",
   "metadata": {},
   "outputs": [],
   "source": [
    "from statsmodels.tsa.stattools import adfuller"
   ]
  },
  {
   "cell_type": "code",
   "execution_count": 30,
   "id": "9ba4aca9-8dd6-43c9-bfc6-5451db9de32a",
   "metadata": {},
   "outputs": [],
   "source": [
    "def adf_test(series,title=''):\n",
    "    \"\"\"\n",
    "    Pass in a time series and an optional title, returns an ADF report\n",
    "    \"\"\"\n",
    "    print(f'Augmented Dickey-Fuller Test: {title}')\n",
    "    result = adfuller(series.dropna(),autolag='AIC') # .dropna() handles differenced data\n",
    "    labels = ['ADF test statistic','p-value','# lags used','# observations']\n",
    "    out = pd.Series(result[0:4],index=labels)\n",
    "    for key,val in result[4].items():\n",
    "        out[f'critical value ({key})']=val\n",
    "    print(out.to_string())          # .to_string() removes the line \"dtype: float64\"\n",
    "    if result[1] <= 0.05:\n",
    "        print(\"Strong evidence against the null hypothesis\")\n",
    "        print(\"Reject the null hypothesis\")\n",
    "        print(\"Data has no unit root and is stationary\")\n",
    "    else:\n",
    "        print(\"Weak evidence against the null hypothesis\")\n",
    "        print(\"Fail to reject the null hypothesis\")\n",
    "        print(\"Data has a unit root and is non-stationary\")"
   ]
  },
  {
   "cell_type": "code",
   "execution_count": 31,
   "id": "1fda187f-9c89-4e5c-a2ec-a38ceac3b87f",
   "metadata": {},
   "outputs": [
    {
     "name": "stdout",
     "output_type": "stream",
     "text": [
      "Augmented Dickey-Fuller Test: Open\n",
      "ADF test statistic       -3.224315\n",
      "p-value                   0.018620\n",
      "# lags used               0.000000\n",
      "# observations          248.000000\n",
      "critical value (1%)      -3.456996\n",
      "critical value (5%)      -2.873266\n",
      "critical value (10%)     -2.573019\n",
      "Strong evidence against the null hypothesis\n",
      "Reject the null hypothesis\n",
      "Data has no unit root and is stationary\n",
      "--------------------\n",
      "Augmented Dickey-Fuller Test: High\n",
      "ADF test statistic       -3.132771\n",
      "p-value                   0.024221\n",
      "# lags used               1.000000\n",
      "# observations          247.000000\n",
      "critical value (1%)      -3.457105\n",
      "critical value (5%)      -2.873314\n",
      "critical value (10%)     -2.573044\n",
      "Strong evidence against the null hypothesis\n",
      "Reject the null hypothesis\n",
      "Data has no unit root and is stationary\n",
      "--------------------\n",
      "Augmented Dickey-Fuller Test: Low\n",
      "ADF test statistic       -3.257388\n",
      "p-value                   0.016894\n",
      "# lags used               1.000000\n",
      "# observations          247.000000\n",
      "critical value (1%)      -3.457105\n",
      "critical value (5%)      -2.873314\n",
      "critical value (10%)     -2.573044\n",
      "Strong evidence against the null hypothesis\n",
      "Reject the null hypothesis\n",
      "Data has no unit root and is stationary\n",
      "--------------------\n",
      "Augmented Dickey-Fuller Test: Close\n",
      "ADF test statistic       -3.091298\n",
      "p-value                   0.027204\n",
      "# lags used               0.000000\n",
      "# observations          248.000000\n",
      "critical value (1%)      -3.456996\n",
      "critical value (5%)      -2.873266\n",
      "critical value (10%)     -2.573019\n",
      "Strong evidence against the null hypothesis\n",
      "Reject the null hypothesis\n",
      "Data has no unit root and is stationary\n",
      "--------------------\n",
      "Augmented Dickey-Fuller Test: Adj Close\n",
      "ADF test statistic       -3.073556\n",
      "p-value                   0.028573\n",
      "# lags used               0.000000\n",
      "# observations          248.000000\n",
      "critical value (1%)      -3.456996\n",
      "critical value (5%)      -2.873266\n",
      "critical value (10%)     -2.573019\n",
      "Strong evidence against the null hypothesis\n",
      "Reject the null hypothesis\n",
      "Data has no unit root and is stationary\n",
      "--------------------\n",
      "Augmented Dickey-Fuller Test: Volume\n",
      "ADF test statistic     -6.717390e+00\n",
      "p-value                 3.553476e-09\n",
      "# lags used             2.000000e+00\n",
      "# observations          2.460000e+02\n",
      "critical value (1%)    -3.457215e+00\n",
      "critical value (5%)    -2.873362e+00\n",
      "critical value (10%)   -2.573070e+00\n",
      "Strong evidence against the null hypothesis\n",
      "Reject the null hypothesis\n",
      "Data has no unit root and is stationary\n",
      "--------------------\n"
     ]
    }
   ],
   "source": [
    "for i in time_series.columns:\n",
    "    adf_test(time_series[i],i)\n",
    "    print(\"-\"*20)"
   ]
  },
  {
   "cell_type": "code",
   "execution_count": 32,
   "id": "4ef7cd63-a5f7-4f99-9869-43b6b45a54d5",
   "metadata": {},
   "outputs": [],
   "source": [
    "# time_series[\"Date\"]=time_series[\"Date\"].diff()"
   ]
  },
  {
   "cell_type": "code",
   "execution_count": 33,
   "id": "9fdbfc54-ae22-4166-b43b-6c8492fb0cd1",
   "metadata": {},
   "outputs": [],
   "source": [
    "# for i in time_series.columns:\n",
    "#     adf_test(time_series[i],i)\n",
    "#     print(\"-\"*20)"
   ]
  },
  {
   "cell_type": "code",
   "execution_count": 34,
   "id": "884f03bb-b1b6-4284-aa72-bcaeb454a8e2",
   "metadata": {},
   "outputs": [],
   "source": [
    "time_series.dropna(inplace=True)"
   ]
  },
  {
   "cell_type": "code",
   "execution_count": 35,
   "id": "4f1441c3-bba6-4666-a5c5-bc9e2d59a3ff",
   "metadata": {},
   "outputs": [],
   "source": [
    "train=time_series[:-7]\n",
    "test=time_series[-7:]"
   ]
  },
  {
   "cell_type": "code",
   "execution_count": null,
   "id": "225994e1-8ca5-4670-8c0e-38040945d6d9",
   "metadata": {},
   "outputs": [],
   "source": []
  },
  {
   "cell_type": "code",
   "execution_count": 185,
   "id": "ba9dad5f-ed20-4d58-ad66-529e471eb348",
   "metadata": {},
   "outputs": [],
   "source": [
    "global di\n",
    "di={}\n",
    "# for i in ['Open', 'High', 'Low', 'Close', 'Adj Close', 'Volume']:\n",
    "#     d[i]=0\n"
   ]
  },
  {
   "cell_type": "code",
   "execution_count": 186,
   "id": "8e343c22-98ff-413b-9cc7-2875bafa6256",
   "metadata": {},
   "outputs": [
    {
     "name": "stdout",
     "output_type": "stream",
     "text": [
      "{}\n"
     ]
    }
   ],
   "source": [
    "print(di)"
   ]
  },
  {
   "cell_type": "code",
   "execution_count": 187,
   "id": "a06251d8-e46e-4f9b-9387-deba2c8cda2b",
   "metadata": {},
   "outputs": [],
   "source": [
    "import pmdarima as pm\n",
    "from statsmodels.tsa.statespace.sarimax import SARIMAX"
   ]
  },
  {
   "cell_type": "code",
   "execution_count": 188,
   "id": "44279857-9819-4dc6-8c97-becd5f0f0917",
   "metadata": {},
   "outputs": [],
   "source": [
    "# pm.auto_arima?"
   ]
  },
  {
   "cell_type": "code",
   "execution_count": 189,
   "id": "05dc6bcb-e0b9-4027-84d4-6689ce8b4baf",
   "metadata": {},
   "outputs": [],
   "source": [
    "def predict(i):\n",
    "    global di\n",
    "    \n",
    "    model = pm.auto_arima(time_series[i], d=1, D=1,seasonal=True, m=7, trend='c',start_p=0, start_q=0, max_order=6, test='adf', stepwise=True, trace=True)\n",
    "\n",
    "    #plotting the data\n",
    "    # train[i].plot()\n",
    "    # test[i].plot()\n",
    "    model = SARIMAX(train[i],order=(1,1,0),seasonal_order=(0,1,1,12))\n",
    "    results = model.fit()\n",
    "    # print(\"Results of SARIMAX on train\")\n",
    "    # print(results.summary())\n",
    "    forecast = results.get_forecast(steps=len(test))\n",
    "    mean = forecast.predicted_mean\n",
    "    conf_int = forecast.conf_int()\n",
    "    d = mean.index\n",
    "    plt.figure(figsize=(8,5))\n",
    "    # Plot past  levels\n",
    "    plt.plot(d, time_series[i][-7:], label='Oiginal '+i, color = 'red')\n",
    "    # Prediction Mean\n",
    "    plt.plot(d, mean, label='Forecasted '+i, color= 'green')\n",
    "    # Shade of space between  confidence intervals\n",
    "    plt.fill_between(d, conf_int.iloc[:,0], conf_int.iloc[:,1],\n",
    "    alpha=0.2, color= 'blue')\n",
    "    # Plot legend \n",
    "    plt.legend()\n",
    "    plt.savefig('p')\n",
    "    plt.show()\n",
    "    # print(type(mean))\n",
    "    # mean.reset_index(inplace=True, drop=True)\n",
    "    \n",
    "    # df_forecast=pd.DataFrame(data=mean,index=time_series.index[-7:], columns=[i])\n",
    "    # l=[df,df_forecast]\n",
    "    # df=pd.concat(l,axis=1, join='inner')\n",
    "    di[i]=mean\n",
    "    "
   ]
  },
  {
   "cell_type": "code",
   "execution_count": 190,
   "id": "af626eed-380e-474c-8deb-b82c925b88c2",
   "metadata": {},
   "outputs": [
    {
     "name": "stdout",
     "output_type": "stream",
     "text": [
      "Performing stepwise search to minimize aic\n",
      " ARIMA(0,1,0)(1,1,1)[7]             : AIC=inf, Time=0.28 sec\n",
      " ARIMA(0,1,0)(0,1,0)[7]             : AIC=2745.767, Time=0.02 sec\n",
      " ARIMA(1,1,0)(1,1,0)[7]             : AIC=2663.041, Time=0.14 sec\n",
      " ARIMA(0,1,1)(0,1,1)[7]             : AIC=inf, Time=0.22 sec\n",
      " ARIMA(1,1,0)(0,1,0)[7]             : AIC=2746.733, Time=0.04 sec\n",
      " ARIMA(1,1,0)(2,1,0)[7]             : AIC=2640.452, Time=0.38 sec\n",
      " ARIMA(1,1,0)(2,1,1)[7]             : AIC=inf, Time=0.65 sec\n",
      " ARIMA(1,1,0)(1,1,1)[7]             : AIC=inf, Time=0.27 sec\n",
      " ARIMA(0,1,0)(2,1,0)[7]             : AIC=2640.724, Time=0.38 sec\n",
      " ARIMA(2,1,0)(2,1,0)[7]             : AIC=2642.113, Time=0.46 sec\n",
      " ARIMA(1,1,1)(2,1,0)[7]             : AIC=2642.683, Time=0.93 sec\n",
      " ARIMA(0,1,1)(2,1,0)[7]             : AIC=2640.623, Time=0.34 sec\n",
      " ARIMA(2,1,1)(2,1,0)[7]             : AIC=2641.280, Time=0.98 sec\n",
      " ARIMA(1,1,0)(2,1,0)[7] intercept   : AIC=2640.452, Time=0.36 sec\n",
      "\n",
      "Best model:  ARIMA(1,1,0)(2,1,0)[7] intercept\n",
      "Total fit time: 5.469 seconds\n"
     ]
    },
    {
     "name": "stderr",
     "output_type": "stream",
     "text": [
      "C:\\Users\\taran\\AppData\\Local\\Programs\\Python\\Python39\\lib\\site-packages\\statsmodels\\tsa\\base\\tsa_model.py:471: ValueWarning: A date index has been provided, but it has no associated frequency information and so will be ignored when e.g. forecasting.\n",
      "  self._init_dates(dates, freq)\n",
      "C:\\Users\\taran\\AppData\\Local\\Programs\\Python\\Python39\\lib\\site-packages\\statsmodels\\tsa\\base\\tsa_model.py:471: ValueWarning: A date index has been provided, but it has no associated frequency information and so will be ignored when e.g. forecasting.\n",
      "  self._init_dates(dates, freq)\n",
      "C:\\Users\\taran\\AppData\\Local\\Programs\\Python\\Python39\\lib\\site-packages\\statsmodels\\tsa\\base\\tsa_model.py:834: ValueWarning: No supported index is available. Prediction results will be given with an integer index beginning at `start`.\n",
      "  return get_prediction_index(\n"
     ]
    },
    {
     "data": {
      "image/png": "[encoded data removed]",
      "text/plain": [
       "<Figure size 576x360 with 1 Axes>"
      ]
     },
     "metadata": {
      "needs_background": "light"
     },
     "output_type": "display_data"
    },
    {
     "name": "stdout",
     "output_type": "stream",
     "text": [
      "Performing stepwise search to minimize aic\n",
      " ARIMA(0,1,0)(1,1,1)[7]             : AIC=inf, Time=0.19 sec\n",
      " ARIMA(0,1,0)(0,1,0)[7]             : AIC=2639.210, Time=0.02 sec\n",
      " ARIMA(1,1,0)(1,1,0)[7]             : AIC=2568.042, Time=0.15 sec\n",
      " ARIMA(0,1,1)(0,1,1)[7]             : AIC=inf, Time=0.17 sec\n",
      " ARIMA(1,1,0)(0,1,0)[7]             : AIC=2637.308, Time=0.03 sec\n",
      " ARIMA(1,1,0)(2,1,0)[7]             : AIC=2537.034, Time=0.41 sec\n",
      " ARIMA(1,1,0)(2,1,1)[7]             : AIC=inf, Time=0.72 sec\n",
      " ARIMA(1,1,0)(1,1,1)[7]             : AIC=inf, Time=0.27 sec\n",
      " ARIMA(0,1,0)(2,1,0)[7]             : AIC=2538.739, Time=0.42 sec\n",
      " ARIMA(2,1,0)(2,1,0)[7]             : AIC=2539.005, Time=0.45 sec\n",
      " ARIMA(1,1,1)(2,1,0)[7]             : AIC=2539.011, Time=1.14 sec\n",
      " ARIMA(0,1,1)(2,1,0)[7]             : AIC=2537.185, Time=0.60 sec\n",
      " ARIMA(2,1,1)(2,1,0)[7]             : AIC=2540.320, Time=0.98 sec\n",
      " ARIMA(1,1,0)(2,1,0)[7] intercept   : AIC=2537.034, Time=0.48 sec\n",
      "\n",
      "Best model:  ARIMA(1,1,0)(2,1,0)[7]          \n",
      "Total fit time: 6.037 seconds\n"
     ]
    },
    {
     "name": "stderr",
     "output_type": "stream",
     "text": [
      "C:\\Users\\taran\\AppData\\Local\\Programs\\Python\\Python39\\lib\\site-packages\\statsmodels\\tsa\\base\\tsa_model.py:471: ValueWarning: A date index has been provided, but it has no associated frequency information and so will be ignored when e.g. forecasting.\n",
      "  self._init_dates(dates, freq)\n",
      "C:\\Users\\taran\\AppData\\Local\\Programs\\Python\\Python39\\lib\\site-packages\\statsmodels\\tsa\\base\\tsa_model.py:471: ValueWarning: A date index has been provided, but it has no associated frequency information and so will be ignored when e.g. forecasting.\n",
      "  self._init_dates(dates, freq)\n",
      "C:\\Users\\taran\\AppData\\Local\\Programs\\Python\\Python39\\lib\\site-packages\\statsmodels\\tsa\\base\\tsa_model.py:834: ValueWarning: No supported index is available. Prediction results will be given with an integer index beginning at `start`.\n",
      "  return get_prediction_index(\n"
     ]
    },
    {
     "data": {
      "image/png": "[encoded data removed]",
      "text/plain": [
       "<Figure size 576x360 with 1 Axes>"
      ]
     },
     "metadata": {
      "needs_background": "light"
     },
     "output_type": "display_data"
    },
    {
     "name": "stdout",
     "output_type": "stream",
     "text": [
      "Performing stepwise search to minimize aic\n",
      " ARIMA(0,1,0)(1,1,1)[7]             : AIC=inf, Time=0.22 sec\n",
      " ARIMA(0,1,0)(0,1,0)[7]             : AIC=2677.007, Time=0.02 sec\n",
      " ARIMA(1,1,0)(1,1,0)[7]             : AIC=2573.762, Time=0.27 sec\n",
      " ARIMA(0,1,1)(0,1,1)[7]             : AIC=inf, Time=0.26 sec\n",
      " ARIMA(1,1,0)(0,1,0)[7]             : AIC=2675.577, Time=0.04 sec\n",
      " ARIMA(1,1,0)(2,1,0)[7]             : AIC=2548.352, Time=0.48 sec\n",
      " ARIMA(1,1,0)(2,1,1)[7]             : AIC=inf, Time=0.66 sec\n",
      " ARIMA(1,1,0)(1,1,1)[7]             : AIC=inf, Time=0.24 sec\n",
      " ARIMA(0,1,0)(2,1,0)[7]             : AIC=2553.198, Time=0.46 sec\n",
      " ARIMA(2,1,0)(2,1,0)[7]             : AIC=2550.203, Time=0.46 sec\n",
      " ARIMA(1,1,1)(2,1,0)[7]             : AIC=inf, Time=1.50 sec\n",
      " ARIMA(0,1,1)(2,1,0)[7]             : AIC=2548.267, Time=0.54 sec\n",
      " ARIMA(0,1,1)(1,1,0)[7]             : AIC=2573.534, Time=0.47 sec\n",
      " ARIMA(0,1,1)(2,1,1)[7]             : AIC=inf, Time=0.83 sec\n",
      " ARIMA(0,1,1)(1,1,1)[7]             : AIC=inf, Time=0.50 sec\n",
      " ARIMA(0,1,2)(2,1,0)[7]             : AIC=2550.230, Time=0.82 sec\n",
      " ARIMA(1,1,2)(2,1,0)[7]             : AIC=inf, Time=1.89 sec\n",
      " ARIMA(0,1,1)(2,1,0)[7] intercept   : AIC=2548.267, Time=0.47 sec\n",
      "\n",
      "Best model:  ARIMA(0,1,1)(2,1,0)[7] intercept\n",
      "Total fit time: 10.161 seconds\n"
     ]
    },
    {
     "name": "stderr",
     "output_type": "stream",
     "text": [
      "C:\\Users\\taran\\AppData\\Local\\Programs\\Python\\Python39\\lib\\site-packages\\statsmodels\\tsa\\base\\tsa_model.py:471: ValueWarning: A date index has been provided, but it has no associated frequency information and so will be ignored when e.g. forecasting.\n",
      "  self._init_dates(dates, freq)\n",
      "C:\\Users\\taran\\AppData\\Local\\Programs\\Python\\Python39\\lib\\site-packages\\statsmodels\\tsa\\base\\tsa_model.py:471: ValueWarning: A date index has been provided, but it has no associated frequency information and so will be ignored when e.g. forecasting.\n",
      "  self._init_dates(dates, freq)\n",
      "C:\\Users\\taran\\AppData\\Local\\Programs\\Python\\Python39\\lib\\site-packages\\statsmodels\\tsa\\base\\tsa_model.py:834: ValueWarning: No supported index is available. Prediction results will be given with an integer index beginning at `start`.\n",
      "  return get_prediction_index(\n"
     ]
    },
    {
     "data": {
      "image/png": "[encoded data removed]",
      "text/plain": [
       "<Figure size 576x360 with 1 Axes>"
      ]
     },
     "metadata": {
      "needs_background": "light"
     },
     "output_type": "display_data"
    },
    {
     "name": "stdout",
     "output_type": "stream",
     "text": [
      "Performing stepwise search to minimize aic\n",
      " ARIMA(0,1,0)(1,1,1)[7]             : AIC=inf, Time=0.42 sec\n",
      " ARIMA(0,1,0)(0,1,0)[7]             : AIC=2709.948, Time=0.02 sec\n",
      " ARIMA(1,1,0)(1,1,0)[7]             : AIC=2622.013, Time=0.22 sec\n",
      " ARIMA(0,1,1)(0,1,1)[7]             : AIC=inf, Time=0.21 sec\n",
      " ARIMA(1,1,0)(0,1,0)[7]             : AIC=2711.840, Time=0.06 sec\n",
      " ARIMA(1,1,0)(2,1,0)[7]             : AIC=2604.619, Time=0.51 sec\n",
      " ARIMA(1,1,0)(2,1,1)[7]             : AIC=inf, Time=0.77 sec\n",
      " ARIMA(1,1,0)(1,1,1)[7]             : AIC=inf, Time=0.29 sec\n",
      " ARIMA(0,1,0)(2,1,0)[7]             : AIC=2602.680, Time=0.38 sec\n",
      " ARIMA(0,1,0)(1,1,0)[7]             : AIC=2620.348, Time=0.18 sec\n",
      " ARIMA(0,1,0)(2,1,1)[7]             : AIC=inf, Time=0.48 sec\n",
      " ARIMA(0,1,1)(2,1,0)[7]             : AIC=2604.622, Time=0.59 sec\n",
      " ARIMA(1,1,1)(2,1,0)[7]             : AIC=2606.599, Time=0.70 sec\n",
      " ARIMA(0,1,0)(2,1,0)[7] intercept   : AIC=2602.680, Time=0.26 sec\n",
      "\n",
      "Best model:  ARIMA(0,1,0)(2,1,0)[7] intercept\n",
      "Total fit time: 5.093 seconds\n"
     ]
    },
    {
     "name": "stderr",
     "output_type": "stream",
     "text": [
      "C:\\Users\\taran\\AppData\\Local\\Programs\\Python\\Python39\\lib\\site-packages\\statsmodels\\tsa\\base\\tsa_model.py:471: ValueWarning: A date index has been provided, but it has no associated frequency information and so will be ignored when e.g. forecasting.\n",
      "  self._init_dates(dates, freq)\n",
      "C:\\Users\\taran\\AppData\\Local\\Programs\\Python\\Python39\\lib\\site-packages\\statsmodels\\tsa\\base\\tsa_model.py:471: ValueWarning: A date index has been provided, but it has no associated frequency information and so will be ignored when e.g. forecasting.\n",
      "  self._init_dates(dates, freq)\n",
      "C:\\Users\\taran\\AppData\\Local\\Programs\\Python\\Python39\\lib\\site-packages\\statsmodels\\tsa\\base\\tsa_model.py:834: ValueWarning: No supported index is available. Prediction results will be given with an integer index beginning at `start`.\n",
      "  return get_prediction_index(\n"
     ]
    },
    {
     "data": {
      "image/png": "[encoded data removed]",
      "text/plain": [
       "<Figure size 576x360 with 1 Axes>"
      ]
     },
     "metadata": {
      "needs_background": "light"
     },
     "output_type": "display_data"
    },
    {
     "name": "stdout",
     "output_type": "stream",
     "text": [
      "Performing stepwise search to minimize aic\n",
      " ARIMA(0,1,0)(1,1,1)[7]             : AIC=inf, Time=0.44 sec\n",
      " ARIMA(0,1,0)(0,1,0)[7]             : AIC=2708.731, Time=0.02 sec\n",
      " ARIMA(1,1,0)(1,1,0)[7]             : AIC=2620.690, Time=0.16 sec\n",
      " ARIMA(0,1,1)(0,1,1)[7]             : AIC=inf, Time=0.22 sec\n",
      " ARIMA(1,1,0)(0,1,0)[7]             : AIC=2710.616, Time=0.04 sec\n",
      " ARIMA(1,1,0)(2,1,0)[7]             : AIC=2603.232, Time=0.41 sec\n",
      " ARIMA(1,1,0)(2,1,1)[7]             : AIC=inf, Time=0.76 sec\n",
      " ARIMA(1,1,0)(1,1,1)[7]             : AIC=inf, Time=0.31 sec\n",
      " ARIMA(0,1,0)(2,1,0)[7]             : AIC=2601.288, Time=0.33 sec\n",
      " ARIMA(0,1,0)(1,1,0)[7]             : AIC=2619.011, Time=0.14 sec\n",
      " ARIMA(0,1,0)(2,1,1)[7]             : AIC=inf, Time=0.45 sec\n",
      " ARIMA(0,1,1)(2,1,0)[7]             : AIC=2603.235, Time=0.55 sec\n",
      " ARIMA(1,1,1)(2,1,0)[7]             : AIC=2605.213, Time=0.72 sec\n",
      " ARIMA(0,1,0)(2,1,0)[7] intercept   : AIC=2601.288, Time=0.31 sec\n",
      "\n",
      "Best model:  ARIMA(0,1,0)(2,1,0)[7] intercept\n",
      "Total fit time: 4.869 seconds\n"
     ]
    },
    {
     "name": "stderr",
     "output_type": "stream",
     "text": [
      "C:\\Users\\taran\\AppData\\Local\\Programs\\Python\\Python39\\lib\\site-packages\\statsmodels\\tsa\\base\\tsa_model.py:471: ValueWarning: A date index has been provided, but it has no associated frequency information and so will be ignored when e.g. forecasting.\n",
      "  self._init_dates(dates, freq)\n",
      "C:\\Users\\taran\\AppData\\Local\\Programs\\Python\\Python39\\lib\\site-packages\\statsmodels\\tsa\\base\\tsa_model.py:471: ValueWarning: A date index has been provided, but it has no associated frequency information and so will be ignored when e.g. forecasting.\n",
      "  self._init_dates(dates, freq)\n",
      "C:\\Users\\taran\\AppData\\Local\\Programs\\Python\\Python39\\lib\\site-packages\\statsmodels\\tsa\\base\\tsa_model.py:834: ValueWarning: No supported index is available. Prediction results will be given with an integer index beginning at `start`.\n",
      "  return get_prediction_index(\n"
     ]
    },
    {
     "data": {
      "image/png": "[encoded data removed]",
      "text/plain": [
       "<Figure size 576x360 with 1 Axes>"
      ]
     },
     "metadata": {
      "needs_background": "light"
     },
     "output_type": "display_data"
    },
    {
     "name": "stdout",
     "output_type": "stream",
     "text": [
      "Performing stepwise search to minimize aic\n",
      " ARIMA(0,1,0)(1,1,1)[7]             : AIC=8145.549, Time=0.12 sec\n",
      " ARIMA(0,1,0)(0,1,0)[7]             : AIC=8252.916, Time=0.02 sec\n",
      " ARIMA(1,1,0)(1,1,0)[7]             : AIC=8151.693, Time=0.07 sec\n",
      " ARIMA(0,1,1)(0,1,1)[7]             : AIC=8079.818, Time=0.10 sec\n",
      " ARIMA(0,1,1)(0,1,0)[7]             : AIC=8174.292, Time=0.06 sec\n",
      " ARIMA(0,1,1)(1,1,1)[7]             : AIC=8079.437, Time=0.14 sec\n",
      " ARIMA(0,1,1)(1,1,0)[7]             : AIC=8112.815, Time=0.10 sec\n",
      " ARIMA(0,1,1)(2,1,1)[7]             : AIC=8079.482, Time=0.34 sec\n",
      " ARIMA(0,1,1)(1,1,2)[7]             : AIC=8076.041, Time=0.60 sec\n",
      " ARIMA(0,1,1)(0,1,2)[7]             : AIC=8080.801, Time=0.39 sec\n",
      " ARIMA(0,1,1)(2,1,2)[7]             : AIC=inf, Time=1.12 sec\n",
      " ARIMA(0,1,0)(1,1,2)[7]             : AIC=8147.050, Time=0.76 sec\n",
      " ARIMA(1,1,1)(1,1,2)[7]             : AIC=8077.965, Time=0.65 sec\n",
      " ARIMA(0,1,2)(1,1,2)[7]             : AIC=8070.900, Time=0.92 sec\n",
      " ARIMA(0,1,2)(0,1,2)[7]             : AIC=8073.844, Time=0.69 sec\n",
      " ARIMA(0,1,2)(1,1,1)[7]             : AIC=8072.891, Time=0.20 sec\n",
      " ARIMA(0,1,2)(2,1,2)[7]             : AIC=inf, Time=1.69 sec\n",
      " ARIMA(0,1,2)(0,1,1)[7]             : AIC=8072.884, Time=0.13 sec\n",
      " ARIMA(0,1,2)(2,1,1)[7]             : AIC=8073.352, Time=0.33 sec\n",
      " ARIMA(1,1,2)(1,1,2)[7]             : AIC=8068.471, Time=1.06 sec\n",
      " ARIMA(1,1,2)(0,1,2)[7]             : AIC=8068.851, Time=0.64 sec\n",
      " ARIMA(1,1,2)(1,1,1)[7]             : AIC=8068.302, Time=0.50 sec\n",
      " ARIMA(1,1,2)(0,1,1)[7]             : AIC=8068.399, Time=0.34 sec\n",
      " ARIMA(1,1,2)(1,1,0)[7]             : AIC=8110.284, Time=0.23 sec\n",
      " ARIMA(1,1,2)(2,1,1)[7]             : AIC=8069.577, Time=0.80 sec\n",
      " ARIMA(1,1,2)(0,1,0)[7]             : AIC=8166.903, Time=0.18 sec\n",
      " ARIMA(1,1,2)(2,1,0)[7]             : AIC=8088.657, Time=0.38 sec\n",
      " ARIMA(1,1,2)(2,1,2)[7]             : AIC=inf, Time=1.53 sec\n",
      " ARIMA(1,1,1)(1,1,1)[7]             : AIC=8081.144, Time=0.22 sec\n",
      " ARIMA(2,1,2)(1,1,1)[7]             : AIC=8066.980, Time=0.68 sec\n",
      " ARIMA(2,1,2)(0,1,1)[7]             : AIC=8067.195, Time=0.34 sec\n",
      " ARIMA(2,1,2)(1,1,0)[7]             : AIC=8108.171, Time=0.63 sec\n",
      " ARIMA(2,1,2)(2,1,1)[7]             : AIC=8068.292, Time=0.91 sec\n",
      " ARIMA(2,1,2)(1,1,2)[7]             : AIC=8067.263, Time=1.48 sec\n",
      " ARIMA(2,1,2)(0,1,0)[7]             : AIC=8163.210, Time=0.29 sec\n",
      " ARIMA(2,1,2)(0,1,2)[7]             : AIC=8067.455, Time=0.92 sec\n",
      " ARIMA(2,1,2)(2,1,0)[7]             : AIC=8088.328, Time=0.59 sec\n",
      " ARIMA(2,1,2)(2,1,2)[7]             : AIC=inf, Time=2.09 sec\n",
      " ARIMA(2,1,1)(1,1,1)[7]             : AIC=8073.277, Time=0.27 sec\n",
      " ARIMA(3,1,2)(1,1,1)[7]             : AIC=8067.157, Time=0.89 sec\n",
      " ARIMA(2,1,3)(1,1,1)[7]             : AIC=8051.424, Time=1.61 sec\n",
      " ARIMA(2,1,3)(0,1,1)[7]             : AIC=8052.178, Time=0.87 sec\n",
      " ARIMA(2,1,3)(1,1,0)[7]             : AIC=8101.277, Time=0.66 sec\n",
      " ARIMA(2,1,3)(2,1,1)[7]             : AIC=8052.500, Time=1.97 sec\n",
      " ARIMA(2,1,3)(1,1,2)[7]             : AIC=8053.319, Time=2.55 sec\n",
      " ARIMA(2,1,3)(0,1,0)[7]             : AIC=inf, Time=0.96 sec\n",
      " ARIMA(2,1,3)(0,1,2)[7]             : AIC=8053.345, Time=1.74 sec\n",
      " ARIMA(2,1,3)(2,1,0)[7]             : AIC=8080.101, Time=0.71 sec\n",
      " ARIMA(2,1,3)(2,1,2)[7]             : AIC=8054.476, Time=2.68 sec\n",
      " ARIMA(1,1,3)(1,1,1)[7]             : AIC=8068.123, Time=0.63 sec\n",
      " ARIMA(3,1,3)(1,1,1)[7]             : AIC=8052.650, Time=1.56 sec\n",
      " ARIMA(2,1,4)(1,1,1)[7]             : AIC=8067.069, Time=1.43 sec\n",
      " ARIMA(1,1,4)(1,1,1)[7]             : AIC=8071.381, Time=0.61 sec\n",
      " ARIMA(3,1,4)(1,1,1)[7]             : AIC=8066.187, Time=1.58 sec\n",
      " ARIMA(2,1,3)(1,1,1)[7] intercept   : AIC=8051.424, Time=1.42 sec\n",
      "\n",
      "Best model:  ARIMA(2,1,3)(1,1,1)[7] intercept\n",
      "Total fit time: 44.380 seconds\n"
     ]
    },
    {
     "name": "stderr",
     "output_type": "stream",
     "text": [
      "C:\\Users\\taran\\AppData\\Local\\Programs\\Python\\Python39\\lib\\site-packages\\statsmodels\\tsa\\base\\tsa_model.py:471: ValueWarning: A date index has been provided, but it has no associated frequency information and so will be ignored when e.g. forecasting.\n",
      "  self._init_dates(dates, freq)\n",
      "C:\\Users\\taran\\AppData\\Local\\Programs\\Python\\Python39\\lib\\site-packages\\statsmodels\\tsa\\base\\tsa_model.py:471: ValueWarning: A date index has been provided, but it has no associated frequency information and so will be ignored when e.g. forecasting.\n",
      "  self._init_dates(dates, freq)\n",
      "C:\\Users\\taran\\AppData\\Local\\Programs\\Python\\Python39\\lib\\site-packages\\statsmodels\\tsa\\base\\tsa_model.py:834: ValueWarning: No supported index is available. Prediction results will be given with an integer index beginning at `start`.\n",
      "  return get_prediction_index(\n"
     ]
    },
    {
     "data": {
      "image/png": "[encoded data removed]",
      "text/plain": [
       "<Figure size 576x360 with 1 Axes>"
      ]
     },
     "metadata": {
      "needs_background": "light"
     },
     "output_type": "display_data"
    }
   ],
   "source": [
    "\n",
    "for i in ['Open', 'High', 'Low', 'Close', 'Adj Close', 'Volume']:\n",
    "    predict(i)"
   ]
  },
  {
   "cell_type": "code",
   "execution_count": null,
   "id": "0e9034cd-d574-406c-9a94-a59bd2bf748f",
   "metadata": {},
   "outputs": [],
   "source": []
  },
  {
   "cell_type": "code",
   "execution_count": 191,
   "id": "21123b2a-55a4-4877-a5cd-a6c4ad8f2638",
   "metadata": {},
   "outputs": [],
   "source": [
    "df=pd.DataFrame(di)"
   ]
  },
  {
   "cell_type": "code",
   "execution_count": 192,
   "id": "6ea85742-c1fb-41df-9268-33eef050c4b1",
   "metadata": {},
   "outputs": [
    {
     "name": "stdout",
     "output_type": "stream",
     "text": [
      "{'Open': 242    2642.207999\n",
      "243    2648.374300\n",
      "244    2657.288890\n",
      "245    2638.759628\n",
      "246    2636.311437\n",
      "247    2647.631597\n",
      "248    2655.002287\n",
      "Name: predicted_mean, dtype: float64, 'High': 242    2652.865732\n",
      "243    2657.800182\n",
      "244    2668.635716\n",
      "245    2651.545953\n",
      "246    2648.065835\n",
      "247    2661.302211\n",
      "248    2666.816875\n",
      "Name: predicted_mean, dtype: float64, 'Low': 242    2591.728439\n",
      "243    2604.485021\n",
      "244    2586.015361\n",
      "245    2588.765584\n",
      "246    2596.192165\n",
      "247    2602.115307\n",
      "248    2603.035997\n",
      "Name: predicted_mean, dtype: float64, 'Close': 242    2614.825496\n",
      "243    2624.762382\n",
      "244    2607.109028\n",
      "245    2607.933950\n",
      "246    2612.186012\n",
      "247    2622.755014\n",
      "248    2623.302395\n",
      "Name: predicted_mean, dtype: float64, 'Adj Close': 242    2614.825927\n",
      "243    2624.729575\n",
      "244    2607.122937\n",
      "245    2607.947951\n",
      "246    2612.188303\n",
      "247    2622.731044\n",
      "248    2623.274528\n",
      "Name: predicted_mean, dtype: float64, 'Volume': 242    3.965381e+06\n",
      "243    4.112557e+06\n",
      "244    7.679729e+06\n",
      "245    7.995330e+06\n",
      "246    4.011907e+06\n",
      "247    4.137260e+06\n",
      "248    4.446128e+06\n",
      "Name: predicted_mean, dtype: float64}\n"
     ]
    }
   ],
   "source": [
    "print(di)"
   ]
  },
  {
   "cell_type": "code",
   "execution_count": 193,
   "id": "39f58858-7331-4e47-8ed1-e21acf07037a",
   "metadata": {},
   "outputs": [
    {
     "data": {
      "text/html": [
       "<div>\n",
       "<style scoped>\n",
       "    .dataframe tbody tr th:only-of-type {\n",
       "        vertical-align: middle;\n",
       "    }\n",
       "\n",
       "    .dataframe tbody tr th {\n",
       "        vertical-align: top;\n",
       "    }\n",
       "\n",
       "    .dataframe thead th {\n",
       "        text-align: right;\n",
       "    }\n",
       "</style>\n",
       "<table border=\"1\" class=\"dataframe\">\n",
       "  <thead>\n",
       "    <tr style=\"text-align: right;\">\n",
       "      <th></th>\n",
       "      <th>Open</th>\n",
       "      <th>High</th>\n",
       "      <th>Low</th>\n",
       "      <th>Close</th>\n",
       "      <th>Adj Close</th>\n",
       "      <th>Volume</th>\n",
       "    </tr>\n",
       "  </thead>\n",
       "  <tbody>\n",
       "    <tr>\n",
       "      <th>242</th>\n",
       "      <td>2642.207999</td>\n",
       "      <td>2652.865732</td>\n",
       "      <td>2591.728439</td>\n",
       "      <td>2614.825496</td>\n",
       "      <td>2614.825927</td>\n",
       "      <td>3.965381e+06</td>\n",
       "    </tr>\n",
       "    <tr>\n",
       "      <th>243</th>\n",
       "      <td>2648.374300</td>\n",
       "      <td>2657.800182</td>\n",
       "      <td>2604.485021</td>\n",
       "      <td>2624.762382</td>\n",
       "      <td>2624.729575</td>\n",
       "      <td>4.112557e+06</td>\n",
       "    </tr>\n",
       "    <tr>\n",
       "      <th>244</th>\n",
       "      <td>2657.288890</td>\n",
       "      <td>2668.635716</td>\n",
       "      <td>2586.015361</td>\n",
       "      <td>2607.109028</td>\n",
       "      <td>2607.122937</td>\n",
       "      <td>7.679729e+06</td>\n",
       "    </tr>\n",
       "    <tr>\n",
       "      <th>245</th>\n",
       "      <td>2638.759628</td>\n",
       "      <td>2651.545953</td>\n",
       "      <td>2588.765584</td>\n",
       "      <td>2607.933950</td>\n",
       "      <td>2607.947951</td>\n",
       "      <td>7.995330e+06</td>\n",
       "    </tr>\n",
       "    <tr>\n",
       "      <th>246</th>\n",
       "      <td>2636.311437</td>\n",
       "      <td>2648.065835</td>\n",
       "      <td>2596.192165</td>\n",
       "      <td>2612.186012</td>\n",
       "      <td>2612.188303</td>\n",
       "      <td>4.011907e+06</td>\n",
       "    </tr>\n",
       "  </tbody>\n",
       "</table>\n",
       "</div>"
      ],
      "text/plain": [
       "            Open         High          Low        Close    Adj Close  \\\n",
       "242  2642.207999  2652.865732  2591.728439  2614.825496  2614.825927   \n",
       "243  2648.374300  2657.800182  2604.485021  2624.762382  2624.729575   \n",
       "244  2657.288890  2668.635716  2586.015361  2607.109028  2607.122937   \n",
       "245  2638.759628  2651.545953  2588.765584  2607.933950  2607.947951   \n",
       "246  2636.311437  2648.065835  2596.192165  2612.186012  2612.188303   \n",
       "\n",
       "           Volume  \n",
       "242  3.965381e+06  \n",
       "243  4.112557e+06  \n",
       "244  7.679729e+06  \n",
       "245  7.995330e+06  \n",
       "246  4.011907e+06  "
      ]
     },
     "execution_count": 193,
     "metadata": {},
     "output_type": "execute_result"
    }
   ],
   "source": [
    "df.head()"
   ]
  },
  {
   "cell_type": "code",
   "execution_count": 194,
   "id": "8ca9af41-9e4f-47a4-8235-7a662c4587a5",
   "metadata": {},
   "outputs": [],
   "source": [
    "df.index=time_series.index[-7:]"
   ]
  },
  {
   "cell_type": "code",
   "execution_count": 195,
   "id": "9d82993c-bd17-47bb-aaa2-24066c144247",
   "metadata": {},
   "outputs": [
    {
     "data": {
      "text/html": [
       "<div>\n",
       "<style scoped>\n",
       "    .dataframe tbody tr th:only-of-type {\n",
       "        vertical-align: middle;\n",
       "    }\n",
       "\n",
       "    .dataframe tbody tr th {\n",
       "        vertical-align: top;\n",
       "    }\n",
       "\n",
       "    .dataframe thead th {\n",
       "        text-align: right;\n",
       "    }\n",
       "</style>\n",
       "<table border=\"1\" class=\"dataframe\">\n",
       "  <thead>\n",
       "    <tr style=\"text-align: right;\">\n",
       "      <th></th>\n",
       "      <th>Open</th>\n",
       "      <th>High</th>\n",
       "      <th>Low</th>\n",
       "      <th>Close</th>\n",
       "      <th>Adj Close</th>\n",
       "      <th>Volume</th>\n",
       "    </tr>\n",
       "    <tr>\n",
       "      <th>Date</th>\n",
       "      <th></th>\n",
       "      <th></th>\n",
       "      <th></th>\n",
       "      <th></th>\n",
       "      <th></th>\n",
       "      <th></th>\n",
       "    </tr>\n",
       "  </thead>\n",
       "  <tbody>\n",
       "    <tr>\n",
       "      <th>2022-08-22</th>\n",
       "      <td>2642.207999</td>\n",
       "      <td>2652.865732</td>\n",
       "      <td>2591.728439</td>\n",
       "      <td>2614.825496</td>\n",
       "      <td>2614.825927</td>\n",
       "      <td>3.965381e+06</td>\n",
       "    </tr>\n",
       "    <tr>\n",
       "      <th>2022-08-23</th>\n",
       "      <td>2648.374300</td>\n",
       "      <td>2657.800182</td>\n",
       "      <td>2604.485021</td>\n",
       "      <td>2624.762382</td>\n",
       "      <td>2624.729575</td>\n",
       "      <td>4.112557e+06</td>\n",
       "    </tr>\n",
       "    <tr>\n",
       "      <th>2022-08-24</th>\n",
       "      <td>2657.288890</td>\n",
       "      <td>2668.635716</td>\n",
       "      <td>2586.015361</td>\n",
       "      <td>2607.109028</td>\n",
       "      <td>2607.122937</td>\n",
       "      <td>7.679729e+06</td>\n",
       "    </tr>\n",
       "    <tr>\n",
       "      <th>2022-08-25</th>\n",
       "      <td>2638.759628</td>\n",
       "      <td>2651.545953</td>\n",
       "      <td>2588.765584</td>\n",
       "      <td>2607.933950</td>\n",
       "      <td>2607.947951</td>\n",
       "      <td>7.995330e+06</td>\n",
       "    </tr>\n",
       "    <tr>\n",
       "      <th>2022-08-26</th>\n",
       "      <td>2636.311437</td>\n",
       "      <td>2648.065835</td>\n",
       "      <td>2596.192165</td>\n",
       "      <td>2612.186012</td>\n",
       "      <td>2612.188303</td>\n",
       "      <td>4.011907e+06</td>\n",
       "    </tr>\n",
       "  </tbody>\n",
       "</table>\n",
       "</div>"
      ],
      "text/plain": [
       "                   Open         High          Low        Close    Adj Close  \\\n",
       "Date                                                                          \n",
       "2022-08-22  2642.207999  2652.865732  2591.728439  2614.825496  2614.825927   \n",
       "2022-08-23  2648.374300  2657.800182  2604.485021  2624.762382  2624.729575   \n",
       "2022-08-24  2657.288890  2668.635716  2586.015361  2607.109028  2607.122937   \n",
       "2022-08-25  2638.759628  2651.545953  2588.765584  2607.933950  2607.947951   \n",
       "2022-08-26  2636.311437  2648.065835  2596.192165  2612.186012  2612.188303   \n",
       "\n",
       "                  Volume  \n",
       "Date                      \n",
       "2022-08-22  3.965381e+06  \n",
       "2022-08-23  4.112557e+06  \n",
       "2022-08-24  7.679729e+06  \n",
       "2022-08-25  7.995330e+06  \n",
       "2022-08-26  4.011907e+06  "
      ]
     },
     "execution_count": 195,
     "metadata": {},
     "output_type": "execute_result"
    }
   ],
   "source": [
    "df.head()"
   ]
  },
  {
   "cell_type": "code",
   "execution_count": null,
   "id": "bd1662ac-d4aa-4a68-afed-3ea182f0abad",
   "metadata": {},
   "outputs": [],
   "source": []
  },
  {
   "cell_type": "code",
   "execution_count": null,
   "id": "5a444b3a-1756-40c7-8ede-2ab20c3dae50",
   "metadata": {},
   "outputs": [],
   "source": []
  },
  {
   "cell_type": "code",
   "execution_count": 197,
   "id": "3de1a87d-69bb-4382-946d-aa4b2b8d42da",
   "metadata": {},
   "outputs": [
    {
     "name": "stdout",
     "output_type": "stream",
     "text": [
      "Forecast Accuracy of:  Open\n",
      "mape   :  0.0117\n",
      "me     :  27.6466\n",
      "mae    :  30.5581\n",
      "mpe    :  0.0106\n",
      "rmse   :  37.0447\n",
      "corr   :  -0.2373\n",
      "minmax :  0.0115\n",
      "Forecast Accuracy of:  High\n",
      "mape   :  0.0037\n",
      "me     :  5.6261\n",
      "mae    :  9.8125\n",
      "mpe    :  0.0021\n",
      "rmse   :  12.6807\n",
      "corr   :  0.3364\n",
      "minmax :  0.0037\n",
      "Forecast Accuracy of:  Low\n",
      "mape   :  0.0089\n",
      "me     :  -3.5161\n",
      "mae    :  23.3345\n",
      "mpe    :  -0.0013\n",
      "rmse   :  27.1999\n",
      "corr   :  -0.818\n",
      "minmax :  0.0089\n",
      "Forecast Accuracy of:  Close\n",
      "mape   :  0.0072\n",
      "me     :  -9.418\n",
      "mae    :  18.941\n",
      "mpe    :  -0.0035\n",
      "rmse   :  20.9726\n",
      "corr   :  -0.0475\n",
      "minmax :  0.0072\n",
      "Forecast Accuracy of:  Adj Close\n",
      "mape   :  0.0072\n",
      "me     :  -9.4257\n",
      "mae    :  18.942\n",
      "mpe    :  -0.0035\n",
      "rmse   :  20.9708\n",
      "corr   :  -0.0478\n",
      "minmax :  0.0072\n",
      "Forecast Accuracy of:  Volume\n",
      "mape   :  0.4715\n",
      "me     :  -814255.6736\n",
      "mae    :  2887563.8272\n",
      "mpe    :  0.0444\n",
      "rmse   :  3637505.4966\n",
      "corr   :  -0.3885\n",
      "minmax :  0.3453\n"
     ]
    },
    {
     "name": "stderr",
     "output_type": "stream",
     "text": [
      "C:\\Users\\taran\\AppData\\Local\\Temp/ipykernel_22064/2282468115.py:10: FutureWarning: Support for multi-dimensional indexing (e.g. `obj[:, None]`) is deprecated and will be removed in a future version.  Convert to a numpy array before indexing instead.\n",
      "  actual[:,None]]), axis=1)\n",
      "C:\\Users\\taran\\AppData\\Local\\Temp/ipykernel_22064/2282468115.py:12: FutureWarning: Support for multi-dimensional indexing (e.g. `obj[:, None]`) is deprecated and will be removed in a future version.  Convert to a numpy array before indexing instead.\n",
      "  actual[:,None]]), axis=1)\n"
     ]
    }
   ],
   "source": [
    "from statsmodels.tsa.stattools import acf\n",
    "def forecast_accuracy(forecast, actual):\n",
    "    mape = np.mean(np.abs(forecast - actual)/np.abs(actual))  # MAPE\n",
    "    me = np.mean(forecast - actual)             # ME\n",
    "    mae = np.mean(np.abs(forecast - actual))    # MAE\n",
    "    mpe = np.mean((forecast - actual)/actual)   # MPE\n",
    "    rmse = np.mean((forecast - actual)**2)**.5  # RMSE\n",
    "    corr = np.corrcoef(forecast, actual)[0,1]   # corr\n",
    "    mins = np.amin(np.hstack([forecast[:,None], \n",
    "                              actual[:,None]]), axis=1)\n",
    "    maxs = np.amax(np.hstack([forecast[:,None], \n",
    "                              actual[:,None]]), axis=1)\n",
    "    minmax = 1 - np.mean(mins/maxs)             # minmax\n",
    "    return({'mape':mape, 'me':me, 'mae': mae, \n",
    "            'mpe': mpe, 'rmse':rmse, 'corr':corr, 'minmax':minmax})\n",
    "def adjust(val, length= 6): return str(val).ljust(length)\n",
    "for i in ['Open', 'High', 'Low', 'Close', 'Adj Close', 'Volume']:\n",
    "    print('Forecast Accuracy of: ',i)\n",
    "    accuracy_prod = forecast_accuracy(df[i].values, test[i])\n",
    "    for k, v in accuracy_prod.items():\n",
    "        print(adjust(k), ': ', round(v,4))\n"
   ]
  },
  {
   "cell_type": "code",
   "execution_count": null,
   "id": "daf10ba1-3928-4362-b4f3-e024ee705524",
   "metadata": {},
   "outputs": [],
   "source": []
  },
  {
   "cell_type": "code",
   "execution_count": null,
   "id": "304f0773-a8f1-4359-89c2-77052df95eaa",
   "metadata": {},
   "outputs": [],
   "source": []
  },
  {
   "cell_type": "code",
   "execution_count": null,
   "id": "c6f0760f-93f5-4c68-b015-af2221f7b29e",
   "metadata": {},
   "outputs": [],
   "source": []
  },
  {
   "cell_type": "code",
   "execution_count": null,
   "id": "6af597bc-c893-4008-8c25-d229ce83ad46",
   "metadata": {},
   "outputs": [],
   "source": []
  },
  {
   "cell_type": "code",
   "execution_count": null,
   "id": "a51a09e9-ec9b-4110-99aa-bb6303c651c1",
   "metadata": {},
   "outputs": [],
   "source": []
  },
  {
   "cell_type": "code",
   "execution_count": null,
   "id": "5828edf0-02bf-4421-b26d-4229ec833931",
   "metadata": {},
   "outputs": [],
   "source": []
  },
  {
   "cell_type": "code",
   "execution_count": null,
   "id": "213bfdf1-58be-4734-b0e6-3a88c50aeb35",
   "metadata": {},
   "outputs": [],
   "source": []
  },
  {
   "cell_type": "code",
   "execution_count": null,
   "id": "0243dd07-85bc-4731-88bc-9d065a78461c",
   "metadata": {},
   "outputs": [],
   "source": []
  },
  {
   "cell_type": "markdown",
   "id": "cca64647-e829-4934-add9-28f42a6d2324",
   "metadata": {},
   "source": [
    "## VAR MOdels"
   ]
  },
  {
   "cell_type": "code",
   "execution_count": 13,
   "id": "25608ebb-62b9-40ff-a8be-4ddb25f38bb4",
   "metadata": {},
   "outputs": [],
   "source": [
    "from statsmodels.tsa.api import VAR"
   ]
  },
  {
   "cell_type": "code",
   "execution_count": 14,
   "id": "858facc1-1c58-4226-8a62-3e1542a08525",
   "metadata": {},
   "outputs": [
    {
     "name": "stdout",
     "output_type": "stream",
     "text": [
      "Order = 1\n",
      "AIC:  52.47981113065059\n",
      "BIC:  53.087120139806636\n",
      "\n",
      "Order = 2\n",
      "AIC:  52.60057295569257\n",
      "BIC:  53.73178060577872\n",
      "\n",
      "Order = 3\n",
      "AIC:  52.79677238319227\n",
      "BIC:  54.455001859845794\n",
      "\n",
      "Order = 4\n",
      "AIC:  52.92021418753603\n",
      "BIC:  55.108620074303765\n",
      "\n",
      "Order = 5\n",
      "AIC:  53.03481378534251\n",
      "BIC:  55.75658250370172\n",
      "\n",
      "Order = 6\n",
      "AIC:  53.196288997526494\n",
      "BIC:  56.45463925479635\n",
      "\n",
      "Order = 7\n",
      "AIC:  53.3330007254377\n",
      "BIC:  57.13118397075341\n",
      "\n",
      "Order = 8\n",
      "AIC:  53.55026627645941\n",
      "BIC:  57.89156716498576\n",
      "\n",
      "Order = 9\n",
      "AIC:  53.70406266487181\n",
      "BIC:  58.591799530436965\n",
      "\n",
      "Order = 10\n",
      "AIC:  53.879549535897304\n",
      "BIC:  59.31707487223295\n",
      "\n",
      "Order = 11\n",
      "AIC:  54.026942695992034\n",
      "BIC:  60.01764364677022\n",
      "\n",
      "Order = 12\n",
      "AIC:  54.16982369599614\n",
      "BIC:  60.71712255385858\n",
      "\n",
      "Order = 13\n",
      "AIC:  54.30248477614312\n",
      "BIC:  61.40983949092352\n",
      "\n",
      "Order = 14\n",
      "AIC:  54.28745131642502\n",
      "BIC:  61.95835601277048\n",
      "\n",
      "Order = 15\n",
      "AIC:  54.39652828648877\n",
      "BIC:  62.634513791091614\n",
      "\n",
      "Order = 16\n",
      "AIC:  54.50669437722744\n",
      "BIC:  63.315328755884394\n",
      "\n",
      "Order = 17\n",
      "AIC:  54.57121464250127\n",
      "BIC:  63.954103747222746\n",
      "\n",
      "Order = 18\n",
      "AIC:  54.58419126894187\n",
      "BIC:  64.54497929534007\n",
      "\n",
      "Order = 19\n",
      "AIC:  54.641069990634925\n",
      "BIC:  65.18344004582542\n",
      "\n"
     ]
    },
    {
     "name": "stderr",
     "output_type": "stream",
     "text": [
      "C:\\Users\\taran\\AppData\\Local\\Programs\\Python\\Python39\\lib\\site-packages\\statsmodels\\tsa\\base\\tsa_model.py:471: ValueWarning: A date index has been provided, but it has no associated frequency information and so will be ignored when e.g. forecasting.\n",
      "  self._init_dates(dates, freq)\n"
     ]
    }
   ],
   "source": [
    "model = VAR(train)\n",
    "for i in range(1,20):\n",
    "    \n",
    "    results = model.fit(i)\n",
    "    print('Order =', i)\n",
    "    print('AIC: ', results.aic)\n",
    "    print('BIC: ', results.bic)\n",
    "    print()"
   ]
  },
  {
   "cell_type": "markdown",
   "id": "fb697078-ebb2-42c2-83fa-20e68398c25f",
   "metadata": {},
   "source": [
    "### Here we take order 1 as AIC doesnot decrease at any given order point"
   ]
  },
  {
   "cell_type": "code",
   "execution_count": 15,
   "id": "3ca27246-bd06-4fb1-a64e-70ee87df6145",
   "metadata": {},
   "outputs": [
    {
     "data": {
      "text/html": [
       "<table class=\"simpletable\">\n",
       "<caption>VAR Order Selection (* highlights the minimums)</caption>\n",
       "<tr>\n",
       "   <td></td>      <th>AIC</th>         <th>BIC</th>         <th>FPE</th>        <th>HQIC</th>    \n",
       "</tr>\n",
       "<tr>\n",
       "  <th>0</th>  <td>     56.75</td>  <td>     56.83</td>  <td> 4.407e+24</td>  <td>     56.78</td> \n",
       "</tr>\n",
       "<tr>\n",
       "  <th>1</th>  <td>     52.57*</td> <td>     53.20*</td> <td> 6.764e+22*</td> <td>     52.82*</td>\n",
       "</tr>\n",
       "<tr>\n",
       "  <th>2</th>  <td>     52.67</td>  <td>     53.84</td>  <td> 7.525e+22</td>  <td>     53.14</td> \n",
       "</tr>\n",
       "<tr>\n",
       "  <th>3</th>  <td>     52.86</td>  <td>     54.56</td>  <td> 9.041e+22</td>  <td>     53.54</td> \n",
       "</tr>\n",
       "<tr>\n",
       "  <th>4</th>  <td>     53.00</td>  <td>     55.24</td>  <td> 1.047e+23</td>  <td>     53.90</td> \n",
       "</tr>\n",
       "<tr>\n",
       "  <th>5</th>  <td>     53.19</td>  <td>     55.97</td>  <td> 1.272e+23</td>  <td>     54.31</td> \n",
       "</tr>\n",
       "<tr>\n",
       "  <th>6</th>  <td>     53.33</td>  <td>     56.65</td>  <td> 1.474e+23</td>  <td>     54.67</td> \n",
       "</tr>\n",
       "<tr>\n",
       "  <th>7</th>  <td>     53.46</td>  <td>     57.32</td>  <td> 1.692e+23</td>  <td>     55.01</td> \n",
       "</tr>\n",
       "<tr>\n",
       "  <th>8</th>  <td>     53.64</td>  <td>     58.04</td>  <td> 2.058e+23</td>  <td>     55.41</td> \n",
       "</tr>\n",
       "<tr>\n",
       "  <th>9</th>  <td>     53.77</td>  <td>     58.70</td>  <td> 2.381e+23</td>  <td>     55.76</td> \n",
       "</tr>\n",
       "<tr>\n",
       "  <th>10</th> <td>     53.94</td>  <td>     59.41</td>  <td> 2.869e+23</td>  <td>     56.14</td> \n",
       "</tr>\n",
       "<tr>\n",
       "  <th>11</th> <td>     54.05</td>  <td>     60.06</td>  <td> 3.312e+23</td>  <td>     56.48</td> \n",
       "</tr>\n",
       "<tr>\n",
       "  <th>12</th> <td>     54.17</td>  <td>     60.72</td>  <td> 3.844e+23</td>  <td>     56.81</td> \n",
       "</tr>\n",
       "</table>"
      ],
      "text/plain": [
       "<class 'statsmodels.iolib.table.SimpleTable'>"
      ]
     },
     "execution_count": 15,
     "metadata": {},
     "output_type": "execute_result"
    }
   ],
   "source": [
    "x = model.select_order(maxlags=12)\n",
    "x.summary()"
   ]
  },
  {
   "cell_type": "code",
   "execution_count": null,
   "id": "2f647b31-eb4a-4341-89a8-30077927703b",
   "metadata": {},
   "outputs": [],
   "source": []
  },
  {
   "cell_type": "code",
   "execution_count": null,
   "id": "a954a570-07e5-4222-90d5-113e19fcd191",
   "metadata": {},
   "outputs": [],
   "source": []
  },
  {
   "cell_type": "code",
   "execution_count": null,
   "id": "4c22e9b8-8c44-43ba-84d8-1aa5c3df11c5",
   "metadata": {},
   "outputs": [],
   "source": []
  },
  {
   "cell_type": "code",
   "execution_count": null,
   "id": "bced53bd-1b11-41ed-ba14-cd5cd4c686ed",
   "metadata": {},
   "outputs": [],
   "source": []
  },
  {
   "cell_type": "code",
   "execution_count": null,
   "id": "be4bdaa8-e1fa-4861-9b42-bb6ad9f9a814",
   "metadata": {},
   "outputs": [],
   "source": []
  },
  {
   "cell_type": "code",
   "execution_count": 16,
   "id": "4401521d-6e6b-47ea-bcb5-ccc9c07bd4f4",
   "metadata": {},
   "outputs": [
    {
     "data": {
      "text/plain": [
       "  Summary of Regression Results   \n",
       "==================================\n",
       "Model:                         VAR\n",
       "Method:                        OLS\n",
       "Date:           Wed, 31, Aug, 2022\n",
       "Time:                     17:50:21\n",
       "--------------------------------------------------------------------\n",
       "No. of Equations:         6.00000    BIC:                    53.0871\n",
       "Nobs:                     241.000    HQIC:                   52.7245\n",
       "Log likelihood:          -8333.60    FPE:                6.19063e+22\n",
       "AIC:                      52.4798    Det(Omega_mle):     5.21347e+22\n",
       "--------------------------------------------------------------------\n",
       "Results for equation Open\n",
       "===============================================================================\n",
       "                  coefficient       std. error           t-stat            prob\n",
       "-------------------------------------------------------------------------------\n",
       "const               31.280228        27.997683            1.117           0.264\n",
       "L1.Open             -0.093211         0.092683           -1.006           0.315\n",
       "L1.High              0.023163         0.121631            0.190           0.849\n",
       "L1.Low               0.060034         0.111423            0.539           0.590\n",
       "L1.Close             2.480002         2.697104            0.920           0.358\n",
       "L1.Adj Close        -1.485420         2.695261           -0.551           0.582\n",
       "L1.Volume           -0.000000         0.000000           -0.340           0.734\n",
       "===============================================================================\n",
       "\n",
       "Results for equation High\n",
       "===============================================================================\n",
       "                  coefficient       std. error           t-stat            prob\n",
       "-------------------------------------------------------------------------------\n",
       "const               98.405591        41.532475            2.369           0.018\n",
       "L1.Open             -0.353715         0.137488           -2.573           0.010\n",
       "L1.High              0.428213         0.180431            2.373           0.018\n",
       "L1.Low               0.250813         0.165288            1.517           0.129\n",
       "L1.Close             3.033147         4.000953            0.758           0.448\n",
       "L1.Adj Close        -2.394708         3.998218           -0.599           0.549\n",
       "L1.Volume            0.000000         0.000001            0.003           0.997\n",
       "===============================================================================\n",
       "\n",
       "Results for equation Low\n",
       "===============================================================================\n",
       "                  coefficient       std. error           t-stat            prob\n",
       "-------------------------------------------------------------------------------\n",
       "const               96.304887        44.440092            2.167           0.030\n",
       "L1.Open             -0.039274         0.147113           -0.267           0.789\n",
       "L1.High             -0.056461         0.193062           -0.292           0.770\n",
       "L1.Low               0.039075         0.176860            0.221           0.825\n",
       "L1.Close             3.809340         4.281053            0.890           0.374\n",
       "L1.Adj Close        -2.809822         4.278126           -0.657           0.511\n",
       "L1.Volume            0.000000         0.000001            0.244           0.807\n",
       "===============================================================================\n",
       "\n",
       "Results for equation Close\n",
       "===============================================================================\n",
       "                  coefficient       std. error           t-stat            prob\n",
       "-------------------------------------------------------------------------------\n",
       "const              184.913904        59.113365            3.128           0.002\n",
       "L1.Open             -0.218417         0.195687           -1.116           0.264\n",
       "L1.High              0.243689         0.256808            0.949           0.343\n",
       "L1.Low               0.179198         0.235255            0.762           0.446\n",
       "L1.Close             5.040536         5.694575            0.885           0.376\n",
       "L1.Adj Close        -4.331408         5.690682           -0.761           0.447\n",
       "L1.Volume           -0.000000         0.000001           -0.233           0.816\n",
       "===============================================================================\n",
       "\n",
       "Results for equation Adj Close\n",
       "===============================================================================\n",
       "                  coefficient       std. error           t-stat            prob\n",
       "-------------------------------------------------------------------------------\n",
       "const              183.513911        58.946211            3.113           0.002\n",
       "L1.Open             -0.217303         0.195134           -1.114           0.265\n",
       "L1.High              0.240790         0.256082            0.940           0.347\n",
       "L1.Low               0.180362         0.234590            0.769           0.442\n",
       "L1.Close             4.066260         5.678473            0.716           0.474\n",
       "L1.Adj Close        -3.355968         5.674591           -0.591           0.554\n",
       "L1.Volume           -0.000000         0.000001           -0.233           0.816\n",
       "===============================================================================\n",
       "\n",
       "Results for equation Volume\n",
       "===============================================================================\n",
       "                  coefficient       std. error           t-stat            prob\n",
       "-------------------------------------------------------------------------------\n",
       "const          6180370.344525   4781082.772366            1.293           0.196\n",
       "L1.Open         -26971.351800     15827.151900           -1.704           0.088\n",
       "L1.High          45501.068946     20770.580345            2.191           0.028\n",
       "L1.Low           -4520.806630     19027.433297           -0.238           0.812\n",
       "L1.Close        103246.474067    460576.632718            0.224           0.823\n",
       "L1.Adj Close   -118315.317340    460261.794456           -0.257           0.797\n",
       "L1.Volume            0.153823         0.080595            1.909           0.056\n",
       "===============================================================================\n",
       "\n",
       "Correlation matrix of residuals\n",
       "                 Open      High       Low     Close  Adj Close    Volume\n",
       "Open         1.000000  0.571810  0.561248  0.412940   0.412639 -0.080227\n",
       "High         0.571810  1.000000  0.682020  0.859712   0.859085  0.132680\n",
       "Low          0.561248  0.682020  1.000000  0.861255   0.861308 -0.372953\n",
       "Close        0.412940  0.859712  0.861255  1.000000   0.999934 -0.132065\n",
       "Adj Close    0.412639  0.859085  0.861308  0.999934   1.000000 -0.132447\n",
       "Volume      -0.080227  0.132680 -0.372953 -0.132065  -0.132447  1.000000\n",
       "\n"
      ]
     },
     "execution_count": 16,
     "metadata": {},
     "output_type": "execute_result"
    }
   ],
   "source": [
    "result = model.fit(1)\n",
    "result.summary()"
   ]
  },
  {
   "cell_type": "code",
   "execution_count": 17,
   "id": "ed0dd417-ee1e-4098-b486-9a118b9b2816",
   "metadata": {},
   "outputs": [],
   "source": [
    "def adjust(val, length= 6): return str(val).ljust(length)"
   ]
  },
  {
   "cell_type": "code",
   "execution_count": 34,
   "id": "75d86c2a-dd2c-49d1-84d8-2a329d230bf8",
   "metadata": {},
   "outputs": [
    {
     "name": "stdout",
     "output_type": "stream",
     "text": [
      "Open   : 1.87\n",
      "High   : 2.0\n",
      "Low    : 1.87\n",
      "Close  : 1.94\n",
      "Adj Close : 1.94\n",
      "Volume : 2.05\n"
     ]
    }
   ],
   "source": [
    "from statsmodels.stats.stattools import durbin_watson\n",
    "out = durbin_watson(result.resid)\n",
    "\n",
    "for col, val in zip(time_series.columns, out):\n",
    "    print(adjust(col), ':', round(val, 2))"
   ]
  },
  {
   "cell_type": "code",
   "execution_count": 19,
   "id": "61b675c6-05de-41f9-aa45-ea6cf2bd9cd5",
   "metadata": {},
   "outputs": [
    {
     "name": "stdout",
     "output_type": "stream",
     "text": [
      "1\n"
     ]
    }
   ],
   "source": [
    "lag_order = result.k_ar\n",
    "print(lag_order)"
   ]
  },
  {
   "cell_type": "code",
   "execution_count": null,
   "id": "e33570ae-a2f3-4374-9671-0b61419e8bb0",
   "metadata": {},
   "outputs": [],
   "source": []
  },
  {
   "cell_type": "code",
   "execution_count": null,
   "id": "dfd7bb78-a73c-4e32-a9e0-e99353f5dcc6",
   "metadata": {},
   "outputs": [],
   "source": []
  },
  {
   "cell_type": "code",
   "execution_count": 20,
   "id": "619b69fc-88aa-4b48-983d-78ae8cb35b6c",
   "metadata": {},
   "outputs": [],
   "source": [
    "lagged_Values = train.values[-1:]"
   ]
  },
  {
   "cell_type": "code",
   "execution_count": 21,
   "id": "538649ef-c863-468b-97a3-6dcbc27fcfa0",
   "metadata": {},
   "outputs": [],
   "source": [
    "pred = result.forecast(y=lagged_Values, steps=7) \n",
    "\n",
    "# idx = pd.date_range('2015-01-01', periods=12, freq='MS')\n",
    "df_forecast=pd.DataFrame(data=pred,index=time_series.index[-7:], columns=[ 'Open', 'High', 'Low', 'Close', 'Adj Close', 'Volume'])"
   ]
  },
  {
   "cell_type": "code",
   "execution_count": 22,
   "id": "1d52620f-d838-42b1-aa2a-96b9a279add7",
   "metadata": {},
   "outputs": [],
   "source": [
    "test_obs=7"
   ]
  },
  {
   "cell_type": "code",
   "execution_count": 23,
   "id": "da61be5d-71fd-4af7-8b74-5f78fcbb4325",
   "metadata": {},
   "outputs": [],
   "source": [
    "# for i,j,k,l in zip( ['Open', 'High', 'Low', 'Close', 'Adj Close', 'Volume'],[ 'Open1', 'High1', 'Low1', 'Close1', 'Adj Close1', 'Volume1'],[ 'Open2', 'High2', 'Low2', 'Close2', 'Adj Close2', 'Volume2'],[ 'OpenForecast', 'HighForecast', 'LowForecast', 'CloseForecast', 'Adj CloseForecast', 'VolumeForecast']):\n",
    "#     df_forecast[j] = (time_series[i].iloc[-test_obs-1]-time_series[i].iloc[-test_obs-2]) + df_forecast[k].cumsum()\n",
    "#     df_forecast[l] = time_series[i].iloc[-test_obs-1] + df_forecast[j].cumsum()"
   ]
  },
  {
   "cell_type": "code",
   "execution_count": 24,
   "id": "88074b0a-0a10-4270-9236-ee41cb033514",
   "metadata": {},
   "outputs": [
    {
     "data": {
      "text/html": [
       "<div>\n",
       "<style scoped>\n",
       "    .dataframe tbody tr th:only-of-type {\n",
       "        vertical-align: middle;\n",
       "    }\n",
       "\n",
       "    .dataframe tbody tr th {\n",
       "        vertical-align: top;\n",
       "    }\n",
       "\n",
       "    .dataframe thead th {\n",
       "        text-align: right;\n",
       "    }\n",
       "</style>\n",
       "<table border=\"1\" class=\"dataframe\">\n",
       "  <thead>\n",
       "    <tr style=\"text-align: right;\">\n",
       "      <th></th>\n",
       "      <th>Open</th>\n",
       "      <th>High</th>\n",
       "      <th>Low</th>\n",
       "      <th>Close</th>\n",
       "      <th>Adj Close</th>\n",
       "      <th>Volume</th>\n",
       "    </tr>\n",
       "    <tr>\n",
       "      <th>Date</th>\n",
       "      <th></th>\n",
       "      <th></th>\n",
       "      <th></th>\n",
       "      <th></th>\n",
       "      <th></th>\n",
       "      <th></th>\n",
       "    </tr>\n",
       "  </thead>\n",
       "  <tbody>\n",
       "    <tr>\n",
       "      <th>2022-08-22</th>\n",
       "      <td>2601.298970</td>\n",
       "      <td>2622.985235</td>\n",
       "      <td>2557.122766</td>\n",
       "      <td>2574.078057</td>\n",
       "      <td>2573.992056</td>\n",
       "      <td>5.323920e+06</td>\n",
       "    </tr>\n",
       "    <tr>\n",
       "      <th>2022-08-23</th>\n",
       "      <td>2562.487786</td>\n",
       "      <td>2586.453810</td>\n",
       "      <td>2520.016171</td>\n",
       "      <td>2538.657188</td>\n",
       "      <td>2538.443582</td>\n",
       "      <td>5.848935e+06</td>\n",
       "    </tr>\n",
       "    <tr>\n",
       "      <th>2022-08-24</th>\n",
       "      <td>2527.907830</td>\n",
       "      <td>2552.924571</td>\n",
       "      <td>2487.203735</td>\n",
       "      <td>2506.895488</td>\n",
       "      <td>2506.535797</td>\n",
       "      <td>6.030867e+06</td>\n",
       "    </tr>\n",
       "    <tr>\n",
       "      <th>2022-08-25</th>\n",
       "      <td>2496.982704</td>\n",
       "      <td>2522.640913</td>\n",
       "      <td>2457.870083</td>\n",
       "      <td>2478.465167</td>\n",
       "      <td>2477.946524</td>\n",
       "      <td>6.110139e+06</td>\n",
       "    </tr>\n",
       "    <tr>\n",
       "      <th>2022-08-26</th>\n",
       "      <td>2469.349858</td>\n",
       "      <td>2495.484267</td>\n",
       "      <td>2431.692751</td>\n",
       "      <td>2453.092783</td>\n",
       "      <td>2452.405199</td>\n",
       "      <td>6.158317e+06</td>\n",
       "    </tr>\n",
       "    <tr>\n",
       "      <th>2022-08-29</th>\n",
       "      <td>2444.733258</td>\n",
       "      <td>2471.269925</td>\n",
       "      <td>2408.411753</td>\n",
       "      <td>2430.547887</td>\n",
       "      <td>2429.683445</td>\n",
       "      <td>6.196030e+06</td>\n",
       "    </tr>\n",
       "    <tr>\n",
       "      <th>2022-08-30</th>\n",
       "      <td>2422.903153</td>\n",
       "      <td>2449.799177</td>\n",
       "      <td>2387.805802</td>\n",
       "      <td>2410.621983</td>\n",
       "      <td>2409.574453</td>\n",
       "      <td>6.229895e+06</td>\n",
       "    </tr>\n",
       "  </tbody>\n",
       "</table>\n",
       "</div>"
      ],
      "text/plain": [
       "                   Open         High          Low        Close    Adj Close  \\\n",
       "Date                                                                          \n",
       "2022-08-22  2601.298970  2622.985235  2557.122766  2574.078057  2573.992056   \n",
       "2022-08-23  2562.487786  2586.453810  2520.016171  2538.657188  2538.443582   \n",
       "2022-08-24  2527.907830  2552.924571  2487.203735  2506.895488  2506.535797   \n",
       "2022-08-25  2496.982704  2522.640913  2457.870083  2478.465167  2477.946524   \n",
       "2022-08-26  2469.349858  2495.484267  2431.692751  2453.092783  2452.405199   \n",
       "2022-08-29  2444.733258  2471.269925  2408.411753  2430.547887  2429.683445   \n",
       "2022-08-30  2422.903153  2449.799177  2387.805802  2410.621983  2409.574453   \n",
       "\n",
       "                  Volume  \n",
       "Date                      \n",
       "2022-08-22  5.323920e+06  \n",
       "2022-08-23  5.848935e+06  \n",
       "2022-08-24  6.030867e+06  \n",
       "2022-08-25  6.110139e+06  \n",
       "2022-08-26  6.158317e+06  \n",
       "2022-08-29  6.196030e+06  \n",
       "2022-08-30  6.229895e+06  "
      ]
     },
     "execution_count": 24,
     "metadata": {},
     "output_type": "execute_result"
    }
   ],
   "source": [
    "df_forecast"
   ]
  },
  {
   "cell_type": "code",
   "execution_count": 25,
   "id": "e59a6ed6-7c19-4875-bda1-0731b91364a7",
   "metadata": {},
   "outputs": [],
   "source": [
    "test_original = time_series[-test_obs:]\n"
   ]
  },
  {
   "cell_type": "code",
   "execution_count": 26,
   "id": "12c994ad-4e45-4c3b-ab82-acee20587c09",
   "metadata": {},
   "outputs": [
    {
     "data": {
      "image/png": "[encoded data removed]",
      "text/plain": [
       "<Figure size 864x360 with 1 Axes>"
      ]
     },
     "metadata": {
      "needs_background": "light"
     },
     "output_type": "display_data"
    },
    {
     "data": {
      "image/png": "[encoded data removed]",
      "text/plain": [
       "<Figure size 864x360 with 1 Axes>"
      ]
     },
     "metadata": {
      "needs_background": "light"
     },
     "output_type": "display_data"
    },
    {
     "data": {
      "image/png": "[encoded data removed]",
      "text/plain": [
       "<Figure size 864x360 with 1 Axes>"
      ]
     },
     "metadata": {
      "needs_background": "light"
     },
     "output_type": "display_data"
    },
    {
     "data": {
      "image/png": "[encoded data removed]",
      "text/plain": [
       "<Figure size 864x360 with 1 Axes>"
      ]
     },
     "metadata": {
      "needs_background": "light"
     },
     "output_type": "display_data"
    },
    {
     "data": {
      "image/png": "[encoded data removed]",
      "text/plain": [
       "<Figure size 864x360 with 1 Axes>"
      ]
     },
     "metadata": {
      "needs_background": "light"
     },
     "output_type": "display_data"
    },
    {
     "data": {
      "image/png": "[encoded data removed]",
      "text/plain": [
       "<Figure size 864x360 with 1 Axes>"
      ]
     },
     "metadata": {
      "needs_background": "light"
     },
     "output_type": "display_data"
    }
   ],
   "source": [
    "for i,j in zip([ 'Open', 'High', 'Low', 'Close', 'Adj Close', 'Volume'],[ 'Open', 'High', 'Low', 'Close', 'Adj Close', 'Volume']):\n",
    "    test_original[i].plot(figsize=(12,5),legend=True)\n",
    "    df_forecast[j].plot(legend=True)\n",
    "    plt.show()"
   ]
  },
  {
   "cell_type": "markdown",
   "id": "fc509ed6-7ce4-4f54-b756-c8f818c223a7",
   "metadata": {},
   "source": [
    "There is no need to get the outputs for VAR as the graph is already showing VAR is not good model for it"
   ]
  },
  {
   "cell_type": "code",
   "execution_count": null,
   "id": "43811ace-bff1-41a1-9943-c0864dc05f0c",
   "metadata": {},
   "outputs": [],
   "source": []
  },
  {
   "cell_type": "code",
   "execution_count": 198,
   "id": "58706d16-e3df-461d-ab1a-27d011c9737c",
   "metadata": {},
   "outputs": [],
   "source": [
    "df.to_csv(\"output.csv\")"
   ]
  },
  {
   "cell_type": "code",
   "execution_count": null,
   "id": "2fe7725c-f27d-45a7-8b2d-aab9c5a21b04",
   "metadata": {},
   "outputs": [],
   "source": []
  },
  {
   "cell_type": "code",
   "execution_count": null,
   "id": "90ae31aa-9076-4b1c-873e-b168b271113d",
   "metadata": {},
   "outputs": [],
   "source": []
  }
 ],
 "metadata": {
  "kernelspec": {
   "display_name": "Python 3 (ipykernel)",
   "language": "python",
   "name": "python3"
  },
  "language_info": {
   "codemirror_mode": {
    "name": "ipython",
    "version": 3
   },
   "file_extension": ".py",
   "mimetype": "text/x-python",
   "name": "python",
   "nbconvert_exporter": "python",
   "pygments_lexer": "ipython3",
   "version": "3.9.7"
  }
 },
 "nbformat": 4,
 "nbformat_minor": 5
}
