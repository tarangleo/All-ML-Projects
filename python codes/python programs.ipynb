{
 "cells": [
  {
   "cell_type": "markdown",
   "id": "5006afef-89f4-416f-ae3d-acdab39d3247",
   "metadata": {
    "tags": []
   },
   "source": [
    "\n",
    "# Parenthesis (P1)\n"
   ]
  },
  {
   "cell_type": "code",
   "execution_count": 66,
   "id": "ee8283ec-38b7-4de4-8da7-a9c966e7260c",
   "metadata": {},
   "outputs": [
    {
     "name": "stdin",
     "output_type": "stream",
     "text": [
      " 3\n"
     ]
    },
    {
     "name": "stdout",
     "output_type": "stream",
     "text": [
      "(())()\n",
      "()(())\n",
      "()()()\n"
     ]
    }
   ],
   "source": [
    "n=int(input())\n",
    "l=[\"(\",\")\"]*n\n",
    "#print(r)\n",
    "for i,j in enumerate(l):\n",
    "    if j==\")\":\n",
    "        l1=l.copy()\n",
    "        a=l[i:]\n",
    "        if i!=len(l)-1:\n",
    "            c=a.index(\"(\")\n",
    "            a[c]=\")\"\n",
    "            l1[i]=\"(\"\n",
    "       \n",
    "        l1=l1[:i+1]+a[1:]\n",
    "        l1=\"\".join(map(str, l1))\n",
    "        print(l1)\n",
    "        #l1=\"\".join(map(str, l))\n",
    "        \n",
    "            "
   ]
  },
  {
   "cell_type": "code",
   "execution_count": null,
   "id": "4f2f3afc-8c56-4eac-9e3e-c46837233c7f",
   "metadata": {},
   "outputs": [],
   "source": []
  },
  {
   "cell_type": "code",
   "execution_count": 67,
   "id": "7419bff7-d4d6-440f-b004-772159bc3e09",
   "metadata": {},
   "outputs": [
    {
     "name": "stdin",
     "output_type": "stream",
     "text": [
      " 4\n"
     ]
    }
   ],
   "source": [
    "n=int(input())"
   ]
  },
  {
   "cell_type": "code",
   "execution_count": 73,
   "id": "b962a79c-7bd7-4448-a4f6-6936abf53911",
   "metadata": {},
   "outputs": [
    {
     "name": "stdout",
     "output_type": "stream",
     "text": [
      "()()()\n",
      "()(())\n",
      "(())()\n",
      "(()())\n",
      "((()))\n"
     ]
    }
   ],
   "source": [
    "str=\"\"\n",
    "def p(openB,closeB,n,s=[]):\n",
    "    if closeB==n:\n",
    "        print(\"\".join(s))\n",
    "        return\n",
    "    else:\n",
    "        if openB>closeB:\n",
    "            s.append(\")\")\n",
    "            p(openB,closeB+1,n,s)\n",
    "            s.pop()\n",
    "        if openB<n:\n",
    "            s.append(\"(\")\n",
    "            p(openB+1,closeB,n,s)\n",
    "            s.pop()\n",
    "    return\n",
    "p(0,0,3)\n",
    "        "
   ]
  },
  {
   "cell_type": "markdown",
   "id": "8ae1edc2-dddf-4213-b8c4-e2e755bfbef3",
   "metadata": {},
   "source": [
    "# Simple Input (P2)"
   ]
  },
  {
   "cell_type": "code",
   "execution_count": 98,
   "id": "a0b43c48-7464-4968-9b05-2b51b333f5b8",
   "metadata": {},
   "outputs": [
    {
     "name": "stdin",
     "output_type": "stream",
     "text": [
      " 10\n",
      " 2\n",
      " 12\n",
      " -50\n",
      " 12200\n",
      " \n"
     ]
    },
    {
     "name": "stdout",
     "output_type": "stream",
     "text": [
      "[10, 2, 12]\n"
     ]
    }
   ],
   "source": [
    "def sumS(s):\n",
    "    sum1=0\n",
    "    for i,j in enumerate(s):\n",
    "        if sum1<0:\n",
    "            return s[:i-1]\n",
    "        else:\n",
    "            sum1+=j\n",
    "    return s\n",
    "\n",
    "\n",
    "s = []\n",
    "while True:\n",
    "    inp = input()\n",
    "    if inp == \"\":\n",
    "        break\n",
    "    s.append(int(inp))\n",
    "s1=sumS(s)\n",
    "print(s1)\n"
   ]
  },
  {
   "cell_type": "code",
   "execution_count": 91,
   "id": "e011fb19-8f4b-42d8-bd3f-fa81828d275c",
   "metadata": {},
   "outputs": [
    {
     "name": "stdin",
     "output_type": "stream",
     "text": [
      " 3 5 6 85 45 -100 -7 44 -500 85 444444\n"
     ]
    }
   ],
   "source": [
    "s = list(map(int,input().strip().split()))"
   ]
  },
  {
   "cell_type": "code",
   "execution_count": 109,
   "id": "5ea6159d-6842-4305-b7f2-06fd34a98712",
   "metadata": {},
   "outputs": [
    {
     "name": "stdin",
     "output_type": "stream",
     "text": [
      " 10\n",
      " 30\n",
      " 255\n",
      " 622\n",
      " -25555\n"
     ]
    },
    {
     "name": "stdout",
     "output_type": "stream",
     "text": [
      "10\n",
      "30\n",
      "255\n",
      "622\n"
     ]
    }
   ],
   "source": [
    "def sumS(s):\n",
    "    sum1=0\n",
    "    while sum1 >= 0:\n",
    "        inp = int(input())\n",
    "        sum1+=inp\n",
    "        s.append(int(inp))\n",
    "        if sum1<0:\n",
    "            for i in s[:-1]:\n",
    "                print(i)\n",
    "    return \n",
    "\n",
    "\n",
    "s = []\n",
    "\n",
    "sumS(s)\n",
    "\n"
   ]
  },
  {
   "cell_type": "markdown",
   "id": "e142fcd4-b4b0-4601-bc00-3b06e69138a2",
   "metadata": {},
   "source": [
    "# Pattern No. and Stars (P3)"
   ]
  },
  {
   "cell_type": "code",
   "execution_count": 160,
   "id": "68b20fa2-0330-4a2a-b9d8-f2434c7472f6",
   "metadata": {},
   "outputs": [],
   "source": [
    "def pattern(n):\n",
    "    for i in range(n,0,-1):\n",
    "        s=\"\"\n",
    "        for j in range(1,i+1):\n",
    "            s+=str(j)+\" \"\n",
    "        a=2*(n-i)-1\n",
    "        s+=\"* \"*a\n",
    "            \n",
    "        print(s[:-1])"
   ]
  },
  {
   "cell_type": "code",
   "execution_count": 161,
   "id": "8738fd44-d9c4-4ebe-8eed-624f4159d88c",
   "metadata": {},
   "outputs": [
    {
     "name": "stdin",
     "output_type": "stream",
     "text": [
      " 5\n"
     ]
    },
    {
     "name": "stdout",
     "output_type": "stream",
     "text": [
      "1 2 3 4 5\n",
      "1 2 3 4 *\n",
      "1 2 3 * * *\n",
      "1 2 * * * * *\n",
      "1 * * * * * * *\n"
     ]
    }
   ],
   "source": [
    "n=int(input())\n",
    "pattern(n)"
   ]
  },
  {
   "cell_type": "code",
   "execution_count": 127,
   "id": "95e5cc92-d783-4d97-aa79-3c97732957f3",
   "metadata": {},
   "outputs": [],
   "source": [
    "del str"
   ]
  },
  {
   "cell_type": "code",
   "execution_count": null,
   "id": "4925fb72-fabb-443e-9aa3-8b011d0aa38b",
   "metadata": {},
   "outputs": [],
   "source": [
    "print('*'*-1)"
   ]
  },
  {
   "cell_type": "markdown",
   "id": "ae0d6820-88af-496c-a5cf-78cfdd5844b5",
   "metadata": {},
   "source": [
    "# decresing And increasing (P4)"
   ]
  },
  {
   "cell_type": "code",
   "execution_count": 211,
   "id": "31e04c78-0fbb-4d9c-b0fb-f2e7c1cd457c",
   "metadata": {},
   "outputs": [],
   "source": [
    "def fuld(s):\n",
    "    d=-1\n",
    "    res=True\n",
    "    for (i,j),k in zip((enumerate(s)),s[1:]):\n",
    "        if j<k:\n",
    "            d=i\n",
    "            break\n",
    "        elif j==k:\n",
    "            res=False\n",
    "            break\n",
    "    if d!=-1:\n",
    "        res = all(i < j for i, j in zip(s[d+1:], s[d+2:]))\n",
    "    \n",
    "    if res==True:\n",
    "        print(\"true\")\n",
    "    else:\n",
    "        print(\"false\")\n",
    "        "
   ]
  },
  {
   "cell_type": "code",
   "execution_count": 217,
   "id": "7769dd83-c05a-4de2-885b-0075d84391ab",
   "metadata": {},
   "outputs": [
    {
     "name": "stdin",
     "output_type": "stream",
     "text": [
      " 5\n",
      " 8\n",
      " 6\n",
      " 5\n",
      " 7\n",
      " 9\n"
     ]
    },
    {
     "name": "stdout",
     "output_type": "stream",
     "text": [
      "true\n"
     ]
    }
   ],
   "source": [
    "s=[]\n",
    "n=int(input())\n",
    "for i in range(0,n):\n",
    "    inp=int(input())\n",
    "    s.append(inp)\n",
    "fuld(s)"
   ]
  },
  {
   "cell_type": "markdown",
   "id": "6fbada2e-bd48-4cb3-8cc0-74a433f142f2",
   "metadata": {},
   "source": [
    "# Pythogorus (P5)"
   ]
  },
  {
   "cell_type": "code",
   "execution_count": 331,
   "id": "84484f49-9895-4ca5-84fe-7594a76cae93",
   "metadata": {},
   "outputs": [],
   "source": [
    "import math"
   ]
  },
  {
   "cell_type": "code",
   "execution_count": 332,
   "id": "09fdd5aa-0e9c-45f7-8f22-f883e27dfc7e",
   "metadata": {},
   "outputs": [],
   "source": [
    "def check(a):\n",
    "    if a==0:\n",
    "        print(\"(0,0)\",end=' ')\n",
    "    for i in range(0,int(math.sqrt(a))//2+2):\n",
    "        n=a-i**2\n",
    "        if n >=0:\n",
    "            no=math.sqrt(n)\n",
    "            if (int(no+0.5)**2)==(n) and i!=a:\n",
    "                print(f\"({i},{int(no)})\",end=' ')\n",
    "    print(\"\",end=\"\\n\")\n"
   ]
  },
  {
   "cell_type": "code",
   "execution_count": 333,
   "id": "037ba82d-1d0b-4ece-8feb-ebb749ead90f",
   "metadata": {},
   "outputs": [
    {
     "name": "stdin",
     "output_type": "stream",
     "text": [
      " 0\n"
     ]
    }
   ],
   "source": [
    "n=int(input())\n",
    "for i in range(0,n):\n",
    "    b=int(input())\n",
    "    check(b)"
   ]
  },
  {
   "cell_type": "markdown",
   "id": "6a257114-3cb7-4b0a-bfc2-bfcef7a598dc",
   "metadata": {},
   "source": [
    "# check Prime (P6)"
   ]
  },
  {
   "cell_type": "code",
   "execution_count": 362,
   "id": "c0435c50-6ac0-4323-939e-93ec54e340f9",
   "metadata": {},
   "outputs": [],
   "source": [
    "def checkp(b,c):\n",
    "    for num in range(b,c+1):\n",
    "        if num > 1:\n",
    "            for i in range(2,num):\n",
    "                if (num % i) == 0:\n",
    "                    break\n",
    "            else:\n",
    "                print(f\"{num} \",end=\" \")\n",
    "                    "
   ]
  },
  {
   "cell_type": "code",
   "execution_count": 364,
   "id": "d46cbbe1-cce3-4050-ad68-b1985ce9326c",
   "metadata": {},
   "outputs": [
    {
     "name": "stdin",
     "output_type": "stream",
     "text": [
      " 2\n",
      " 10 19\n"
     ]
    },
    {
     "ename": "ValueError",
     "evalue": "empty separator",
     "output_type": "error",
     "traceback": [
      "\u001b[1;31m---------------------------------------------------------------------------\u001b[0m",
      "\u001b[1;31mValueError\u001b[0m                                Traceback (most recent call last)",
      "\u001b[1;32m~\\AppData\\Local\\Temp/ipykernel_12620/11627627.py\u001b[0m in \u001b[0;36m<module>\u001b[1;34m\u001b[0m\n\u001b[0;32m      1\u001b[0m \u001b[0mn\u001b[0m\u001b[1;33m=\u001b[0m\u001b[0mint\u001b[0m\u001b[1;33m(\u001b[0m\u001b[0minput\u001b[0m\u001b[1;33m(\u001b[0m\u001b[1;33m)\u001b[0m\u001b[1;33m)\u001b[0m\u001b[1;33m\u001b[0m\u001b[1;33m\u001b[0m\u001b[0m\n\u001b[0;32m      2\u001b[0m \u001b[1;32mfor\u001b[0m \u001b[0mi\u001b[0m \u001b[1;32min\u001b[0m \u001b[0mrange\u001b[0m\u001b[1;33m(\u001b[0m\u001b[1;36m0\u001b[0m\u001b[1;33m,\u001b[0m\u001b[0mn\u001b[0m\u001b[1;33m)\u001b[0m\u001b[1;33m:\u001b[0m\u001b[1;33m\u001b[0m\u001b[1;33m\u001b[0m\u001b[0m\n\u001b[1;32m----> 3\u001b[1;33m     \u001b[0mx\u001b[0m\u001b[1;33m,\u001b[0m \u001b[0my\u001b[0m \u001b[1;33m=\u001b[0m \u001b[0minput\u001b[0m\u001b[1;33m(\u001b[0m\u001b[1;33m)\u001b[0m\u001b[1;33m.\u001b[0m\u001b[0msplit\u001b[0m\u001b[1;33m(\u001b[0m\u001b[1;34m\"\"\u001b[0m\u001b[1;33m)\u001b[0m\u001b[1;33m\u001b[0m\u001b[1;33m\u001b[0m\u001b[0m\n\u001b[0m\u001b[0;32m      4\u001b[0m \u001b[1;33m\u001b[0m\u001b[0m\n\u001b[0;32m      5\u001b[0m     \u001b[0mb\u001b[0m\u001b[1;33m=\u001b[0m\u001b[0mint\u001b[0m\u001b[1;33m(\u001b[0m\u001b[0mx\u001b[0m\u001b[1;33m)\u001b[0m\u001b[1;33m\u001b[0m\u001b[1;33m\u001b[0m\u001b[0m\n",
      "\u001b[1;31mValueError\u001b[0m: empty separator"
     ]
    }
   ],
   "source": [
    "\n",
    "\n",
    "n=int(input())\n",
    "for i in range(0,n):\n",
    "    x, y = input().split(\" \")\n",
    "    \n",
    "    b=int(x)\n",
    "    c=int(y)\n",
    "    checkp(b,c)\n",
    "    print()"
   ]
  },
  {
   "cell_type": "markdown",
   "id": "6bd3e14e-56bf-4bba-a4b1-8afaa87b8f5c",
   "metadata": {},
   "source": [
    "# Prime Generator (P7)"
   ]
  },
  {
   "cell_type": "code",
   "execution_count": null,
   "id": "0ced9d6b-b9a2-4c3c-a018-5e75feab903f",
   "metadata": {},
   "outputs": [],
   "source": [
    "from math import sqrt\n",
    "primes = [2]\n",
    "\n",
    "for i in range(3,32000,2):\n",
    "    isprime = True\n",
    "\n",
    "    cap = sqrt(i)+1\n",
    "\n",
    "    for j in primes:\n",
    "        if (j >= cap):\n",
    "            break\n",
    "        if (i % j == 0):\n",
    "            isprime = False\n",
    "            break\n",
    "    if (isprime):\n",
    "        primes.append(i)\n",
    "\n",
    "T = int(input())\n",
    "output = \"\"\n",
    "for t in range(T):\n",
    "\n",
    "    if (t > 0):\n",
    "        output += \"\\n\"\n",
    "    raw_input=input()\n",
    "    M,N = raw_input.split(' ')\n",
    "    M = int(M)\n",
    "    N = int(N)\n",
    "    cap = sqrt(N)+1\n",
    "\n",
    "    if (M < 2):\n",
    "        M = 2\n",
    "\n",
    "    isprime = [True]*100001\n",
    "\n",
    "    for i in primes:\n",
    "        if (i >= cap):\n",
    "            break\n",
    "\n",
    "        if (i >= M):\n",
    "            start = i*2\n",
    "        else:\n",
    "            start = M + ((i - M % i)%i)\n",
    "\n",
    "        # The two below, obscure lines create a continuous\n",
    "        #  block of false elements in order to set all\n",
    "        #  elements correspnding to numbers divisible by i\n",
    "        #  in isprime to be false\n",
    "        # In turns out that this runs substantially faster\n",
    "        #  than setting the elements individually using loops\n",
    "        falseblock = [False] * len(isprime[start-M:N+1-M:i]);\n",
    "        isprime[start-M:N+1-M:i] = falseblock\n",
    "\n",
    "    for i in range(M,N+1):\n",
    "        if (isprime[i-M] == True):\n",
    "            output += str(i) + \"\\n\"\n",
    "\n",
    "print (output[:-1])"
   ]
  },
  {
   "cell_type": "code",
   "execution_count": 17,
   "id": "0563bff5-7fa7-4a4a-b95c-13e3969e8cb1",
   "metadata": {},
   "outputs": [
    {
     "name": "stdin",
     "output_type": "stream",
     "text": [
      " 2\n",
      " 1 10\n"
     ]
    },
    {
     "name": "stdout",
     "output_type": "stream",
     "text": [
      "2 3 5 7 \n"
     ]
    },
    {
     "name": "stdin",
     "output_type": "stream",
     "text": [
      " 3 5\n"
     ]
    },
    {
     "name": "stdout",
     "output_type": "stream",
     "text": [
      "3 5 \n"
     ]
    }
   ],
   "source": [
    "from math import sqrt\n",
    "\n",
    "\n",
    "def checkpp(b,c):\n",
    "    \n",
    "    primes = [2]\n",
    "    for i in range(3,c+1,2):\n",
    "        isprime = True\n",
    "\n",
    "        cap = sqrt(i)+1\n",
    "\n",
    "        for j in primes:\n",
    "            if (j >= cap):\n",
    "                break\n",
    "            if (i % j == 0):\n",
    "                isprime = False\n",
    "                break\n",
    "        if (isprime):\n",
    "            primes.append(i)\n",
    "    for i in primes:\n",
    "        if(i>=b):\n",
    "            print(f\"{i}\",end=\" \")\n",
    "    \n",
    "    del primes\n",
    "\n",
    "n=int(input())\n",
    "for i in range(0,n):\n",
    "    x, y = input().split(\" \")\n",
    "    \n",
    "    b=int(x)\n",
    "    c=int(y)\n",
    "    checkpp(b,c)\n",
    "    print()\n",
    "    "
   ]
  },
  {
   "cell_type": "markdown",
   "id": "5581dd0c-e4f6-4fe8-860f-ce7a50d18e7e",
   "metadata": {},
   "source": [
    "# QuickSort"
   ]
  },
  {
   "cell_type": "code",
   "execution_count": 3,
   "id": "e9161eb8-8b60-43ec-8bab-e5c4dee1bc6d",
   "metadata": {},
   "outputs": [
    {
     "name": "stdout",
     "output_type": "stream",
     "text": [
      "8\n",
      "[2, 4, 6, 9, 10, 12, 55, 85, 100]\n"
     ]
    }
   ],
   "source": [
    "def quicksort_p(b,c,a=[]):\n",
    "    pivot=a[b]\n",
    "    i,j=b,c\n",
    "    while(i<j):\n",
    "        while(a[i]<=pivot):\n",
    "            i+=1\n",
    "            \n",
    "        while(a[j]>pivot and j>0):\n",
    "            j-=1\n",
    "        if (i<j):\n",
    "            a[i],a[j]=a[j],a[i]\n",
    "    a[b],a[j]=a[j],a[b]\n",
    "    return j\n",
    "\n",
    "def quicksort(b,c,a=[]):\n",
    "    if b<c:\n",
    "        j=quicksort_p(b,c,a)\n",
    "        quicksort(b,j,a)\n",
    "        quicksort(j+1,c,a)\n",
    "    return a\n",
    "\n",
    "l=[10,4,85,6,12,55,9,2,100]\n",
    "quicksort(0,len(l)-1,l)            \n",
    "        \n",
    "        \n",
    "    "
   ]
  },
  {
   "cell_type": "code",
   "execution_count": null,
   "id": "b1a788c6-fb62-4786-8792-ff6b32699303",
   "metadata": {},
   "outputs": [],
   "source": [
    "l=[10,4,9,85,6,12,55,9,2,100]\n",
    "print(len(l)-1)\n",
    "quicksort(0,len(l)-1,l)"
   ]
  },
  {
   "cell_type": "code",
   "execution_count": 16,
   "id": "509f0f43-1023-4248-8063-4f41f0bd4c6d",
   "metadata": {},
   "outputs": [
    {
     "name": "stdin",
     "output_type": "stream",
     "text": [
      " 5\n",
      " 5 4 3 2 1\n"
     ]
    },
    {
     "name": "stdout",
     "output_type": "stream",
     "text": [
      "[1, 5, 3, 4, 2]\n",
      "[1, 5, 3, 4, 2]\n"
     ]
    },
    {
     "ename": "IndexError",
     "evalue": "list index out of range",
     "output_type": "error",
     "traceback": [
      "\u001b[1;31m---------------------------------------------------------------------------\u001b[0m",
      "\u001b[1;31mIndexError\u001b[0m                                Traceback (most recent call last)",
      "\u001b[1;32m~\\AppData\\Local\\Temp/ipykernel_16496/1701433541.py\u001b[0m in \u001b[0;36m<module>\u001b[1;34m\u001b[0m\n\u001b[0;32m     32\u001b[0m \u001b[0mrandom\u001b[0m\u001b[1;33m.\u001b[0m\u001b[0mshuffle\u001b[0m\u001b[1;33m(\u001b[0m\u001b[0ms\u001b[0m\u001b[1;33m)\u001b[0m\u001b[1;33m\u001b[0m\u001b[1;33m\u001b[0m\u001b[0m\n\u001b[0;32m     33\u001b[0m \u001b[0mprint\u001b[0m\u001b[1;33m(\u001b[0m\u001b[0ms\u001b[0m\u001b[1;33m)\u001b[0m\u001b[1;33m\u001b[0m\u001b[1;33m\u001b[0m\u001b[0m\n\u001b[1;32m---> 34\u001b[1;33m \u001b[0ml\u001b[0m\u001b[1;33m=\u001b[0m\u001b[0mquicksort\u001b[0m\u001b[1;33m(\u001b[0m\u001b[1;36m0\u001b[0m\u001b[1;33m,\u001b[0m\u001b[0mlen\u001b[0m\u001b[1;33m(\u001b[0m\u001b[0ms\u001b[0m\u001b[1;33m)\u001b[0m\u001b[1;33m-\u001b[0m\u001b[1;36m1\u001b[0m\u001b[1;33m,\u001b[0m\u001b[0ms\u001b[0m\u001b[1;33m)\u001b[0m\u001b[1;33m\u001b[0m\u001b[1;33m\u001b[0m\u001b[0m\n\u001b[0m\u001b[0;32m     35\u001b[0m \u001b[1;32mfor\u001b[0m \u001b[0mi\u001b[0m \u001b[1;32min\u001b[0m \u001b[0ml\u001b[0m\u001b[1;33m:\u001b[0m\u001b[1;33m\u001b[0m\u001b[1;33m\u001b[0m\u001b[0m\n\u001b[0;32m     36\u001b[0m     \u001b[0mprint\u001b[0m\u001b[1;33m(\u001b[0m\u001b[1;34mf\"{i}\"\u001b[0m\u001b[1;33m,\u001b[0m\u001b[0mend\u001b[0m\u001b[1;33m=\u001b[0m\u001b[1;34m\" \"\u001b[0m\u001b[1;33m)\u001b[0m\u001b[1;33m\u001b[0m\u001b[1;33m\u001b[0m\u001b[0m\n",
      "\u001b[1;32m~\\AppData\\Local\\Temp/ipykernel_16496/1701433541.py\u001b[0m in \u001b[0;36mquicksort\u001b[1;34m(b, c, a)\u001b[0m\n\u001b[0;32m     24\u001b[0m         \u001b[0mj\u001b[0m\u001b[1;33m=\u001b[0m\u001b[0mquicksort_p\u001b[0m\u001b[1;33m(\u001b[0m\u001b[0mb\u001b[0m\u001b[1;33m,\u001b[0m\u001b[0mc\u001b[0m\u001b[1;33m,\u001b[0m\u001b[0ma\u001b[0m\u001b[1;33m)\u001b[0m\u001b[1;33m\u001b[0m\u001b[1;33m\u001b[0m\u001b[0m\n\u001b[0;32m     25\u001b[0m         \u001b[0mquicksort\u001b[0m\u001b[1;33m(\u001b[0m\u001b[0mb\u001b[0m\u001b[1;33m,\u001b[0m\u001b[0mj\u001b[0m\u001b[1;33m,\u001b[0m\u001b[0ma\u001b[0m\u001b[1;33m)\u001b[0m\u001b[1;33m\u001b[0m\u001b[1;33m\u001b[0m\u001b[0m\n\u001b[1;32m---> 26\u001b[1;33m         \u001b[0mquicksort\u001b[0m\u001b[1;33m(\u001b[0m\u001b[0mj\u001b[0m\u001b[1;33m+\u001b[0m\u001b[1;36m1\u001b[0m\u001b[1;33m,\u001b[0m\u001b[0mc\u001b[0m\u001b[1;33m,\u001b[0m\u001b[0ma\u001b[0m\u001b[1;33m)\u001b[0m\u001b[1;33m\u001b[0m\u001b[1;33m\u001b[0m\u001b[0m\n\u001b[0m\u001b[0;32m     27\u001b[0m     \u001b[0mprint\u001b[0m\u001b[1;33m(\u001b[0m\u001b[0ma\u001b[0m\u001b[1;33m)\u001b[0m\u001b[1;33m\u001b[0m\u001b[1;33m\u001b[0m\u001b[0m\n\u001b[0;32m     28\u001b[0m     \u001b[1;32mreturn\u001b[0m \u001b[0ma\u001b[0m\u001b[1;33m\u001b[0m\u001b[1;33m\u001b[0m\u001b[0m\n",
      "\u001b[1;32m~\\AppData\\Local\\Temp/ipykernel_16496/1701433541.py\u001b[0m in \u001b[0;36mquicksort\u001b[1;34m(b, c, a)\u001b[0m\n\u001b[0;32m     22\u001b[0m         \u001b[1;31m#random.shuffle(a)\u001b[0m\u001b[1;33m\u001b[0m\u001b[1;33m\u001b[0m\u001b[0m\n\u001b[0;32m     23\u001b[0m         \u001b[1;31m#a[h],a[b]=a[b],a[h]\u001b[0m\u001b[1;33m\u001b[0m\u001b[1;33m\u001b[0m\u001b[0m\n\u001b[1;32m---> 24\u001b[1;33m         \u001b[0mj\u001b[0m\u001b[1;33m=\u001b[0m\u001b[0mquicksort_p\u001b[0m\u001b[1;33m(\u001b[0m\u001b[0mb\u001b[0m\u001b[1;33m,\u001b[0m\u001b[0mc\u001b[0m\u001b[1;33m,\u001b[0m\u001b[0ma\u001b[0m\u001b[1;33m)\u001b[0m\u001b[1;33m\u001b[0m\u001b[1;33m\u001b[0m\u001b[0m\n\u001b[0m\u001b[0;32m     25\u001b[0m         \u001b[0mquicksort\u001b[0m\u001b[1;33m(\u001b[0m\u001b[0mb\u001b[0m\u001b[1;33m,\u001b[0m\u001b[0mj\u001b[0m\u001b[1;33m,\u001b[0m\u001b[0ma\u001b[0m\u001b[1;33m)\u001b[0m\u001b[1;33m\u001b[0m\u001b[1;33m\u001b[0m\u001b[0m\n\u001b[0;32m     26\u001b[0m         \u001b[0mquicksort\u001b[0m\u001b[1;33m(\u001b[0m\u001b[0mj\u001b[0m\u001b[1;33m+\u001b[0m\u001b[1;36m1\u001b[0m\u001b[1;33m,\u001b[0m\u001b[0mc\u001b[0m\u001b[1;33m,\u001b[0m\u001b[0ma\u001b[0m\u001b[1;33m)\u001b[0m\u001b[1;33m\u001b[0m\u001b[1;33m\u001b[0m\u001b[0m\n",
      "\u001b[1;32m~\\AppData\\Local\\Temp/ipykernel_16496/1701433541.py\u001b[0m in \u001b[0;36mquicksort_p\u001b[1;34m(b, c, a)\u001b[0m\n\u001b[0;32m      6\u001b[0m     \u001b[1;32mwhile\u001b[0m\u001b[1;33m(\u001b[0m\u001b[0mi\u001b[0m\u001b[1;33m<\u001b[0m\u001b[0mj\u001b[0m\u001b[1;33m)\u001b[0m\u001b[1;33m:\u001b[0m\u001b[1;33m\u001b[0m\u001b[1;33m\u001b[0m\u001b[0m\n\u001b[0;32m      7\u001b[0m         \u001b[0mi\u001b[0m\u001b[1;33m+=\u001b[0m\u001b[1;36m1\u001b[0m\u001b[1;33m\u001b[0m\u001b[1;33m\u001b[0m\u001b[0m\n\u001b[1;32m----> 8\u001b[1;33m         \u001b[1;32mwhile\u001b[0m\u001b[1;33m(\u001b[0m\u001b[0ma\u001b[0m\u001b[1;33m[\u001b[0m\u001b[0mi\u001b[0m\u001b[1;33m]\u001b[0m\u001b[1;33m<=\u001b[0m\u001b[0mpivot\u001b[0m\u001b[1;33m)\u001b[0m\u001b[1;33m:\u001b[0m\u001b[1;33m\u001b[0m\u001b[1;33m\u001b[0m\u001b[0m\n\u001b[0m\u001b[0;32m      9\u001b[0m             \u001b[0mi\u001b[0m\u001b[1;33m+=\u001b[0m\u001b[1;36m1\u001b[0m\u001b[1;33m\u001b[0m\u001b[1;33m\u001b[0m\u001b[0m\n\u001b[0;32m     10\u001b[0m \u001b[1;33m\u001b[0m\u001b[0m\n",
      "\u001b[1;31mIndexError\u001b[0m: list index out of range"
     ]
    }
   ],
   "source": [
    "import random\n",
    "\n",
    "def quicksort_p(b,c,a=[]):\n",
    "    pivot=a[b]\n",
    "    i,j=b,c\n",
    "    while(i<j):\n",
    "        i+=1\n",
    "        while(a[i]<=pivot):\n",
    "            i+=1\n",
    "            \n",
    "        j-=1\n",
    "        while(a[j]>pivot):\n",
    "            j-=1\n",
    "        if (i<j):\n",
    "            a[i],a[j]=a[j],a[i]\n",
    "    a[b],a[j]=a[j],a[b]\n",
    "    return j\n",
    "\n",
    "def quicksort(b,c,a=[]):\n",
    "    if b<c:\n",
    "        \n",
    "        #random.shuffle(a)\n",
    "        #a[h],a[b]=a[b],a[h]\n",
    "        j=quicksort_p(b,c,a)\n",
    "        quicksort(b,j,a)\n",
    "        quicksort(j+1,c,a)\n",
    "    print(a)\n",
    "    return a\n",
    "s=[]\n",
    "n=int(input())\n",
    "s = list(map(int,input().strip().split(\" \")))[:n]\n",
    "random.shuffle(s)\n",
    "print(s)\n",
    "l=quicksort(0,len(s)-1,s)\n",
    "for i in l:\n",
    "    print(f\"{i}\",end=\" \")             \n",
    "        \n",
    "        \n",
    "    "
   ]
  },
  {
   "cell_type": "code",
   "execution_count": 9,
   "id": "b941ec22-36ae-4952-baec-201acd3b1a0e",
   "metadata": {},
   "outputs": [
    {
     "name": "stdin",
     "output_type": "stream",
     "text": [
      " 5\n",
      " 5 74 8 65 2\n"
     ]
    },
    {
     "name": "stdout",
     "output_type": "stream",
     "text": [
      "2 5 8 65 74 "
     ]
    }
   ],
   "source": [
    "s=[]\n",
    "n=int(input())\n",
    "s = list(map(int,input().strip().split(\" \")))[:n]\n",
    "l=quicksort(0,len(s)-1,s)\n",
    "for i in l:\n",
    "    print(f\"{i}\",end=\" \")\n",
    "    "
   ]
  },
  {
   "cell_type": "code",
   "execution_count": null,
   "id": "c5c347ff-dafe-4aed-92e7-00cd42b39b84",
   "metadata": {},
   "outputs": [],
   "source": []
  },
  {
   "cell_type": "code",
   "execution_count": null,
   "id": "ea938f4c-dd54-4ac6-8a60-bdf93799b456",
   "metadata": {},
   "outputs": [],
   "source": []
  },
  {
   "cell_type": "code",
   "execution_count": 12,
   "id": "5650c1c8-d5ac-4c91-9cb8-1a10c6029e91",
   "metadata": {},
   "outputs": [],
   "source": [
    "def partition(arr, low, high):\n",
    "    i = (low-1)         # index of smaller element\n",
    "    pivot = arr[high]     # pivot\n",
    "  \n",
    "    for j in range(low, high):\n",
    "        if arr[j] <= pivot:\n",
    "            i = i+1\n",
    "            arr[i], arr[j] = arr[j], arr[i]\n",
    "  \n",
    "    arr[i+1], arr[high] = arr[high], arr[i+1]\n",
    "    return (i+1)\n",
    "  \n",
    "\n",
    "def quickSort(arr, low, high):\n",
    "    if len(arr) == 1:\n",
    "        return arr\n",
    "    if low < high:\n",
    "        pi = partition(arr, low, high)\n",
    "        quickSort(arr, low, pi-1)\n",
    "        quickSort(arr, pi+1, high)\n",
    "    return arr\n",
    "s=[]\n",
    "n=int(input())\n",
    "s = list(map(int,input().strip().split(\" \")))[:n]\n",
    "l=quickSort(s,0,len(s)-1)\n",
    "for i in l:\n",
    "    print(f\"{i}\",end=\" \")"
   ]
  },
  {
   "cell_type": "code",
   "execution_count": 13,
   "id": "535fa8e8-617c-4426-af75-2c9020e455ac",
   "metadata": {},
   "outputs": [
    {
     "name": "stdin",
     "output_type": "stream",
     "text": [
      " 5\n",
      " 5 5 1 2 4\n"
     ]
    },
    {
     "name": "stdout",
     "output_type": "stream",
     "text": [
      "1 2 4 5 5 "
     ]
    }
   ],
   "source": [
    "s=[]\n",
    "n=int(input())\n",
    "s = list(map(int,input().strip().split(\" \")))[:n]\n",
    "l=quickSort(s,0,len(s)-1)\n",
    "for i in l:\n",
    "    print(f\"{i}\",end=\" \")"
   ]
  },
  {
   "cell_type": "code",
   "execution_count": null,
   "id": "177abcac-8444-45c2-8aea-be808d99ccbf",
   "metadata": {},
   "outputs": [],
   "source": []
  },
  {
   "cell_type": "code",
   "execution_count": null,
   "id": "8739aed8-6643-4fcc-a656-7f68678fdce6",
   "metadata": {},
   "outputs": [],
   "source": []
  },
  {
   "cell_type": "markdown",
   "id": "5e66f607-8067-4852-8af3-5a7a15910d54",
   "metadata": {},
   "source": [
    "# MergeSort\n"
   ]
  },
  {
   "cell_type": "code",
   "execution_count": 20,
   "id": "c3dc1354-f52f-4f48-92e7-2d86843c9037",
   "metadata": {},
   "outputs": [
    {
     "name": "stdin",
     "output_type": "stream",
     "text": [
      " 5\n",
      " 9 8 7 6 5\n"
     ]
    },
    {
     "name": "stdout",
     "output_type": "stream",
     "text": [
      "5 6 7 8 9 "
     ]
    }
   ],
   "source": [
    "def merge(arr, l, m, r):\n",
    "    n1 = m - l + 1\n",
    "    n2 = r - m\n",
    "    L = [0] * (n1)\n",
    "    R = [0] * (n2)\n",
    " \n",
    "   \n",
    "    for i in range(0, n1):\n",
    "        L[i] = arr[l + i]\n",
    " \n",
    "    for j in range(0, n2):\n",
    "        R[j] = arr[m + 1 + j]\n",
    "    i = 0     # Initial index of first subarray\n",
    "    j = 0     # Initial index of second subarray\n",
    "    k = l     # Initial index of merged subarray\n",
    " \n",
    "    while i < n1 and j < n2:\n",
    "        if L[i] <= R[j]:\n",
    "            arr[k] = L[i]\n",
    "            i += 1\n",
    "        else:\n",
    "            arr[k] = R[j]\n",
    "            j += 1\n",
    "        k += 1\n",
    "        \n",
    "    while i < n1:\n",
    "        arr[k] = L[i]\n",
    "        i += 1\n",
    "        k += 1\n",
    " \n",
    "    while j < n2:\n",
    "        arr[k] = R[j]\n",
    "        j += 1\n",
    "        k += 1\n",
    "        \n",
    "def mergeSort(arr, l, r):\n",
    "    if l < r:\n",
    "        m = l+(r-l)//2\n",
    "        \n",
    "        mergeSort(arr, l, m)\n",
    "        mergeSort(arr, m+1, r)\n",
    "        merge(arr, l, m, r)\n",
    "    return arr\n",
    "s=[]\n",
    "n=int(input())\n",
    "s = list(map(int,input().strip().split(\" \")))[:n]\n",
    "l=mergeSort(s,0,len(s)-1)\n",
    "for i in l:\n",
    "    print(f\"{i}\",end=\" \")"
   ]
  },
  {
   "cell_type": "code",
   "execution_count": null,
   "id": "6702bc0e-d15d-4d9f-a87e-44efef2d11fd",
   "metadata": {},
   "outputs": [],
   "source": []
  }
 ],
 "metadata": {
  "kernelspec": {
   "display_name": "Python 3 (ipykernel)",
   "language": "python",
   "name": "python3"
  },
  "language_info": {
   "codemirror_mode": {
    "name": "ipython",
    "version": 3
   },
   "file_extension": ".py",
   "mimetype": "text/x-python",
   "name": "python",
   "nbconvert_exporter": "python",
   "pygments_lexer": "ipython3",
   "version": "3.9.7"
  }
 },
 "nbformat": 4,
 "nbformat_minor": 5
}
